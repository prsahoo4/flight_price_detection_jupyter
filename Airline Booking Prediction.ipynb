{
 "cells": [
  {
   "cell_type": "code",
   "execution_count": 198,
   "metadata": {},
   "outputs": [
    {
     "data": {
      "text/plain": [
       "['from sklearn.preprocessing import PolynomialFeatures',\n",
       " 'from sklearn.model_selection import RandomizedSearchCV',\n",
       " 'import matplotlib as mpl',\n",
       " 'from scipy import signal as sg',\n",
       " 'from sklearn.ensemble import RandomForestClassifier',\n",
       " 'import textblob',\n",
       " 'import os',\n",
       " 'import dash',\n",
       " 'from sklearn.linear_model import LassoCV',\n",
       " 'import lightgbm as lgb',\n",
       " 'from sklearn.model_selection import GridSearchCV',\n",
       " 'import keras',\n",
       " 'import pydot',\n",
       " 'from sklearn.preprocessing import MinMaxScaler',\n",
       " 'from sklearn.feature_extraction.text import TfidfVectorizer',\n",
       " 'import sklearn',\n",
       " 'from sklearn.linear_model import Lasso',\n",
       " 'import spacy',\n",
       " 'import skimage',\n",
       " 'from openpyxl import load_workbook',\n",
       " 'import gensim',\n",
       " 'import imutils',\n",
       " 'from sklearn.linear_model import ElasticNetCV',\n",
       " 'import re',\n",
       " 'from sklearn.preprocessing import LabelEncoder',\n",
       " 'from sklearn.model_selection import KFold',\n",
       " 'from sklearn.ensemble import GradientBoostingClassifier',\n",
       " 'import torch',\n",
       " 'import tqdm',\n",
       " 'from sklearn.cluster import KMeans',\n",
       " 'from sklearn.manifold import TSNE',\n",
       " 'from pathlib import Path',\n",
       " 'from sklearn.linear_model import Ridge',\n",
       " 'import pickle',\n",
       " 'import statsmodels.api as sm',\n",
       " 'from sklearn.feature_extraction.text import CountVectorizer',\n",
       " 'from xlrd import open_workbook',\n",
       " 'from sklearn.linear_model import ElasticNet',\n",
       " 'import plotly as py',\n",
       " 'import cv2',\n",
       " 'import awswrangler as wr',\n",
       " 'from sklearn.model_selection import StratifiedKFold',\n",
       " 'import numpy as np',\n",
       " 'import glob',\n",
       " 'from sklearn.linear_model import LogisticRegression',\n",
       " 'from sklearn.ensemble import GradientBoostingRegressor',\n",
       " 'import altair as alt',\n",
       " 'from sklearn.preprocessing import RobustScaler',\n",
       " 'from pyspark import SparkContext',\n",
       " 'import bokeh',\n",
       " 'import nltk',\n",
       " 'from sklearn.ensemble import RandomForestRegressor',\n",
       " 'import fastai',\n",
       " 'import tensorflow as tf',\n",
       " 'from scipy import stats',\n",
       " 'import datetime as dt',\n",
       " 'import plotly.express as px',\n",
       " 'from sklearn.impute import SimpleImputer',\n",
       " 'from sklearn.model_selection import cross_val_score',\n",
       " 'import fbprophet',\n",
       " 'from sklearn.decomposition import PCA',\n",
       " 'from sklearn import svm',\n",
       " 'from sklearn.linear_model import RidgeCV',\n",
       " 'from dask import dataframe as dd',\n",
       " 'from fbprophet import Prophet',\n",
       " 'from PIL import Image',\n",
       " 'from sklearn.linear_model import LinearRegression',\n",
       " 'import statistics',\n",
       " 'import sys',\n",
       " 'from statsmodels.tsa.arima_model import ARIMA',\n",
       " 'import plotly.graph_objs as go']"
      ]
     },
     "execution_count": 198,
     "metadata": {},
     "output_type": "execute_result"
    }
   ],
   "source": [
    "#imports \n",
    "from pyforest import *\n",
    "lazy_imports()"
   ]
  },
  {
   "cell_type": "code",
   "execution_count": 199,
   "metadata": {},
   "outputs": [],
   "source": [
    "import warnings \n",
    "warnings.filterwarnings('ignore')\n",
    "%matplotlib inline"
   ]
  },
  {
   "cell_type": "code",
   "execution_count": 200,
   "metadata": {},
   "outputs": [],
   "source": [
    "from chart_studio.plotly import plot,iplot\n",
    "import cufflinks as cf"
   ]
  },
  {
   "cell_type": "code",
   "execution_count": 201,
   "metadata": {},
   "outputs": [
    {
     "data": {
      "application/javascript": [
       "\n",
       "        if (window._pyforest_update_imports_cell) { window._pyforest_update_imports_cell('from sklearn.preprocessing import OneHotEncoder\\nimport pandas as pd\\nfrom sklearn.model_selection import train_test_split\\nimport xgboost as xgb\\nimport matplotlib.pyplot as plt\\nfrom sklearn.preprocessing import StandardScaler\\nimport seaborn as sns\\nfrom sklearn import metrics'); }\n",
       "    "
      ],
      "text/plain": [
       "<IPython.core.display.Javascript object>"
      ]
     },
     "metadata": {},
     "output_type": "display_data"
    },
    {
     "data": {
      "text/html": [
       "<div>\n",
       "<style scoped>\n",
       "    .dataframe tbody tr th:only-of-type {\n",
       "        vertical-align: middle;\n",
       "    }\n",
       "\n",
       "    .dataframe tbody tr th {\n",
       "        vertical-align: top;\n",
       "    }\n",
       "\n",
       "    .dataframe thead th {\n",
       "        text-align: right;\n",
       "    }\n",
       "</style>\n",
       "<table border=\"1\" class=\"dataframe\">\n",
       "  <thead>\n",
       "    <tr style=\"text-align: right;\">\n",
       "      <th></th>\n",
       "      <th>FLIGHT_DATE</th>\n",
       "      <th>FLIGHT_NUMBER</th>\n",
       "      <th>BOARD_POINT</th>\n",
       "      <th>OFF_POINT</th>\n",
       "      <th>PNR_NUMSER</th>\n",
       "      <th>CREATION_DATE_TIME</th>\n",
       "      <th>PNR_STATUS</th>\n",
       "      <th>PAX_STATUS</th>\n",
       "      <th>SEGMENT_STATUS</th>\n",
       "      <th>PNR_TYPE</th>\n",
       "      <th>...</th>\n",
       "      <th>OSI_KEYWORD</th>\n",
       "      <th>MANIFEST_COMMENT</th>\n",
       "      <th>PROMO_CODE</th>\n",
       "      <th>LAST_MODIFIED_DATE</th>\n",
       "      <th>TICKET_NUMBER</th>\n",
       "      <th>COUPON_NUMBER</th>\n",
       "      <th>ZIP_CODE</th>\n",
       "      <th>SURCHARGE_AMOUNT</th>\n",
       "      <th>AGENCY_NAME</th>\n",
       "      <th>CORPORATE_NAME</th>\n",
       "    </tr>\n",
       "  </thead>\n",
       "  <tbody>\n",
       "    <tr>\n",
       "      <th>0</th>\n",
       "      <td>9/24/2020</td>\n",
       "      <td>FL134</td>\n",
       "      <td>OJK</td>\n",
       "      <td>ZSF</td>\n",
       "      <td>A2282Z</td>\n",
       "      <td>4/7/2020 21:46</td>\n",
       "      <td>ACTIVE</td>\n",
       "      <td>ACTIVE</td>\n",
       "      <td>CONFIRMED</td>\n",
       "      <td>NORMAL</td>\n",
       "      <td>...</td>\n",
       "      <td>NaN</td>\n",
       "      <td>WATANABE  HARUKA INFANT 04-03-2019</td>\n",
       "      <td>NaN</td>\n",
       "      <td>4/8/2020 21:47</td>\n",
       "      <td>1.010000e+12</td>\n",
       "      <td>1.0</td>\n",
       "      <td>123456</td>\n",
       "      <td>NaN</td>\n",
       "      <td>NaN</td>\n",
       "      <td>NaN</td>\n",
       "    </tr>\n",
       "    <tr>\n",
       "      <th>1</th>\n",
       "      <td>5/22/2020</td>\n",
       "      <td>FL134</td>\n",
       "      <td>OJK</td>\n",
       "      <td>ZSF</td>\n",
       "      <td>A22P4H</td>\n",
       "      <td>2/12/2020 23:09</td>\n",
       "      <td>CANCELLED</td>\n",
       "      <td>ACTIVE</td>\n",
       "      <td>CANCELLED</td>\n",
       "      <td>NORMAL</td>\n",
       "      <td>...</td>\n",
       "      <td>NaN</td>\n",
       "      <td>NaN</td>\n",
       "      <td>NaN</td>\n",
       "      <td>4/28/2020 11:21</td>\n",
       "      <td>NaN</td>\n",
       "      <td>NaN</td>\n",
       "      <td>123456</td>\n",
       "      <td>NaN</td>\n",
       "      <td>NaN</td>\n",
       "      <td>NaN</td>\n",
       "    </tr>\n",
       "    <tr>\n",
       "      <th>2</th>\n",
       "      <td>5/21/2020</td>\n",
       "      <td>FL133</td>\n",
       "      <td>ZSF</td>\n",
       "      <td>OJK</td>\n",
       "      <td>A8XV2C</td>\n",
       "      <td>1/24/2020 16:17</td>\n",
       "      <td>CANCELLED</td>\n",
       "      <td>ACTIVE</td>\n",
       "      <td>CANCELLED</td>\n",
       "      <td>GROUP</td>\n",
       "      <td>...</td>\n",
       "      <td>NaN</td>\n",
       "      <td>NaN</td>\n",
       "      <td>NaN</td>\n",
       "      <td>4/13/2020 13:27</td>\n",
       "      <td>NaN</td>\n",
       "      <td>NaN</td>\n",
       "      <td>123456</td>\n",
       "      <td>NaN</td>\n",
       "      <td>NaN</td>\n",
       "      <td>NaN</td>\n",
       "    </tr>\n",
       "    <tr>\n",
       "      <th>3</th>\n",
       "      <td>8/16/2020</td>\n",
       "      <td>FL134</td>\n",
       "      <td>OJK</td>\n",
       "      <td>ZSF</td>\n",
       "      <td>A22Q2Q</td>\n",
       "      <td>3/12/2020 7:57</td>\n",
       "      <td>CANCELLED</td>\n",
       "      <td>ACTIVE</td>\n",
       "      <td>CANCELLED</td>\n",
       "      <td>NORMAL</td>\n",
       "      <td>...</td>\n",
       "      <td>NaN</td>\n",
       "      <td>NaN</td>\n",
       "      <td>NaN</td>\n",
       "      <td>3/15/2020 2:02</td>\n",
       "      <td>NaN</td>\n",
       "      <td>NaN</td>\n",
       "      <td>123456</td>\n",
       "      <td>NaN</td>\n",
       "      <td>NaN</td>\n",
       "      <td>NaN</td>\n",
       "    </tr>\n",
       "    <tr>\n",
       "      <th>4</th>\n",
       "      <td>6/21/2020</td>\n",
       "      <td>FL141</td>\n",
       "      <td>ZSF</td>\n",
       "      <td>KUF</td>\n",
       "      <td>A22Q2T</td>\n",
       "      <td>3/13/2020 19:51</td>\n",
       "      <td>CANCELLED</td>\n",
       "      <td>ACTIVE</td>\n",
       "      <td>CANCELLED</td>\n",
       "      <td>NORMAL</td>\n",
       "      <td>...</td>\n",
       "      <td>NaN</td>\n",
       "      <td>NaN</td>\n",
       "      <td>NaN</td>\n",
       "      <td>4/6/2020 17:19</td>\n",
       "      <td>NaN</td>\n",
       "      <td>NaN</td>\n",
       "      <td>123456</td>\n",
       "      <td>NaN</td>\n",
       "      <td>NaN</td>\n",
       "      <td>NaN</td>\n",
       "    </tr>\n",
       "  </tbody>\n",
       "</table>\n",
       "<p>5 rows × 40 columns</p>\n",
       "</div>"
      ],
      "text/plain": [
       "  FLIGHT_DATE FLIGHT_NUMBER BOARD_POINT OFF_POINT PNR_NUMSER  \\\n",
       "0   9/24/2020         FL134         OJK       ZSF     A2282Z   \n",
       "1   5/22/2020         FL134         OJK       ZSF     A22P4H   \n",
       "2   5/21/2020         FL133         ZSF       OJK     A8XV2C   \n",
       "3   8/16/2020         FL134         OJK       ZSF     A22Q2Q   \n",
       "4   6/21/2020         FL141         ZSF       KUF     A22Q2T   \n",
       "\n",
       "  CREATION_DATE_TIME PNR_STATUS PAX_STATUS SEGMENT_STATUS PNR_TYPE  ...  \\\n",
       "0     4/7/2020 21:46     ACTIVE     ACTIVE      CONFIRMED   NORMAL  ...   \n",
       "1    2/12/2020 23:09  CANCELLED     ACTIVE      CANCELLED   NORMAL  ...   \n",
       "2    1/24/2020 16:17  CANCELLED     ACTIVE      CANCELLED    GROUP  ...   \n",
       "3     3/12/2020 7:57  CANCELLED     ACTIVE      CANCELLED   NORMAL  ...   \n",
       "4    3/13/2020 19:51  CANCELLED     ACTIVE      CANCELLED   NORMAL  ...   \n",
       "\n",
       "  OSI_KEYWORD                    MANIFEST_COMMENT PROMO_CODE  \\\n",
       "0         NaN  WATANABE  HARUKA INFANT 04-03-2019        NaN   \n",
       "1         NaN                                 NaN        NaN   \n",
       "2         NaN                                 NaN        NaN   \n",
       "3         NaN                                 NaN        NaN   \n",
       "4         NaN                                 NaN        NaN   \n",
       "\n",
       "  LAST_MODIFIED_DATE TICKET_NUMBER  COUPON_NUMBER  ZIP_CODE SURCHARGE_AMOUNT  \\\n",
       "0     4/8/2020 21:47  1.010000e+12            1.0    123456              NaN   \n",
       "1    4/28/2020 11:21           NaN            NaN    123456              NaN   \n",
       "2    4/13/2020 13:27           NaN            NaN    123456              NaN   \n",
       "3     3/15/2020 2:02           NaN            NaN    123456              NaN   \n",
       "4     4/6/2020 17:19           NaN            NaN    123456              NaN   \n",
       "\n",
       "  AGENCY_NAME CORPORATE_NAME  \n",
       "0         NaN            NaN  \n",
       "1         NaN            NaN  \n",
       "2         NaN            NaN  \n",
       "3         NaN            NaN  \n",
       "4         NaN            NaN  \n",
       "\n",
       "[5 rows x 40 columns]"
      ]
     },
     "execution_count": 201,
     "metadata": {},
     "output_type": "execute_result"
    }
   ],
   "source": [
    "# loading airline dataset\n",
    "df = pd.read_csv(\"dataset/FDA.csv\",header = 0,date_parser = [0,5])\n",
    "df.head()"
   ]
  },
  {
   "cell_type": "code",
   "execution_count": 202,
   "metadata": {},
   "outputs": [
    {
     "data": {
      "text/html": [
       "<div>\n",
       "<style scoped>\n",
       "    .dataframe tbody tr th:only-of-type {\n",
       "        vertical-align: middle;\n",
       "    }\n",
       "\n",
       "    .dataframe tbody tr th {\n",
       "        vertical-align: top;\n",
       "    }\n",
       "\n",
       "    .dataframe thead th {\n",
       "        text-align: right;\n",
       "    }\n",
       "</style>\n",
       "<table border=\"1\" class=\"dataframe\">\n",
       "  <thead>\n",
       "    <tr style=\"text-align: right;\">\n",
       "      <th></th>\n",
       "      <th>FLIGHT_DATE</th>\n",
       "      <th>FLIGHT_NUMBER</th>\n",
       "      <th>BOARD_POINT</th>\n",
       "      <th>OFF_POINT</th>\n",
       "      <th>PNR_NUMSER</th>\n",
       "      <th>CREATION_DATE_TIME</th>\n",
       "      <th>PNR_STATUS</th>\n",
       "      <th>PNR_TYPE</th>\n",
       "      <th>FARE_LEVEL_CODE</th>\n",
       "      <th>FARE_BASIS</th>\n",
       "      <th>FARE_AMOUNT</th>\n",
       "    </tr>\n",
       "  </thead>\n",
       "  <tbody>\n",
       "    <tr>\n",
       "      <th>0</th>\n",
       "      <td>9/24/2020</td>\n",
       "      <td>FL134</td>\n",
       "      <td>OJK</td>\n",
       "      <td>ZSF</td>\n",
       "      <td>A2282Z</td>\n",
       "      <td>4/7/2020 21:46</td>\n",
       "      <td>ACTIVE</td>\n",
       "      <td>NORMAL</td>\n",
       "      <td>BD</td>\n",
       "      <td>BDS</td>\n",
       "      <td>11500</td>\n",
       "    </tr>\n",
       "    <tr>\n",
       "      <th>1</th>\n",
       "      <td>5/22/2020</td>\n",
       "      <td>FL134</td>\n",
       "      <td>OJK</td>\n",
       "      <td>ZSF</td>\n",
       "      <td>A22P4H</td>\n",
       "      <td>2/12/2020 23:09</td>\n",
       "      <td>CANCELLED</td>\n",
       "      <td>NORMAL</td>\n",
       "      <td>WO</td>\n",
       "      <td>WO45S</td>\n",
       "      <td>0</td>\n",
       "    </tr>\n",
       "    <tr>\n",
       "      <th>2</th>\n",
       "      <td>5/21/2020</td>\n",
       "      <td>FL133</td>\n",
       "      <td>ZSF</td>\n",
       "      <td>OJK</td>\n",
       "      <td>A8XV2C</td>\n",
       "      <td>1/24/2020 16:17</td>\n",
       "      <td>CANCELLED</td>\n",
       "      <td>GROUP</td>\n",
       "      <td>GR</td>\n",
       "      <td>BGPSO</td>\n",
       "      <td>0</td>\n",
       "    </tr>\n",
       "    <tr>\n",
       "      <th>3</th>\n",
       "      <td>8/16/2020</td>\n",
       "      <td>FL134</td>\n",
       "      <td>OJK</td>\n",
       "      <td>ZSF</td>\n",
       "      <td>A22Q2Q</td>\n",
       "      <td>3/12/2020 7:57</td>\n",
       "      <td>CANCELLED</td>\n",
       "      <td>NORMAL</td>\n",
       "      <td>WO</td>\n",
       "      <td>EHCSC</td>\n",
       "      <td>0</td>\n",
       "    </tr>\n",
       "    <tr>\n",
       "      <th>4</th>\n",
       "      <td>6/21/2020</td>\n",
       "      <td>FL141</td>\n",
       "      <td>ZSF</td>\n",
       "      <td>KUF</td>\n",
       "      <td>A22Q2T</td>\n",
       "      <td>3/13/2020 19:51</td>\n",
       "      <td>CANCELLED</td>\n",
       "      <td>NORMAL</td>\n",
       "      <td>BD</td>\n",
       "      <td>BD140S</td>\n",
       "      <td>0</td>\n",
       "    </tr>\n",
       "  </tbody>\n",
       "</table>\n",
       "</div>"
      ],
      "text/plain": [
       "  FLIGHT_DATE FLIGHT_NUMBER BOARD_POINT OFF_POINT PNR_NUMSER  \\\n",
       "0   9/24/2020         FL134         OJK       ZSF     A2282Z   \n",
       "1   5/22/2020         FL134         OJK       ZSF     A22P4H   \n",
       "2   5/21/2020         FL133         ZSF       OJK     A8XV2C   \n",
       "3   8/16/2020         FL134         OJK       ZSF     A22Q2Q   \n",
       "4   6/21/2020         FL141         ZSF       KUF     A22Q2T   \n",
       "\n",
       "  CREATION_DATE_TIME PNR_STATUS PNR_TYPE FARE_LEVEL_CODE FARE_BASIS  \\\n",
       "0     4/7/2020 21:46     ACTIVE   NORMAL              BD        BDS   \n",
       "1    2/12/2020 23:09  CANCELLED   NORMAL              WO      WO45S   \n",
       "2    1/24/2020 16:17  CANCELLED    GROUP              GR      BGPSO   \n",
       "3     3/12/2020 7:57  CANCELLED   NORMAL              WO      EHCSC   \n",
       "4    3/13/2020 19:51  CANCELLED   NORMAL              BD     BD140S   \n",
       "\n",
       "   FARE_AMOUNT  \n",
       "0        11500  \n",
       "1            0  \n",
       "2            0  \n",
       "3            0  \n",
       "4            0  "
      ]
     },
     "execution_count": 202,
     "metadata": {},
     "output_type": "execute_result"
    }
   ],
   "source": [
    "#filtering columns\n",
    "df = df.loc[:,df.columns.isin(['FLIGHT_DATE','FLIGHT_NUMBER','BOARD_POINT','OFF_POINT','PNR_NUMSER','CREATION_DATE_TIME',\n",
    "                           'FARE_LEVEL_CODE','FARE_BASIS','PNR_STATUS','PNR_TYPE','FARE_AMOUNT'])]\n",
    "df.head()"
   ]
  },
  {
   "cell_type": "code",
   "execution_count": 203,
   "metadata": {},
   "outputs": [
    {
     "data": {
      "application/javascript": [
       "\n",
       "        if (window._pyforest_update_imports_cell) { window._pyforest_update_imports_cell('from sklearn.preprocessing import OneHotEncoder\\nimport pandas as pd\\nfrom sklearn.model_selection import train_test_split\\nimport xgboost as xgb\\nimport matplotlib.pyplot as plt\\nfrom sklearn.preprocessing import StandardScaler\\nimport seaborn as sns\\nfrom sklearn import metrics'); }\n",
       "    "
      ],
      "text/plain": [
       "<IPython.core.display.Javascript object>"
      ]
     },
     "metadata": {},
     "output_type": "display_data"
    },
    {
     "data": {
      "application/javascript": [
       "\n",
       "        if (window._pyforest_update_imports_cell) { window._pyforest_update_imports_cell('from sklearn.preprocessing import OneHotEncoder\\nimport pandas as pd\\nfrom sklearn.model_selection import train_test_split\\nimport xgboost as xgb\\nimport matplotlib.pyplot as plt\\nfrom sklearn.preprocessing import StandardScaler\\nimport seaborn as sns\\nfrom sklearn import metrics'); }\n",
       "    "
      ],
      "text/plain": [
       "<IPython.core.display.Javascript object>"
      ]
     },
     "metadata": {},
     "output_type": "display_data"
    },
    {
     "data": {
      "text/html": [
       "<div>\n",
       "<style scoped>\n",
       "    .dataframe tbody tr th:only-of-type {\n",
       "        vertical-align: middle;\n",
       "    }\n",
       "\n",
       "    .dataframe tbody tr th {\n",
       "        vertical-align: top;\n",
       "    }\n",
       "\n",
       "    .dataframe thead th {\n",
       "        text-align: right;\n",
       "    }\n",
       "</style>\n",
       "<table border=\"1\" class=\"dataframe\">\n",
       "  <thead>\n",
       "    <tr style=\"text-align: right;\">\n",
       "      <th></th>\n",
       "      <th>FLIGHT_DATE</th>\n",
       "      <th>FLIGHT_NUMBER</th>\n",
       "      <th>BOARD_POINT</th>\n",
       "      <th>OFF_POINT</th>\n",
       "      <th>PNR_NUMSER</th>\n",
       "      <th>CREATION_DATE_TIME</th>\n",
       "      <th>PNR_STATUS</th>\n",
       "      <th>PNR_TYPE</th>\n",
       "      <th>FARE_LEVEL_CODE</th>\n",
       "      <th>FARE_BASIS</th>\n",
       "      <th>FARE_AMOUNT</th>\n",
       "    </tr>\n",
       "  </thead>\n",
       "  <tbody>\n",
       "    <tr>\n",
       "      <th>0</th>\n",
       "      <td>2020-09-24</td>\n",
       "      <td>FL134</td>\n",
       "      <td>OJK</td>\n",
       "      <td>ZSF</td>\n",
       "      <td>A2282Z</td>\n",
       "      <td>2020-04-07 21:46:00</td>\n",
       "      <td>ACTIVE</td>\n",
       "      <td>NORMAL</td>\n",
       "      <td>BD</td>\n",
       "      <td>BDS</td>\n",
       "      <td>11500</td>\n",
       "    </tr>\n",
       "    <tr>\n",
       "      <th>1</th>\n",
       "      <td>2020-05-22</td>\n",
       "      <td>FL134</td>\n",
       "      <td>OJK</td>\n",
       "      <td>ZSF</td>\n",
       "      <td>A22P4H</td>\n",
       "      <td>2020-02-12 23:09:00</td>\n",
       "      <td>CANCELLED</td>\n",
       "      <td>NORMAL</td>\n",
       "      <td>WO</td>\n",
       "      <td>WO45S</td>\n",
       "      <td>0</td>\n",
       "    </tr>\n",
       "    <tr>\n",
       "      <th>2</th>\n",
       "      <td>2020-05-21</td>\n",
       "      <td>FL133</td>\n",
       "      <td>ZSF</td>\n",
       "      <td>OJK</td>\n",
       "      <td>A8XV2C</td>\n",
       "      <td>2020-01-24 16:17:00</td>\n",
       "      <td>CANCELLED</td>\n",
       "      <td>GROUP</td>\n",
       "      <td>GR</td>\n",
       "      <td>BGPSO</td>\n",
       "      <td>0</td>\n",
       "    </tr>\n",
       "    <tr>\n",
       "      <th>3</th>\n",
       "      <td>2020-08-16</td>\n",
       "      <td>FL134</td>\n",
       "      <td>OJK</td>\n",
       "      <td>ZSF</td>\n",
       "      <td>A22Q2Q</td>\n",
       "      <td>2020-03-12 07:57:00</td>\n",
       "      <td>CANCELLED</td>\n",
       "      <td>NORMAL</td>\n",
       "      <td>WO</td>\n",
       "      <td>EHCSC</td>\n",
       "      <td>0</td>\n",
       "    </tr>\n",
       "    <tr>\n",
       "      <th>4</th>\n",
       "      <td>2020-06-21</td>\n",
       "      <td>FL141</td>\n",
       "      <td>ZSF</td>\n",
       "      <td>KUF</td>\n",
       "      <td>A22Q2T</td>\n",
       "      <td>2020-03-13 19:51:00</td>\n",
       "      <td>CANCELLED</td>\n",
       "      <td>NORMAL</td>\n",
       "      <td>BD</td>\n",
       "      <td>BD140S</td>\n",
       "      <td>0</td>\n",
       "    </tr>\n",
       "  </tbody>\n",
       "</table>\n",
       "</div>"
      ],
      "text/plain": [
       "  FLIGHT_DATE FLIGHT_NUMBER BOARD_POINT OFF_POINT PNR_NUMSER  \\\n",
       "0  2020-09-24         FL134         OJK       ZSF     A2282Z   \n",
       "1  2020-05-22         FL134         OJK       ZSF     A22P4H   \n",
       "2  2020-05-21         FL133         ZSF       OJK     A8XV2C   \n",
       "3  2020-08-16         FL134         OJK       ZSF     A22Q2Q   \n",
       "4  2020-06-21         FL141         ZSF       KUF     A22Q2T   \n",
       "\n",
       "   CREATION_DATE_TIME PNR_STATUS PNR_TYPE FARE_LEVEL_CODE FARE_BASIS  \\\n",
       "0 2020-04-07 21:46:00     ACTIVE   NORMAL              BD        BDS   \n",
       "1 2020-02-12 23:09:00  CANCELLED   NORMAL              WO      WO45S   \n",
       "2 2020-01-24 16:17:00  CANCELLED    GROUP              GR      BGPSO   \n",
       "3 2020-03-12 07:57:00  CANCELLED   NORMAL              WO      EHCSC   \n",
       "4 2020-03-13 19:51:00  CANCELLED   NORMAL              BD     BD140S   \n",
       "\n",
       "   FARE_AMOUNT  \n",
       "0        11500  \n",
       "1            0  \n",
       "2            0  \n",
       "3            0  \n",
       "4            0  "
      ]
     },
     "execution_count": 203,
     "metadata": {},
     "output_type": "execute_result"
    }
   ],
   "source": [
    "# transforming creation and booking date to datetime\n",
    "df['FLIGHT_DATE'] = pd.to_datetime(df['FLIGHT_DATE'])\n",
    "df['CREATION_DATE_TIME'] = pd.to_datetime(df['CREATION_DATE_TIME'])\n",
    "df.head()"
   ]
  },
  {
   "cell_type": "code",
   "execution_count": 204,
   "metadata": {},
   "outputs": [
    {
     "name": "stdout",
     "output_type": "stream",
     "text": [
      "<class 'pandas.core.frame.DataFrame'>\n",
      "RangeIndex: 18007 entries, 0 to 18006\n",
      "Data columns (total 11 columns):\n",
      " #   Column              Non-Null Count  Dtype         \n",
      "---  ------              --------------  -----         \n",
      " 0   FLIGHT_DATE         18007 non-null  datetime64[ns]\n",
      " 1   FLIGHT_NUMBER       18007 non-null  object        \n",
      " 2   BOARD_POINT         18007 non-null  object        \n",
      " 3   OFF_POINT           18007 non-null  object        \n",
      " 4   PNR_NUMSER          18007 non-null  object        \n",
      " 5   CREATION_DATE_TIME  18007 non-null  datetime64[ns]\n",
      " 6   PNR_STATUS          18007 non-null  object        \n",
      " 7   PNR_TYPE            18007 non-null  object        \n",
      " 8   FARE_LEVEL_CODE     18007 non-null  object        \n",
      " 9   FARE_BASIS          18007 non-null  object        \n",
      " 10  FARE_AMOUNT         18007 non-null  int64         \n",
      "dtypes: datetime64[ns](2), int64(1), object(8)\n",
      "memory usage: 1.5+ MB\n"
     ]
    }
   ],
   "source": [
    "#info\n",
    "df.info()"
   ]
  },
  {
   "cell_type": "code",
   "execution_count": 205,
   "metadata": {},
   "outputs": [
    {
     "data": {
      "text/html": [
       "<div>\n",
       "<style scoped>\n",
       "    .dataframe tbody tr th:only-of-type {\n",
       "        vertical-align: middle;\n",
       "    }\n",
       "\n",
       "    .dataframe tbody tr th {\n",
       "        vertical-align: top;\n",
       "    }\n",
       "\n",
       "    .dataframe thead th {\n",
       "        text-align: right;\n",
       "    }\n",
       "</style>\n",
       "<table border=\"1\" class=\"dataframe\">\n",
       "  <thead>\n",
       "    <tr style=\"text-align: right;\">\n",
       "      <th></th>\n",
       "      <th>FARE_AMOUNT</th>\n",
       "    </tr>\n",
       "  </thead>\n",
       "  <tbody>\n",
       "    <tr>\n",
       "      <th>count</th>\n",
       "      <td>18007.000000</td>\n",
       "    </tr>\n",
       "    <tr>\n",
       "      <th>mean</th>\n",
       "      <td>1784.307214</td>\n",
       "    </tr>\n",
       "    <tr>\n",
       "      <th>std</th>\n",
       "      <td>5334.159140</td>\n",
       "    </tr>\n",
       "    <tr>\n",
       "      <th>min</th>\n",
       "      <td>0.000000</td>\n",
       "    </tr>\n",
       "    <tr>\n",
       "      <th>25%</th>\n",
       "      <td>0.000000</td>\n",
       "    </tr>\n",
       "    <tr>\n",
       "      <th>50%</th>\n",
       "      <td>0.000000</td>\n",
       "    </tr>\n",
       "    <tr>\n",
       "      <th>75%</th>\n",
       "      <td>0.000000</td>\n",
       "    </tr>\n",
       "    <tr>\n",
       "      <th>max</th>\n",
       "      <td>33500.000000</td>\n",
       "    </tr>\n",
       "  </tbody>\n",
       "</table>\n",
       "</div>"
      ],
      "text/plain": [
       "        FARE_AMOUNT\n",
       "count  18007.000000\n",
       "mean    1784.307214\n",
       "std     5334.159140\n",
       "min        0.000000\n",
       "25%        0.000000\n",
       "50%        0.000000\n",
       "75%        0.000000\n",
       "max    33500.000000"
      ]
     },
     "execution_count": 205,
     "metadata": {},
     "output_type": "execute_result"
    }
   ],
   "source": [
    "# describe\n",
    "df.describe()"
   ]
  },
  {
   "cell_type": "code",
   "execution_count": 206,
   "metadata": {},
   "outputs": [
    {
     "data": {
      "application/javascript": [
       "\n",
       "        if (window._pyforest_update_imports_cell) { window._pyforest_update_imports_cell('from sklearn.preprocessing import OneHotEncoder\\nimport pandas as pd\\nfrom sklearn.model_selection import train_test_split\\nimport xgboost as xgb\\nimport matplotlib.pyplot as plt\\nfrom sklearn.preprocessing import StandardScaler\\nimport seaborn as sns\\nfrom sklearn import metrics'); }\n",
       "    "
      ],
      "text/plain": [
       "<IPython.core.display.Javascript object>"
      ]
     },
     "metadata": {},
     "output_type": "display_data"
    },
    {
     "data": {
      "text/plain": [
       "<matplotlib.axes._subplots.AxesSubplot at 0x2279d1b5348>"
      ]
     },
     "execution_count": 206,
     "metadata": {},
     "output_type": "execute_result"
    },
    {
     "data": {
      "image/png": "[encoded data removed]",
      "text/plain": [
       "<Figure size 432x288 with 1 Axes>"
      ]
     },
     "metadata": {
      "needs_background": "light"
     },
     "output_type": "display_data"
    }
   ],
   "source": [
    "# distplot fare price\n",
    "sns.distplot(df.FARE_AMOUNT)"
   ]
  },
  {
   "cell_type": "code",
   "execution_count": 207,
   "metadata": {},
   "outputs": [
    {
     "data": {
      "application/javascript": [
       "\n",
       "        if (window._pyforest_update_imports_cell) { window._pyforest_update_imports_cell('from sklearn.preprocessing import OneHotEncoder\\nimport pandas as pd\\nfrom sklearn.model_selection import train_test_split\\nimport xgboost as xgb\\nimport matplotlib.pyplot as plt\\nfrom sklearn.preprocessing import StandardScaler\\nimport seaborn as sns\\nfrom sklearn import metrics'); }\n",
       "    "
      ],
      "text/plain": [
       "<IPython.core.display.Javascript object>"
      ]
     },
     "metadata": {},
     "output_type": "display_data"
    },
    {
     "data": {
      "text/plain": [
       "<matplotlib.axes._subplots.AxesSubplot at 0x2279d62b308>"
      ]
     },
     "execution_count": 207,
     "metadata": {},
     "output_type": "execute_result"
    },
    {
     "data": {
      "image/png": "[encoded data removed]",
      "text/plain": [
       "<Figure size 432x288 with 1 Axes>"
      ]
     },
     "metadata": {
      "needs_background": "light"
     },
     "output_type": "display_data"
    }
   ],
   "source": [
    "# frequency of flight \n",
    "sns.countplot(df.FLIGHT_NUMBER)"
   ]
  },
  {
   "cell_type": "code",
   "execution_count": 208,
   "metadata": {},
   "outputs": [
    {
     "name": "stdout",
     "output_type": "stream",
     "text": [
      "2020-05-21 00:00:00  -  2020-09-27 00:00:00\n",
      "2020-01-21 10:04:00  -  2020-05-20 21:04:00\n"
     ]
    }
   ],
   "source": [
    "# period of data \n",
    "print(min(df.FLIGHT_DATE),' - ',max(df.FLIGHT_DATE))\n",
    "print(min(df.CREATION_DATE_TIME),' - ',max(df.CREATION_DATE_TIME))"
   ]
  },
  {
   "cell_type": "code",
   "execution_count": 209,
   "metadata": {},
   "outputs": [
    {
     "data": {
      "application/javascript": [
       "\n",
       "        if (window._pyforest_update_imports_cell) { window._pyforest_update_imports_cell('from sklearn.preprocessing import OneHotEncoder\\nimport pandas as pd\\nfrom sklearn.model_selection import train_test_split\\nimport xgboost as xgb\\nimport matplotlib.pyplot as plt\\nfrom sklearn.preprocessing import StandardScaler\\nimport seaborn as sns\\nfrom sklearn import metrics'); }\n",
       "    "
      ],
      "text/plain": [
       "<IPython.core.display.Javascript object>"
      ]
     },
     "metadata": {},
     "output_type": "display_data"
    },
    {
     "data": {
      "text/html": [
       "<div>\n",
       "<style scoped>\n",
       "    .dataframe tbody tr th:only-of-type {\n",
       "        vertical-align: middle;\n",
       "    }\n",
       "\n",
       "    .dataframe tbody tr th {\n",
       "        vertical-align: top;\n",
       "    }\n",
       "\n",
       "    .dataframe thead th {\n",
       "        text-align: right;\n",
       "    }\n",
       "</style>\n",
       "<table border=\"1\" class=\"dataframe\">\n",
       "  <thead>\n",
       "    <tr style=\"text-align: right;\">\n",
       "      <th></th>\n",
       "      <th>FLIGHT_DATE</th>\n",
       "      <th>FLIGHT_NUMBER</th>\n",
       "      <th>BOARD_POINT</th>\n",
       "      <th>OFF_POINT</th>\n",
       "      <th>CREATION_DATE_TIME</th>\n",
       "      <th>FARE_LEVEL_CODE</th>\n",
       "      <th>FARE_BASIS</th>\n",
       "      <th>TOTAL_BOOKING</th>\n",
       "    </tr>\n",
       "  </thead>\n",
       "  <tbody>\n",
       "    <tr>\n",
       "      <th>0</th>\n",
       "      <td>2020-05-21</td>\n",
       "      <td>FL133</td>\n",
       "      <td>ZSF</td>\n",
       "      <td>OJK</td>\n",
       "      <td>2020-01-24 16:17:00</td>\n",
       "      <td>GR</td>\n",
       "      <td>BGPSO</td>\n",
       "      <td>6</td>\n",
       "    </tr>\n",
       "    <tr>\n",
       "      <th>1</th>\n",
       "      <td>2020-05-21</td>\n",
       "      <td>FL133</td>\n",
       "      <td>ZSF</td>\n",
       "      <td>OJK</td>\n",
       "      <td>2020-02-14 15:36:00</td>\n",
       "      <td>WO</td>\n",
       "      <td>WO45S</td>\n",
       "      <td>2</td>\n",
       "    </tr>\n",
       "    <tr>\n",
       "      <th>2</th>\n",
       "      <td>2020-05-21</td>\n",
       "      <td>FL133</td>\n",
       "      <td>ZSF</td>\n",
       "      <td>OJK</td>\n",
       "      <td>2020-02-22 11:23:00</td>\n",
       "      <td>WO</td>\n",
       "      <td>WO45S</td>\n",
       "      <td>1</td>\n",
       "    </tr>\n",
       "    <tr>\n",
       "      <th>3</th>\n",
       "      <td>2020-05-21</td>\n",
       "      <td>FL133</td>\n",
       "      <td>ZSF</td>\n",
       "      <td>OJK</td>\n",
       "      <td>2020-02-23 10:38:00</td>\n",
       "      <td>WO</td>\n",
       "      <td>WO45S</td>\n",
       "      <td>1</td>\n",
       "    </tr>\n",
       "    <tr>\n",
       "      <th>4</th>\n",
       "      <td>2020-05-21</td>\n",
       "      <td>FL133</td>\n",
       "      <td>ZSF</td>\n",
       "      <td>OJK</td>\n",
       "      <td>2020-02-29 14:16:00</td>\n",
       "      <td>BD</td>\n",
       "      <td>BDS</td>\n",
       "      <td>2</td>\n",
       "    </tr>\n",
       "    <tr>\n",
       "      <th>5</th>\n",
       "      <td>2020-05-21</td>\n",
       "      <td>FL133</td>\n",
       "      <td>ZSF</td>\n",
       "      <td>OJK</td>\n",
       "      <td>2020-03-05 20:49:00</td>\n",
       "      <td>WO</td>\n",
       "      <td>WO45S</td>\n",
       "      <td>1</td>\n",
       "    </tr>\n",
       "    <tr>\n",
       "      <th>6</th>\n",
       "      <td>2020-05-21</td>\n",
       "      <td>FL133</td>\n",
       "      <td>ZSF</td>\n",
       "      <td>OJK</td>\n",
       "      <td>2020-04-04 17:05:00</td>\n",
       "      <td>BD</td>\n",
       "      <td>BDS</td>\n",
       "      <td>1</td>\n",
       "    </tr>\n",
       "    <tr>\n",
       "      <th>7</th>\n",
       "      <td>2020-05-21</td>\n",
       "      <td>FL133</td>\n",
       "      <td>ZSF</td>\n",
       "      <td>OJK</td>\n",
       "      <td>2020-04-13 09:10:00</td>\n",
       "      <td>WO</td>\n",
       "      <td>EHDS</td>\n",
       "      <td>1</td>\n",
       "    </tr>\n",
       "    <tr>\n",
       "      <th>8</th>\n",
       "      <td>2020-05-21</td>\n",
       "      <td>FL133</td>\n",
       "      <td>ZSF</td>\n",
       "      <td>OJK</td>\n",
       "      <td>2020-04-16 17:51:00</td>\n",
       "      <td>GR</td>\n",
       "      <td>SALESTOP</td>\n",
       "      <td>100</td>\n",
       "    </tr>\n",
       "    <tr>\n",
       "      <th>9</th>\n",
       "      <td>2020-05-21</td>\n",
       "      <td>FL134</td>\n",
       "      <td>OJK</td>\n",
       "      <td>ZSF</td>\n",
       "      <td>2020-01-28 09:03:00</td>\n",
       "      <td>WO</td>\n",
       "      <td>WO45S</td>\n",
       "      <td>3</td>\n",
       "    </tr>\n",
       "    <tr>\n",
       "      <th>10</th>\n",
       "      <td>2020-05-21</td>\n",
       "      <td>FL134</td>\n",
       "      <td>OJK</td>\n",
       "      <td>ZSF</td>\n",
       "      <td>2020-01-28 09:11:00</td>\n",
       "      <td>CD</td>\n",
       "      <td>HCDSF</td>\n",
       "      <td>5</td>\n",
       "    </tr>\n",
       "    <tr>\n",
       "      <th>11</th>\n",
       "      <td>2020-05-21</td>\n",
       "      <td>FL134</td>\n",
       "      <td>OJK</td>\n",
       "      <td>ZSF</td>\n",
       "      <td>2020-01-28 09:43:00</td>\n",
       "      <td>WO</td>\n",
       "      <td>WO45S</td>\n",
       "      <td>1</td>\n",
       "    </tr>\n",
       "    <tr>\n",
       "      <th>12</th>\n",
       "      <td>2020-05-21</td>\n",
       "      <td>FL134</td>\n",
       "      <td>OJK</td>\n",
       "      <td>ZSF</td>\n",
       "      <td>2020-01-28 13:49:00</td>\n",
       "      <td>WO</td>\n",
       "      <td>WO45S</td>\n",
       "      <td>2</td>\n",
       "    </tr>\n",
       "    <tr>\n",
       "      <th>13</th>\n",
       "      <td>2020-05-21</td>\n",
       "      <td>FL134</td>\n",
       "      <td>OJK</td>\n",
       "      <td>ZSF</td>\n",
       "      <td>2020-01-28 14:01:00</td>\n",
       "      <td>CD</td>\n",
       "      <td>HCDSF</td>\n",
       "      <td>1</td>\n",
       "    </tr>\n",
       "    <tr>\n",
       "      <th>14</th>\n",
       "      <td>2020-05-21</td>\n",
       "      <td>FL134</td>\n",
       "      <td>OJK</td>\n",
       "      <td>ZSF</td>\n",
       "      <td>2020-01-30 18:37:00</td>\n",
       "      <td>BD</td>\n",
       "      <td>BDS</td>\n",
       "      <td>1</td>\n",
       "    </tr>\n",
       "    <tr>\n",
       "      <th>15</th>\n",
       "      <td>2020-05-21</td>\n",
       "      <td>FL134</td>\n",
       "      <td>OJK</td>\n",
       "      <td>ZSF</td>\n",
       "      <td>2020-02-05 08:55:00</td>\n",
       "      <td>WO</td>\n",
       "      <td>WO45S</td>\n",
       "      <td>1</td>\n",
       "    </tr>\n",
       "    <tr>\n",
       "      <th>16</th>\n",
       "      <td>2020-05-21</td>\n",
       "      <td>FL134</td>\n",
       "      <td>OJK</td>\n",
       "      <td>ZSF</td>\n",
       "      <td>2020-02-19 13:58:00</td>\n",
       "      <td>GR</td>\n",
       "      <td>GTTSO</td>\n",
       "      <td>32</td>\n",
       "    </tr>\n",
       "    <tr>\n",
       "      <th>17</th>\n",
       "      <td>2020-05-21</td>\n",
       "      <td>FL134</td>\n",
       "      <td>OJK</td>\n",
       "      <td>ZSF</td>\n",
       "      <td>2020-04-01 23:47:00</td>\n",
       "      <td>WO</td>\n",
       "      <td>WO45S</td>\n",
       "      <td>2</td>\n",
       "    </tr>\n",
       "    <tr>\n",
       "      <th>18</th>\n",
       "      <td>2020-05-21</td>\n",
       "      <td>FL134</td>\n",
       "      <td>OJK</td>\n",
       "      <td>ZSF</td>\n",
       "      <td>2020-04-16 17:51:00</td>\n",
       "      <td>GR</td>\n",
       "      <td>SALESTOP</td>\n",
       "      <td>100</td>\n",
       "    </tr>\n",
       "    <tr>\n",
       "      <th>19</th>\n",
       "      <td>2020-05-21</td>\n",
       "      <td>FL141</td>\n",
       "      <td>ZSF</td>\n",
       "      <td>KUF</td>\n",
       "      <td>2020-01-23 09:21:00</td>\n",
       "      <td>GR</td>\n",
       "      <td>GTTSF</td>\n",
       "      <td>35</td>\n",
       "    </tr>\n",
       "    <tr>\n",
       "      <th>20</th>\n",
       "      <td>2020-05-21</td>\n",
       "      <td>FL141</td>\n",
       "      <td>ZSF</td>\n",
       "      <td>KUF</td>\n",
       "      <td>2020-02-01 13:06:00</td>\n",
       "      <td>WO</td>\n",
       "      <td>EHDS</td>\n",
       "      <td>2</td>\n",
       "    </tr>\n",
       "    <tr>\n",
       "      <th>21</th>\n",
       "      <td>2020-05-21</td>\n",
       "      <td>FL141</td>\n",
       "      <td>ZSF</td>\n",
       "      <td>KUF</td>\n",
       "      <td>2020-04-16 17:41:00</td>\n",
       "      <td>GR</td>\n",
       "      <td>SALESTOP</td>\n",
       "      <td>100</td>\n",
       "    </tr>\n",
       "    <tr>\n",
       "      <th>22</th>\n",
       "      <td>2020-05-22</td>\n",
       "      <td>FL133</td>\n",
       "      <td>ZSF</td>\n",
       "      <td>OJK</td>\n",
       "      <td>2020-01-27 11:23:00</td>\n",
       "      <td>GR</td>\n",
       "      <td>BGPSO</td>\n",
       "      <td>15</td>\n",
       "    </tr>\n",
       "    <tr>\n",
       "      <th>23</th>\n",
       "      <td>2020-05-22</td>\n",
       "      <td>FL133</td>\n",
       "      <td>ZSF</td>\n",
       "      <td>OJK</td>\n",
       "      <td>2020-01-28 09:04:00</td>\n",
       "      <td>BD</td>\n",
       "      <td>BDS</td>\n",
       "      <td>1</td>\n",
       "    </tr>\n",
       "    <tr>\n",
       "      <th>24</th>\n",
       "      <td>2020-05-22</td>\n",
       "      <td>FL133</td>\n",
       "      <td>ZSF</td>\n",
       "      <td>OJK</td>\n",
       "      <td>2020-02-01 22:49:00</td>\n",
       "      <td>WO</td>\n",
       "      <td>WO45S</td>\n",
       "      <td>2</td>\n",
       "    </tr>\n",
       "    <tr>\n",
       "      <th>25</th>\n",
       "      <td>2020-05-22</td>\n",
       "      <td>FL133</td>\n",
       "      <td>ZSF</td>\n",
       "      <td>OJK</td>\n",
       "      <td>2020-02-03 22:39:00</td>\n",
       "      <td>BD</td>\n",
       "      <td>BDS</td>\n",
       "      <td>1</td>\n",
       "    </tr>\n",
       "    <tr>\n",
       "      <th>26</th>\n",
       "      <td>2020-05-22</td>\n",
       "      <td>FL133</td>\n",
       "      <td>ZSF</td>\n",
       "      <td>OJK</td>\n",
       "      <td>2020-02-15 19:22:00</td>\n",
       "      <td>BD</td>\n",
       "      <td>BDS</td>\n",
       "      <td>2</td>\n",
       "    </tr>\n",
       "    <tr>\n",
       "      <th>27</th>\n",
       "      <td>2020-05-22</td>\n",
       "      <td>FL133</td>\n",
       "      <td>ZSF</td>\n",
       "      <td>OJK</td>\n",
       "      <td>2020-02-20 16:41:00</td>\n",
       "      <td>WO</td>\n",
       "      <td>WO45S</td>\n",
       "      <td>4</td>\n",
       "    </tr>\n",
       "    <tr>\n",
       "      <th>28</th>\n",
       "      <td>2020-05-22</td>\n",
       "      <td>FL133</td>\n",
       "      <td>ZSF</td>\n",
       "      <td>OJK</td>\n",
       "      <td>2020-02-26 09:36:00</td>\n",
       "      <td>CD</td>\n",
       "      <td>HCDSF</td>\n",
       "      <td>2</td>\n",
       "    </tr>\n",
       "    <tr>\n",
       "      <th>29</th>\n",
       "      <td>2020-05-22</td>\n",
       "      <td>FL133</td>\n",
       "      <td>ZSF</td>\n",
       "      <td>OJK</td>\n",
       "      <td>2020-03-21 11:59:00</td>\n",
       "      <td>WO</td>\n",
       "      <td>WO45S</td>\n",
       "      <td>2</td>\n",
       "    </tr>\n",
       "  </tbody>\n",
       "</table>\n",
       "</div>"
      ],
      "text/plain": [
       "   FLIGHT_DATE FLIGHT_NUMBER BOARD_POINT OFF_POINT  CREATION_DATE_TIME  \\\n",
       "0   2020-05-21         FL133         ZSF       OJK 2020-01-24 16:17:00   \n",
       "1   2020-05-21         FL133         ZSF       OJK 2020-02-14 15:36:00   \n",
       "2   2020-05-21         FL133         ZSF       OJK 2020-02-22 11:23:00   \n",
       "3   2020-05-21         FL133         ZSF       OJK 2020-02-23 10:38:00   \n",
       "4   2020-05-21         FL133         ZSF       OJK 2020-02-29 14:16:00   \n",
       "5   2020-05-21         FL133         ZSF       OJK 2020-03-05 20:49:00   \n",
       "6   2020-05-21         FL133         ZSF       OJK 2020-04-04 17:05:00   \n",
       "7   2020-05-21         FL133         ZSF       OJK 2020-04-13 09:10:00   \n",
       "8   2020-05-21         FL133         ZSF       OJK 2020-04-16 17:51:00   \n",
       "9   2020-05-21         FL134         OJK       ZSF 2020-01-28 09:03:00   \n",
       "10  2020-05-21         FL134         OJK       ZSF 2020-01-28 09:11:00   \n",
       "11  2020-05-21         FL134         OJK       ZSF 2020-01-28 09:43:00   \n",
       "12  2020-05-21         FL134         OJK       ZSF 2020-01-28 13:49:00   \n",
       "13  2020-05-21         FL134         OJK       ZSF 2020-01-28 14:01:00   \n",
       "14  2020-05-21         FL134         OJK       ZSF 2020-01-30 18:37:00   \n",
       "15  2020-05-21         FL134         OJK       ZSF 2020-02-05 08:55:00   \n",
       "16  2020-05-21         FL134         OJK       ZSF 2020-02-19 13:58:00   \n",
       "17  2020-05-21         FL134         OJK       ZSF 2020-04-01 23:47:00   \n",
       "18  2020-05-21         FL134         OJK       ZSF 2020-04-16 17:51:00   \n",
       "19  2020-05-21         FL141         ZSF       KUF 2020-01-23 09:21:00   \n",
       "20  2020-05-21         FL141         ZSF       KUF 2020-02-01 13:06:00   \n",
       "21  2020-05-21         FL141         ZSF       KUF 2020-04-16 17:41:00   \n",
       "22  2020-05-22         FL133         ZSF       OJK 2020-01-27 11:23:00   \n",
       "23  2020-05-22         FL133         ZSF       OJK 2020-01-28 09:04:00   \n",
       "24  2020-05-22         FL133         ZSF       OJK 2020-02-01 22:49:00   \n",
       "25  2020-05-22         FL133         ZSF       OJK 2020-02-03 22:39:00   \n",
       "26  2020-05-22         FL133         ZSF       OJK 2020-02-15 19:22:00   \n",
       "27  2020-05-22         FL133         ZSF       OJK 2020-02-20 16:41:00   \n",
       "28  2020-05-22         FL133         ZSF       OJK 2020-02-26 09:36:00   \n",
       "29  2020-05-22         FL133         ZSF       OJK 2020-03-21 11:59:00   \n",
       "\n",
       "   FARE_LEVEL_CODE FARE_BASIS  TOTAL_BOOKING  \n",
       "0               GR      BGPSO              6  \n",
       "1               WO      WO45S              2  \n",
       "2               WO      WO45S              1  \n",
       "3               WO      WO45S              1  \n",
       "4               BD        BDS              2  \n",
       "5               WO      WO45S              1  \n",
       "6               BD        BDS              1  \n",
       "7               WO       EHDS              1  \n",
       "8               GR   SALESTOP            100  \n",
       "9               WO      WO45S              3  \n",
       "10              CD      HCDSF              5  \n",
       "11              WO      WO45S              1  \n",
       "12              WO      WO45S              2  \n",
       "13              CD      HCDSF              1  \n",
       "14              BD        BDS              1  \n",
       "15              WO      WO45S              1  \n",
       "16              GR      GTTSO             32  \n",
       "17              WO      WO45S              2  \n",
       "18              GR   SALESTOP            100  \n",
       "19              GR      GTTSF             35  \n",
       "20              WO       EHDS              2  \n",
       "21              GR   SALESTOP            100  \n",
       "22              GR      BGPSO             15  \n",
       "23              BD        BDS              1  \n",
       "24              WO      WO45S              2  \n",
       "25              BD        BDS              1  \n",
       "26              BD        BDS              2  \n",
       "27              WO      WO45S              4  \n",
       "28              CD      HCDSF              2  \n",
       "29              WO      WO45S              2  "
      ]
     },
     "execution_count": 209,
     "metadata": {},
     "output_type": "execute_result"
    }
   ],
   "source": [
    "# grouping and aggregating TOTAL BOOKING\n",
    "grouped_df1 = df.groupby(['FLIGHT_DATE','FLIGHT_NUMBER','BOARD_POINT','OFF_POINT','CREATION_DATE_TIME','FARE_LEVEL_CODE',\n",
    "                        'FARE_BASIS']).agg(TOTAL_BOOKING = pd.NamedAgg(\n",
    "                         column = 'PNR_NUMSER',aggfunc = 'count')).reset_index()\n",
    "grouped_df1.head(30)"
   ]
  },
  {
   "cell_type": "code",
   "execution_count": 210,
   "metadata": {},
   "outputs": [
    {
     "data": {
      "text/plain": [
       "WO    1164\n",
       "GR     332\n",
       "BD     122\n",
       "RY      83\n",
       "CD      35\n",
       "IT      30\n",
       "CR       4\n",
       "BT       2\n",
       "CA       2\n",
       "KC       1\n",
       "TD       1\n",
       "UH       1\n",
       "CW       1\n",
       "Name: FARE_LEVEL_CODE, dtype: int64"
      ]
     },
     "execution_count": 210,
     "metadata": {},
     "output_type": "execute_result"
    }
   ],
   "source": [
    "#distinct count fare class and fare basis\n",
    "grouped_df1['FARE_LEVEL_CODE'].value_counts()"
   ]
  },
  {
   "cell_type": "code",
   "execution_count": 211,
   "metadata": {},
   "outputs": [
    {
     "data": {
      "application/javascript": [
       "\n",
       "        if (window._pyforest_update_imports_cell) { window._pyforest_update_imports_cell('from sklearn.preprocessing import OneHotEncoder\\nimport pandas as pd\\nfrom sklearn.model_selection import train_test_split\\nimport xgboost as xgb\\nimport matplotlib.pyplot as plt\\nfrom sklearn.preprocessing import StandardScaler\\nimport seaborn as sns\\nfrom sklearn import metrics'); }\n",
       "    "
      ],
      "text/plain": [
       "<IPython.core.display.Javascript object>"
      ]
     },
     "metadata": {},
     "output_type": "display_data"
    },
    {
     "data": {
      "text/plain": [
       "<matplotlib.axes._subplots.AxesSubplot at 0x2279d1bfb48>"
      ]
     },
     "execution_count": 211,
     "metadata": {},
     "output_type": "execute_result"
    },
    {
     "data": {
      "image/png": "[encoded data removed]",
      "text/plain": [
       "<Figure size 432x288 with 1 Axes>"
      ]
     },
     "metadata": {
      "needs_background": "light"
     },
     "output_type": "display_data"
    }
   ],
   "source": [
    "# net booking analysis\n",
    "sns.boxplot(grouped_df1['TOTAL_BOOKING'])"
   ]
  },
  {
   "cell_type": "code",
   "execution_count": 212,
   "metadata": {},
   "outputs": [
    {
     "data": {
      "text/html": [
       "<div>\n",
       "<style scoped>\n",
       "    .dataframe tbody tr th:only-of-type {\n",
       "        vertical-align: middle;\n",
       "    }\n",
       "\n",
       "    .dataframe tbody tr th {\n",
       "        vertical-align: top;\n",
       "    }\n",
       "\n",
       "    .dataframe thead th {\n",
       "        text-align: right;\n",
       "    }\n",
       "</style>\n",
       "<table border=\"1\" class=\"dataframe\">\n",
       "  <thead>\n",
       "    <tr style=\"text-align: right;\">\n",
       "      <th></th>\n",
       "      <th>TOTAL_BOOKING</th>\n",
       "    </tr>\n",
       "  </thead>\n",
       "  <tbody>\n",
       "    <tr>\n",
       "      <th>count</th>\n",
       "      <td>1778.000000</td>\n",
       "    </tr>\n",
       "    <tr>\n",
       "      <th>mean</th>\n",
       "      <td>10.127672</td>\n",
       "    </tr>\n",
       "    <tr>\n",
       "      <th>std</th>\n",
       "      <td>25.138133</td>\n",
       "    </tr>\n",
       "    <tr>\n",
       "      <th>min</th>\n",
       "      <td>1.000000</td>\n",
       "    </tr>\n",
       "    <tr>\n",
       "      <th>25%</th>\n",
       "      <td>1.000000</td>\n",
       "    </tr>\n",
       "    <tr>\n",
       "      <th>50%</th>\n",
       "      <td>2.000000</td>\n",
       "    </tr>\n",
       "    <tr>\n",
       "      <th>75%</th>\n",
       "      <td>4.000000</td>\n",
       "    </tr>\n",
       "    <tr>\n",
       "      <th>max</th>\n",
       "      <td>100.000000</td>\n",
       "    </tr>\n",
       "  </tbody>\n",
       "</table>\n",
       "</div>"
      ],
      "text/plain": [
       "       TOTAL_BOOKING\n",
       "count    1778.000000\n",
       "mean       10.127672\n",
       "std        25.138133\n",
       "min         1.000000\n",
       "25%         1.000000\n",
       "50%         2.000000\n",
       "75%         4.000000\n",
       "max       100.000000"
      ]
     },
     "execution_count": 212,
     "metadata": {},
     "output_type": "execute_result"
    }
   ],
   "source": [
    "grouped_df1.describe()"
   ]
  },
  {
   "cell_type": "code",
   "execution_count": 213,
   "metadata": {},
   "outputs": [
    {
     "data": {
      "application/javascript": [
       "\n",
       "        if (window._pyforest_update_imports_cell) { window._pyforest_update_imports_cell('from sklearn.preprocessing import OneHotEncoder\\nimport pandas as pd\\nfrom sklearn.model_selection import train_test_split\\nimport xgboost as xgb\\nimport matplotlib.pyplot as plt\\nfrom sklearn.preprocessing import StandardScaler\\nimport seaborn as sns\\nfrom sklearn import metrics'); }\n",
       "    "
      ],
      "text/plain": [
       "<IPython.core.display.Javascript object>"
      ]
     },
     "metadata": {},
     "output_type": "display_data"
    },
    {
     "data": {
      "text/plain": [
       "<matplotlib.axes._subplots.AxesSubplot at 0x22793aaf448>"
      ]
     },
     "execution_count": 213,
     "metadata": {},
     "output_type": "execute_result"
    },
    {
     "data": {
      "image/png": "[encoded data removed]",
      "text/plain": [
       "<Figure size 432x288 with 1 Axes>"
      ]
     },
     "metadata": {
      "needs_background": "light"
     },
     "output_type": "display_data"
    }
   ],
   "source": [
    "sns.boxplot(grouped_df1.loc[grouped_df1['FARE_LEVEL_CODE'] != 'GR']['TOTAL_BOOKING'])"
   ]
  },
  {
   "cell_type": "code",
   "execution_count": 214,
   "metadata": {},
   "outputs": [
    {
     "data": {
      "text/html": [
       "<div>\n",
       "<style scoped>\n",
       "    .dataframe tbody tr th:only-of-type {\n",
       "        vertical-align: middle;\n",
       "    }\n",
       "\n",
       "    .dataframe tbody tr th {\n",
       "        vertical-align: top;\n",
       "    }\n",
       "\n",
       "    .dataframe thead th {\n",
       "        text-align: right;\n",
       "    }\n",
       "</style>\n",
       "<table border=\"1\" class=\"dataframe\">\n",
       "  <thead>\n",
       "    <tr style=\"text-align: right;\">\n",
       "      <th></th>\n",
       "      <th>TOTAL_BOOKING</th>\n",
       "    </tr>\n",
       "  </thead>\n",
       "  <tbody>\n",
       "    <tr>\n",
       "      <th>count</th>\n",
       "      <td>1446.000000</td>\n",
       "    </tr>\n",
       "    <tr>\n",
       "      <th>mean</th>\n",
       "      <td>1.796680</td>\n",
       "    </tr>\n",
       "    <tr>\n",
       "      <th>std</th>\n",
       "      <td>1.189407</td>\n",
       "    </tr>\n",
       "    <tr>\n",
       "      <th>min</th>\n",
       "      <td>1.000000</td>\n",
       "    </tr>\n",
       "    <tr>\n",
       "      <th>25%</th>\n",
       "      <td>1.000000</td>\n",
       "    </tr>\n",
       "    <tr>\n",
       "      <th>50%</th>\n",
       "      <td>1.000000</td>\n",
       "    </tr>\n",
       "    <tr>\n",
       "      <th>75%</th>\n",
       "      <td>2.000000</td>\n",
       "    </tr>\n",
       "    <tr>\n",
       "      <th>max</th>\n",
       "      <td>7.000000</td>\n",
       "    </tr>\n",
       "  </tbody>\n",
       "</table>\n",
       "</div>"
      ],
      "text/plain": [
       "       TOTAL_BOOKING\n",
       "count    1446.000000\n",
       "mean        1.796680\n",
       "std         1.189407\n",
       "min         1.000000\n",
       "25%         1.000000\n",
       "50%         1.000000\n",
       "75%         2.000000\n",
       "max         7.000000"
      ]
     },
     "execution_count": 214,
     "metadata": {},
     "output_type": "execute_result"
    }
   ],
   "source": [
    "grouped_df1.loc[grouped_df1['FARE_LEVEL_CODE'] != 'GR'].describe()"
   ]
  },
  {
   "cell_type": "code",
   "execution_count": 215,
   "metadata": {},
   "outputs": [
    {
     "data": {
      "text/html": [
       "<div>\n",
       "<style scoped>\n",
       "    .dataframe tbody tr th:only-of-type {\n",
       "        vertical-align: middle;\n",
       "    }\n",
       "\n",
       "    .dataframe tbody tr th {\n",
       "        vertical-align: top;\n",
       "    }\n",
       "\n",
       "    .dataframe thead th {\n",
       "        text-align: right;\n",
       "    }\n",
       "</style>\n",
       "<table border=\"1\" class=\"dataframe\">\n",
       "  <thead>\n",
       "    <tr style=\"text-align: right;\">\n",
       "      <th></th>\n",
       "      <th>FLIGHT_DATE</th>\n",
       "      <th>FLIGHT_NUMBER</th>\n",
       "      <th>BOARD_POINT</th>\n",
       "      <th>OFF_POINT</th>\n",
       "      <th>CREATION_DATE_TIME</th>\n",
       "      <th>FARE_LEVEL_CODE</th>\n",
       "      <th>FARE_BASIS</th>\n",
       "      <th>TOTAL_BOOKING</th>\n",
       "    </tr>\n",
       "  </thead>\n",
       "  <tbody>\n",
       "    <tr>\n",
       "      <th>1</th>\n",
       "      <td>2020-05-21</td>\n",
       "      <td>FL133</td>\n",
       "      <td>ZSF</td>\n",
       "      <td>OJK</td>\n",
       "      <td>2020-02-14 15:36:00</td>\n",
       "      <td>WO</td>\n",
       "      <td>WO45S</td>\n",
       "      <td>2</td>\n",
       "    </tr>\n",
       "    <tr>\n",
       "      <th>2</th>\n",
       "      <td>2020-05-21</td>\n",
       "      <td>FL133</td>\n",
       "      <td>ZSF</td>\n",
       "      <td>OJK</td>\n",
       "      <td>2020-02-22 11:23:00</td>\n",
       "      <td>WO</td>\n",
       "      <td>WO45S</td>\n",
       "      <td>1</td>\n",
       "    </tr>\n",
       "    <tr>\n",
       "      <th>3</th>\n",
       "      <td>2020-05-21</td>\n",
       "      <td>FL133</td>\n",
       "      <td>ZSF</td>\n",
       "      <td>OJK</td>\n",
       "      <td>2020-02-23 10:38:00</td>\n",
       "      <td>WO</td>\n",
       "      <td>WO45S</td>\n",
       "      <td>1</td>\n",
       "    </tr>\n",
       "    <tr>\n",
       "      <th>4</th>\n",
       "      <td>2020-05-21</td>\n",
       "      <td>FL133</td>\n",
       "      <td>ZSF</td>\n",
       "      <td>OJK</td>\n",
       "      <td>2020-02-29 14:16:00</td>\n",
       "      <td>BD</td>\n",
       "      <td>BDS</td>\n",
       "      <td>2</td>\n",
       "    </tr>\n",
       "    <tr>\n",
       "      <th>5</th>\n",
       "      <td>2020-05-21</td>\n",
       "      <td>FL133</td>\n",
       "      <td>ZSF</td>\n",
       "      <td>OJK</td>\n",
       "      <td>2020-03-05 20:49:00</td>\n",
       "      <td>WO</td>\n",
       "      <td>WO45S</td>\n",
       "      <td>1</td>\n",
       "    </tr>\n",
       "    <tr>\n",
       "      <th>6</th>\n",
       "      <td>2020-05-21</td>\n",
       "      <td>FL133</td>\n",
       "      <td>ZSF</td>\n",
       "      <td>OJK</td>\n",
       "      <td>2020-04-04 17:05:00</td>\n",
       "      <td>BD</td>\n",
       "      <td>BDS</td>\n",
       "      <td>1</td>\n",
       "    </tr>\n",
       "    <tr>\n",
       "      <th>7</th>\n",
       "      <td>2020-05-21</td>\n",
       "      <td>FL133</td>\n",
       "      <td>ZSF</td>\n",
       "      <td>OJK</td>\n",
       "      <td>2020-04-13 09:10:00</td>\n",
       "      <td>WO</td>\n",
       "      <td>EHDS</td>\n",
       "      <td>1</td>\n",
       "    </tr>\n",
       "    <tr>\n",
       "      <th>9</th>\n",
       "      <td>2020-05-21</td>\n",
       "      <td>FL134</td>\n",
       "      <td>OJK</td>\n",
       "      <td>ZSF</td>\n",
       "      <td>2020-01-28 09:03:00</td>\n",
       "      <td>WO</td>\n",
       "      <td>WO45S</td>\n",
       "      <td>3</td>\n",
       "    </tr>\n",
       "    <tr>\n",
       "      <th>10</th>\n",
       "      <td>2020-05-21</td>\n",
       "      <td>FL134</td>\n",
       "      <td>OJK</td>\n",
       "      <td>ZSF</td>\n",
       "      <td>2020-01-28 09:11:00</td>\n",
       "      <td>CD</td>\n",
       "      <td>HCDSF</td>\n",
       "      <td>5</td>\n",
       "    </tr>\n",
       "    <tr>\n",
       "      <th>11</th>\n",
       "      <td>2020-05-21</td>\n",
       "      <td>FL134</td>\n",
       "      <td>OJK</td>\n",
       "      <td>ZSF</td>\n",
       "      <td>2020-01-28 09:43:00</td>\n",
       "      <td>WO</td>\n",
       "      <td>WO45S</td>\n",
       "      <td>1</td>\n",
       "    </tr>\n",
       "    <tr>\n",
       "      <th>12</th>\n",
       "      <td>2020-05-21</td>\n",
       "      <td>FL134</td>\n",
       "      <td>OJK</td>\n",
       "      <td>ZSF</td>\n",
       "      <td>2020-01-28 13:49:00</td>\n",
       "      <td>WO</td>\n",
       "      <td>WO45S</td>\n",
       "      <td>2</td>\n",
       "    </tr>\n",
       "    <tr>\n",
       "      <th>13</th>\n",
       "      <td>2020-05-21</td>\n",
       "      <td>FL134</td>\n",
       "      <td>OJK</td>\n",
       "      <td>ZSF</td>\n",
       "      <td>2020-01-28 14:01:00</td>\n",
       "      <td>CD</td>\n",
       "      <td>HCDSF</td>\n",
       "      <td>1</td>\n",
       "    </tr>\n",
       "    <tr>\n",
       "      <th>14</th>\n",
       "      <td>2020-05-21</td>\n",
       "      <td>FL134</td>\n",
       "      <td>OJK</td>\n",
       "      <td>ZSF</td>\n",
       "      <td>2020-01-30 18:37:00</td>\n",
       "      <td>BD</td>\n",
       "      <td>BDS</td>\n",
       "      <td>1</td>\n",
       "    </tr>\n",
       "    <tr>\n",
       "      <th>15</th>\n",
       "      <td>2020-05-21</td>\n",
       "      <td>FL134</td>\n",
       "      <td>OJK</td>\n",
       "      <td>ZSF</td>\n",
       "      <td>2020-02-05 08:55:00</td>\n",
       "      <td>WO</td>\n",
       "      <td>WO45S</td>\n",
       "      <td>1</td>\n",
       "    </tr>\n",
       "    <tr>\n",
       "      <th>17</th>\n",
       "      <td>2020-05-21</td>\n",
       "      <td>FL134</td>\n",
       "      <td>OJK</td>\n",
       "      <td>ZSF</td>\n",
       "      <td>2020-04-01 23:47:00</td>\n",
       "      <td>WO</td>\n",
       "      <td>WO45S</td>\n",
       "      <td>2</td>\n",
       "    </tr>\n",
       "    <tr>\n",
       "      <th>20</th>\n",
       "      <td>2020-05-21</td>\n",
       "      <td>FL141</td>\n",
       "      <td>ZSF</td>\n",
       "      <td>KUF</td>\n",
       "      <td>2020-02-01 13:06:00</td>\n",
       "      <td>WO</td>\n",
       "      <td>EHDS</td>\n",
       "      <td>2</td>\n",
       "    </tr>\n",
       "    <tr>\n",
       "      <th>23</th>\n",
       "      <td>2020-05-22</td>\n",
       "      <td>FL133</td>\n",
       "      <td>ZSF</td>\n",
       "      <td>OJK</td>\n",
       "      <td>2020-01-28 09:04:00</td>\n",
       "      <td>BD</td>\n",
       "      <td>BDS</td>\n",
       "      <td>1</td>\n",
       "    </tr>\n",
       "    <tr>\n",
       "      <th>24</th>\n",
       "      <td>2020-05-22</td>\n",
       "      <td>FL133</td>\n",
       "      <td>ZSF</td>\n",
       "      <td>OJK</td>\n",
       "      <td>2020-02-01 22:49:00</td>\n",
       "      <td>WO</td>\n",
       "      <td>WO45S</td>\n",
       "      <td>2</td>\n",
       "    </tr>\n",
       "    <tr>\n",
       "      <th>25</th>\n",
       "      <td>2020-05-22</td>\n",
       "      <td>FL133</td>\n",
       "      <td>ZSF</td>\n",
       "      <td>OJK</td>\n",
       "      <td>2020-02-03 22:39:00</td>\n",
       "      <td>BD</td>\n",
       "      <td>BDS</td>\n",
       "      <td>1</td>\n",
       "    </tr>\n",
       "    <tr>\n",
       "      <th>26</th>\n",
       "      <td>2020-05-22</td>\n",
       "      <td>FL133</td>\n",
       "      <td>ZSF</td>\n",
       "      <td>OJK</td>\n",
       "      <td>2020-02-15 19:22:00</td>\n",
       "      <td>BD</td>\n",
       "      <td>BDS</td>\n",
       "      <td>2</td>\n",
       "    </tr>\n",
       "    <tr>\n",
       "      <th>27</th>\n",
       "      <td>2020-05-22</td>\n",
       "      <td>FL133</td>\n",
       "      <td>ZSF</td>\n",
       "      <td>OJK</td>\n",
       "      <td>2020-02-20 16:41:00</td>\n",
       "      <td>WO</td>\n",
       "      <td>WO45S</td>\n",
       "      <td>4</td>\n",
       "    </tr>\n",
       "    <tr>\n",
       "      <th>28</th>\n",
       "      <td>2020-05-22</td>\n",
       "      <td>FL133</td>\n",
       "      <td>ZSF</td>\n",
       "      <td>OJK</td>\n",
       "      <td>2020-02-26 09:36:00</td>\n",
       "      <td>CD</td>\n",
       "      <td>HCDSF</td>\n",
       "      <td>2</td>\n",
       "    </tr>\n",
       "    <tr>\n",
       "      <th>29</th>\n",
       "      <td>2020-05-22</td>\n",
       "      <td>FL133</td>\n",
       "      <td>ZSF</td>\n",
       "      <td>OJK</td>\n",
       "      <td>2020-03-21 11:59:00</td>\n",
       "      <td>WO</td>\n",
       "      <td>WO45S</td>\n",
       "      <td>2</td>\n",
       "    </tr>\n",
       "    <tr>\n",
       "      <th>32</th>\n",
       "      <td>2020-05-22</td>\n",
       "      <td>FL134</td>\n",
       "      <td>OJK</td>\n",
       "      <td>ZSF</td>\n",
       "      <td>2020-01-28 10:43:00</td>\n",
       "      <td>WO</td>\n",
       "      <td>WO45S</td>\n",
       "      <td>6</td>\n",
       "    </tr>\n",
       "    <tr>\n",
       "      <th>33</th>\n",
       "      <td>2020-05-22</td>\n",
       "      <td>FL134</td>\n",
       "      <td>OJK</td>\n",
       "      <td>ZSF</td>\n",
       "      <td>2020-01-28 12:41:00</td>\n",
       "      <td>WO</td>\n",
       "      <td>WO45S</td>\n",
       "      <td>1</td>\n",
       "    </tr>\n",
       "    <tr>\n",
       "      <th>35</th>\n",
       "      <td>2020-05-22</td>\n",
       "      <td>FL134</td>\n",
       "      <td>OJK</td>\n",
       "      <td>ZSF</td>\n",
       "      <td>2020-02-12 23:09:00</td>\n",
       "      <td>WO</td>\n",
       "      <td>WO45S</td>\n",
       "      <td>1</td>\n",
       "    </tr>\n",
       "    <tr>\n",
       "      <th>36</th>\n",
       "      <td>2020-05-22</td>\n",
       "      <td>FL134</td>\n",
       "      <td>OJK</td>\n",
       "      <td>ZSF</td>\n",
       "      <td>2020-02-18 16:57:00</td>\n",
       "      <td>BD</td>\n",
       "      <td>BDS</td>\n",
       "      <td>1</td>\n",
       "    </tr>\n",
       "    <tr>\n",
       "      <th>37</th>\n",
       "      <td>2020-05-22</td>\n",
       "      <td>FL134</td>\n",
       "      <td>OJK</td>\n",
       "      <td>ZSF</td>\n",
       "      <td>2020-03-05 02:30:00</td>\n",
       "      <td>WO</td>\n",
       "      <td>WO45S</td>\n",
       "      <td>4</td>\n",
       "    </tr>\n",
       "    <tr>\n",
       "      <th>38</th>\n",
       "      <td>2020-05-22</td>\n",
       "      <td>FL134</td>\n",
       "      <td>OJK</td>\n",
       "      <td>ZSF</td>\n",
       "      <td>2020-03-19 12:52:00</td>\n",
       "      <td>WO</td>\n",
       "      <td>WO45S</td>\n",
       "      <td>4</td>\n",
       "    </tr>\n",
       "    <tr>\n",
       "      <th>39</th>\n",
       "      <td>2020-05-22</td>\n",
       "      <td>FL134</td>\n",
       "      <td>OJK</td>\n",
       "      <td>ZSF</td>\n",
       "      <td>2020-03-31 23:50:00</td>\n",
       "      <td>WO</td>\n",
       "      <td>WO45S</td>\n",
       "      <td>1</td>\n",
       "    </tr>\n",
       "  </tbody>\n",
       "</table>\n",
       "</div>"
      ],
      "text/plain": [
       "   FLIGHT_DATE FLIGHT_NUMBER BOARD_POINT OFF_POINT  CREATION_DATE_TIME  \\\n",
       "1   2020-05-21         FL133         ZSF       OJK 2020-02-14 15:36:00   \n",
       "2   2020-05-21         FL133         ZSF       OJK 2020-02-22 11:23:00   \n",
       "3   2020-05-21         FL133         ZSF       OJK 2020-02-23 10:38:00   \n",
       "4   2020-05-21         FL133         ZSF       OJK 2020-02-29 14:16:00   \n",
       "5   2020-05-21         FL133         ZSF       OJK 2020-03-05 20:49:00   \n",
       "6   2020-05-21         FL133         ZSF       OJK 2020-04-04 17:05:00   \n",
       "7   2020-05-21         FL133         ZSF       OJK 2020-04-13 09:10:00   \n",
       "9   2020-05-21         FL134         OJK       ZSF 2020-01-28 09:03:00   \n",
       "10  2020-05-21         FL134         OJK       ZSF 2020-01-28 09:11:00   \n",
       "11  2020-05-21         FL134         OJK       ZSF 2020-01-28 09:43:00   \n",
       "12  2020-05-21         FL134         OJK       ZSF 2020-01-28 13:49:00   \n",
       "13  2020-05-21         FL134         OJK       ZSF 2020-01-28 14:01:00   \n",
       "14  2020-05-21         FL134         OJK       ZSF 2020-01-30 18:37:00   \n",
       "15  2020-05-21         FL134         OJK       ZSF 2020-02-05 08:55:00   \n",
       "17  2020-05-21         FL134         OJK       ZSF 2020-04-01 23:47:00   \n",
       "20  2020-05-21         FL141         ZSF       KUF 2020-02-01 13:06:00   \n",
       "23  2020-05-22         FL133         ZSF       OJK 2020-01-28 09:04:00   \n",
       "24  2020-05-22         FL133         ZSF       OJK 2020-02-01 22:49:00   \n",
       "25  2020-05-22         FL133         ZSF       OJK 2020-02-03 22:39:00   \n",
       "26  2020-05-22         FL133         ZSF       OJK 2020-02-15 19:22:00   \n",
       "27  2020-05-22         FL133         ZSF       OJK 2020-02-20 16:41:00   \n",
       "28  2020-05-22         FL133         ZSF       OJK 2020-02-26 09:36:00   \n",
       "29  2020-05-22         FL133         ZSF       OJK 2020-03-21 11:59:00   \n",
       "32  2020-05-22         FL134         OJK       ZSF 2020-01-28 10:43:00   \n",
       "33  2020-05-22         FL134         OJK       ZSF 2020-01-28 12:41:00   \n",
       "35  2020-05-22         FL134         OJK       ZSF 2020-02-12 23:09:00   \n",
       "36  2020-05-22         FL134         OJK       ZSF 2020-02-18 16:57:00   \n",
       "37  2020-05-22         FL134         OJK       ZSF 2020-03-05 02:30:00   \n",
       "38  2020-05-22         FL134         OJK       ZSF 2020-03-19 12:52:00   \n",
       "39  2020-05-22         FL134         OJK       ZSF 2020-03-31 23:50:00   \n",
       "\n",
       "   FARE_LEVEL_CODE FARE_BASIS  TOTAL_BOOKING  \n",
       "1               WO      WO45S              2  \n",
       "2               WO      WO45S              1  \n",
       "3               WO      WO45S              1  \n",
       "4               BD        BDS              2  \n",
       "5               WO      WO45S              1  \n",
       "6               BD        BDS              1  \n",
       "7               WO       EHDS              1  \n",
       "9               WO      WO45S              3  \n",
       "10              CD      HCDSF              5  \n",
       "11              WO      WO45S              1  \n",
       "12              WO      WO45S              2  \n",
       "13              CD      HCDSF              1  \n",
       "14              BD        BDS              1  \n",
       "15              WO      WO45S              1  \n",
       "17              WO      WO45S              2  \n",
       "20              WO       EHDS              2  \n",
       "23              BD        BDS              1  \n",
       "24              WO      WO45S              2  \n",
       "25              BD        BDS              1  \n",
       "26              BD        BDS              2  \n",
       "27              WO      WO45S              4  \n",
       "28              CD      HCDSF              2  \n",
       "29              WO      WO45S              2  \n",
       "32              WO      WO45S              6  \n",
       "33              WO      WO45S              1  \n",
       "35              WO      WO45S              1  \n",
       "36              BD        BDS              1  \n",
       "37              WO      WO45S              4  \n",
       "38              WO      WO45S              4  \n",
       "39              WO      WO45S              1  "
      ]
     },
     "execution_count": 215,
     "metadata": {},
     "output_type": "execute_result"
    }
   ],
   "source": [
    "# removing group booking from data \n",
    "grouped_df1 = grouped_df1.loc[grouped_df1['FARE_LEVEL_CODE'] != 'GR']\n",
    "grouped_df1.head(30)"
   ]
  },
  {
   "cell_type": "code",
   "execution_count": 216,
   "metadata": {},
   "outputs": [
    {
     "data": {
      "application/javascript": [
       "\n",
       "        if (window._pyforest_update_imports_cell) { window._pyforest_update_imports_cell('from sklearn.preprocessing import OneHotEncoder\\nimport pandas as pd\\nfrom sklearn.model_selection import train_test_split\\nimport xgboost as xgb\\nimport matplotlib.pyplot as plt\\nfrom sklearn.preprocessing import StandardScaler\\nimport seaborn as sns\\nfrom sklearn import metrics'); }\n",
       "    "
      ],
      "text/plain": [
       "<IPython.core.display.Javascript object>"
      ]
     },
     "metadata": {},
     "output_type": "display_data"
    },
    {
     "data": {
      "text/html": [
       "<div>\n",
       "<style scoped>\n",
       "    .dataframe tbody tr th:only-of-type {\n",
       "        vertical-align: middle;\n",
       "    }\n",
       "\n",
       "    .dataframe tbody tr th {\n",
       "        vertical-align: top;\n",
       "    }\n",
       "\n",
       "    .dataframe thead th {\n",
       "        text-align: right;\n",
       "    }\n",
       "</style>\n",
       "<table border=\"1\" class=\"dataframe\">\n",
       "  <thead>\n",
       "    <tr style=\"text-align: right;\">\n",
       "      <th></th>\n",
       "      <th>FLIGHT_DATE</th>\n",
       "      <th>FLIGHT_NUMBER</th>\n",
       "      <th>BOARD_POINT</th>\n",
       "      <th>OFF_POINT</th>\n",
       "      <th>CREATION_DATE_TIME</th>\n",
       "      <th>FARE_LEVEL_CODE</th>\n",
       "      <th>FARE_BASIS</th>\n",
       "      <th>TOTAL_CANCELLED</th>\n",
       "    </tr>\n",
       "  </thead>\n",
       "  <tbody>\n",
       "    <tr>\n",
       "      <th>0</th>\n",
       "      <td>2020-05-21</td>\n",
       "      <td>FL133</td>\n",
       "      <td>ZSF</td>\n",
       "      <td>OJK</td>\n",
       "      <td>2020-01-24 16:17:00</td>\n",
       "      <td>GR</td>\n",
       "      <td>BGPSO</td>\n",
       "      <td>6</td>\n",
       "    </tr>\n",
       "    <tr>\n",
       "      <th>1</th>\n",
       "      <td>2020-05-21</td>\n",
       "      <td>FL133</td>\n",
       "      <td>ZSF</td>\n",
       "      <td>OJK</td>\n",
       "      <td>2020-02-14 15:36:00</td>\n",
       "      <td>WO</td>\n",
       "      <td>WO45S</td>\n",
       "      <td>2</td>\n",
       "    </tr>\n",
       "    <tr>\n",
       "      <th>2</th>\n",
       "      <td>2020-05-21</td>\n",
       "      <td>FL133</td>\n",
       "      <td>ZSF</td>\n",
       "      <td>OJK</td>\n",
       "      <td>2020-02-22 11:23:00</td>\n",
       "      <td>WO</td>\n",
       "      <td>WO45S</td>\n",
       "      <td>1</td>\n",
       "    </tr>\n",
       "    <tr>\n",
       "      <th>3</th>\n",
       "      <td>2020-05-21</td>\n",
       "      <td>FL133</td>\n",
       "      <td>ZSF</td>\n",
       "      <td>OJK</td>\n",
       "      <td>2020-02-23 10:38:00</td>\n",
       "      <td>WO</td>\n",
       "      <td>WO45S</td>\n",
       "      <td>1</td>\n",
       "    </tr>\n",
       "    <tr>\n",
       "      <th>4</th>\n",
       "      <td>2020-05-21</td>\n",
       "      <td>FL133</td>\n",
       "      <td>ZSF</td>\n",
       "      <td>OJK</td>\n",
       "      <td>2020-02-29 14:16:00</td>\n",
       "      <td>BD</td>\n",
       "      <td>BDS</td>\n",
       "      <td>2</td>\n",
       "    </tr>\n",
       "    <tr>\n",
       "      <th>5</th>\n",
       "      <td>2020-05-21</td>\n",
       "      <td>FL133</td>\n",
       "      <td>ZSF</td>\n",
       "      <td>OJK</td>\n",
       "      <td>2020-03-05 20:49:00</td>\n",
       "      <td>WO</td>\n",
       "      <td>WO45S</td>\n",
       "      <td>1</td>\n",
       "    </tr>\n",
       "    <tr>\n",
       "      <th>6</th>\n",
       "      <td>2020-05-21</td>\n",
       "      <td>FL133</td>\n",
       "      <td>ZSF</td>\n",
       "      <td>OJK</td>\n",
       "      <td>2020-04-04 17:05:00</td>\n",
       "      <td>BD</td>\n",
       "      <td>BDS</td>\n",
       "      <td>1</td>\n",
       "    </tr>\n",
       "    <tr>\n",
       "      <th>7</th>\n",
       "      <td>2020-05-21</td>\n",
       "      <td>FL133</td>\n",
       "      <td>ZSF</td>\n",
       "      <td>OJK</td>\n",
       "      <td>2020-04-13 09:10:00</td>\n",
       "      <td>WO</td>\n",
       "      <td>EHDS</td>\n",
       "      <td>1</td>\n",
       "    </tr>\n",
       "    <tr>\n",
       "      <th>8</th>\n",
       "      <td>2020-05-21</td>\n",
       "      <td>FL134</td>\n",
       "      <td>OJK</td>\n",
       "      <td>ZSF</td>\n",
       "      <td>2020-01-28 09:03:00</td>\n",
       "      <td>WO</td>\n",
       "      <td>WO45S</td>\n",
       "      <td>3</td>\n",
       "    </tr>\n",
       "    <tr>\n",
       "      <th>9</th>\n",
       "      <td>2020-05-21</td>\n",
       "      <td>FL134</td>\n",
       "      <td>OJK</td>\n",
       "      <td>ZSF</td>\n",
       "      <td>2020-01-28 09:11:00</td>\n",
       "      <td>CD</td>\n",
       "      <td>HCDSF</td>\n",
       "      <td>5</td>\n",
       "    </tr>\n",
       "    <tr>\n",
       "      <th>10</th>\n",
       "      <td>2020-05-21</td>\n",
       "      <td>FL134</td>\n",
       "      <td>OJK</td>\n",
       "      <td>ZSF</td>\n",
       "      <td>2020-01-28 09:43:00</td>\n",
       "      <td>WO</td>\n",
       "      <td>WO45S</td>\n",
       "      <td>1</td>\n",
       "    </tr>\n",
       "    <tr>\n",
       "      <th>11</th>\n",
       "      <td>2020-05-21</td>\n",
       "      <td>FL134</td>\n",
       "      <td>OJK</td>\n",
       "      <td>ZSF</td>\n",
       "      <td>2020-01-28 13:49:00</td>\n",
       "      <td>WO</td>\n",
       "      <td>WO45S</td>\n",
       "      <td>2</td>\n",
       "    </tr>\n",
       "    <tr>\n",
       "      <th>12</th>\n",
       "      <td>2020-05-21</td>\n",
       "      <td>FL134</td>\n",
       "      <td>OJK</td>\n",
       "      <td>ZSF</td>\n",
       "      <td>2020-01-28 14:01:00</td>\n",
       "      <td>CD</td>\n",
       "      <td>HCDSF</td>\n",
       "      <td>1</td>\n",
       "    </tr>\n",
       "    <tr>\n",
       "      <th>13</th>\n",
       "      <td>2020-05-21</td>\n",
       "      <td>FL134</td>\n",
       "      <td>OJK</td>\n",
       "      <td>ZSF</td>\n",
       "      <td>2020-01-30 18:37:00</td>\n",
       "      <td>BD</td>\n",
       "      <td>BDS</td>\n",
       "      <td>1</td>\n",
       "    </tr>\n",
       "    <tr>\n",
       "      <th>14</th>\n",
       "      <td>2020-05-21</td>\n",
       "      <td>FL134</td>\n",
       "      <td>OJK</td>\n",
       "      <td>ZSF</td>\n",
       "      <td>2020-02-05 08:55:00</td>\n",
       "      <td>WO</td>\n",
       "      <td>WO45S</td>\n",
       "      <td>1</td>\n",
       "    </tr>\n",
       "    <tr>\n",
       "      <th>15</th>\n",
       "      <td>2020-05-21</td>\n",
       "      <td>FL134</td>\n",
       "      <td>OJK</td>\n",
       "      <td>ZSF</td>\n",
       "      <td>2020-02-19 13:58:00</td>\n",
       "      <td>GR</td>\n",
       "      <td>GTTSO</td>\n",
       "      <td>32</td>\n",
       "    </tr>\n",
       "    <tr>\n",
       "      <th>16</th>\n",
       "      <td>2020-05-21</td>\n",
       "      <td>FL134</td>\n",
       "      <td>OJK</td>\n",
       "      <td>ZSF</td>\n",
       "      <td>2020-04-01 23:47:00</td>\n",
       "      <td>WO</td>\n",
       "      <td>WO45S</td>\n",
       "      <td>2</td>\n",
       "    </tr>\n",
       "    <tr>\n",
       "      <th>17</th>\n",
       "      <td>2020-05-21</td>\n",
       "      <td>FL141</td>\n",
       "      <td>ZSF</td>\n",
       "      <td>KUF</td>\n",
       "      <td>2020-01-23 09:21:00</td>\n",
       "      <td>GR</td>\n",
       "      <td>GTTSF</td>\n",
       "      <td>35</td>\n",
       "    </tr>\n",
       "    <tr>\n",
       "      <th>18</th>\n",
       "      <td>2020-05-21</td>\n",
       "      <td>FL141</td>\n",
       "      <td>ZSF</td>\n",
       "      <td>KUF</td>\n",
       "      <td>2020-02-01 13:06:00</td>\n",
       "      <td>WO</td>\n",
       "      <td>EHDS</td>\n",
       "      <td>2</td>\n",
       "    </tr>\n",
       "    <tr>\n",
       "      <th>19</th>\n",
       "      <td>2020-05-22</td>\n",
       "      <td>FL133</td>\n",
       "      <td>ZSF</td>\n",
       "      <td>OJK</td>\n",
       "      <td>2020-01-27 11:23:00</td>\n",
       "      <td>GR</td>\n",
       "      <td>BGPSO</td>\n",
       "      <td>15</td>\n",
       "    </tr>\n",
       "    <tr>\n",
       "      <th>20</th>\n",
       "      <td>2020-05-22</td>\n",
       "      <td>FL133</td>\n",
       "      <td>ZSF</td>\n",
       "      <td>OJK</td>\n",
       "      <td>2020-01-28 09:04:00</td>\n",
       "      <td>BD</td>\n",
       "      <td>BDS</td>\n",
       "      <td>1</td>\n",
       "    </tr>\n",
       "    <tr>\n",
       "      <th>21</th>\n",
       "      <td>2020-05-22</td>\n",
       "      <td>FL133</td>\n",
       "      <td>ZSF</td>\n",
       "      <td>OJK</td>\n",
       "      <td>2020-02-01 22:49:00</td>\n",
       "      <td>WO</td>\n",
       "      <td>WO45S</td>\n",
       "      <td>2</td>\n",
       "    </tr>\n",
       "    <tr>\n",
       "      <th>22</th>\n",
       "      <td>2020-05-22</td>\n",
       "      <td>FL133</td>\n",
       "      <td>ZSF</td>\n",
       "      <td>OJK</td>\n",
       "      <td>2020-02-03 22:39:00</td>\n",
       "      <td>BD</td>\n",
       "      <td>BDS</td>\n",
       "      <td>1</td>\n",
       "    </tr>\n",
       "    <tr>\n",
       "      <th>23</th>\n",
       "      <td>2020-05-22</td>\n",
       "      <td>FL133</td>\n",
       "      <td>ZSF</td>\n",
       "      <td>OJK</td>\n",
       "      <td>2020-02-15 19:22:00</td>\n",
       "      <td>BD</td>\n",
       "      <td>BDS</td>\n",
       "      <td>2</td>\n",
       "    </tr>\n",
       "    <tr>\n",
       "      <th>24</th>\n",
       "      <td>2020-05-22</td>\n",
       "      <td>FL133</td>\n",
       "      <td>ZSF</td>\n",
       "      <td>OJK</td>\n",
       "      <td>2020-02-20 16:41:00</td>\n",
       "      <td>WO</td>\n",
       "      <td>WO45S</td>\n",
       "      <td>4</td>\n",
       "    </tr>\n",
       "    <tr>\n",
       "      <th>25</th>\n",
       "      <td>2020-05-22</td>\n",
       "      <td>FL133</td>\n",
       "      <td>ZSF</td>\n",
       "      <td>OJK</td>\n",
       "      <td>2020-02-26 09:36:00</td>\n",
       "      <td>CD</td>\n",
       "      <td>HCDSF</td>\n",
       "      <td>2</td>\n",
       "    </tr>\n",
       "    <tr>\n",
       "      <th>26</th>\n",
       "      <td>2020-05-22</td>\n",
       "      <td>FL134</td>\n",
       "      <td>OJK</td>\n",
       "      <td>ZSF</td>\n",
       "      <td>2020-01-22 11:39:00</td>\n",
       "      <td>GR</td>\n",
       "      <td>GTTSO</td>\n",
       "      <td>33</td>\n",
       "    </tr>\n",
       "    <tr>\n",
       "      <th>27</th>\n",
       "      <td>2020-05-22</td>\n",
       "      <td>FL134</td>\n",
       "      <td>OJK</td>\n",
       "      <td>ZSF</td>\n",
       "      <td>2020-01-28 10:43:00</td>\n",
       "      <td>WO</td>\n",
       "      <td>WO45S</td>\n",
       "      <td>6</td>\n",
       "    </tr>\n",
       "    <tr>\n",
       "      <th>28</th>\n",
       "      <td>2020-05-22</td>\n",
       "      <td>FL134</td>\n",
       "      <td>OJK</td>\n",
       "      <td>ZSF</td>\n",
       "      <td>2020-01-28 12:41:00</td>\n",
       "      <td>WO</td>\n",
       "      <td>WO45S</td>\n",
       "      <td>1</td>\n",
       "    </tr>\n",
       "    <tr>\n",
       "      <th>29</th>\n",
       "      <td>2020-05-22</td>\n",
       "      <td>FL134</td>\n",
       "      <td>OJK</td>\n",
       "      <td>ZSF</td>\n",
       "      <td>2020-02-06 14:20:00</td>\n",
       "      <td>GR</td>\n",
       "      <td>BGPSO</td>\n",
       "      <td>8</td>\n",
       "    </tr>\n",
       "  </tbody>\n",
       "</table>\n",
       "</div>"
      ],
      "text/plain": [
       "   FLIGHT_DATE FLIGHT_NUMBER BOARD_POINT OFF_POINT  CREATION_DATE_TIME  \\\n",
       "0   2020-05-21         FL133         ZSF       OJK 2020-01-24 16:17:00   \n",
       "1   2020-05-21         FL133         ZSF       OJK 2020-02-14 15:36:00   \n",
       "2   2020-05-21         FL133         ZSF       OJK 2020-02-22 11:23:00   \n",
       "3   2020-05-21         FL133         ZSF       OJK 2020-02-23 10:38:00   \n",
       "4   2020-05-21         FL133         ZSF       OJK 2020-02-29 14:16:00   \n",
       "5   2020-05-21         FL133         ZSF       OJK 2020-03-05 20:49:00   \n",
       "6   2020-05-21         FL133         ZSF       OJK 2020-04-04 17:05:00   \n",
       "7   2020-05-21         FL133         ZSF       OJK 2020-04-13 09:10:00   \n",
       "8   2020-05-21         FL134         OJK       ZSF 2020-01-28 09:03:00   \n",
       "9   2020-05-21         FL134         OJK       ZSF 2020-01-28 09:11:00   \n",
       "10  2020-05-21         FL134         OJK       ZSF 2020-01-28 09:43:00   \n",
       "11  2020-05-21         FL134         OJK       ZSF 2020-01-28 13:49:00   \n",
       "12  2020-05-21         FL134         OJK       ZSF 2020-01-28 14:01:00   \n",
       "13  2020-05-21         FL134         OJK       ZSF 2020-01-30 18:37:00   \n",
       "14  2020-05-21         FL134         OJK       ZSF 2020-02-05 08:55:00   \n",
       "15  2020-05-21         FL134         OJK       ZSF 2020-02-19 13:58:00   \n",
       "16  2020-05-21         FL134         OJK       ZSF 2020-04-01 23:47:00   \n",
       "17  2020-05-21         FL141         ZSF       KUF 2020-01-23 09:21:00   \n",
       "18  2020-05-21         FL141         ZSF       KUF 2020-02-01 13:06:00   \n",
       "19  2020-05-22         FL133         ZSF       OJK 2020-01-27 11:23:00   \n",
       "20  2020-05-22         FL133         ZSF       OJK 2020-01-28 09:04:00   \n",
       "21  2020-05-22         FL133         ZSF       OJK 2020-02-01 22:49:00   \n",
       "22  2020-05-22         FL133         ZSF       OJK 2020-02-03 22:39:00   \n",
       "23  2020-05-22         FL133         ZSF       OJK 2020-02-15 19:22:00   \n",
       "24  2020-05-22         FL133         ZSF       OJK 2020-02-20 16:41:00   \n",
       "25  2020-05-22         FL133         ZSF       OJK 2020-02-26 09:36:00   \n",
       "26  2020-05-22         FL134         OJK       ZSF 2020-01-22 11:39:00   \n",
       "27  2020-05-22         FL134         OJK       ZSF 2020-01-28 10:43:00   \n",
       "28  2020-05-22         FL134         OJK       ZSF 2020-01-28 12:41:00   \n",
       "29  2020-05-22         FL134         OJK       ZSF 2020-02-06 14:20:00   \n",
       "\n",
       "   FARE_LEVEL_CODE FARE_BASIS  TOTAL_CANCELLED  \n",
       "0               GR      BGPSO                6  \n",
       "1               WO      WO45S                2  \n",
       "2               WO      WO45S                1  \n",
       "3               WO      WO45S                1  \n",
       "4               BD        BDS                2  \n",
       "5               WO      WO45S                1  \n",
       "6               BD        BDS                1  \n",
       "7               WO       EHDS                1  \n",
       "8               WO      WO45S                3  \n",
       "9               CD      HCDSF                5  \n",
       "10              WO      WO45S                1  \n",
       "11              WO      WO45S                2  \n",
       "12              CD      HCDSF                1  \n",
       "13              BD        BDS                1  \n",
       "14              WO      WO45S                1  \n",
       "15              GR      GTTSO               32  \n",
       "16              WO      WO45S                2  \n",
       "17              GR      GTTSF               35  \n",
       "18              WO       EHDS                2  \n",
       "19              GR      BGPSO               15  \n",
       "20              BD        BDS                1  \n",
       "21              WO      WO45S                2  \n",
       "22              BD        BDS                1  \n",
       "23              BD        BDS                2  \n",
       "24              WO      WO45S                4  \n",
       "25              CD      HCDSF                2  \n",
       "26              GR      GTTSO               33  \n",
       "27              WO      WO45S                6  \n",
       "28              WO      WO45S                1  \n",
       "29              GR      BGPSO                8  "
      ]
     },
     "execution_count": 216,
     "metadata": {},
     "output_type": "execute_result"
    }
   ],
   "source": [
    "# grouping and aggregating CANCELLED\n",
    "grouped_df2 = df.loc[df['PNR_STATUS'] == 'CANCELLED'].groupby(['FLIGHT_DATE','FLIGHT_NUMBER','BOARD_POINT',\n",
    "                                                                'OFF_POINT','CREATION_DATE_TIME','FARE_LEVEL_CODE',\n",
    "                                                                'FARE_BASIS']).agg(TOTAL_CANCELLED = pd.NamedAgg(\n",
    "                                                                column = 'PNR_NUMSER',aggfunc = 'count')).reset_index()\n",
    "grouped_df2.head(30)"
   ]
  },
  {
   "cell_type": "code",
   "execution_count": 217,
   "metadata": {},
   "outputs": [
    {
     "data": {
      "text/html": [
       "<div>\n",
       "<style scoped>\n",
       "    .dataframe tbody tr th:only-of-type {\n",
       "        vertical-align: middle;\n",
       "    }\n",
       "\n",
       "    .dataframe tbody tr th {\n",
       "        vertical-align: top;\n",
       "    }\n",
       "\n",
       "    .dataframe thead th {\n",
       "        text-align: right;\n",
       "    }\n",
       "</style>\n",
       "<table border=\"1\" class=\"dataframe\">\n",
       "  <thead>\n",
       "    <tr style=\"text-align: right;\">\n",
       "      <th></th>\n",
       "      <th>TOTAL_CANCELLED</th>\n",
       "    </tr>\n",
       "  </thead>\n",
       "  <tbody>\n",
       "    <tr>\n",
       "      <th>count</th>\n",
       "      <td>856.000000</td>\n",
       "    </tr>\n",
       "    <tr>\n",
       "      <th>mean</th>\n",
       "      <td>1.699766</td>\n",
       "    </tr>\n",
       "    <tr>\n",
       "      <th>std</th>\n",
       "      <td>1.114414</td>\n",
       "    </tr>\n",
       "    <tr>\n",
       "      <th>min</th>\n",
       "      <td>1.000000</td>\n",
       "    </tr>\n",
       "    <tr>\n",
       "      <th>25%</th>\n",
       "      <td>1.000000</td>\n",
       "    </tr>\n",
       "    <tr>\n",
       "      <th>50%</th>\n",
       "      <td>1.000000</td>\n",
       "    </tr>\n",
       "    <tr>\n",
       "      <th>75%</th>\n",
       "      <td>2.000000</td>\n",
       "    </tr>\n",
       "    <tr>\n",
       "      <th>max</th>\n",
       "      <td>6.000000</td>\n",
       "    </tr>\n",
       "  </tbody>\n",
       "</table>\n",
       "</div>"
      ],
      "text/plain": [
       "       TOTAL_CANCELLED\n",
       "count       856.000000\n",
       "mean          1.699766\n",
       "std           1.114414\n",
       "min           1.000000\n",
       "25%           1.000000\n",
       "50%           1.000000\n",
       "75%           2.000000\n",
       "max           6.000000"
      ]
     },
     "execution_count": 217,
     "metadata": {},
     "output_type": "execute_result"
    }
   ],
   "source": [
    "# removing GR from cancelled data\n",
    "grouped_df2 = grouped_df2.loc[grouped_df2['FARE_LEVEL_CODE'] != 'GR']\n",
    "grouped_df2.describe()"
   ]
  },
  {
   "cell_type": "code",
   "execution_count": 218,
   "metadata": {},
   "outputs": [
    {
     "data": {
      "text/html": [
       "<div>\n",
       "<style scoped>\n",
       "    .dataframe tbody tr th:only-of-type {\n",
       "        vertical-align: middle;\n",
       "    }\n",
       "\n",
       "    .dataframe tbody tr th {\n",
       "        vertical-align: top;\n",
       "    }\n",
       "\n",
       "    .dataframe thead th {\n",
       "        text-align: right;\n",
       "    }\n",
       "</style>\n",
       "<table border=\"1\" class=\"dataframe\">\n",
       "  <thead>\n",
       "    <tr style=\"text-align: right;\">\n",
       "      <th></th>\n",
       "      <th>FLIGHT_DATE</th>\n",
       "      <th>FLIGHT_NUMBER</th>\n",
       "      <th>BOARD_POINT</th>\n",
       "      <th>OFF_POINT</th>\n",
       "      <th>CREATION_DATE_TIME</th>\n",
       "      <th>FARE_LEVEL_CODE</th>\n",
       "      <th>FARE_BASIS</th>\n",
       "      <th>TOTAL_BOOKING</th>\n",
       "      <th>TOTAL_CANCELLED</th>\n",
       "    </tr>\n",
       "  </thead>\n",
       "  <tbody>\n",
       "    <tr>\n",
       "      <th>0</th>\n",
       "      <td>2020-05-21</td>\n",
       "      <td>FL133</td>\n",
       "      <td>ZSF</td>\n",
       "      <td>OJK</td>\n",
       "      <td>2020-02-14 15:36:00</td>\n",
       "      <td>WO</td>\n",
       "      <td>WO45S</td>\n",
       "      <td>2</td>\n",
       "      <td>2.0</td>\n",
       "    </tr>\n",
       "    <tr>\n",
       "      <th>1</th>\n",
       "      <td>2020-05-21</td>\n",
       "      <td>FL133</td>\n",
       "      <td>ZSF</td>\n",
       "      <td>OJK</td>\n",
       "      <td>2020-02-22 11:23:00</td>\n",
       "      <td>WO</td>\n",
       "      <td>WO45S</td>\n",
       "      <td>1</td>\n",
       "      <td>1.0</td>\n",
       "    </tr>\n",
       "    <tr>\n",
       "      <th>2</th>\n",
       "      <td>2020-05-21</td>\n",
       "      <td>FL133</td>\n",
       "      <td>ZSF</td>\n",
       "      <td>OJK</td>\n",
       "      <td>2020-02-23 10:38:00</td>\n",
       "      <td>WO</td>\n",
       "      <td>WO45S</td>\n",
       "      <td>1</td>\n",
       "      <td>1.0</td>\n",
       "    </tr>\n",
       "    <tr>\n",
       "      <th>3</th>\n",
       "      <td>2020-05-21</td>\n",
       "      <td>FL133</td>\n",
       "      <td>ZSF</td>\n",
       "      <td>OJK</td>\n",
       "      <td>2020-02-29 14:16:00</td>\n",
       "      <td>BD</td>\n",
       "      <td>BDS</td>\n",
       "      <td>2</td>\n",
       "      <td>2.0</td>\n",
       "    </tr>\n",
       "    <tr>\n",
       "      <th>4</th>\n",
       "      <td>2020-05-21</td>\n",
       "      <td>FL133</td>\n",
       "      <td>ZSF</td>\n",
       "      <td>OJK</td>\n",
       "      <td>2020-03-05 20:49:00</td>\n",
       "      <td>WO</td>\n",
       "      <td>WO45S</td>\n",
       "      <td>1</td>\n",
       "      <td>1.0</td>\n",
       "    </tr>\n",
       "    <tr>\n",
       "      <th>5</th>\n",
       "      <td>2020-05-21</td>\n",
       "      <td>FL133</td>\n",
       "      <td>ZSF</td>\n",
       "      <td>OJK</td>\n",
       "      <td>2020-04-04 17:05:00</td>\n",
       "      <td>BD</td>\n",
       "      <td>BDS</td>\n",
       "      <td>1</td>\n",
       "      <td>1.0</td>\n",
       "    </tr>\n",
       "    <tr>\n",
       "      <th>6</th>\n",
       "      <td>2020-05-21</td>\n",
       "      <td>FL133</td>\n",
       "      <td>ZSF</td>\n",
       "      <td>OJK</td>\n",
       "      <td>2020-04-13 09:10:00</td>\n",
       "      <td>WO</td>\n",
       "      <td>EHDS</td>\n",
       "      <td>1</td>\n",
       "      <td>1.0</td>\n",
       "    </tr>\n",
       "    <tr>\n",
       "      <th>7</th>\n",
       "      <td>2020-05-21</td>\n",
       "      <td>FL134</td>\n",
       "      <td>OJK</td>\n",
       "      <td>ZSF</td>\n",
       "      <td>2020-01-28 09:03:00</td>\n",
       "      <td>WO</td>\n",
       "      <td>WO45S</td>\n",
       "      <td>3</td>\n",
       "      <td>3.0</td>\n",
       "    </tr>\n",
       "    <tr>\n",
       "      <th>8</th>\n",
       "      <td>2020-05-21</td>\n",
       "      <td>FL134</td>\n",
       "      <td>OJK</td>\n",
       "      <td>ZSF</td>\n",
       "      <td>2020-01-28 09:11:00</td>\n",
       "      <td>CD</td>\n",
       "      <td>HCDSF</td>\n",
       "      <td>5</td>\n",
       "      <td>5.0</td>\n",
       "    </tr>\n",
       "    <tr>\n",
       "      <th>9</th>\n",
       "      <td>2020-05-21</td>\n",
       "      <td>FL134</td>\n",
       "      <td>OJK</td>\n",
       "      <td>ZSF</td>\n",
       "      <td>2020-01-28 09:43:00</td>\n",
       "      <td>WO</td>\n",
       "      <td>WO45S</td>\n",
       "      <td>1</td>\n",
       "      <td>1.0</td>\n",
       "    </tr>\n",
       "    <tr>\n",
       "      <th>10</th>\n",
       "      <td>2020-05-21</td>\n",
       "      <td>FL134</td>\n",
       "      <td>OJK</td>\n",
       "      <td>ZSF</td>\n",
       "      <td>2020-01-28 13:49:00</td>\n",
       "      <td>WO</td>\n",
       "      <td>WO45S</td>\n",
       "      <td>2</td>\n",
       "      <td>2.0</td>\n",
       "    </tr>\n",
       "    <tr>\n",
       "      <th>11</th>\n",
       "      <td>2020-05-21</td>\n",
       "      <td>FL134</td>\n",
       "      <td>OJK</td>\n",
       "      <td>ZSF</td>\n",
       "      <td>2020-01-28 14:01:00</td>\n",
       "      <td>CD</td>\n",
       "      <td>HCDSF</td>\n",
       "      <td>1</td>\n",
       "      <td>1.0</td>\n",
       "    </tr>\n",
       "    <tr>\n",
       "      <th>12</th>\n",
       "      <td>2020-05-21</td>\n",
       "      <td>FL134</td>\n",
       "      <td>OJK</td>\n",
       "      <td>ZSF</td>\n",
       "      <td>2020-01-30 18:37:00</td>\n",
       "      <td>BD</td>\n",
       "      <td>BDS</td>\n",
       "      <td>1</td>\n",
       "      <td>1.0</td>\n",
       "    </tr>\n",
       "    <tr>\n",
       "      <th>13</th>\n",
       "      <td>2020-05-21</td>\n",
       "      <td>FL134</td>\n",
       "      <td>OJK</td>\n",
       "      <td>ZSF</td>\n",
       "      <td>2020-02-05 08:55:00</td>\n",
       "      <td>WO</td>\n",
       "      <td>WO45S</td>\n",
       "      <td>1</td>\n",
       "      <td>1.0</td>\n",
       "    </tr>\n",
       "    <tr>\n",
       "      <th>14</th>\n",
       "      <td>2020-05-21</td>\n",
       "      <td>FL134</td>\n",
       "      <td>OJK</td>\n",
       "      <td>ZSF</td>\n",
       "      <td>2020-04-01 23:47:00</td>\n",
       "      <td>WO</td>\n",
       "      <td>WO45S</td>\n",
       "      <td>2</td>\n",
       "      <td>2.0</td>\n",
       "    </tr>\n",
       "    <tr>\n",
       "      <th>15</th>\n",
       "      <td>2020-05-21</td>\n",
       "      <td>FL141</td>\n",
       "      <td>ZSF</td>\n",
       "      <td>KUF</td>\n",
       "      <td>2020-02-01 13:06:00</td>\n",
       "      <td>WO</td>\n",
       "      <td>EHDS</td>\n",
       "      <td>2</td>\n",
       "      <td>2.0</td>\n",
       "    </tr>\n",
       "    <tr>\n",
       "      <th>16</th>\n",
       "      <td>2020-05-22</td>\n",
       "      <td>FL133</td>\n",
       "      <td>ZSF</td>\n",
       "      <td>OJK</td>\n",
       "      <td>2020-01-28 09:04:00</td>\n",
       "      <td>BD</td>\n",
       "      <td>BDS</td>\n",
       "      <td>1</td>\n",
       "      <td>1.0</td>\n",
       "    </tr>\n",
       "    <tr>\n",
       "      <th>17</th>\n",
       "      <td>2020-05-22</td>\n",
       "      <td>FL133</td>\n",
       "      <td>ZSF</td>\n",
       "      <td>OJK</td>\n",
       "      <td>2020-02-01 22:49:00</td>\n",
       "      <td>WO</td>\n",
       "      <td>WO45S</td>\n",
       "      <td>2</td>\n",
       "      <td>2.0</td>\n",
       "    </tr>\n",
       "    <tr>\n",
       "      <th>18</th>\n",
       "      <td>2020-05-22</td>\n",
       "      <td>FL133</td>\n",
       "      <td>ZSF</td>\n",
       "      <td>OJK</td>\n",
       "      <td>2020-02-03 22:39:00</td>\n",
       "      <td>BD</td>\n",
       "      <td>BDS</td>\n",
       "      <td>1</td>\n",
       "      <td>1.0</td>\n",
       "    </tr>\n",
       "    <tr>\n",
       "      <th>19</th>\n",
       "      <td>2020-05-22</td>\n",
       "      <td>FL133</td>\n",
       "      <td>ZSF</td>\n",
       "      <td>OJK</td>\n",
       "      <td>2020-02-15 19:22:00</td>\n",
       "      <td>BD</td>\n",
       "      <td>BDS</td>\n",
       "      <td>2</td>\n",
       "      <td>2.0</td>\n",
       "    </tr>\n",
       "    <tr>\n",
       "      <th>20</th>\n",
       "      <td>2020-05-22</td>\n",
       "      <td>FL133</td>\n",
       "      <td>ZSF</td>\n",
       "      <td>OJK</td>\n",
       "      <td>2020-02-20 16:41:00</td>\n",
       "      <td>WO</td>\n",
       "      <td>WO45S</td>\n",
       "      <td>4</td>\n",
       "      <td>4.0</td>\n",
       "    </tr>\n",
       "    <tr>\n",
       "      <th>21</th>\n",
       "      <td>2020-05-22</td>\n",
       "      <td>FL133</td>\n",
       "      <td>ZSF</td>\n",
       "      <td>OJK</td>\n",
       "      <td>2020-02-26 09:36:00</td>\n",
       "      <td>CD</td>\n",
       "      <td>HCDSF</td>\n",
       "      <td>2</td>\n",
       "      <td>2.0</td>\n",
       "    </tr>\n",
       "    <tr>\n",
       "      <th>22</th>\n",
       "      <td>2020-05-22</td>\n",
       "      <td>FL133</td>\n",
       "      <td>ZSF</td>\n",
       "      <td>OJK</td>\n",
       "      <td>2020-03-21 11:59:00</td>\n",
       "      <td>WO</td>\n",
       "      <td>WO45S</td>\n",
       "      <td>2</td>\n",
       "      <td>NaN</td>\n",
       "    </tr>\n",
       "    <tr>\n",
       "      <th>23</th>\n",
       "      <td>2020-05-22</td>\n",
       "      <td>FL134</td>\n",
       "      <td>OJK</td>\n",
       "      <td>ZSF</td>\n",
       "      <td>2020-01-28 10:43:00</td>\n",
       "      <td>WO</td>\n",
       "      <td>WO45S</td>\n",
       "      <td>6</td>\n",
       "      <td>6.0</td>\n",
       "    </tr>\n",
       "    <tr>\n",
       "      <th>24</th>\n",
       "      <td>2020-05-22</td>\n",
       "      <td>FL134</td>\n",
       "      <td>OJK</td>\n",
       "      <td>ZSF</td>\n",
       "      <td>2020-01-28 12:41:00</td>\n",
       "      <td>WO</td>\n",
       "      <td>WO45S</td>\n",
       "      <td>1</td>\n",
       "      <td>1.0</td>\n",
       "    </tr>\n",
       "    <tr>\n",
       "      <th>25</th>\n",
       "      <td>2020-05-22</td>\n",
       "      <td>FL134</td>\n",
       "      <td>OJK</td>\n",
       "      <td>ZSF</td>\n",
       "      <td>2020-02-12 23:09:00</td>\n",
       "      <td>WO</td>\n",
       "      <td>WO45S</td>\n",
       "      <td>1</td>\n",
       "      <td>1.0</td>\n",
       "    </tr>\n",
       "    <tr>\n",
       "      <th>26</th>\n",
       "      <td>2020-05-22</td>\n",
       "      <td>FL134</td>\n",
       "      <td>OJK</td>\n",
       "      <td>ZSF</td>\n",
       "      <td>2020-02-18 16:57:00</td>\n",
       "      <td>BD</td>\n",
       "      <td>BDS</td>\n",
       "      <td>1</td>\n",
       "      <td>1.0</td>\n",
       "    </tr>\n",
       "    <tr>\n",
       "      <th>27</th>\n",
       "      <td>2020-05-22</td>\n",
       "      <td>FL134</td>\n",
       "      <td>OJK</td>\n",
       "      <td>ZSF</td>\n",
       "      <td>2020-03-05 02:30:00</td>\n",
       "      <td>WO</td>\n",
       "      <td>WO45S</td>\n",
       "      <td>4</td>\n",
       "      <td>4.0</td>\n",
       "    </tr>\n",
       "    <tr>\n",
       "      <th>28</th>\n",
       "      <td>2020-05-22</td>\n",
       "      <td>FL134</td>\n",
       "      <td>OJK</td>\n",
       "      <td>ZSF</td>\n",
       "      <td>2020-03-19 12:52:00</td>\n",
       "      <td>WO</td>\n",
       "      <td>WO45S</td>\n",
       "      <td>4</td>\n",
       "      <td>4.0</td>\n",
       "    </tr>\n",
       "    <tr>\n",
       "      <th>29</th>\n",
       "      <td>2020-05-22</td>\n",
       "      <td>FL134</td>\n",
       "      <td>OJK</td>\n",
       "      <td>ZSF</td>\n",
       "      <td>2020-03-31 23:50:00</td>\n",
       "      <td>WO</td>\n",
       "      <td>WO45S</td>\n",
       "      <td>1</td>\n",
       "      <td>1.0</td>\n",
       "    </tr>\n",
       "  </tbody>\n",
       "</table>\n",
       "</div>"
      ],
      "text/plain": [
       "   FLIGHT_DATE FLIGHT_NUMBER BOARD_POINT OFF_POINT  CREATION_DATE_TIME  \\\n",
       "0   2020-05-21         FL133         ZSF       OJK 2020-02-14 15:36:00   \n",
       "1   2020-05-21         FL133         ZSF       OJK 2020-02-22 11:23:00   \n",
       "2   2020-05-21         FL133         ZSF       OJK 2020-02-23 10:38:00   \n",
       "3   2020-05-21         FL133         ZSF       OJK 2020-02-29 14:16:00   \n",
       "4   2020-05-21         FL133         ZSF       OJK 2020-03-05 20:49:00   \n",
       "5   2020-05-21         FL133         ZSF       OJK 2020-04-04 17:05:00   \n",
       "6   2020-05-21         FL133         ZSF       OJK 2020-04-13 09:10:00   \n",
       "7   2020-05-21         FL134         OJK       ZSF 2020-01-28 09:03:00   \n",
       "8   2020-05-21         FL134         OJK       ZSF 2020-01-28 09:11:00   \n",
       "9   2020-05-21         FL134         OJK       ZSF 2020-01-28 09:43:00   \n",
       "10  2020-05-21         FL134         OJK       ZSF 2020-01-28 13:49:00   \n",
       "11  2020-05-21         FL134         OJK       ZSF 2020-01-28 14:01:00   \n",
       "12  2020-05-21         FL134         OJK       ZSF 2020-01-30 18:37:00   \n",
       "13  2020-05-21         FL134         OJK       ZSF 2020-02-05 08:55:00   \n",
       "14  2020-05-21         FL134         OJK       ZSF 2020-04-01 23:47:00   \n",
       "15  2020-05-21         FL141         ZSF       KUF 2020-02-01 13:06:00   \n",
       "16  2020-05-22         FL133         ZSF       OJK 2020-01-28 09:04:00   \n",
       "17  2020-05-22         FL133         ZSF       OJK 2020-02-01 22:49:00   \n",
       "18  2020-05-22         FL133         ZSF       OJK 2020-02-03 22:39:00   \n",
       "19  2020-05-22         FL133         ZSF       OJK 2020-02-15 19:22:00   \n",
       "20  2020-05-22         FL133         ZSF       OJK 2020-02-20 16:41:00   \n",
       "21  2020-05-22         FL133         ZSF       OJK 2020-02-26 09:36:00   \n",
       "22  2020-05-22         FL133         ZSF       OJK 2020-03-21 11:59:00   \n",
       "23  2020-05-22         FL134         OJK       ZSF 2020-01-28 10:43:00   \n",
       "24  2020-05-22         FL134         OJK       ZSF 2020-01-28 12:41:00   \n",
       "25  2020-05-22         FL134         OJK       ZSF 2020-02-12 23:09:00   \n",
       "26  2020-05-22         FL134         OJK       ZSF 2020-02-18 16:57:00   \n",
       "27  2020-05-22         FL134         OJK       ZSF 2020-03-05 02:30:00   \n",
       "28  2020-05-22         FL134         OJK       ZSF 2020-03-19 12:52:00   \n",
       "29  2020-05-22         FL134         OJK       ZSF 2020-03-31 23:50:00   \n",
       "\n",
       "   FARE_LEVEL_CODE FARE_BASIS  TOTAL_BOOKING  TOTAL_CANCELLED  \n",
       "0               WO      WO45S              2              2.0  \n",
       "1               WO      WO45S              1              1.0  \n",
       "2               WO      WO45S              1              1.0  \n",
       "3               BD        BDS              2              2.0  \n",
       "4               WO      WO45S              1              1.0  \n",
       "5               BD        BDS              1              1.0  \n",
       "6               WO       EHDS              1              1.0  \n",
       "7               WO      WO45S              3              3.0  \n",
       "8               CD      HCDSF              5              5.0  \n",
       "9               WO      WO45S              1              1.0  \n",
       "10              WO      WO45S              2              2.0  \n",
       "11              CD      HCDSF              1              1.0  \n",
       "12              BD        BDS              1              1.0  \n",
       "13              WO      WO45S              1              1.0  \n",
       "14              WO      WO45S              2              2.0  \n",
       "15              WO       EHDS              2              2.0  \n",
       "16              BD        BDS              1              1.0  \n",
       "17              WO      WO45S              2              2.0  \n",
       "18              BD        BDS              1              1.0  \n",
       "19              BD        BDS              2              2.0  \n",
       "20              WO      WO45S              4              4.0  \n",
       "21              CD      HCDSF              2              2.0  \n",
       "22              WO      WO45S              2              NaN  \n",
       "23              WO      WO45S              6              6.0  \n",
       "24              WO      WO45S              1              1.0  \n",
       "25              WO      WO45S              1              1.0  \n",
       "26              BD        BDS              1              1.0  \n",
       "27              WO      WO45S              4              4.0  \n",
       "28              WO      WO45S              4              4.0  \n",
       "29              WO      WO45S              1              1.0  "
      ]
     },
     "execution_count": 218,
     "metadata": {},
     "output_type": "execute_result"
    }
   ],
   "source": [
    "# merge \n",
    "df2 = grouped_df1.merge(grouped_df2, on = ['FLIGHT_DATE','FLIGHT_NUMBER','BOARD_POINT',\n",
    "                                                                'OFF_POINT','CREATION_DATE_TIME','FARE_LEVEL_CODE',\n",
    "                                                                'FARE_BASIS'], how = 'outer' )\n",
    "df2.head(30)"
   ]
  },
  {
   "cell_type": "code",
   "execution_count": 219,
   "metadata": {},
   "outputs": [
    {
     "name": "stdout",
     "output_type": "stream",
     "text": [
      "<class 'pandas.core.frame.DataFrame'>\n",
      "Int64Index: 1446 entries, 0 to 1445\n",
      "Data columns (total 9 columns):\n",
      " #   Column              Non-Null Count  Dtype         \n",
      "---  ------              --------------  -----         \n",
      " 0   FLIGHT_DATE         1446 non-null   datetime64[ns]\n",
      " 1   FLIGHT_NUMBER       1446 non-null   object        \n",
      " 2   BOARD_POINT         1446 non-null   object        \n",
      " 3   OFF_POINT           1446 non-null   object        \n",
      " 4   CREATION_DATE_TIME  1446 non-null   datetime64[ns]\n",
      " 5   FARE_LEVEL_CODE     1446 non-null   object        \n",
      " 6   FARE_BASIS          1446 non-null   object        \n",
      " 7   TOTAL_BOOKING       1446 non-null   int64         \n",
      " 8   TOTAL_CANCELLED     856 non-null    float64       \n",
      "dtypes: datetime64[ns](2), float64(1), int64(1), object(5)\n",
      "memory usage: 113.0+ KB\n"
     ]
    }
   ],
   "source": [
    "df2.info()"
   ]
  },
  {
   "cell_type": "code",
   "execution_count": 220,
   "metadata": {},
   "outputs": [],
   "source": [
    "# replacing na values in cancallation \n",
    "df2['TOTAL_CANCELLED'].fillna(0,inplace = True)"
   ]
  },
  {
   "cell_type": "code",
   "execution_count": 221,
   "metadata": {},
   "outputs": [
    {
     "data": {
      "text/html": [
       "<div>\n",
       "<style scoped>\n",
       "    .dataframe tbody tr th:only-of-type {\n",
       "        vertical-align: middle;\n",
       "    }\n",
       "\n",
       "    .dataframe tbody tr th {\n",
       "        vertical-align: top;\n",
       "    }\n",
       "\n",
       "    .dataframe thead th {\n",
       "        text-align: right;\n",
       "    }\n",
       "</style>\n",
       "<table border=\"1\" class=\"dataframe\">\n",
       "  <thead>\n",
       "    <tr style=\"text-align: right;\">\n",
       "      <th></th>\n",
       "      <th>FLIGHT_DATE</th>\n",
       "      <th>FLIGHT_NUMBER</th>\n",
       "      <th>BOARD_POINT</th>\n",
       "      <th>OFF_POINT</th>\n",
       "      <th>CREATION_DATE_TIME</th>\n",
       "      <th>FARE_LEVEL_CODE</th>\n",
       "      <th>FARE_BASIS</th>\n",
       "      <th>TOTAL_BOOKING</th>\n",
       "      <th>TOTAL_CANCELLED</th>\n",
       "      <th>NET_BOOKING</th>\n",
       "    </tr>\n",
       "  </thead>\n",
       "  <tbody>\n",
       "    <tr>\n",
       "      <th>0</th>\n",
       "      <td>2020-05-21</td>\n",
       "      <td>FL133</td>\n",
       "      <td>ZSF</td>\n",
       "      <td>OJK</td>\n",
       "      <td>2020-02-14 15:36:00</td>\n",
       "      <td>WO</td>\n",
       "      <td>WO45S</td>\n",
       "      <td>2</td>\n",
       "      <td>2.0</td>\n",
       "      <td>0.0</td>\n",
       "    </tr>\n",
       "    <tr>\n",
       "      <th>1</th>\n",
       "      <td>2020-05-21</td>\n",
       "      <td>FL133</td>\n",
       "      <td>ZSF</td>\n",
       "      <td>OJK</td>\n",
       "      <td>2020-02-22 11:23:00</td>\n",
       "      <td>WO</td>\n",
       "      <td>WO45S</td>\n",
       "      <td>1</td>\n",
       "      <td>1.0</td>\n",
       "      <td>0.0</td>\n",
       "    </tr>\n",
       "    <tr>\n",
       "      <th>2</th>\n",
       "      <td>2020-05-21</td>\n",
       "      <td>FL133</td>\n",
       "      <td>ZSF</td>\n",
       "      <td>OJK</td>\n",
       "      <td>2020-02-23 10:38:00</td>\n",
       "      <td>WO</td>\n",
       "      <td>WO45S</td>\n",
       "      <td>1</td>\n",
       "      <td>1.0</td>\n",
       "      <td>0.0</td>\n",
       "    </tr>\n",
       "    <tr>\n",
       "      <th>3</th>\n",
       "      <td>2020-05-21</td>\n",
       "      <td>FL133</td>\n",
       "      <td>ZSF</td>\n",
       "      <td>OJK</td>\n",
       "      <td>2020-02-29 14:16:00</td>\n",
       "      <td>BD</td>\n",
       "      <td>BDS</td>\n",
       "      <td>2</td>\n",
       "      <td>2.0</td>\n",
       "      <td>0.0</td>\n",
       "    </tr>\n",
       "    <tr>\n",
       "      <th>4</th>\n",
       "      <td>2020-05-21</td>\n",
       "      <td>FL133</td>\n",
       "      <td>ZSF</td>\n",
       "      <td>OJK</td>\n",
       "      <td>2020-03-05 20:49:00</td>\n",
       "      <td>WO</td>\n",
       "      <td>WO45S</td>\n",
       "      <td>1</td>\n",
       "      <td>1.0</td>\n",
       "      <td>0.0</td>\n",
       "    </tr>\n",
       "    <tr>\n",
       "      <th>5</th>\n",
       "      <td>2020-05-21</td>\n",
       "      <td>FL133</td>\n",
       "      <td>ZSF</td>\n",
       "      <td>OJK</td>\n",
       "      <td>2020-04-04 17:05:00</td>\n",
       "      <td>BD</td>\n",
       "      <td>BDS</td>\n",
       "      <td>1</td>\n",
       "      <td>1.0</td>\n",
       "      <td>0.0</td>\n",
       "    </tr>\n",
       "    <tr>\n",
       "      <th>6</th>\n",
       "      <td>2020-05-21</td>\n",
       "      <td>FL133</td>\n",
       "      <td>ZSF</td>\n",
       "      <td>OJK</td>\n",
       "      <td>2020-04-13 09:10:00</td>\n",
       "      <td>WO</td>\n",
       "      <td>EHDS</td>\n",
       "      <td>1</td>\n",
       "      <td>1.0</td>\n",
       "      <td>0.0</td>\n",
       "    </tr>\n",
       "    <tr>\n",
       "      <th>7</th>\n",
       "      <td>2020-05-21</td>\n",
       "      <td>FL134</td>\n",
       "      <td>OJK</td>\n",
       "      <td>ZSF</td>\n",
       "      <td>2020-01-28 09:03:00</td>\n",
       "      <td>WO</td>\n",
       "      <td>WO45S</td>\n",
       "      <td>3</td>\n",
       "      <td>3.0</td>\n",
       "      <td>0.0</td>\n",
       "    </tr>\n",
       "    <tr>\n",
       "      <th>8</th>\n",
       "      <td>2020-05-21</td>\n",
       "      <td>FL134</td>\n",
       "      <td>OJK</td>\n",
       "      <td>ZSF</td>\n",
       "      <td>2020-01-28 09:11:00</td>\n",
       "      <td>CD</td>\n",
       "      <td>HCDSF</td>\n",
       "      <td>5</td>\n",
       "      <td>5.0</td>\n",
       "      <td>0.0</td>\n",
       "    </tr>\n",
       "    <tr>\n",
       "      <th>9</th>\n",
       "      <td>2020-05-21</td>\n",
       "      <td>FL134</td>\n",
       "      <td>OJK</td>\n",
       "      <td>ZSF</td>\n",
       "      <td>2020-01-28 09:43:00</td>\n",
       "      <td>WO</td>\n",
       "      <td>WO45S</td>\n",
       "      <td>1</td>\n",
       "      <td>1.0</td>\n",
       "      <td>0.0</td>\n",
       "    </tr>\n",
       "    <tr>\n",
       "      <th>10</th>\n",
       "      <td>2020-05-21</td>\n",
       "      <td>FL134</td>\n",
       "      <td>OJK</td>\n",
       "      <td>ZSF</td>\n",
       "      <td>2020-01-28 13:49:00</td>\n",
       "      <td>WO</td>\n",
       "      <td>WO45S</td>\n",
       "      <td>2</td>\n",
       "      <td>2.0</td>\n",
       "      <td>0.0</td>\n",
       "    </tr>\n",
       "    <tr>\n",
       "      <th>11</th>\n",
       "      <td>2020-05-21</td>\n",
       "      <td>FL134</td>\n",
       "      <td>OJK</td>\n",
       "      <td>ZSF</td>\n",
       "      <td>2020-01-28 14:01:00</td>\n",
       "      <td>CD</td>\n",
       "      <td>HCDSF</td>\n",
       "      <td>1</td>\n",
       "      <td>1.0</td>\n",
       "      <td>0.0</td>\n",
       "    </tr>\n",
       "    <tr>\n",
       "      <th>12</th>\n",
       "      <td>2020-05-21</td>\n",
       "      <td>FL134</td>\n",
       "      <td>OJK</td>\n",
       "      <td>ZSF</td>\n",
       "      <td>2020-01-30 18:37:00</td>\n",
       "      <td>BD</td>\n",
       "      <td>BDS</td>\n",
       "      <td>1</td>\n",
       "      <td>1.0</td>\n",
       "      <td>0.0</td>\n",
       "    </tr>\n",
       "    <tr>\n",
       "      <th>13</th>\n",
       "      <td>2020-05-21</td>\n",
       "      <td>FL134</td>\n",
       "      <td>OJK</td>\n",
       "      <td>ZSF</td>\n",
       "      <td>2020-02-05 08:55:00</td>\n",
       "      <td>WO</td>\n",
       "      <td>WO45S</td>\n",
       "      <td>1</td>\n",
       "      <td>1.0</td>\n",
       "      <td>0.0</td>\n",
       "    </tr>\n",
       "    <tr>\n",
       "      <th>14</th>\n",
       "      <td>2020-05-21</td>\n",
       "      <td>FL134</td>\n",
       "      <td>OJK</td>\n",
       "      <td>ZSF</td>\n",
       "      <td>2020-04-01 23:47:00</td>\n",
       "      <td>WO</td>\n",
       "      <td>WO45S</td>\n",
       "      <td>2</td>\n",
       "      <td>2.0</td>\n",
       "      <td>0.0</td>\n",
       "    </tr>\n",
       "    <tr>\n",
       "      <th>15</th>\n",
       "      <td>2020-05-21</td>\n",
       "      <td>FL141</td>\n",
       "      <td>ZSF</td>\n",
       "      <td>KUF</td>\n",
       "      <td>2020-02-01 13:06:00</td>\n",
       "      <td>WO</td>\n",
       "      <td>EHDS</td>\n",
       "      <td>2</td>\n",
       "      <td>2.0</td>\n",
       "      <td>0.0</td>\n",
       "    </tr>\n",
       "    <tr>\n",
       "      <th>16</th>\n",
       "      <td>2020-05-22</td>\n",
       "      <td>FL133</td>\n",
       "      <td>ZSF</td>\n",
       "      <td>OJK</td>\n",
       "      <td>2020-01-28 09:04:00</td>\n",
       "      <td>BD</td>\n",
       "      <td>BDS</td>\n",
       "      <td>1</td>\n",
       "      <td>1.0</td>\n",
       "      <td>0.0</td>\n",
       "    </tr>\n",
       "    <tr>\n",
       "      <th>17</th>\n",
       "      <td>2020-05-22</td>\n",
       "      <td>FL133</td>\n",
       "      <td>ZSF</td>\n",
       "      <td>OJK</td>\n",
       "      <td>2020-02-01 22:49:00</td>\n",
       "      <td>WO</td>\n",
       "      <td>WO45S</td>\n",
       "      <td>2</td>\n",
       "      <td>2.0</td>\n",
       "      <td>0.0</td>\n",
       "    </tr>\n",
       "    <tr>\n",
       "      <th>18</th>\n",
       "      <td>2020-05-22</td>\n",
       "      <td>FL133</td>\n",
       "      <td>ZSF</td>\n",
       "      <td>OJK</td>\n",
       "      <td>2020-02-03 22:39:00</td>\n",
       "      <td>BD</td>\n",
       "      <td>BDS</td>\n",
       "      <td>1</td>\n",
       "      <td>1.0</td>\n",
       "      <td>0.0</td>\n",
       "    </tr>\n",
       "    <tr>\n",
       "      <th>19</th>\n",
       "      <td>2020-05-22</td>\n",
       "      <td>FL133</td>\n",
       "      <td>ZSF</td>\n",
       "      <td>OJK</td>\n",
       "      <td>2020-02-15 19:22:00</td>\n",
       "      <td>BD</td>\n",
       "      <td>BDS</td>\n",
       "      <td>2</td>\n",
       "      <td>2.0</td>\n",
       "      <td>0.0</td>\n",
       "    </tr>\n",
       "    <tr>\n",
       "      <th>20</th>\n",
       "      <td>2020-05-22</td>\n",
       "      <td>FL133</td>\n",
       "      <td>ZSF</td>\n",
       "      <td>OJK</td>\n",
       "      <td>2020-02-20 16:41:00</td>\n",
       "      <td>WO</td>\n",
       "      <td>WO45S</td>\n",
       "      <td>4</td>\n",
       "      <td>4.0</td>\n",
       "      <td>0.0</td>\n",
       "    </tr>\n",
       "    <tr>\n",
       "      <th>21</th>\n",
       "      <td>2020-05-22</td>\n",
       "      <td>FL133</td>\n",
       "      <td>ZSF</td>\n",
       "      <td>OJK</td>\n",
       "      <td>2020-02-26 09:36:00</td>\n",
       "      <td>CD</td>\n",
       "      <td>HCDSF</td>\n",
       "      <td>2</td>\n",
       "      <td>2.0</td>\n",
       "      <td>0.0</td>\n",
       "    </tr>\n",
       "    <tr>\n",
       "      <th>22</th>\n",
       "      <td>2020-05-22</td>\n",
       "      <td>FL133</td>\n",
       "      <td>ZSF</td>\n",
       "      <td>OJK</td>\n",
       "      <td>2020-03-21 11:59:00</td>\n",
       "      <td>WO</td>\n",
       "      <td>WO45S</td>\n",
       "      <td>2</td>\n",
       "      <td>0.0</td>\n",
       "      <td>2.0</td>\n",
       "    </tr>\n",
       "    <tr>\n",
       "      <th>23</th>\n",
       "      <td>2020-05-22</td>\n",
       "      <td>FL134</td>\n",
       "      <td>OJK</td>\n",
       "      <td>ZSF</td>\n",
       "      <td>2020-01-28 10:43:00</td>\n",
       "      <td>WO</td>\n",
       "      <td>WO45S</td>\n",
       "      <td>6</td>\n",
       "      <td>6.0</td>\n",
       "      <td>0.0</td>\n",
       "    </tr>\n",
       "    <tr>\n",
       "      <th>24</th>\n",
       "      <td>2020-05-22</td>\n",
       "      <td>FL134</td>\n",
       "      <td>OJK</td>\n",
       "      <td>ZSF</td>\n",
       "      <td>2020-01-28 12:41:00</td>\n",
       "      <td>WO</td>\n",
       "      <td>WO45S</td>\n",
       "      <td>1</td>\n",
       "      <td>1.0</td>\n",
       "      <td>0.0</td>\n",
       "    </tr>\n",
       "    <tr>\n",
       "      <th>25</th>\n",
       "      <td>2020-05-22</td>\n",
       "      <td>FL134</td>\n",
       "      <td>OJK</td>\n",
       "      <td>ZSF</td>\n",
       "      <td>2020-02-12 23:09:00</td>\n",
       "      <td>WO</td>\n",
       "      <td>WO45S</td>\n",
       "      <td>1</td>\n",
       "      <td>1.0</td>\n",
       "      <td>0.0</td>\n",
       "    </tr>\n",
       "    <tr>\n",
       "      <th>26</th>\n",
       "      <td>2020-05-22</td>\n",
       "      <td>FL134</td>\n",
       "      <td>OJK</td>\n",
       "      <td>ZSF</td>\n",
       "      <td>2020-02-18 16:57:00</td>\n",
       "      <td>BD</td>\n",
       "      <td>BDS</td>\n",
       "      <td>1</td>\n",
       "      <td>1.0</td>\n",
       "      <td>0.0</td>\n",
       "    </tr>\n",
       "    <tr>\n",
       "      <th>27</th>\n",
       "      <td>2020-05-22</td>\n",
       "      <td>FL134</td>\n",
       "      <td>OJK</td>\n",
       "      <td>ZSF</td>\n",
       "      <td>2020-03-05 02:30:00</td>\n",
       "      <td>WO</td>\n",
       "      <td>WO45S</td>\n",
       "      <td>4</td>\n",
       "      <td>4.0</td>\n",
       "      <td>0.0</td>\n",
       "    </tr>\n",
       "    <tr>\n",
       "      <th>28</th>\n",
       "      <td>2020-05-22</td>\n",
       "      <td>FL134</td>\n",
       "      <td>OJK</td>\n",
       "      <td>ZSF</td>\n",
       "      <td>2020-03-19 12:52:00</td>\n",
       "      <td>WO</td>\n",
       "      <td>WO45S</td>\n",
       "      <td>4</td>\n",
       "      <td>4.0</td>\n",
       "      <td>0.0</td>\n",
       "    </tr>\n",
       "    <tr>\n",
       "      <th>29</th>\n",
       "      <td>2020-05-22</td>\n",
       "      <td>FL134</td>\n",
       "      <td>OJK</td>\n",
       "      <td>ZSF</td>\n",
       "      <td>2020-03-31 23:50:00</td>\n",
       "      <td>WO</td>\n",
       "      <td>WO45S</td>\n",
       "      <td>1</td>\n",
       "      <td>1.0</td>\n",
       "      <td>0.0</td>\n",
       "    </tr>\n",
       "  </tbody>\n",
       "</table>\n",
       "</div>"
      ],
      "text/plain": [
       "   FLIGHT_DATE FLIGHT_NUMBER BOARD_POINT OFF_POINT  CREATION_DATE_TIME  \\\n",
       "0   2020-05-21         FL133         ZSF       OJK 2020-02-14 15:36:00   \n",
       "1   2020-05-21         FL133         ZSF       OJK 2020-02-22 11:23:00   \n",
       "2   2020-05-21         FL133         ZSF       OJK 2020-02-23 10:38:00   \n",
       "3   2020-05-21         FL133         ZSF       OJK 2020-02-29 14:16:00   \n",
       "4   2020-05-21         FL133         ZSF       OJK 2020-03-05 20:49:00   \n",
       "5   2020-05-21         FL133         ZSF       OJK 2020-04-04 17:05:00   \n",
       "6   2020-05-21         FL133         ZSF       OJK 2020-04-13 09:10:00   \n",
       "7   2020-05-21         FL134         OJK       ZSF 2020-01-28 09:03:00   \n",
       "8   2020-05-21         FL134         OJK       ZSF 2020-01-28 09:11:00   \n",
       "9   2020-05-21         FL134         OJK       ZSF 2020-01-28 09:43:00   \n",
       "10  2020-05-21         FL134         OJK       ZSF 2020-01-28 13:49:00   \n",
       "11  2020-05-21         FL134         OJK       ZSF 2020-01-28 14:01:00   \n",
       "12  2020-05-21         FL134         OJK       ZSF 2020-01-30 18:37:00   \n",
       "13  2020-05-21         FL134         OJK       ZSF 2020-02-05 08:55:00   \n",
       "14  2020-05-21         FL134         OJK       ZSF 2020-04-01 23:47:00   \n",
       "15  2020-05-21         FL141         ZSF       KUF 2020-02-01 13:06:00   \n",
       "16  2020-05-22         FL133         ZSF       OJK 2020-01-28 09:04:00   \n",
       "17  2020-05-22         FL133         ZSF       OJK 2020-02-01 22:49:00   \n",
       "18  2020-05-22         FL133         ZSF       OJK 2020-02-03 22:39:00   \n",
       "19  2020-05-22         FL133         ZSF       OJK 2020-02-15 19:22:00   \n",
       "20  2020-05-22         FL133         ZSF       OJK 2020-02-20 16:41:00   \n",
       "21  2020-05-22         FL133         ZSF       OJK 2020-02-26 09:36:00   \n",
       "22  2020-05-22         FL133         ZSF       OJK 2020-03-21 11:59:00   \n",
       "23  2020-05-22         FL134         OJK       ZSF 2020-01-28 10:43:00   \n",
       "24  2020-05-22         FL134         OJK       ZSF 2020-01-28 12:41:00   \n",
       "25  2020-05-22         FL134         OJK       ZSF 2020-02-12 23:09:00   \n",
       "26  2020-05-22         FL134         OJK       ZSF 2020-02-18 16:57:00   \n",
       "27  2020-05-22         FL134         OJK       ZSF 2020-03-05 02:30:00   \n",
       "28  2020-05-22         FL134         OJK       ZSF 2020-03-19 12:52:00   \n",
       "29  2020-05-22         FL134         OJK       ZSF 2020-03-31 23:50:00   \n",
       "\n",
       "   FARE_LEVEL_CODE FARE_BASIS  TOTAL_BOOKING  TOTAL_CANCELLED  NET_BOOKING  \n",
       "0               WO      WO45S              2              2.0          0.0  \n",
       "1               WO      WO45S              1              1.0          0.0  \n",
       "2               WO      WO45S              1              1.0          0.0  \n",
       "3               BD        BDS              2              2.0          0.0  \n",
       "4               WO      WO45S              1              1.0          0.0  \n",
       "5               BD        BDS              1              1.0          0.0  \n",
       "6               WO       EHDS              1              1.0          0.0  \n",
       "7               WO      WO45S              3              3.0          0.0  \n",
       "8               CD      HCDSF              5              5.0          0.0  \n",
       "9               WO      WO45S              1              1.0          0.0  \n",
       "10              WO      WO45S              2              2.0          0.0  \n",
       "11              CD      HCDSF              1              1.0          0.0  \n",
       "12              BD        BDS              1              1.0          0.0  \n",
       "13              WO      WO45S              1              1.0          0.0  \n",
       "14              WO      WO45S              2              2.0          0.0  \n",
       "15              WO       EHDS              2              2.0          0.0  \n",
       "16              BD        BDS              1              1.0          0.0  \n",
       "17              WO      WO45S              2              2.0          0.0  \n",
       "18              BD        BDS              1              1.0          0.0  \n",
       "19              BD        BDS              2              2.0          0.0  \n",
       "20              WO      WO45S              4              4.0          0.0  \n",
       "21              CD      HCDSF              2              2.0          0.0  \n",
       "22              WO      WO45S              2              0.0          2.0  \n",
       "23              WO      WO45S              6              6.0          0.0  \n",
       "24              WO      WO45S              1              1.0          0.0  \n",
       "25              WO      WO45S              1              1.0          0.0  \n",
       "26              BD        BDS              1              1.0          0.0  \n",
       "27              WO      WO45S              4              4.0          0.0  \n",
       "28              WO      WO45S              4              4.0          0.0  \n",
       "29              WO      WO45S              1              1.0          0.0  "
      ]
     },
     "execution_count": 221,
     "metadata": {},
     "output_type": "execute_result"
    }
   ],
   "source": [
    "# net booking\n",
    "df2['NET_BOOKING'] = df2['TOTAL_BOOKING'] - df2['TOTAL_CANCELLED']\n",
    "df2.head(30)"
   ]
  },
  {
   "cell_type": "code",
   "execution_count": 222,
   "metadata": {},
   "outputs": [
    {
     "data": {
      "text/html": [
       "<div>\n",
       "<style scoped>\n",
       "    .dataframe tbody tr th:only-of-type {\n",
       "        vertical-align: middle;\n",
       "    }\n",
       "\n",
       "    .dataframe tbody tr th {\n",
       "        vertical-align: top;\n",
       "    }\n",
       "\n",
       "    .dataframe thead th {\n",
       "        text-align: right;\n",
       "    }\n",
       "</style>\n",
       "<table border=\"1\" class=\"dataframe\">\n",
       "  <thead>\n",
       "    <tr style=\"text-align: right;\">\n",
       "      <th></th>\n",
       "      <th>FLIGHT_DATE</th>\n",
       "      <th>FLIGHT_NUMBER</th>\n",
       "      <th>BOARD_POINT</th>\n",
       "      <th>OFF_POINT</th>\n",
       "      <th>CREATION_DATE_TIME</th>\n",
       "      <th>FARE_LEVEL_CODE</th>\n",
       "      <th>FARE_BASIS</th>\n",
       "      <th>TOTAL_BOOKING</th>\n",
       "      <th>TOTAL_CANCELLED</th>\n",
       "      <th>NET_BOOKING</th>\n",
       "      <th>DAYS_GAP</th>\n",
       "    </tr>\n",
       "  </thead>\n",
       "  <tbody>\n",
       "    <tr>\n",
       "      <th>0</th>\n",
       "      <td>2020-05-21</td>\n",
       "      <td>FL133</td>\n",
       "      <td>ZSF</td>\n",
       "      <td>OJK</td>\n",
       "      <td>2020-02-14 15:36:00</td>\n",
       "      <td>WO</td>\n",
       "      <td>WO45S</td>\n",
       "      <td>2</td>\n",
       "      <td>2.0</td>\n",
       "      <td>0.0</td>\n",
       "      <td>96.0</td>\n",
       "    </tr>\n",
       "    <tr>\n",
       "      <th>1</th>\n",
       "      <td>2020-05-21</td>\n",
       "      <td>FL133</td>\n",
       "      <td>ZSF</td>\n",
       "      <td>OJK</td>\n",
       "      <td>2020-02-22 11:23:00</td>\n",
       "      <td>WO</td>\n",
       "      <td>WO45S</td>\n",
       "      <td>1</td>\n",
       "      <td>1.0</td>\n",
       "      <td>0.0</td>\n",
       "      <td>88.0</td>\n",
       "    </tr>\n",
       "    <tr>\n",
       "      <th>2</th>\n",
       "      <td>2020-05-21</td>\n",
       "      <td>FL133</td>\n",
       "      <td>ZSF</td>\n",
       "      <td>OJK</td>\n",
       "      <td>2020-02-23 10:38:00</td>\n",
       "      <td>WO</td>\n",
       "      <td>WO45S</td>\n",
       "      <td>1</td>\n",
       "      <td>1.0</td>\n",
       "      <td>0.0</td>\n",
       "      <td>87.0</td>\n",
       "    </tr>\n",
       "    <tr>\n",
       "      <th>3</th>\n",
       "      <td>2020-05-21</td>\n",
       "      <td>FL133</td>\n",
       "      <td>ZSF</td>\n",
       "      <td>OJK</td>\n",
       "      <td>2020-02-29 14:16:00</td>\n",
       "      <td>BD</td>\n",
       "      <td>BDS</td>\n",
       "      <td>2</td>\n",
       "      <td>2.0</td>\n",
       "      <td>0.0</td>\n",
       "      <td>81.0</td>\n",
       "    </tr>\n",
       "    <tr>\n",
       "      <th>4</th>\n",
       "      <td>2020-05-21</td>\n",
       "      <td>FL133</td>\n",
       "      <td>ZSF</td>\n",
       "      <td>OJK</td>\n",
       "      <td>2020-03-05 20:49:00</td>\n",
       "      <td>WO</td>\n",
       "      <td>WO45S</td>\n",
       "      <td>1</td>\n",
       "      <td>1.0</td>\n",
       "      <td>0.0</td>\n",
       "      <td>76.0</td>\n",
       "    </tr>\n",
       "  </tbody>\n",
       "</table>\n",
       "</div>"
      ],
      "text/plain": [
       "  FLIGHT_DATE FLIGHT_NUMBER BOARD_POINT OFF_POINT  CREATION_DATE_TIME  \\\n",
       "0  2020-05-21         FL133         ZSF       OJK 2020-02-14 15:36:00   \n",
       "1  2020-05-21         FL133         ZSF       OJK 2020-02-22 11:23:00   \n",
       "2  2020-05-21         FL133         ZSF       OJK 2020-02-23 10:38:00   \n",
       "3  2020-05-21         FL133         ZSF       OJK 2020-02-29 14:16:00   \n",
       "4  2020-05-21         FL133         ZSF       OJK 2020-03-05 20:49:00   \n",
       "\n",
       "  FARE_LEVEL_CODE FARE_BASIS  TOTAL_BOOKING  TOTAL_CANCELLED  NET_BOOKING  \\\n",
       "0              WO      WO45S              2              2.0          0.0   \n",
       "1              WO      WO45S              1              1.0          0.0   \n",
       "2              WO      WO45S              1              1.0          0.0   \n",
       "3              BD        BDS              2              2.0          0.0   \n",
       "4              WO      WO45S              1              1.0          0.0   \n",
       "\n",
       "   DAYS_GAP  \n",
       "0      96.0  \n",
       "1      88.0  \n",
       "2      87.0  \n",
       "3      81.0  \n",
       "4      76.0  "
      ]
     },
     "execution_count": 222,
     "metadata": {},
     "output_type": "execute_result"
    }
   ],
   "source": [
    "# days to departure \n",
    "df2['DAYS_GAP'] = df2['FLIGHT_DATE'] - df2['CREATION_DATE_TIME']\n",
    "df2['DAYS_GAP'] = df2['DAYS_GAP'].astype('timedelta64[D]')\n",
    "df2.head()"
   ]
  },
  {
   "cell_type": "code",
   "execution_count": 223,
   "metadata": {},
   "outputs": [
    {
     "data": {
      "text/html": [
       "<div>\n",
       "<style scoped>\n",
       "    .dataframe tbody tr th:only-of-type {\n",
       "        vertical-align: middle;\n",
       "    }\n",
       "\n",
       "    .dataframe tbody tr th {\n",
       "        vertical-align: top;\n",
       "    }\n",
       "\n",
       "    .dataframe thead th {\n",
       "        text-align: right;\n",
       "    }\n",
       "</style>\n",
       "<table border=\"1\" class=\"dataframe\">\n",
       "  <thead>\n",
       "    <tr style=\"text-align: right;\">\n",
       "      <th></th>\n",
       "      <th>FLIGHT_DATE</th>\n",
       "      <th>FLIGHT_NUMBER</th>\n",
       "      <th>BOARD_POINT</th>\n",
       "      <th>OFF_POINT</th>\n",
       "      <th>CREATION_DATE_TIME</th>\n",
       "      <th>FARE_LEVEL_CODE</th>\n",
       "      <th>FARE_BASIS</th>\n",
       "      <th>TOTAL_BOOKING</th>\n",
       "      <th>TOTAL_CANCELLED</th>\n",
       "      <th>NET_BOOKING</th>\n",
       "      <th>DAYS_GAP</th>\n",
       "      <th>FLIGHT_DAY_OF_WEEK</th>\n",
       "      <th>FLIGHT_MONTH</th>\n",
       "      <th>FLIGHT_YEAR</th>\n",
       "      <th>BOOKING_DAY_OF_WEEK</th>\n",
       "      <th>BOOKING_MONTH</th>\n",
       "      <th>BOOKING_YEAR</th>\n",
       "    </tr>\n",
       "  </thead>\n",
       "  <tbody>\n",
       "    <tr>\n",
       "      <th>0</th>\n",
       "      <td>2020-05-21</td>\n",
       "      <td>FL133</td>\n",
       "      <td>ZSF</td>\n",
       "      <td>OJK</td>\n",
       "      <td>2020-02-14 15:36:00</td>\n",
       "      <td>WO</td>\n",
       "      <td>WO45S</td>\n",
       "      <td>2</td>\n",
       "      <td>2.0</td>\n",
       "      <td>0.0</td>\n",
       "      <td>96.0</td>\n",
       "      <td>3</td>\n",
       "      <td>5</td>\n",
       "      <td>2020</td>\n",
       "      <td>4</td>\n",
       "      <td>2</td>\n",
       "      <td>2020</td>\n",
       "    </tr>\n",
       "    <tr>\n",
       "      <th>1</th>\n",
       "      <td>2020-05-21</td>\n",
       "      <td>FL133</td>\n",
       "      <td>ZSF</td>\n",
       "      <td>OJK</td>\n",
       "      <td>2020-02-22 11:23:00</td>\n",
       "      <td>WO</td>\n",
       "      <td>WO45S</td>\n",
       "      <td>1</td>\n",
       "      <td>1.0</td>\n",
       "      <td>0.0</td>\n",
       "      <td>88.0</td>\n",
       "      <td>3</td>\n",
       "      <td>5</td>\n",
       "      <td>2020</td>\n",
       "      <td>5</td>\n",
       "      <td>2</td>\n",
       "      <td>2020</td>\n",
       "    </tr>\n",
       "    <tr>\n",
       "      <th>2</th>\n",
       "      <td>2020-05-21</td>\n",
       "      <td>FL133</td>\n",
       "      <td>ZSF</td>\n",
       "      <td>OJK</td>\n",
       "      <td>2020-02-23 10:38:00</td>\n",
       "      <td>WO</td>\n",
       "      <td>WO45S</td>\n",
       "      <td>1</td>\n",
       "      <td>1.0</td>\n",
       "      <td>0.0</td>\n",
       "      <td>87.0</td>\n",
       "      <td>3</td>\n",
       "      <td>5</td>\n",
       "      <td>2020</td>\n",
       "      <td>6</td>\n",
       "      <td>2</td>\n",
       "      <td>2020</td>\n",
       "    </tr>\n",
       "    <tr>\n",
       "      <th>3</th>\n",
       "      <td>2020-05-21</td>\n",
       "      <td>FL133</td>\n",
       "      <td>ZSF</td>\n",
       "      <td>OJK</td>\n",
       "      <td>2020-02-29 14:16:00</td>\n",
       "      <td>BD</td>\n",
       "      <td>BDS</td>\n",
       "      <td>2</td>\n",
       "      <td>2.0</td>\n",
       "      <td>0.0</td>\n",
       "      <td>81.0</td>\n",
       "      <td>3</td>\n",
       "      <td>5</td>\n",
       "      <td>2020</td>\n",
       "      <td>5</td>\n",
       "      <td>2</td>\n",
       "      <td>2020</td>\n",
       "    </tr>\n",
       "    <tr>\n",
       "      <th>4</th>\n",
       "      <td>2020-05-21</td>\n",
       "      <td>FL133</td>\n",
       "      <td>ZSF</td>\n",
       "      <td>OJK</td>\n",
       "      <td>2020-03-05 20:49:00</td>\n",
       "      <td>WO</td>\n",
       "      <td>WO45S</td>\n",
       "      <td>1</td>\n",
       "      <td>1.0</td>\n",
       "      <td>0.0</td>\n",
       "      <td>76.0</td>\n",
       "      <td>3</td>\n",
       "      <td>5</td>\n",
       "      <td>2020</td>\n",
       "      <td>3</td>\n",
       "      <td>3</td>\n",
       "      <td>2020</td>\n",
       "    </tr>\n",
       "  </tbody>\n",
       "</table>\n",
       "</div>"
      ],
      "text/plain": [
       "  FLIGHT_DATE FLIGHT_NUMBER BOARD_POINT OFF_POINT  CREATION_DATE_TIME  \\\n",
       "0  2020-05-21         FL133         ZSF       OJK 2020-02-14 15:36:00   \n",
       "1  2020-05-21         FL133         ZSF       OJK 2020-02-22 11:23:00   \n",
       "2  2020-05-21         FL133         ZSF       OJK 2020-02-23 10:38:00   \n",
       "3  2020-05-21         FL133         ZSF       OJK 2020-02-29 14:16:00   \n",
       "4  2020-05-21         FL133         ZSF       OJK 2020-03-05 20:49:00   \n",
       "\n",
       "  FARE_LEVEL_CODE FARE_BASIS  TOTAL_BOOKING  TOTAL_CANCELLED  NET_BOOKING  \\\n",
       "0              WO      WO45S              2              2.0          0.0   \n",
       "1              WO      WO45S              1              1.0          0.0   \n",
       "2              WO      WO45S              1              1.0          0.0   \n",
       "3              BD        BDS              2              2.0          0.0   \n",
       "4              WO      WO45S              1              1.0          0.0   \n",
       "\n",
       "   DAYS_GAP  FLIGHT_DAY_OF_WEEK  FLIGHT_MONTH  FLIGHT_YEAR  \\\n",
       "0      96.0                   3             5         2020   \n",
       "1      88.0                   3             5         2020   \n",
       "2      87.0                   3             5         2020   \n",
       "3      81.0                   3             5         2020   \n",
       "4      76.0                   3             5         2020   \n",
       "\n",
       "   BOOKING_DAY_OF_WEEK  BOOKING_MONTH  BOOKING_YEAR  \n",
       "0                    4              2          2020  \n",
       "1                    5              2          2020  \n",
       "2                    6              2          2020  \n",
       "3                    5              2          2020  \n",
       "4                    3              3          2020  "
      ]
     },
     "execution_count": 223,
     "metadata": {},
     "output_type": "execute_result"
    }
   ],
   "source": [
    "#date transformation\n",
    "df2['FLIGHT_DAY_OF_WEEK'] = df2['FLIGHT_DATE'].dt.weekday\n",
    "df2['FLIGHT_MONTH'] = df2['FLIGHT_DATE'].dt.month\n",
    "df2['FLIGHT_YEAR'] = df2['FLIGHT_DATE'].dt.year\n",
    "df2['BOOKING_DAY_OF_WEEK'] = df2['CREATION_DATE_TIME'].dt.weekday\n",
    "df2['BOOKING_MONTH'] = df2['CREATION_DATE_TIME'].dt.month\n",
    "df2['BOOKING_YEAR'] = df2['CREATION_DATE_TIME'].dt.year\n",
    "df2.head()"
   ]
  },
  {
   "cell_type": "code",
   "execution_count": 224,
   "metadata": {
    "scrolled": true
   },
   "outputs": [
    {
     "data": {
      "text/html": [
       "<div>\n",
       "<style scoped>\n",
       "    .dataframe tbody tr th:only-of-type {\n",
       "        vertical-align: middle;\n",
       "    }\n",
       "\n",
       "    .dataframe tbody tr th {\n",
       "        vertical-align: top;\n",
       "    }\n",
       "\n",
       "    .dataframe thead th {\n",
       "        text-align: right;\n",
       "    }\n",
       "</style>\n",
       "<table border=\"1\" class=\"dataframe\">\n",
       "  <thead>\n",
       "    <tr style=\"text-align: right;\">\n",
       "      <th></th>\n",
       "      <th>TOTAL_BOOKING</th>\n",
       "      <th>TOTAL_CANCELLED</th>\n",
       "      <th>NET_BOOKING</th>\n",
       "      <th>DAYS_GAP</th>\n",
       "      <th>FLIGHT_DAY_OF_WEEK</th>\n",
       "      <th>FLIGHT_MONTH</th>\n",
       "      <th>FLIGHT_YEAR</th>\n",
       "      <th>BOOKING_DAY_OF_WEEK</th>\n",
       "      <th>BOOKING_MONTH</th>\n",
       "      <th>BOOKING_YEAR</th>\n",
       "    </tr>\n",
       "  </thead>\n",
       "  <tbody>\n",
       "    <tr>\n",
       "      <th>count</th>\n",
       "      <td>1446.000000</td>\n",
       "      <td>1446.000000</td>\n",
       "      <td>1446.000000</td>\n",
       "      <td>1446.000000</td>\n",
       "      <td>1446.000000</td>\n",
       "      <td>1446.000000</td>\n",
       "      <td>1446.0</td>\n",
       "      <td>1446.000000</td>\n",
       "      <td>1446.000000</td>\n",
       "      <td>1446.0</td>\n",
       "    </tr>\n",
       "    <tr>\n",
       "      <th>mean</th>\n",
       "      <td>1.796680</td>\n",
       "      <td>1.006224</td>\n",
       "      <td>0.790456</td>\n",
       "      <td>135.033887</td>\n",
       "      <td>3.516598</td>\n",
       "      <td>7.047718</td>\n",
       "      <td>2020.0</td>\n",
       "      <td>2.486860</td>\n",
       "      <td>2.557400</td>\n",
       "      <td>2020.0</td>\n",
       "    </tr>\n",
       "    <tr>\n",
       "      <th>std</th>\n",
       "      <td>1.189407</td>\n",
       "      <td>1.197155</td>\n",
       "      <td>1.248254</td>\n",
       "      <td>49.572926</td>\n",
       "      <td>1.955757</td>\n",
       "      <td>1.219708</td>\n",
       "      <td>0.0</td>\n",
       "      <td>1.934793</td>\n",
       "      <td>1.286807</td>\n",
       "      <td>0.0</td>\n",
       "    </tr>\n",
       "    <tr>\n",
       "      <th>min</th>\n",
       "      <td>1.000000</td>\n",
       "      <td>0.000000</td>\n",
       "      <td>0.000000</td>\n",
       "      <td>21.000000</td>\n",
       "      <td>0.000000</td>\n",
       "      <td>5.000000</td>\n",
       "      <td>2020.0</td>\n",
       "      <td>0.000000</td>\n",
       "      <td>1.000000</td>\n",
       "      <td>2020.0</td>\n",
       "    </tr>\n",
       "    <tr>\n",
       "      <th>25%</th>\n",
       "      <td>1.000000</td>\n",
       "      <td>0.000000</td>\n",
       "      <td>0.000000</td>\n",
       "      <td>97.000000</td>\n",
       "      <td>2.000000</td>\n",
       "      <td>6.000000</td>\n",
       "      <td>2020.0</td>\n",
       "      <td>1.000000</td>\n",
       "      <td>2.000000</td>\n",
       "      <td>2020.0</td>\n",
       "    </tr>\n",
       "    <tr>\n",
       "      <th>50%</th>\n",
       "      <td>1.000000</td>\n",
       "      <td>1.000000</td>\n",
       "      <td>0.000000</td>\n",
       "      <td>132.000000</td>\n",
       "      <td>4.000000</td>\n",
       "      <td>7.000000</td>\n",
       "      <td>2020.0</td>\n",
       "      <td>2.000000</td>\n",
       "      <td>2.000000</td>\n",
       "      <td>2020.0</td>\n",
       "    </tr>\n",
       "    <tr>\n",
       "      <th>75%</th>\n",
       "      <td>2.000000</td>\n",
       "      <td>1.000000</td>\n",
       "      <td>1.000000</td>\n",
       "      <td>178.000000</td>\n",
       "      <td>5.000000</td>\n",
       "      <td>8.000000</td>\n",
       "      <td>2020.0</td>\n",
       "      <td>4.000000</td>\n",
       "      <td>3.000000</td>\n",
       "      <td>2020.0</td>\n",
       "    </tr>\n",
       "    <tr>\n",
       "      <th>max</th>\n",
       "      <td>7.000000</td>\n",
       "      <td>6.000000</td>\n",
       "      <td>7.000000</td>\n",
       "      <td>241.000000</td>\n",
       "      <td>6.000000</td>\n",
       "      <td>9.000000</td>\n",
       "      <td>2020.0</td>\n",
       "      <td>6.000000</td>\n",
       "      <td>5.000000</td>\n",
       "      <td>2020.0</td>\n",
       "    </tr>\n",
       "  </tbody>\n",
       "</table>\n",
       "</div>"
      ],
      "text/plain": [
       "       TOTAL_BOOKING  TOTAL_CANCELLED  NET_BOOKING     DAYS_GAP  \\\n",
       "count    1446.000000      1446.000000  1446.000000  1446.000000   \n",
       "mean        1.796680         1.006224     0.790456   135.033887   \n",
       "std         1.189407         1.197155     1.248254    49.572926   \n",
       "min         1.000000         0.000000     0.000000    21.000000   \n",
       "25%         1.000000         0.000000     0.000000    97.000000   \n",
       "50%         1.000000         1.000000     0.000000   132.000000   \n",
       "75%         2.000000         1.000000     1.000000   178.000000   \n",
       "max         7.000000         6.000000     7.000000   241.000000   \n",
       "\n",
       "       FLIGHT_DAY_OF_WEEK  FLIGHT_MONTH  FLIGHT_YEAR  BOOKING_DAY_OF_WEEK  \\\n",
       "count         1446.000000   1446.000000       1446.0          1446.000000   \n",
       "mean             3.516598      7.047718       2020.0             2.486860   \n",
       "std              1.955757      1.219708          0.0             1.934793   \n",
       "min              0.000000      5.000000       2020.0             0.000000   \n",
       "25%              2.000000      6.000000       2020.0             1.000000   \n",
       "50%              4.000000      7.000000       2020.0             2.000000   \n",
       "75%              5.000000      8.000000       2020.0             4.000000   \n",
       "max              6.000000      9.000000       2020.0             6.000000   \n",
       "\n",
       "       BOOKING_MONTH  BOOKING_YEAR  \n",
       "count    1446.000000        1446.0  \n",
       "mean        2.557400        2020.0  \n",
       "std         1.286807           0.0  \n",
       "min         1.000000        2020.0  \n",
       "25%         2.000000        2020.0  \n",
       "50%         2.000000        2020.0  \n",
       "75%         3.000000        2020.0  \n",
       "max         5.000000        2020.0  "
      ]
     },
     "execution_count": 224,
     "metadata": {},
     "output_type": "execute_result"
    }
   ],
   "source": [
    "# describe df2\n",
    "df2.describe()"
   ]
  },
  {
   "cell_type": "code",
   "execution_count": 225,
   "metadata": {
    "scrolled": false
   },
   "outputs": [
    {
     "name": "stdout",
     "output_type": "stream",
     "text": [
      " \n",
      "FARE_LEVEL_CODE :  WO\n",
      " \n",
      "WO45S       726\n",
      "EHDS         66\n",
      "EHASC        64\n",
      "EHA177C      49\n",
      "EHDSC        39\n",
      "EHCSC        39\n",
      "EHCS         31\n",
      "WO45157S     29\n",
      "WO45147S     27\n",
      "EHBS         19\n",
      "EHBSC        18\n",
      "EHA197S       8\n",
      "EHD152S       7\n",
      "WO4595S       6\n",
      "EHB172C       4\n",
      "EHC177S       4\n",
      "EHC167C       4\n",
      "EHB145S       4\n",
      "WO45SC        4\n",
      "WO45162S      3\n",
      "WO45152S      2\n",
      "EHD167S       1\n",
      "EHB187S       1\n",
      "EHC182S       1\n",
      "EHD160S       1\n",
      "WO45137S      1\n",
      "EHD155S       1\n",
      "EHAS          1\n",
      "EHD150S       1\n",
      "EHC162S       1\n",
      "EHB177C       1\n",
      "EHA185S       1\n",
      "Name: FARE_BASIS, dtype: int64\n",
      " \n",
      "FARE_LEVEL_CODE :  BD\n",
      " \n",
      "BDS       116\n",
      "BD140S      6\n",
      "Name: FARE_BASIS, dtype: int64\n",
      " \n",
      "FARE_LEVEL_CODE :  RY\n",
      " \n",
      "TYPECSC     71\n",
      "TYPEC217     4\n",
      "TYPEC187     3\n",
      "YFXSC        2\n",
      "YOW325S      1\n",
      "TYPEC177     1\n",
      "TYPEBSC      1\n",
      "Name: FARE_BASIS, dtype: int64\n",
      " \n",
      "FARE_LEVEL_CODE :  CD\n",
      " \n",
      "HCDSF    35\n",
      "Name: FARE_BASIS, dtype: int64\n",
      " \n",
      "FARE_LEVEL_CODE :  IT\n",
      " \n",
      "HITSF2    30\n",
      "Name: FARE_BASIS, dtype: int64\n",
      " \n",
      "FARE_LEVEL_CODE :  CR\n",
      " \n",
      "HCRSF3    4\n",
      "Name: FARE_BASIS, dtype: int64\n",
      " \n",
      "FARE_LEVEL_CODE :  BT\n",
      " \n",
      "PRM00    2\n",
      "Name: FARE_BASIS, dtype: int64\n",
      " \n",
      "FARE_LEVEL_CODE :  CA\n",
      " \n",
      "HCASF    2\n",
      "Name: FARE_BASIS, dtype: int64\n",
      " \n",
      "FARE_LEVEL_CODE :  KC\n",
      " \n",
      "MEKC    1\n",
      "Name: FARE_BASIS, dtype: int64\n",
      " \n",
      "FARE_LEVEL_CODE :  TD\n",
      " \n",
      "HTDSF    1\n",
      "Name: FARE_BASIS, dtype: int64\n",
      " \n",
      "FARE_LEVEL_CODE :  UH\n",
      " \n",
      "U22S    1\n",
      "Name: FARE_BASIS, dtype: int64\n",
      " \n",
      "FARE_LEVEL_CODE :  CW\n",
      " \n",
      "HCWSF    1\n",
      "Name: FARE_BASIS, dtype: int64\n"
     ]
    }
   ],
   "source": [
    "# farebasis analysis\n",
    "for code in df2['FARE_LEVEL_CODE'].value_counts().index:\n",
    "    print(\" \")\n",
    "    print(\"FARE_LEVEL_CODE : \", code )\n",
    "    print(\" \")\n",
    "    print(df2.loc[df2['FARE_LEVEL_CODE'] == code]['FARE_BASIS'].value_counts())"
   ]
  },
  {
   "cell_type": "code",
   "execution_count": 226,
   "metadata": {},
   "outputs": [
    {
     "data": {
      "text/plain": [
       "WO        1164\n",
       "BD         122\n",
       "RY          83\n",
       "CD          35\n",
       "IT          30\n",
       "Others      12\n",
       "Name: FARE_LEVEL_CODE, dtype: int64"
      ]
     },
     "execution_count": 226,
     "metadata": {},
     "output_type": "execute_result"
    }
   ],
   "source": [
    "# convert CR,BT ,CW,CA,UH,TD,KC as others\n",
    "df2['FARE_LEVEL_CODE'] = df2['FARE_LEVEL_CODE'].replace({'CR':'Others','BT':'Others',\n",
    "                                                    'CW':'Others','CA':'Others',\n",
    "                                                    'UH':'Others','TD':'Others',\n",
    "                                                    'KC':'Others'})\n",
    "df2['FARE_LEVEL_CODE'].value_counts()"
   ]
  },
  {
   "cell_type": "code",
   "execution_count": 227,
   "metadata": {},
   "outputs": [
    {
     "name": "stdout",
     "output_type": "stream",
     "text": [
      "ZSF    946\n",
      "OJK    500\n",
      "Name: BOARD_POINT, dtype: int64\n",
      "OJK    513\n",
      "ZSF    500\n",
      "KUF    433\n",
      "Name: OFF_POINT, dtype: int64\n"
     ]
    }
   ],
   "source": [
    "# distinct origin and destination\n",
    "print(df2['BOARD_POINT'].value_counts())\n",
    "print(df2['OFF_POINT'].value_counts())"
   ]
  },
  {
   "cell_type": "code",
   "execution_count": 228,
   "metadata": {},
   "outputs": [
    {
     "data": {
      "application/javascript": [
       "\n",
       "        if (window._pyforest_update_imports_cell) { window._pyforest_update_imports_cell('from sklearn.preprocessing import OneHotEncoder\\nimport pandas as pd\\nfrom sklearn.model_selection import train_test_split\\nimport xgboost as xgb\\nimport matplotlib.pyplot as plt\\nfrom sklearn.preprocessing import StandardScaler\\nimport seaborn as sns\\nfrom sklearn import metrics'); }\n",
       "    "
      ],
      "text/plain": [
       "<IPython.core.display.Javascript object>"
      ]
     },
     "metadata": {},
     "output_type": "display_data"
    },
    {
     "data": {
      "text/html": [
       "<div>\n",
       "<style scoped>\n",
       "    .dataframe tbody tr th:only-of-type {\n",
       "        vertical-align: middle;\n",
       "    }\n",
       "\n",
       "    .dataframe tbody tr th {\n",
       "        vertical-align: top;\n",
       "    }\n",
       "\n",
       "    .dataframe thead th {\n",
       "        text-align: right;\n",
       "    }\n",
       "</style>\n",
       "<table border=\"1\" class=\"dataframe\">\n",
       "  <thead>\n",
       "    <tr style=\"text-align: right;\">\n",
       "      <th></th>\n",
       "      <th>FLIGHT_DATE</th>\n",
       "      <th>FLIGHT_NUMBER</th>\n",
       "      <th>BOARD_POINT</th>\n",
       "      <th>OFF_POINT</th>\n",
       "      <th>CREATION_DATE_TIME</th>\n",
       "      <th>FARE_LEVEL_CODE</th>\n",
       "      <th>FARE_BASIS</th>\n",
       "      <th>TOTAL_BOOKING</th>\n",
       "      <th>TOTAL_CANCELLED</th>\n",
       "      <th>NET_BOOKING</th>\n",
       "      <th>DAYS_GAP</th>\n",
       "      <th>FLIGHT_DAY_OF_WEEK</th>\n",
       "      <th>FLIGHT_MONTH</th>\n",
       "      <th>FLIGHT_YEAR</th>\n",
       "      <th>BOOKING_DAY_OF_WEEK</th>\n",
       "      <th>BOOKING_MONTH</th>\n",
       "      <th>BOOKING_YEAR</th>\n",
       "    </tr>\n",
       "  </thead>\n",
       "  <tbody>\n",
       "    <tr>\n",
       "      <th>198</th>\n",
       "      <td>2020-05-31</td>\n",
       "      <td>FL134</td>\n",
       "      <td>OJK</td>\n",
       "      <td>ZSF</td>\n",
       "      <td>2020-02-06 21:09:00</td>\n",
       "      <td>BD</td>\n",
       "      <td>BDS</td>\n",
       "      <td>1</td>\n",
       "      <td>0.0</td>\n",
       "      <td>1.0</td>\n",
       "      <td>114.0</td>\n",
       "      <td>6</td>\n",
       "      <td>5</td>\n",
       "      <td>2020</td>\n",
       "      <td>3</td>\n",
       "      <td>2</td>\n",
       "      <td>2020</td>\n",
       "    </tr>\n",
       "    <tr>\n",
       "      <th>215</th>\n",
       "      <td>2020-06-01</td>\n",
       "      <td>FL134</td>\n",
       "      <td>OJK</td>\n",
       "      <td>ZSF</td>\n",
       "      <td>2020-03-19 22:17:00</td>\n",
       "      <td>WO</td>\n",
       "      <td>EHDS</td>\n",
       "      <td>1</td>\n",
       "      <td>0.0</td>\n",
       "      <td>1.0</td>\n",
       "      <td>73.0</td>\n",
       "      <td>0</td>\n",
       "      <td>6</td>\n",
       "      <td>2020</td>\n",
       "      <td>3</td>\n",
       "      <td>3</td>\n",
       "      <td>2020</td>\n",
       "    </tr>\n",
       "    <tr>\n",
       "      <th>216</th>\n",
       "      <td>2020-06-01</td>\n",
       "      <td>FL134</td>\n",
       "      <td>OJK</td>\n",
       "      <td>ZSF</td>\n",
       "      <td>2020-04-25 07:49:00</td>\n",
       "      <td>BD</td>\n",
       "      <td>BDS</td>\n",
       "      <td>1</td>\n",
       "      <td>0.0</td>\n",
       "      <td>1.0</td>\n",
       "      <td>36.0</td>\n",
       "      <td>0</td>\n",
       "      <td>6</td>\n",
       "      <td>2020</td>\n",
       "      <td>5</td>\n",
       "      <td>4</td>\n",
       "      <td>2020</td>\n",
       "    </tr>\n",
       "    <tr>\n",
       "      <th>233</th>\n",
       "      <td>2020-06-03</td>\n",
       "      <td>FL134</td>\n",
       "      <td>OJK</td>\n",
       "      <td>ZSF</td>\n",
       "      <td>2020-05-10 21:19:00</td>\n",
       "      <td>WO</td>\n",
       "      <td>EHDS</td>\n",
       "      <td>1</td>\n",
       "      <td>0.0</td>\n",
       "      <td>1.0</td>\n",
       "      <td>23.0</td>\n",
       "      <td>2</td>\n",
       "      <td>6</td>\n",
       "      <td>2020</td>\n",
       "      <td>6</td>\n",
       "      <td>5</td>\n",
       "      <td>2020</td>\n",
       "    </tr>\n",
       "    <tr>\n",
       "      <th>249</th>\n",
       "      <td>2020-06-05</td>\n",
       "      <td>FL134</td>\n",
       "      <td>OJK</td>\n",
       "      <td>ZSF</td>\n",
       "      <td>2020-05-06 00:26:00</td>\n",
       "      <td>RY</td>\n",
       "      <td>YFXSC</td>\n",
       "      <td>1</td>\n",
       "      <td>0.0</td>\n",
       "      <td>1.0</td>\n",
       "      <td>29.0</td>\n",
       "      <td>4</td>\n",
       "      <td>6</td>\n",
       "      <td>2020</td>\n",
       "      <td>2</td>\n",
       "      <td>5</td>\n",
       "      <td>2020</td>\n",
       "    </tr>\n",
       "    <tr>\n",
       "      <th>264</th>\n",
       "      <td>2020-06-06</td>\n",
       "      <td>FL134</td>\n",
       "      <td>OJK</td>\n",
       "      <td>ZSF</td>\n",
       "      <td>2020-04-22 09:28:00</td>\n",
       "      <td>WO</td>\n",
       "      <td>WO45S</td>\n",
       "      <td>2</td>\n",
       "      <td>0.0</td>\n",
       "      <td>2.0</td>\n",
       "      <td>44.0</td>\n",
       "      <td>5</td>\n",
       "      <td>6</td>\n",
       "      <td>2020</td>\n",
       "      <td>2</td>\n",
       "      <td>4</td>\n",
       "      <td>2020</td>\n",
       "    </tr>\n",
       "    <tr>\n",
       "      <th>264</th>\n",
       "      <td>2020-06-06</td>\n",
       "      <td>FL134</td>\n",
       "      <td>OJK</td>\n",
       "      <td>ZSF</td>\n",
       "      <td>2020-04-22 09:28:00</td>\n",
       "      <td>WO</td>\n",
       "      <td>WO45S</td>\n",
       "      <td>2</td>\n",
       "      <td>0.0</td>\n",
       "      <td>2.0</td>\n",
       "      <td>44.0</td>\n",
       "      <td>5</td>\n",
       "      <td>6</td>\n",
       "      <td>2020</td>\n",
       "      <td>2</td>\n",
       "      <td>4</td>\n",
       "      <td>2020</td>\n",
       "    </tr>\n",
       "    <tr>\n",
       "      <th>265</th>\n",
       "      <td>2020-06-06</td>\n",
       "      <td>FL134</td>\n",
       "      <td>OJK</td>\n",
       "      <td>ZSF</td>\n",
       "      <td>2020-05-06 16:09:00</td>\n",
       "      <td>WO</td>\n",
       "      <td>EHDS</td>\n",
       "      <td>1</td>\n",
       "      <td>0.0</td>\n",
       "      <td>1.0</td>\n",
       "      <td>30.0</td>\n",
       "      <td>5</td>\n",
       "      <td>6</td>\n",
       "      <td>2020</td>\n",
       "      <td>2</td>\n",
       "      <td>5</td>\n",
       "      <td>2020</td>\n",
       "    </tr>\n",
       "    <tr>\n",
       "      <th>278</th>\n",
       "      <td>2020-06-07</td>\n",
       "      <td>FL134</td>\n",
       "      <td>OJK</td>\n",
       "      <td>ZSF</td>\n",
       "      <td>2020-03-29 12:28:00</td>\n",
       "      <td>WO</td>\n",
       "      <td>WO45S</td>\n",
       "      <td>2</td>\n",
       "      <td>0.0</td>\n",
       "      <td>2.0</td>\n",
       "      <td>69.0</td>\n",
       "      <td>6</td>\n",
       "      <td>6</td>\n",
       "      <td>2020</td>\n",
       "      <td>6</td>\n",
       "      <td>3</td>\n",
       "      <td>2020</td>\n",
       "    </tr>\n",
       "    <tr>\n",
       "      <th>278</th>\n",
       "      <td>2020-06-07</td>\n",
       "      <td>FL134</td>\n",
       "      <td>OJK</td>\n",
       "      <td>ZSF</td>\n",
       "      <td>2020-03-29 12:28:00</td>\n",
       "      <td>WO</td>\n",
       "      <td>WO45S</td>\n",
       "      <td>2</td>\n",
       "      <td>0.0</td>\n",
       "      <td>2.0</td>\n",
       "      <td>69.0</td>\n",
       "      <td>6</td>\n",
       "      <td>6</td>\n",
       "      <td>2020</td>\n",
       "      <td>6</td>\n",
       "      <td>3</td>\n",
       "      <td>2020</td>\n",
       "    </tr>\n",
       "    <tr>\n",
       "      <th>288</th>\n",
       "      <td>2020-06-08</td>\n",
       "      <td>FL134</td>\n",
       "      <td>OJK</td>\n",
       "      <td>ZSF</td>\n",
       "      <td>2020-02-04 11:52:00</td>\n",
       "      <td>WO</td>\n",
       "      <td>WO45S</td>\n",
       "      <td>6</td>\n",
       "      <td>0.0</td>\n",
       "      <td>6.0</td>\n",
       "      <td>124.0</td>\n",
       "      <td>0</td>\n",
       "      <td>6</td>\n",
       "      <td>2020</td>\n",
       "      <td>1</td>\n",
       "      <td>2</td>\n",
       "      <td>2020</td>\n",
       "    </tr>\n",
       "    <tr>\n",
       "      <th>288</th>\n",
       "      <td>2020-06-08</td>\n",
       "      <td>FL134</td>\n",
       "      <td>OJK</td>\n",
       "      <td>ZSF</td>\n",
       "      <td>2020-02-04 11:52:00</td>\n",
       "      <td>WO</td>\n",
       "      <td>WO45S</td>\n",
       "      <td>6</td>\n",
       "      <td>0.0</td>\n",
       "      <td>6.0</td>\n",
       "      <td>124.0</td>\n",
       "      <td>0</td>\n",
       "      <td>6</td>\n",
       "      <td>2020</td>\n",
       "      <td>1</td>\n",
       "      <td>2</td>\n",
       "      <td>2020</td>\n",
       "    </tr>\n",
       "    <tr>\n",
       "      <th>288</th>\n",
       "      <td>2020-06-08</td>\n",
       "      <td>FL134</td>\n",
       "      <td>OJK</td>\n",
       "      <td>ZSF</td>\n",
       "      <td>2020-02-04 11:52:00</td>\n",
       "      <td>WO</td>\n",
       "      <td>WO45S</td>\n",
       "      <td>6</td>\n",
       "      <td>0.0</td>\n",
       "      <td>6.0</td>\n",
       "      <td>124.0</td>\n",
       "      <td>0</td>\n",
       "      <td>6</td>\n",
       "      <td>2020</td>\n",
       "      <td>1</td>\n",
       "      <td>2</td>\n",
       "      <td>2020</td>\n",
       "    </tr>\n",
       "    <tr>\n",
       "      <th>288</th>\n",
       "      <td>2020-06-08</td>\n",
       "      <td>FL134</td>\n",
       "      <td>OJK</td>\n",
       "      <td>ZSF</td>\n",
       "      <td>2020-02-04 11:52:00</td>\n",
       "      <td>WO</td>\n",
       "      <td>WO45S</td>\n",
       "      <td>6</td>\n",
       "      <td>0.0</td>\n",
       "      <td>6.0</td>\n",
       "      <td>124.0</td>\n",
       "      <td>0</td>\n",
       "      <td>6</td>\n",
       "      <td>2020</td>\n",
       "      <td>1</td>\n",
       "      <td>2</td>\n",
       "      <td>2020</td>\n",
       "    </tr>\n",
       "    <tr>\n",
       "      <th>288</th>\n",
       "      <td>2020-06-08</td>\n",
       "      <td>FL134</td>\n",
       "      <td>OJK</td>\n",
       "      <td>ZSF</td>\n",
       "      <td>2020-02-04 11:52:00</td>\n",
       "      <td>WO</td>\n",
       "      <td>WO45S</td>\n",
       "      <td>6</td>\n",
       "      <td>0.0</td>\n",
       "      <td>6.0</td>\n",
       "      <td>124.0</td>\n",
       "      <td>0</td>\n",
       "      <td>6</td>\n",
       "      <td>2020</td>\n",
       "      <td>1</td>\n",
       "      <td>2</td>\n",
       "      <td>2020</td>\n",
       "    </tr>\n",
       "    <tr>\n",
       "      <th>288</th>\n",
       "      <td>2020-06-08</td>\n",
       "      <td>FL134</td>\n",
       "      <td>OJK</td>\n",
       "      <td>ZSF</td>\n",
       "      <td>2020-02-04 11:52:00</td>\n",
       "      <td>WO</td>\n",
       "      <td>WO45S</td>\n",
       "      <td>6</td>\n",
       "      <td>0.0</td>\n",
       "      <td>6.0</td>\n",
       "      <td>124.0</td>\n",
       "      <td>0</td>\n",
       "      <td>6</td>\n",
       "      <td>2020</td>\n",
       "      <td>1</td>\n",
       "      <td>2</td>\n",
       "      <td>2020</td>\n",
       "    </tr>\n",
       "    <tr>\n",
       "      <th>298</th>\n",
       "      <td>2020-06-10</td>\n",
       "      <td>FL134</td>\n",
       "      <td>OJK</td>\n",
       "      <td>ZSF</td>\n",
       "      <td>2020-03-08 14:42:00</td>\n",
       "      <td>WO</td>\n",
       "      <td>WO45S</td>\n",
       "      <td>1</td>\n",
       "      <td>0.0</td>\n",
       "      <td>1.0</td>\n",
       "      <td>93.0</td>\n",
       "      <td>2</td>\n",
       "      <td>6</td>\n",
       "      <td>2020</td>\n",
       "      <td>6</td>\n",
       "      <td>3</td>\n",
       "      <td>2020</td>\n",
       "    </tr>\n",
       "    <tr>\n",
       "      <th>305</th>\n",
       "      <td>2020-06-11</td>\n",
       "      <td>FL134</td>\n",
       "      <td>OJK</td>\n",
       "      <td>ZSF</td>\n",
       "      <td>2020-05-13 10:11:00</td>\n",
       "      <td>WO</td>\n",
       "      <td>EHDS</td>\n",
       "      <td>1</td>\n",
       "      <td>0.0</td>\n",
       "      <td>1.0</td>\n",
       "      <td>28.0</td>\n",
       "      <td>3</td>\n",
       "      <td>6</td>\n",
       "      <td>2020</td>\n",
       "      <td>2</td>\n",
       "      <td>5</td>\n",
       "      <td>2020</td>\n",
       "    </tr>\n",
       "    <tr>\n",
       "      <th>315</th>\n",
       "      <td>2020-06-12</td>\n",
       "      <td>FL134</td>\n",
       "      <td>OJK</td>\n",
       "      <td>ZSF</td>\n",
       "      <td>2020-05-02 11:42:00</td>\n",
       "      <td>WO</td>\n",
       "      <td>EHDS</td>\n",
       "      <td>1</td>\n",
       "      <td>0.0</td>\n",
       "      <td>1.0</td>\n",
       "      <td>40.0</td>\n",
       "      <td>4</td>\n",
       "      <td>6</td>\n",
       "      <td>2020</td>\n",
       "      <td>5</td>\n",
       "      <td>5</td>\n",
       "      <td>2020</td>\n",
       "    </tr>\n",
       "    <tr>\n",
       "      <th>324</th>\n",
       "      <td>2020-06-13</td>\n",
       "      <td>FL134</td>\n",
       "      <td>OJK</td>\n",
       "      <td>ZSF</td>\n",
       "      <td>2020-05-09 15:46:00</td>\n",
       "      <td>WO</td>\n",
       "      <td>EHDS</td>\n",
       "      <td>1</td>\n",
       "      <td>0.0</td>\n",
       "      <td>1.0</td>\n",
       "      <td>34.0</td>\n",
       "      <td>5</td>\n",
       "      <td>6</td>\n",
       "      <td>2020</td>\n",
       "      <td>5</td>\n",
       "      <td>5</td>\n",
       "      <td>2020</td>\n",
       "    </tr>\n",
       "    <tr>\n",
       "      <th>330</th>\n",
       "      <td>2020-06-14</td>\n",
       "      <td>FL134</td>\n",
       "      <td>OJK</td>\n",
       "      <td>ZSF</td>\n",
       "      <td>2020-01-28 09:02:00</td>\n",
       "      <td>WO</td>\n",
       "      <td>WO45S</td>\n",
       "      <td>1</td>\n",
       "      <td>0.0</td>\n",
       "      <td>1.0</td>\n",
       "      <td>137.0</td>\n",
       "      <td>6</td>\n",
       "      <td>6</td>\n",
       "      <td>2020</td>\n",
       "      <td>1</td>\n",
       "      <td>1</td>\n",
       "      <td>2020</td>\n",
       "    </tr>\n",
       "    <tr>\n",
       "      <th>339</th>\n",
       "      <td>2020-06-14</td>\n",
       "      <td>FL134</td>\n",
       "      <td>OJK</td>\n",
       "      <td>ZSF</td>\n",
       "      <td>2020-04-09 11:50:00</td>\n",
       "      <td>WO</td>\n",
       "      <td>WO45S</td>\n",
       "      <td>2</td>\n",
       "      <td>0.0</td>\n",
       "      <td>2.0</td>\n",
       "      <td>65.0</td>\n",
       "      <td>6</td>\n",
       "      <td>6</td>\n",
       "      <td>2020</td>\n",
       "      <td>3</td>\n",
       "      <td>4</td>\n",
       "      <td>2020</td>\n",
       "    </tr>\n",
       "    <tr>\n",
       "      <th>339</th>\n",
       "      <td>2020-06-14</td>\n",
       "      <td>FL134</td>\n",
       "      <td>OJK</td>\n",
       "      <td>ZSF</td>\n",
       "      <td>2020-04-09 11:50:00</td>\n",
       "      <td>WO</td>\n",
       "      <td>WO45S</td>\n",
       "      <td>2</td>\n",
       "      <td>0.0</td>\n",
       "      <td>2.0</td>\n",
       "      <td>65.0</td>\n",
       "      <td>6</td>\n",
       "      <td>6</td>\n",
       "      <td>2020</td>\n",
       "      <td>3</td>\n",
       "      <td>4</td>\n",
       "      <td>2020</td>\n",
       "    </tr>\n",
       "    <tr>\n",
       "      <th>345</th>\n",
       "      <td>2020-06-16</td>\n",
       "      <td>FL134</td>\n",
       "      <td>OJK</td>\n",
       "      <td>ZSF</td>\n",
       "      <td>2020-04-17 15:28:00</td>\n",
       "      <td>WO</td>\n",
       "      <td>WO45S</td>\n",
       "      <td>1</td>\n",
       "      <td>0.0</td>\n",
       "      <td>1.0</td>\n",
       "      <td>59.0</td>\n",
       "      <td>1</td>\n",
       "      <td>6</td>\n",
       "      <td>2020</td>\n",
       "      <td>4</td>\n",
       "      <td>4</td>\n",
       "      <td>2020</td>\n",
       "    </tr>\n",
       "    <tr>\n",
       "      <th>346</th>\n",
       "      <td>2020-06-16</td>\n",
       "      <td>FL134</td>\n",
       "      <td>OJK</td>\n",
       "      <td>ZSF</td>\n",
       "      <td>2020-05-12 14:48:00</td>\n",
       "      <td>WO</td>\n",
       "      <td>EHDS</td>\n",
       "      <td>1</td>\n",
       "      <td>0.0</td>\n",
       "      <td>1.0</td>\n",
       "      <td>34.0</td>\n",
       "      <td>1</td>\n",
       "      <td>6</td>\n",
       "      <td>2020</td>\n",
       "      <td>1</td>\n",
       "      <td>5</td>\n",
       "      <td>2020</td>\n",
       "    </tr>\n",
       "    <tr>\n",
       "      <th>366</th>\n",
       "      <td>2020-06-19</td>\n",
       "      <td>FL134</td>\n",
       "      <td>OJK</td>\n",
       "      <td>ZSF</td>\n",
       "      <td>2020-03-24 17:20:00</td>\n",
       "      <td>WO</td>\n",
       "      <td>WO45S</td>\n",
       "      <td>1</td>\n",
       "      <td>0.0</td>\n",
       "      <td>1.0</td>\n",
       "      <td>86.0</td>\n",
       "      <td>4</td>\n",
       "      <td>6</td>\n",
       "      <td>2020</td>\n",
       "      <td>1</td>\n",
       "      <td>3</td>\n",
       "      <td>2020</td>\n",
       "    </tr>\n",
       "    <tr>\n",
       "      <th>388</th>\n",
       "      <td>2020-06-20</td>\n",
       "      <td>FL134</td>\n",
       "      <td>OJK</td>\n",
       "      <td>ZSF</td>\n",
       "      <td>2020-04-04 13:59:00</td>\n",
       "      <td>WO</td>\n",
       "      <td>WO45S</td>\n",
       "      <td>6</td>\n",
       "      <td>0.0</td>\n",
       "      <td>6.0</td>\n",
       "      <td>76.0</td>\n",
       "      <td>5</td>\n",
       "      <td>6</td>\n",
       "      <td>2020</td>\n",
       "      <td>5</td>\n",
       "      <td>4</td>\n",
       "      <td>2020</td>\n",
       "    </tr>\n",
       "    <tr>\n",
       "      <th>388</th>\n",
       "      <td>2020-06-20</td>\n",
       "      <td>FL134</td>\n",
       "      <td>OJK</td>\n",
       "      <td>ZSF</td>\n",
       "      <td>2020-04-04 13:59:00</td>\n",
       "      <td>WO</td>\n",
       "      <td>WO45S</td>\n",
       "      <td>6</td>\n",
       "      <td>0.0</td>\n",
       "      <td>6.0</td>\n",
       "      <td>76.0</td>\n",
       "      <td>5</td>\n",
       "      <td>6</td>\n",
       "      <td>2020</td>\n",
       "      <td>5</td>\n",
       "      <td>4</td>\n",
       "      <td>2020</td>\n",
       "    </tr>\n",
       "    <tr>\n",
       "      <th>388</th>\n",
       "      <td>2020-06-20</td>\n",
       "      <td>FL134</td>\n",
       "      <td>OJK</td>\n",
       "      <td>ZSF</td>\n",
       "      <td>2020-04-04 13:59:00</td>\n",
       "      <td>WO</td>\n",
       "      <td>WO45S</td>\n",
       "      <td>6</td>\n",
       "      <td>0.0</td>\n",
       "      <td>6.0</td>\n",
       "      <td>76.0</td>\n",
       "      <td>5</td>\n",
       "      <td>6</td>\n",
       "      <td>2020</td>\n",
       "      <td>5</td>\n",
       "      <td>4</td>\n",
       "      <td>2020</td>\n",
       "    </tr>\n",
       "    <tr>\n",
       "      <th>388</th>\n",
       "      <td>2020-06-20</td>\n",
       "      <td>FL134</td>\n",
       "      <td>OJK</td>\n",
       "      <td>ZSF</td>\n",
       "      <td>2020-04-04 13:59:00</td>\n",
       "      <td>WO</td>\n",
       "      <td>WO45S</td>\n",
       "      <td>6</td>\n",
       "      <td>0.0</td>\n",
       "      <td>6.0</td>\n",
       "      <td>76.0</td>\n",
       "      <td>5</td>\n",
       "      <td>6</td>\n",
       "      <td>2020</td>\n",
       "      <td>5</td>\n",
       "      <td>4</td>\n",
       "      <td>2020</td>\n",
       "    </tr>\n",
       "  </tbody>\n",
       "</table>\n",
       "</div>"
      ],
      "text/plain": [
       "    FLIGHT_DATE FLIGHT_NUMBER BOARD_POINT OFF_POINT  CREATION_DATE_TIME  \\\n",
       "198  2020-05-31         FL134         OJK       ZSF 2020-02-06 21:09:00   \n",
       "215  2020-06-01         FL134         OJK       ZSF 2020-03-19 22:17:00   \n",
       "216  2020-06-01         FL134         OJK       ZSF 2020-04-25 07:49:00   \n",
       "233  2020-06-03         FL134         OJK       ZSF 2020-05-10 21:19:00   \n",
       "249  2020-06-05         FL134         OJK       ZSF 2020-05-06 00:26:00   \n",
       "264  2020-06-06         FL134         OJK       ZSF 2020-04-22 09:28:00   \n",
       "264  2020-06-06         FL134         OJK       ZSF 2020-04-22 09:28:00   \n",
       "265  2020-06-06         FL134         OJK       ZSF 2020-05-06 16:09:00   \n",
       "278  2020-06-07         FL134         OJK       ZSF 2020-03-29 12:28:00   \n",
       "278  2020-06-07         FL134         OJK       ZSF 2020-03-29 12:28:00   \n",
       "288  2020-06-08         FL134         OJK       ZSF 2020-02-04 11:52:00   \n",
       "288  2020-06-08         FL134         OJK       ZSF 2020-02-04 11:52:00   \n",
       "288  2020-06-08         FL134         OJK       ZSF 2020-02-04 11:52:00   \n",
       "288  2020-06-08         FL134         OJK       ZSF 2020-02-04 11:52:00   \n",
       "288  2020-06-08         FL134         OJK       ZSF 2020-02-04 11:52:00   \n",
       "288  2020-06-08         FL134         OJK       ZSF 2020-02-04 11:52:00   \n",
       "298  2020-06-10         FL134         OJK       ZSF 2020-03-08 14:42:00   \n",
       "305  2020-06-11         FL134         OJK       ZSF 2020-05-13 10:11:00   \n",
       "315  2020-06-12         FL134         OJK       ZSF 2020-05-02 11:42:00   \n",
       "324  2020-06-13         FL134         OJK       ZSF 2020-05-09 15:46:00   \n",
       "330  2020-06-14         FL134         OJK       ZSF 2020-01-28 09:02:00   \n",
       "339  2020-06-14         FL134         OJK       ZSF 2020-04-09 11:50:00   \n",
       "339  2020-06-14         FL134         OJK       ZSF 2020-04-09 11:50:00   \n",
       "345  2020-06-16         FL134         OJK       ZSF 2020-04-17 15:28:00   \n",
       "346  2020-06-16         FL134         OJK       ZSF 2020-05-12 14:48:00   \n",
       "366  2020-06-19         FL134         OJK       ZSF 2020-03-24 17:20:00   \n",
       "388  2020-06-20         FL134         OJK       ZSF 2020-04-04 13:59:00   \n",
       "388  2020-06-20         FL134         OJK       ZSF 2020-04-04 13:59:00   \n",
       "388  2020-06-20         FL134         OJK       ZSF 2020-04-04 13:59:00   \n",
       "388  2020-06-20         FL134         OJK       ZSF 2020-04-04 13:59:00   \n",
       "\n",
       "    FARE_LEVEL_CODE FARE_BASIS  TOTAL_BOOKING  TOTAL_CANCELLED  NET_BOOKING  \\\n",
       "198              BD        BDS              1              0.0          1.0   \n",
       "215              WO       EHDS              1              0.0          1.0   \n",
       "216              BD        BDS              1              0.0          1.0   \n",
       "233              WO       EHDS              1              0.0          1.0   \n",
       "249              RY      YFXSC              1              0.0          1.0   \n",
       "264              WO      WO45S              2              0.0          2.0   \n",
       "264              WO      WO45S              2              0.0          2.0   \n",
       "265              WO       EHDS              1              0.0          1.0   \n",
       "278              WO      WO45S              2              0.0          2.0   \n",
       "278              WO      WO45S              2              0.0          2.0   \n",
       "288              WO      WO45S              6              0.0          6.0   \n",
       "288              WO      WO45S              6              0.0          6.0   \n",
       "288              WO      WO45S              6              0.0          6.0   \n",
       "288              WO      WO45S              6              0.0          6.0   \n",
       "288              WO      WO45S              6              0.0          6.0   \n",
       "288              WO      WO45S              6              0.0          6.0   \n",
       "298              WO      WO45S              1              0.0          1.0   \n",
       "305              WO       EHDS              1              0.0          1.0   \n",
       "315              WO       EHDS              1              0.0          1.0   \n",
       "324              WO       EHDS              1              0.0          1.0   \n",
       "330              WO      WO45S              1              0.0          1.0   \n",
       "339              WO      WO45S              2              0.0          2.0   \n",
       "339              WO      WO45S              2              0.0          2.0   \n",
       "345              WO      WO45S              1              0.0          1.0   \n",
       "346              WO       EHDS              1              0.0          1.0   \n",
       "366              WO      WO45S              1              0.0          1.0   \n",
       "388              WO      WO45S              6              0.0          6.0   \n",
       "388              WO      WO45S              6              0.0          6.0   \n",
       "388              WO      WO45S              6              0.0          6.0   \n",
       "388              WO      WO45S              6              0.0          6.0   \n",
       "\n",
       "     DAYS_GAP  FLIGHT_DAY_OF_WEEK  FLIGHT_MONTH  FLIGHT_YEAR  \\\n",
       "198     114.0                   6             5         2020   \n",
       "215      73.0                   0             6         2020   \n",
       "216      36.0                   0             6         2020   \n",
       "233      23.0                   2             6         2020   \n",
       "249      29.0                   4             6         2020   \n",
       "264      44.0                   5             6         2020   \n",
       "264      44.0                   5             6         2020   \n",
       "265      30.0                   5             6         2020   \n",
       "278      69.0                   6             6         2020   \n",
       "278      69.0                   6             6         2020   \n",
       "288     124.0                   0             6         2020   \n",
       "288     124.0                   0             6         2020   \n",
       "288     124.0                   0             6         2020   \n",
       "288     124.0                   0             6         2020   \n",
       "288     124.0                   0             6         2020   \n",
       "288     124.0                   0             6         2020   \n",
       "298      93.0                   2             6         2020   \n",
       "305      28.0                   3             6         2020   \n",
       "315      40.0                   4             6         2020   \n",
       "324      34.0                   5             6         2020   \n",
       "330     137.0                   6             6         2020   \n",
       "339      65.0                   6             6         2020   \n",
       "339      65.0                   6             6         2020   \n",
       "345      59.0                   1             6         2020   \n",
       "346      34.0                   1             6         2020   \n",
       "366      86.0                   4             6         2020   \n",
       "388      76.0                   5             6         2020   \n",
       "388      76.0                   5             6         2020   \n",
       "388      76.0                   5             6         2020   \n",
       "388      76.0                   5             6         2020   \n",
       "\n",
       "     BOOKING_DAY_OF_WEEK  BOOKING_MONTH  BOOKING_YEAR  \n",
       "198                    3              2          2020  \n",
       "215                    3              3          2020  \n",
       "216                    5              4          2020  \n",
       "233                    6              5          2020  \n",
       "249                    2              5          2020  \n",
       "264                    2              4          2020  \n",
       "264                    2              4          2020  \n",
       "265                    2              5          2020  \n",
       "278                    6              3          2020  \n",
       "278                    6              3          2020  \n",
       "288                    1              2          2020  \n",
       "288                    1              2          2020  \n",
       "288                    1              2          2020  \n",
       "288                    1              2          2020  \n",
       "288                    1              2          2020  \n",
       "288                    1              2          2020  \n",
       "298                    6              3          2020  \n",
       "305                    2              5          2020  \n",
       "315                    5              5          2020  \n",
       "324                    5              5          2020  \n",
       "330                    1              1          2020  \n",
       "339                    3              4          2020  \n",
       "339                    3              4          2020  \n",
       "345                    4              4          2020  \n",
       "346                    1              5          2020  \n",
       "366                    1              3          2020  \n",
       "388                    5              4          2020  \n",
       "388                    5              4          2020  \n",
       "388                    5              4          2020  \n",
       "388                    5              4          2020  "
      ]
     },
     "execution_count": 228,
     "metadata": {},
     "output_type": "execute_result"
    },
    {
     "data": {
      "image/png": "[encoded data removed]",
      "text/plain": [
       "<Figure size 432x288 with 1 Axes>"
      ]
     },
     "metadata": {
      "needs_background": "light"
     },
     "output_type": "display_data"
    }
   ],
   "source": [
    "# demand plot \n",
    "# market OJK ZSF\n",
    "df3 = df2.copy()\n",
    "df3 = df3.loc[(df3['BOARD_POINT'] == 'OJK') & (df3['OFF_POINT'] == 'ZSF')]\n",
    "df3 = df3.loc[df3.index.repeat(df3['NET_BOOKING'])]\n",
    "sns.distplot(x = df3['DAYS_GAP'])\n",
    "df3.head(30)"
   ]
  },
  {
   "cell_type": "code",
   "execution_count": 229,
   "metadata": {},
   "outputs": [
    {
     "data": {
      "application/javascript": [
       "\n",
       "        if (window._pyforest_update_imports_cell) { window._pyforest_update_imports_cell('from sklearn.preprocessing import OneHotEncoder\\nimport pandas as pd\\nfrom sklearn.model_selection import train_test_split\\nimport xgboost as xgb\\nimport matplotlib.pyplot as plt\\nfrom sklearn.preprocessing import StandardScaler\\nimport seaborn as sns\\nfrom sklearn import metrics'); }\n",
       "    "
      ],
      "text/plain": [
       "<IPython.core.display.Javascript object>"
      ]
     },
     "metadata": {},
     "output_type": "display_data"
    },
    {
     "data": {
      "text/plain": [
       "<matplotlib.axes._subplots.AxesSubplot at 0x2279d6e3508>"
      ]
     },
     "execution_count": 229,
     "metadata": {},
     "output_type": "execute_result"
    },
    {
     "data": {
      "image/png": "[encoded data removed]",
      "text/plain": [
       "<Figure size 432x288 with 1 Axes>"
      ]
     },
     "metadata": {
      "needs_background": "light"
     },
     "output_type": "display_data"
    }
   ],
   "source": [
    "# market ZSF OJK\n",
    "df3 = df2.copy()\n",
    "df3 = df3.loc[(df3['BOARD_POINT'] == 'ZSF') & (df3['OFF_POINT'] == 'OJK')]\n",
    "df3 = df3.loc[df3.index.repeat(df3['NET_BOOKING'])]\n",
    "sns.distplot(x = df3['DAYS_GAP'])"
   ]
  },
  {
   "cell_type": "code",
   "execution_count": 230,
   "metadata": {},
   "outputs": [
    {
     "data": {
      "application/javascript": [
       "\n",
       "        if (window._pyforest_update_imports_cell) { window._pyforest_update_imports_cell('from sklearn.preprocessing import OneHotEncoder\\nimport pandas as pd\\nfrom sklearn.model_selection import train_test_split\\nimport xgboost as xgb\\nimport matplotlib.pyplot as plt\\nfrom sklearn.preprocessing import StandardScaler\\nimport seaborn as sns\\nfrom sklearn import metrics'); }\n",
       "    "
      ],
      "text/plain": [
       "<IPython.core.display.Javascript object>"
      ]
     },
     "metadata": {},
     "output_type": "display_data"
    },
    {
     "data": {
      "text/plain": [
       "<matplotlib.axes._subplots.AxesSubplot at 0x2279d93f388>"
      ]
     },
     "execution_count": 230,
     "metadata": {},
     "output_type": "execute_result"
    },
    {
     "data": {
      "image/png": "[encoded data removed]",
      "text/plain": [
       "<Figure size 432x288 with 1 Axes>"
      ]
     },
     "metadata": {
      "needs_background": "light"
     },
     "output_type": "display_data"
    }
   ],
   "source": [
    "# market ZSF KUF\n",
    "df3 = df2.copy()\n",
    "df3 = df3.loc[(df3['BOARD_POINT'] == 'ZSF') & (df3['OFF_POINT'] == 'KUF')]\n",
    "df3 = df3.loc[df3.index.repeat(df3['NET_BOOKING'])]\n",
    "sns.distplot(x = df3['DAYS_GAP'])"
   ]
  },
  {
   "cell_type": "code",
   "execution_count": 231,
   "metadata": {},
   "outputs": [
    {
     "name": "stdout",
     "output_type": "stream",
     "text": [
      "<class 'pandas.core.frame.DataFrame'>\n",
      "Int64Index: 1446 entries, 0 to 1445\n",
      "Data columns (total 17 columns):\n",
      " #   Column               Non-Null Count  Dtype         \n",
      "---  ------               --------------  -----         \n",
      " 0   FLIGHT_DATE          1446 non-null   datetime64[ns]\n",
      " 1   FLIGHT_NUMBER        1446 non-null   object        \n",
      " 2   BOARD_POINT          1446 non-null   object        \n",
      " 3   OFF_POINT            1446 non-null   object        \n",
      " 4   CREATION_DATE_TIME   1446 non-null   datetime64[ns]\n",
      " 5   FARE_LEVEL_CODE      1446 non-null   object        \n",
      " 6   FARE_BASIS           1446 non-null   object        \n",
      " 7   TOTAL_BOOKING        1446 non-null   int64         \n",
      " 8   TOTAL_CANCELLED      1446 non-null   float64       \n",
      " 9   NET_BOOKING          1446 non-null   int32         \n",
      " 10  DAYS_GAP             1446 non-null   float64       \n",
      " 11  FLIGHT_DAY_OF_WEEK   1446 non-null   int64         \n",
      " 12  FLIGHT_MONTH         1446 non-null   int64         \n",
      " 13  FLIGHT_YEAR          1446 non-null   int64         \n",
      " 14  BOOKING_DAY_OF_WEEK  1446 non-null   int64         \n",
      " 15  BOOKING_MONTH        1446 non-null   int64         \n",
      " 16  BOOKING_YEAR         1446 non-null   int64         \n",
      "dtypes: datetime64[ns](2), float64(2), int32(1), int64(7), object(5)\n",
      "memory usage: 197.7+ KB\n"
     ]
    }
   ],
   "source": [
    "# netbooking float to int\n",
    "df2['NET_BOOKING'] = df2['NET_BOOKING'].astype(int)\n",
    "df2.info()"
   ]
  },
  {
   "cell_type": "code",
   "execution_count": 232,
   "metadata": {},
   "outputs": [
    {
     "data": {
      "application/javascript": [
       "\n",
       "        if (window._pyforest_update_imports_cell) { window._pyforest_update_imports_cell('from sklearn.preprocessing import OneHotEncoder\\nimport pandas as pd\\nfrom sklearn.model_selection import train_test_split\\nimport xgboost as xgb\\nimport matplotlib.pyplot as plt\\nfrom sklearn.preprocessing import StandardScaler\\nimport seaborn as sns\\nfrom sklearn import metrics'); }\n",
       "    "
      ],
      "text/plain": [
       "<IPython.core.display.Javascript object>"
      ]
     },
     "metadata": {},
     "output_type": "display_data"
    },
    {
     "data": {
      "application/javascript": [
       "\n",
       "        if (window._pyforest_update_imports_cell) { window._pyforest_update_imports_cell('from sklearn.preprocessing import OneHotEncoder\\nimport pandas as pd\\nfrom sklearn.model_selection import train_test_split\\nimport xgboost as xgb\\nimport matplotlib.pyplot as plt\\nfrom sklearn.preprocessing import StandardScaler\\nimport seaborn as sns\\nfrom sklearn import metrics'); }\n",
       "    "
      ],
      "text/plain": [
       "<IPython.core.display.Javascript object>"
      ]
     },
     "metadata": {},
     "output_type": "display_data"
    },
    {
     "data": {
      "application/javascript": [
       "\n",
       "        if (window._pyforest_update_imports_cell) { window._pyforest_update_imports_cell('from sklearn.preprocessing import OneHotEncoder\\nimport pandas as pd\\nfrom sklearn.model_selection import train_test_split\\nimport xgboost as xgb\\nimport matplotlib.pyplot as plt\\nfrom sklearn.preprocessing import StandardScaler\\nimport seaborn as sns\\nfrom sklearn import metrics'); }\n",
       "    "
      ],
      "text/plain": [
       "<IPython.core.display.Javascript object>"
      ]
     },
     "metadata": {},
     "output_type": "display_data"
    },
    {
     "data": {
      "application/javascript": [
       "\n",
       "        if (window._pyforest_update_imports_cell) { window._pyforest_update_imports_cell('from sklearn.preprocessing import OneHotEncoder\\nimport pandas as pd\\nfrom sklearn.model_selection import train_test_split\\nimport xgboost as xgb\\nimport matplotlib.pyplot as plt\\nfrom sklearn.preprocessing import StandardScaler\\nimport seaborn as sns\\nfrom sklearn import metrics'); }\n",
       "    "
      ],
      "text/plain": [
       "<IPython.core.display.Javascript object>"
      ]
     },
     "metadata": {},
     "output_type": "display_data"
    },
    {
     "data": {
      "application/javascript": [
       "\n",
       "        if (window._pyforest_update_imports_cell) { window._pyforest_update_imports_cell('from sklearn.preprocessing import OneHotEncoder\\nimport pandas as pd\\nfrom sklearn.model_selection import train_test_split\\nimport xgboost as xgb\\nimport matplotlib.pyplot as plt\\nfrom sklearn.preprocessing import StandardScaler\\nimport seaborn as sns\\nfrom sklearn import metrics'); }\n",
       "    "
      ],
      "text/plain": [
       "<IPython.core.display.Javascript object>"
      ]
     },
     "metadata": {},
     "output_type": "display_data"
    },
    {
     "data": {
      "application/javascript": [
       "\n",
       "        if (window._pyforest_update_imports_cell) { window._pyforest_update_imports_cell('from sklearn.preprocessing import OneHotEncoder\\nimport pandas as pd\\nfrom sklearn.model_selection import train_test_split\\nimport xgboost as xgb\\nimport matplotlib.pyplot as plt\\nfrom sklearn.preprocessing import StandardScaler\\nimport seaborn as sns\\nfrom sklearn import metrics'); }\n",
       "    "
      ],
      "text/plain": [
       "<IPython.core.display.Javascript object>"
      ]
     },
     "metadata": {},
     "output_type": "display_data"
    },
    {
     "data": {
      "application/javascript": [
       "\n",
       "        if (window._pyforest_update_imports_cell) { window._pyforest_update_imports_cell('from sklearn.preprocessing import OneHotEncoder\\nimport pandas as pd\\nfrom sklearn.model_selection import train_test_split\\nimport xgboost as xgb\\nimport matplotlib.pyplot as plt\\nfrom sklearn.preprocessing import StandardScaler\\nimport seaborn as sns\\nfrom sklearn import metrics'); }\n",
       "    "
      ],
      "text/plain": [
       "<IPython.core.display.Javascript object>"
      ]
     },
     "metadata": {},
     "output_type": "display_data"
    },
    {
     "data": {
      "application/javascript": [
       "\n",
       "        if (window._pyforest_update_imports_cell) { window._pyforest_update_imports_cell('from sklearn.preprocessing import OneHotEncoder\\nimport pandas as pd\\nfrom sklearn.model_selection import train_test_split\\nimport xgboost as xgb\\nimport matplotlib.pyplot as plt\\nfrom sklearn.preprocessing import StandardScaler\\nimport seaborn as sns\\nfrom sklearn import metrics'); }\n",
       "    "
      ],
      "text/plain": [
       "<IPython.core.display.Javascript object>"
      ]
     },
     "metadata": {},
     "output_type": "display_data"
    },
    {
     "data": {
      "application/javascript": [
       "\n",
       "        if (window._pyforest_update_imports_cell) { window._pyforest_update_imports_cell('from sklearn.preprocessing import OneHotEncoder\\nimport pandas as pd\\nfrom sklearn.model_selection import train_test_split\\nimport xgboost as xgb\\nimport matplotlib.pyplot as plt\\nfrom sklearn.preprocessing import StandardScaler\\nimport seaborn as sns\\nfrom sklearn import metrics'); }\n",
       "    "
      ],
      "text/plain": [
       "<IPython.core.display.Javascript object>"
      ]
     },
     "metadata": {},
     "output_type": "display_data"
    },
    {
     "data": {
      "application/javascript": [
       "\n",
       "        if (window._pyforest_update_imports_cell) { window._pyforest_update_imports_cell('from sklearn.preprocessing import OneHotEncoder\\nimport pandas as pd\\nfrom sklearn.model_selection import train_test_split\\nimport xgboost as xgb\\nimport matplotlib.pyplot as plt\\nfrom sklearn.preprocessing import StandardScaler\\nimport seaborn as sns\\nfrom sklearn import metrics'); }\n",
       "    "
      ],
      "text/plain": [
       "<IPython.core.display.Javascript object>"
      ]
     },
     "metadata": {},
     "output_type": "display_data"
    },
    {
     "data": {
      "application/javascript": [
       "\n",
       "        if (window._pyforest_update_imports_cell) { window._pyforest_update_imports_cell('from sklearn.preprocessing import OneHotEncoder\\nimport pandas as pd\\nfrom sklearn.model_selection import train_test_split\\nimport xgboost as xgb\\nimport matplotlib.pyplot as plt\\nfrom sklearn.preprocessing import StandardScaler\\nimport seaborn as sns\\nfrom sklearn import metrics'); }\n",
       "    "
      ],
      "text/plain": [
       "<IPython.core.display.Javascript object>"
      ]
     },
     "metadata": {},
     "output_type": "display_data"
    },
    {
     "data": {
      "application/javascript": [
       "\n",
       "        if (window._pyforest_update_imports_cell) { window._pyforest_update_imports_cell('from sklearn.preprocessing import OneHotEncoder\\nimport pandas as pd\\nfrom sklearn.model_selection import train_test_split\\nimport xgboost as xgb\\nimport matplotlib.pyplot as plt\\nfrom sklearn.preprocessing import StandardScaler\\nimport seaborn as sns\\nfrom sklearn import metrics'); }\n",
       "    "
      ],
      "text/plain": [
       "<IPython.core.display.Javascript object>"
      ]
     },
     "metadata": {},
     "output_type": "display_data"
    },
    {
     "data": {
      "application/javascript": [
       "\n",
       "        if (window._pyforest_update_imports_cell) { window._pyforest_update_imports_cell('from sklearn.preprocessing import OneHotEncoder\\nimport pandas as pd\\nfrom sklearn.model_selection import train_test_split\\nimport xgboost as xgb\\nimport matplotlib.pyplot as plt\\nfrom sklearn.preprocessing import StandardScaler\\nimport seaborn as sns\\nfrom sklearn import metrics'); }\n",
       "    "
      ],
      "text/plain": [
       "<IPython.core.display.Javascript object>"
      ]
     },
     "metadata": {},
     "output_type": "display_data"
    },
    {
     "data": {
      "application/javascript": [
       "\n",
       "        if (window._pyforest_update_imports_cell) { window._pyforest_update_imports_cell('from sklearn.preprocessing import OneHotEncoder\\nimport pandas as pd\\nfrom sklearn.model_selection import train_test_split\\nimport xgboost as xgb\\nimport matplotlib.pyplot as plt\\nfrom sklearn.preprocessing import StandardScaler\\nimport seaborn as sns\\nfrom sklearn import metrics'); }\n",
       "    "
      ],
      "text/plain": [
       "<IPython.core.display.Javascript object>"
      ]
     },
     "metadata": {},
     "output_type": "display_data"
    },
    {
     "data": {
      "application/javascript": [
       "\n",
       "        if (window._pyforest_update_imports_cell) { window._pyforest_update_imports_cell('from sklearn.preprocessing import OneHotEncoder\\nimport pandas as pd\\nfrom sklearn.model_selection import train_test_split\\nimport xgboost as xgb\\nimport matplotlib.pyplot as plt\\nfrom sklearn.preprocessing import StandardScaler\\nimport seaborn as sns\\nfrom sklearn import metrics'); }\n",
       "    "
      ],
      "text/plain": [
       "<IPython.core.display.Javascript object>"
      ]
     },
     "metadata": {},
     "output_type": "display_data"
    },
    {
     "data": {
      "application/javascript": [
       "\n",
       "        if (window._pyforest_update_imports_cell) { window._pyforest_update_imports_cell('from sklearn.preprocessing import OneHotEncoder\\nimport pandas as pd\\nfrom sklearn.model_selection import train_test_split\\nimport xgboost as xgb\\nimport matplotlib.pyplot as plt\\nfrom sklearn.preprocessing import StandardScaler\\nimport seaborn as sns\\nfrom sklearn import metrics'); }\n",
       "    "
      ],
      "text/plain": [
       "<IPython.core.display.Javascript object>"
      ]
     },
     "metadata": {},
     "output_type": "display_data"
    },
    {
     "data": {
      "application/javascript": [
       "\n",
       "        if (window._pyforest_update_imports_cell) { window._pyforest_update_imports_cell('from sklearn.preprocessing import OneHotEncoder\\nimport pandas as pd\\nfrom sklearn.model_selection import train_test_split\\nimport xgboost as xgb\\nimport matplotlib.pyplot as plt\\nfrom sklearn.preprocessing import StandardScaler\\nimport seaborn as sns\\nfrom sklearn import metrics'); }\n",
       "    "
      ],
      "text/plain": [
       "<IPython.core.display.Javascript object>"
      ]
     },
     "metadata": {},
     "output_type": "display_data"
    },
    {
     "data": {
      "application/javascript": [
       "\n",
       "        if (window._pyforest_update_imports_cell) { window._pyforest_update_imports_cell('from sklearn.preprocessing import OneHotEncoder\\nimport pandas as pd\\nfrom sklearn.model_selection import train_test_split\\nimport xgboost as xgb\\nimport matplotlib.pyplot as plt\\nfrom sklearn.preprocessing import StandardScaler\\nimport seaborn as sns\\nfrom sklearn import metrics'); }\n",
       "    "
      ],
      "text/plain": [
       "<IPython.core.display.Javascript object>"
      ]
     },
     "metadata": {},
     "output_type": "display_data"
    },
    {
     "data": {
      "application/javascript": [
       "\n",
       "        if (window._pyforest_update_imports_cell) { window._pyforest_update_imports_cell('from sklearn.preprocessing import OneHotEncoder\\nimport pandas as pd\\nfrom sklearn.model_selection import train_test_split\\nimport xgboost as xgb\\nimport matplotlib.pyplot as plt\\nfrom sklearn.preprocessing import StandardScaler\\nimport seaborn as sns\\nfrom sklearn import metrics'); }\n",
       "    "
      ],
      "text/plain": [
       "<IPython.core.display.Javascript object>"
      ]
     },
     "metadata": {},
     "output_type": "display_data"
    },
    {
     "data": {
      "application/javascript": [
       "\n",
       "        if (window._pyforest_update_imports_cell) { window._pyforest_update_imports_cell('from sklearn.preprocessing import OneHotEncoder\\nimport pandas as pd\\nfrom sklearn.model_selection import train_test_split\\nimport xgboost as xgb\\nimport matplotlib.pyplot as plt\\nfrom sklearn.preprocessing import StandardScaler\\nimport seaborn as sns\\nfrom sklearn import metrics'); }\n",
       "    "
      ],
      "text/plain": [
       "<IPython.core.display.Javascript object>"
      ]
     },
     "metadata": {},
     "output_type": "display_data"
    },
    {
     "data": {
      "application/javascript": [
       "\n",
       "        if (window._pyforest_update_imports_cell) { window._pyforest_update_imports_cell('from sklearn.preprocessing import OneHotEncoder\\nimport pandas as pd\\nfrom sklearn.model_selection import train_test_split\\nimport xgboost as xgb\\nimport matplotlib.pyplot as plt\\nfrom sklearn.preprocessing import StandardScaler\\nimport seaborn as sns\\nfrom sklearn import metrics'); }\n",
       "    "
      ],
      "text/plain": [
       "<IPython.core.display.Javascript object>"
      ]
     },
     "metadata": {},
     "output_type": "display_data"
    },
    {
     "data": {
      "application/javascript": [
       "\n",
       "        if (window._pyforest_update_imports_cell) { window._pyforest_update_imports_cell('from sklearn.preprocessing import OneHotEncoder\\nimport pandas as pd\\nfrom sklearn.model_selection import train_test_split\\nimport xgboost as xgb\\nimport matplotlib.pyplot as plt\\nfrom sklearn.preprocessing import StandardScaler\\nimport seaborn as sns\\nfrom sklearn import metrics'); }\n",
       "    "
      ],
      "text/plain": [
       "<IPython.core.display.Javascript object>"
      ]
     },
     "metadata": {},
     "output_type": "display_data"
    },
    {
     "data": {
      "application/javascript": [
       "\n",
       "        if (window._pyforest_update_imports_cell) { window._pyforest_update_imports_cell('from sklearn.preprocessing import OneHotEncoder\\nimport pandas as pd\\nfrom sklearn.model_selection import train_test_split\\nimport xgboost as xgb\\nimport matplotlib.pyplot as plt\\nfrom sklearn.preprocessing import StandardScaler\\nimport seaborn as sns\\nfrom sklearn import metrics'); }\n",
       "    "
      ],
      "text/plain": [
       "<IPython.core.display.Javascript object>"
      ]
     },
     "metadata": {},
     "output_type": "display_data"
    },
    {
     "data": {
      "application/javascript": [
       "\n",
       "        if (window._pyforest_update_imports_cell) { window._pyforest_update_imports_cell('from sklearn.preprocessing import OneHotEncoder\\nimport pandas as pd\\nfrom sklearn.model_selection import train_test_split\\nimport xgboost as xgb\\nimport matplotlib.pyplot as plt\\nfrom sklearn.preprocessing import StandardScaler\\nimport seaborn as sns\\nfrom sklearn import metrics'); }\n",
       "    "
      ],
      "text/plain": [
       "<IPython.core.display.Javascript object>"
      ]
     },
     "metadata": {},
     "output_type": "display_data"
    },
    {
     "data": {
      "application/javascript": [
       "\n",
       "        if (window._pyforest_update_imports_cell) { window._pyforest_update_imports_cell('from sklearn.preprocessing import OneHotEncoder\\nimport pandas as pd\\nfrom sklearn.model_selection import train_test_split\\nimport xgboost as xgb\\nimport matplotlib.pyplot as plt\\nfrom sklearn.preprocessing import StandardScaler\\nimport seaborn as sns\\nfrom sklearn import metrics'); }\n",
       "    "
      ],
      "text/plain": [
       "<IPython.core.display.Javascript object>"
      ]
     },
     "metadata": {},
     "output_type": "display_data"
    },
    {
     "data": {
      "application/javascript": [
       "\n",
       "        if (window._pyforest_update_imports_cell) { window._pyforest_update_imports_cell('from sklearn.preprocessing import OneHotEncoder\\nimport pandas as pd\\nfrom sklearn.model_selection import train_test_split\\nimport xgboost as xgb\\nimport matplotlib.pyplot as plt\\nfrom sklearn.preprocessing import StandardScaler\\nimport seaborn as sns\\nfrom sklearn import metrics'); }\n",
       "    "
      ],
      "text/plain": [
       "<IPython.core.display.Javascript object>"
      ]
     },
     "metadata": {},
     "output_type": "display_data"
    },
    {
     "data": {
      "application/javascript": [
       "\n",
       "        if (window._pyforest_update_imports_cell) { window._pyforest_update_imports_cell('from sklearn.preprocessing import OneHotEncoder\\nimport pandas as pd\\nfrom sklearn.model_selection import train_test_split\\nimport xgboost as xgb\\nimport matplotlib.pyplot as plt\\nfrom sklearn.preprocessing import StandardScaler\\nimport seaborn as sns\\nfrom sklearn import metrics'); }\n",
       "    "
      ],
      "text/plain": [
       "<IPython.core.display.Javascript object>"
      ]
     },
     "metadata": {},
     "output_type": "display_data"
    },
    {
     "data": {
      "application/javascript": [
       "\n",
       "        if (window._pyforest_update_imports_cell) { window._pyforest_update_imports_cell('from sklearn.preprocessing import OneHotEncoder\\nimport pandas as pd\\nfrom sklearn.model_selection import train_test_split\\nimport xgboost as xgb\\nimport matplotlib.pyplot as plt\\nfrom sklearn.preprocessing import StandardScaler\\nimport seaborn as sns\\nfrom sklearn import metrics'); }\n",
       "    "
      ],
      "text/plain": [
       "<IPython.core.display.Javascript object>"
      ]
     },
     "metadata": {},
     "output_type": "display_data"
    },
    {
     "data": {
      "application/javascript": [
       "\n",
       "        if (window._pyforest_update_imports_cell) { window._pyforest_update_imports_cell('from sklearn.preprocessing import OneHotEncoder\\nimport pandas as pd\\nfrom sklearn.model_selection import train_test_split\\nimport xgboost as xgb\\nimport matplotlib.pyplot as plt\\nfrom sklearn.preprocessing import StandardScaler\\nimport seaborn as sns\\nfrom sklearn import metrics'); }\n",
       "    "
      ],
      "text/plain": [
       "<IPython.core.display.Javascript object>"
      ]
     },
     "metadata": {},
     "output_type": "display_data"
    },
    {
     "data": {
      "application/javascript": [
       "\n",
       "        if (window._pyforest_update_imports_cell) { window._pyforest_update_imports_cell('from sklearn.preprocessing import OneHotEncoder\\nimport pandas as pd\\nfrom sklearn.model_selection import train_test_split\\nimport xgboost as xgb\\nimport matplotlib.pyplot as plt\\nfrom sklearn.preprocessing import StandardScaler\\nimport seaborn as sns\\nfrom sklearn import metrics'); }\n",
       "    "
      ],
      "text/plain": [
       "<IPython.core.display.Javascript object>"
      ]
     },
     "metadata": {},
     "output_type": "display_data"
    },
    {
     "data": {
      "application/javascript": [
       "\n",
       "        if (window._pyforest_update_imports_cell) { window._pyforest_update_imports_cell('from sklearn.preprocessing import OneHotEncoder\\nimport pandas as pd\\nfrom sklearn.model_selection import train_test_split\\nimport xgboost as xgb\\nimport matplotlib.pyplot as plt\\nfrom sklearn.preprocessing import StandardScaler\\nimport seaborn as sns\\nfrom sklearn import metrics'); }\n",
       "    "
      ],
      "text/plain": [
       "<IPython.core.display.Javascript object>"
      ]
     },
     "metadata": {},
     "output_type": "display_data"
    },
    {
     "data": {
      "application/javascript": [
       "\n",
       "        if (window._pyforest_update_imports_cell) { window._pyforest_update_imports_cell('from sklearn.preprocessing import OneHotEncoder\\nimport pandas as pd\\nfrom sklearn.model_selection import train_test_split\\nimport xgboost as xgb\\nimport matplotlib.pyplot as plt\\nfrom sklearn.preprocessing import StandardScaler\\nimport seaborn as sns\\nfrom sklearn import metrics'); }\n",
       "    "
      ],
      "text/plain": [
       "<IPython.core.display.Javascript object>"
      ]
     },
     "metadata": {},
     "output_type": "display_data"
    },
    {
     "data": {
      "application/javascript": [
       "\n",
       "        if (window._pyforest_update_imports_cell) { window._pyforest_update_imports_cell('from sklearn.preprocessing import OneHotEncoder\\nimport pandas as pd\\nfrom sklearn.model_selection import train_test_split\\nimport xgboost as xgb\\nimport matplotlib.pyplot as plt\\nfrom sklearn.preprocessing import StandardScaler\\nimport seaborn as sns\\nfrom sklearn import metrics'); }\n",
       "    "
      ],
      "text/plain": [
       "<IPython.core.display.Javascript object>"
      ]
     },
     "metadata": {},
     "output_type": "display_data"
    },
    {
     "data": {
      "application/javascript": [
       "\n",
       "        if (window._pyforest_update_imports_cell) { window._pyforest_update_imports_cell('from sklearn.preprocessing import OneHotEncoder\\nimport pandas as pd\\nfrom sklearn.model_selection import train_test_split\\nimport xgboost as xgb\\nimport matplotlib.pyplot as plt\\nfrom sklearn.preprocessing import StandardScaler\\nimport seaborn as sns\\nfrom sklearn import metrics'); }\n",
       "    "
      ],
      "text/plain": [
       "<IPython.core.display.Javascript object>"
      ]
     },
     "metadata": {},
     "output_type": "display_data"
    },
    {
     "data": {
      "application/javascript": [
       "\n",
       "        if (window._pyforest_update_imports_cell) { window._pyforest_update_imports_cell('from sklearn.preprocessing import OneHotEncoder\\nimport pandas as pd\\nfrom sklearn.model_selection import train_test_split\\nimport xgboost as xgb\\nimport matplotlib.pyplot as plt\\nfrom sklearn.preprocessing import StandardScaler\\nimport seaborn as sns\\nfrom sklearn import metrics'); }\n",
       "    "
      ],
      "text/plain": [
       "<IPython.core.display.Javascript object>"
      ]
     },
     "metadata": {},
     "output_type": "display_data"
    },
    {
     "data": {
      "application/javascript": [
       "\n",
       "        if (window._pyforest_update_imports_cell) { window._pyforest_update_imports_cell('from sklearn.preprocessing import OneHotEncoder\\nimport pandas as pd\\nfrom sklearn.model_selection import train_test_split\\nimport xgboost as xgb\\nimport matplotlib.pyplot as plt\\nfrom sklearn.preprocessing import StandardScaler\\nimport seaborn as sns\\nfrom sklearn import metrics'); }\n",
       "    "
      ],
      "text/plain": [
       "<IPython.core.display.Javascript object>"
      ]
     },
     "metadata": {},
     "output_type": "display_data"
    },
    {
     "data": {
      "application/javascript": [
       "\n",
       "        if (window._pyforest_update_imports_cell) { window._pyforest_update_imports_cell('from sklearn.preprocessing import OneHotEncoder\\nimport pandas as pd\\nfrom sklearn.model_selection import train_test_split\\nimport xgboost as xgb\\nimport matplotlib.pyplot as plt\\nfrom sklearn.preprocessing import StandardScaler\\nimport seaborn as sns\\nfrom sklearn import metrics'); }\n",
       "    "
      ],
      "text/plain": [
       "<IPython.core.display.Javascript object>"
      ]
     },
     "metadata": {},
     "output_type": "display_data"
    },
    {
     "data": {
      "application/javascript": [
       "\n",
       "        if (window._pyforest_update_imports_cell) { window._pyforest_update_imports_cell('from sklearn.preprocessing import OneHotEncoder\\nimport pandas as pd\\nfrom sklearn.model_selection import train_test_split\\nimport xgboost as xgb\\nimport matplotlib.pyplot as plt\\nfrom sklearn.preprocessing import StandardScaler\\nimport seaborn as sns\\nfrom sklearn import metrics'); }\n",
       "    "
      ],
      "text/plain": [
       "<IPython.core.display.Javascript object>"
      ]
     },
     "metadata": {},
     "output_type": "display_data"
    },
    {
     "data": {
      "application/javascript": [
       "\n",
       "        if (window._pyforest_update_imports_cell) { window._pyforest_update_imports_cell('from sklearn.preprocessing import OneHotEncoder\\nimport pandas as pd\\nfrom sklearn.model_selection import train_test_split\\nimport xgboost as xgb\\nimport matplotlib.pyplot as plt\\nfrom sklearn.preprocessing import StandardScaler\\nimport seaborn as sns\\nfrom sklearn import metrics'); }\n",
       "    "
      ],
      "text/plain": [
       "<IPython.core.display.Javascript object>"
      ]
     },
     "metadata": {},
     "output_type": "display_data"
    },
    {
     "data": {
      "application/javascript": [
       "\n",
       "        if (window._pyforest_update_imports_cell) { window._pyforest_update_imports_cell('from sklearn.preprocessing import OneHotEncoder\\nimport pandas as pd\\nfrom sklearn.model_selection import train_test_split\\nimport xgboost as xgb\\nimport matplotlib.pyplot as plt\\nfrom sklearn.preprocessing import StandardScaler\\nimport seaborn as sns\\nfrom sklearn import metrics'); }\n",
       "    "
      ],
      "text/plain": [
       "<IPython.core.display.Javascript object>"
      ]
     },
     "metadata": {},
     "output_type": "display_data"
    },
    {
     "data": {
      "application/javascript": [
       "\n",
       "        if (window._pyforest_update_imports_cell) { window._pyforest_update_imports_cell('from sklearn.preprocessing import OneHotEncoder\\nimport pandas as pd\\nfrom sklearn.model_selection import train_test_split\\nimport xgboost as xgb\\nimport matplotlib.pyplot as plt\\nfrom sklearn.preprocessing import StandardScaler\\nimport seaborn as sns\\nfrom sklearn import metrics'); }\n",
       "    "
      ],
      "text/plain": [
       "<IPython.core.display.Javascript object>"
      ]
     },
     "metadata": {},
     "output_type": "display_data"
    },
    {
     "data": {
      "application/javascript": [
       "\n",
       "        if (window._pyforest_update_imports_cell) { window._pyforest_update_imports_cell('from sklearn.preprocessing import OneHotEncoder\\nimport pandas as pd\\nfrom sklearn.model_selection import train_test_split\\nimport xgboost as xgb\\nimport matplotlib.pyplot as plt\\nfrom sklearn.preprocessing import StandardScaler\\nimport seaborn as sns\\nfrom sklearn import metrics'); }\n",
       "    "
      ],
      "text/plain": [
       "<IPython.core.display.Javascript object>"
      ]
     },
     "metadata": {},
     "output_type": "display_data"
    },
    {
     "data": {
      "application/javascript": [
       "\n",
       "        if (window._pyforest_update_imports_cell) { window._pyforest_update_imports_cell('from sklearn.preprocessing import OneHotEncoder\\nimport pandas as pd\\nfrom sklearn.model_selection import train_test_split\\nimport xgboost as xgb\\nimport matplotlib.pyplot as plt\\nfrom sklearn.preprocessing import StandardScaler\\nimport seaborn as sns\\nfrom sklearn import metrics'); }\n",
       "    "
      ],
      "text/plain": [
       "<IPython.core.display.Javascript object>"
      ]
     },
     "metadata": {},
     "output_type": "display_data"
    },
    {
     "data": {
      "application/javascript": [
       "\n",
       "        if (window._pyforest_update_imports_cell) { window._pyforest_update_imports_cell('from sklearn.preprocessing import OneHotEncoder\\nimport pandas as pd\\nfrom sklearn.model_selection import train_test_split\\nimport xgboost as xgb\\nimport matplotlib.pyplot as plt\\nfrom sklearn.preprocessing import StandardScaler\\nimport seaborn as sns\\nfrom sklearn import metrics'); }\n",
       "    "
      ],
      "text/plain": [
       "<IPython.core.display.Javascript object>"
      ]
     },
     "metadata": {},
     "output_type": "display_data"
    },
    {
     "data": {
      "application/javascript": [
       "\n",
       "        if (window._pyforest_update_imports_cell) { window._pyforest_update_imports_cell('from sklearn.preprocessing import OneHotEncoder\\nimport pandas as pd\\nfrom sklearn.model_selection import train_test_split\\nimport xgboost as xgb\\nimport matplotlib.pyplot as plt\\nfrom sklearn.preprocessing import StandardScaler\\nimport seaborn as sns\\nfrom sklearn import metrics'); }\n",
       "    "
      ],
      "text/plain": [
       "<IPython.core.display.Javascript object>"
      ]
     },
     "metadata": {},
     "output_type": "display_data"
    },
    {
     "data": {
      "application/javascript": [
       "\n",
       "        if (window._pyforest_update_imports_cell) { window._pyforest_update_imports_cell('from sklearn.preprocessing import OneHotEncoder\\nimport pandas as pd\\nfrom sklearn.model_selection import train_test_split\\nimport xgboost as xgb\\nimport matplotlib.pyplot as plt\\nfrom sklearn.preprocessing import StandardScaler\\nimport seaborn as sns\\nfrom sklearn import metrics'); }\n",
       "    "
      ],
      "text/plain": [
       "<IPython.core.display.Javascript object>"
      ]
     },
     "metadata": {},
     "output_type": "display_data"
    },
    {
     "data": {
      "application/javascript": [
       "\n",
       "        if (window._pyforest_update_imports_cell) { window._pyforest_update_imports_cell('from sklearn.preprocessing import OneHotEncoder\\nimport pandas as pd\\nfrom sklearn.model_selection import train_test_split\\nimport xgboost as xgb\\nimport matplotlib.pyplot as plt\\nfrom sklearn.preprocessing import StandardScaler\\nimport seaborn as sns\\nfrom sklearn import metrics'); }\n",
       "    "
      ],
      "text/plain": [
       "<IPython.core.display.Javascript object>"
      ]
     },
     "metadata": {},
     "output_type": "display_data"
    },
    {
     "data": {
      "application/javascript": [
       "\n",
       "        if (window._pyforest_update_imports_cell) { window._pyforest_update_imports_cell('from sklearn.preprocessing import OneHotEncoder\\nimport pandas as pd\\nfrom sklearn.model_selection import train_test_split\\nimport xgboost as xgb\\nimport matplotlib.pyplot as plt\\nfrom sklearn.preprocessing import StandardScaler\\nimport seaborn as sns\\nfrom sklearn import metrics'); }\n",
       "    "
      ],
      "text/plain": [
       "<IPython.core.display.Javascript object>"
      ]
     },
     "metadata": {},
     "output_type": "display_data"
    },
    {
     "data": {
      "application/javascript": [
       "\n",
       "        if (window._pyforest_update_imports_cell) { window._pyforest_update_imports_cell('from sklearn.preprocessing import OneHotEncoder\\nimport pandas as pd\\nfrom sklearn.model_selection import train_test_split\\nimport xgboost as xgb\\nimport matplotlib.pyplot as plt\\nfrom sklearn.preprocessing import StandardScaler\\nimport seaborn as sns\\nfrom sklearn import metrics'); }\n",
       "    "
      ],
      "text/plain": [
       "<IPython.core.display.Javascript object>"
      ]
     },
     "metadata": {},
     "output_type": "display_data"
    },
    {
     "data": {
      "application/javascript": [
       "\n",
       "        if (window._pyforest_update_imports_cell) { window._pyforest_update_imports_cell('from sklearn.preprocessing import OneHotEncoder\\nimport pandas as pd\\nfrom sklearn.model_selection import train_test_split\\nimport xgboost as xgb\\nimport matplotlib.pyplot as plt\\nfrom sklearn.preprocessing import StandardScaler\\nimport seaborn as sns\\nfrom sklearn import metrics'); }\n",
       "    "
      ],
      "text/plain": [
       "<IPython.core.display.Javascript object>"
      ]
     },
     "metadata": {},
     "output_type": "display_data"
    },
    {
     "data": {
      "application/javascript": [
       "\n",
       "        if (window._pyforest_update_imports_cell) { window._pyforest_update_imports_cell('from sklearn.preprocessing import OneHotEncoder\\nimport pandas as pd\\nfrom sklearn.model_selection import train_test_split\\nimport xgboost as xgb\\nimport matplotlib.pyplot as plt\\nfrom sklearn.preprocessing import StandardScaler\\nimport seaborn as sns\\nfrom sklearn import metrics'); }\n",
       "    "
      ],
      "text/plain": [
       "<IPython.core.display.Javascript object>"
      ]
     },
     "metadata": {},
     "output_type": "display_data"
    },
    {
     "data": {
      "application/javascript": [
       "\n",
       "        if (window._pyforest_update_imports_cell) { window._pyforest_update_imports_cell('from sklearn.preprocessing import OneHotEncoder\\nimport pandas as pd\\nfrom sklearn.model_selection import train_test_split\\nimport xgboost as xgb\\nimport matplotlib.pyplot as plt\\nfrom sklearn.preprocessing import StandardScaler\\nimport seaborn as sns\\nfrom sklearn import metrics'); }\n",
       "    "
      ],
      "text/plain": [
       "<IPython.core.display.Javascript object>"
      ]
     },
     "metadata": {},
     "output_type": "display_data"
    },
    {
     "data": {
      "application/javascript": [
       "\n",
       "        if (window._pyforest_update_imports_cell) { window._pyforest_update_imports_cell('from sklearn.preprocessing import OneHotEncoder\\nimport pandas as pd\\nfrom sklearn.model_selection import train_test_split\\nimport xgboost as xgb\\nimport matplotlib.pyplot as plt\\nfrom sklearn.preprocessing import StandardScaler\\nimport seaborn as sns\\nfrom sklearn import metrics'); }\n",
       "    "
      ],
      "text/plain": [
       "<IPython.core.display.Javascript object>"
      ]
     },
     "metadata": {},
     "output_type": "display_data"
    },
    {
     "data": {
      "application/javascript": [
       "\n",
       "        if (window._pyforest_update_imports_cell) { window._pyforest_update_imports_cell('from sklearn.preprocessing import OneHotEncoder\\nimport pandas as pd\\nfrom sklearn.model_selection import train_test_split\\nimport xgboost as xgb\\nimport matplotlib.pyplot as plt\\nfrom sklearn.preprocessing import StandardScaler\\nimport seaborn as sns\\nfrom sklearn import metrics'); }\n",
       "    "
      ],
      "text/plain": [
       "<IPython.core.display.Javascript object>"
      ]
     },
     "metadata": {},
     "output_type": "display_data"
    },
    {
     "data": {
      "application/javascript": [
       "\n",
       "        if (window._pyforest_update_imports_cell) { window._pyforest_update_imports_cell('from sklearn.preprocessing import OneHotEncoder\\nimport pandas as pd\\nfrom sklearn.model_selection import train_test_split\\nimport xgboost as xgb\\nimport matplotlib.pyplot as plt\\nfrom sklearn.preprocessing import StandardScaler\\nimport seaborn as sns\\nfrom sklearn import metrics'); }\n",
       "    "
      ],
      "text/plain": [
       "<IPython.core.display.Javascript object>"
      ]
     },
     "metadata": {},
     "output_type": "display_data"
    },
    {
     "data": {
      "application/javascript": [
       "\n",
       "        if (window._pyforest_update_imports_cell) { window._pyforest_update_imports_cell('from sklearn.preprocessing import OneHotEncoder\\nimport pandas as pd\\nfrom sklearn.model_selection import train_test_split\\nimport xgboost as xgb\\nimport matplotlib.pyplot as plt\\nfrom sklearn.preprocessing import StandardScaler\\nimport seaborn as sns\\nfrom sklearn import metrics'); }\n",
       "    "
      ],
      "text/plain": [
       "<IPython.core.display.Javascript object>"
      ]
     },
     "metadata": {},
     "output_type": "display_data"
    },
    {
     "data": {
      "application/javascript": [
       "\n",
       "        if (window._pyforest_update_imports_cell) { window._pyforest_update_imports_cell('from sklearn.preprocessing import OneHotEncoder\\nimport pandas as pd\\nfrom sklearn.model_selection import train_test_split\\nimport xgboost as xgb\\nimport matplotlib.pyplot as plt\\nfrom sklearn.preprocessing import StandardScaler\\nimport seaborn as sns\\nfrom sklearn import metrics'); }\n",
       "    "
      ],
      "text/plain": [
       "<IPython.core.display.Javascript object>"
      ]
     },
     "metadata": {},
     "output_type": "display_data"
    },
    {
     "data": {
      "application/javascript": [
       "\n",
       "        if (window._pyforest_update_imports_cell) { window._pyforest_update_imports_cell('from sklearn.preprocessing import OneHotEncoder\\nimport pandas as pd\\nfrom sklearn.model_selection import train_test_split\\nimport xgboost as xgb\\nimport matplotlib.pyplot as plt\\nfrom sklearn.preprocessing import StandardScaler\\nimport seaborn as sns\\nfrom sklearn import metrics'); }\n",
       "    "
      ],
      "text/plain": [
       "<IPython.core.display.Javascript object>"
      ]
     },
     "metadata": {},
     "output_type": "display_data"
    },
    {
     "data": {
      "application/javascript": [
       "\n",
       "        if (window._pyforest_update_imports_cell) { window._pyforest_update_imports_cell('from sklearn.preprocessing import OneHotEncoder\\nimport pandas as pd\\nfrom sklearn.model_selection import train_test_split\\nimport xgboost as xgb\\nimport matplotlib.pyplot as plt\\nfrom sklearn.preprocessing import StandardScaler\\nimport seaborn as sns\\nfrom sklearn import metrics'); }\n",
       "    "
      ],
      "text/plain": [
       "<IPython.core.display.Javascript object>"
      ]
     },
     "metadata": {},
     "output_type": "display_data"
    },
    {
     "data": {
      "application/javascript": [
       "\n",
       "        if (window._pyforest_update_imports_cell) { window._pyforest_update_imports_cell('from sklearn.preprocessing import OneHotEncoder\\nimport pandas as pd\\nfrom sklearn.model_selection import train_test_split\\nimport xgboost as xgb\\nimport matplotlib.pyplot as plt\\nfrom sklearn.preprocessing import StandardScaler\\nimport seaborn as sns\\nfrom sklearn import metrics'); }\n",
       "    "
      ],
      "text/plain": [
       "<IPython.core.display.Javascript object>"
      ]
     },
     "metadata": {},
     "output_type": "display_data"
    },
    {
     "data": {
      "application/javascript": [
       "\n",
       "        if (window._pyforest_update_imports_cell) { window._pyforest_update_imports_cell('from sklearn.preprocessing import OneHotEncoder\\nimport pandas as pd\\nfrom sklearn.model_selection import train_test_split\\nimport xgboost as xgb\\nimport matplotlib.pyplot as plt\\nfrom sklearn.preprocessing import StandardScaler\\nimport seaborn as sns\\nfrom sklearn import metrics'); }\n",
       "    "
      ],
      "text/plain": [
       "<IPython.core.display.Javascript object>"
      ]
     },
     "metadata": {},
     "output_type": "display_data"
    },
    {
     "data": {
      "application/javascript": [
       "\n",
       "        if (window._pyforest_update_imports_cell) { window._pyforest_update_imports_cell('from sklearn.preprocessing import OneHotEncoder\\nimport pandas as pd\\nfrom sklearn.model_selection import train_test_split\\nimport xgboost as xgb\\nimport matplotlib.pyplot as plt\\nfrom sklearn.preprocessing import StandardScaler\\nimport seaborn as sns\\nfrom sklearn import metrics'); }\n",
       "    "
      ],
      "text/plain": [
       "<IPython.core.display.Javascript object>"
      ]
     },
     "metadata": {},
     "output_type": "display_data"
    },
    {
     "data": {
      "application/javascript": [
       "\n",
       "        if (window._pyforest_update_imports_cell) { window._pyforest_update_imports_cell('from sklearn.preprocessing import OneHotEncoder\\nimport pandas as pd\\nfrom sklearn.model_selection import train_test_split\\nimport xgboost as xgb\\nimport matplotlib.pyplot as plt\\nfrom sklearn.preprocessing import StandardScaler\\nimport seaborn as sns\\nfrom sklearn import metrics'); }\n",
       "    "
      ],
      "text/plain": [
       "<IPython.core.display.Javascript object>"
      ]
     },
     "metadata": {},
     "output_type": "display_data"
    },
    {
     "data": {
      "application/javascript": [
       "\n",
       "        if (window._pyforest_update_imports_cell) { window._pyforest_update_imports_cell('from sklearn.preprocessing import OneHotEncoder\\nimport pandas as pd\\nfrom sklearn.model_selection import train_test_split\\nimport xgboost as xgb\\nimport matplotlib.pyplot as plt\\nfrom sklearn.preprocessing import StandardScaler\\nimport seaborn as sns\\nfrom sklearn import metrics'); }\n",
       "    "
      ],
      "text/plain": [
       "<IPython.core.display.Javascript object>"
      ]
     },
     "metadata": {},
     "output_type": "display_data"
    },
    {
     "data": {
      "application/javascript": [
       "\n",
       "        if (window._pyforest_update_imports_cell) { window._pyforest_update_imports_cell('from sklearn.preprocessing import OneHotEncoder\\nimport pandas as pd\\nfrom sklearn.model_selection import train_test_split\\nimport xgboost as xgb\\nimport matplotlib.pyplot as plt\\nfrom sklearn.preprocessing import StandardScaler\\nimport seaborn as sns\\nfrom sklearn import metrics'); }\n",
       "    "
      ],
      "text/plain": [
       "<IPython.core.display.Javascript object>"
      ]
     },
     "metadata": {},
     "output_type": "display_data"
    },
    {
     "data": {
      "application/javascript": [
       "\n",
       "        if (window._pyforest_update_imports_cell) { window._pyforest_update_imports_cell('from sklearn.preprocessing import OneHotEncoder\\nimport pandas as pd\\nfrom sklearn.model_selection import train_test_split\\nimport xgboost as xgb\\nimport matplotlib.pyplot as plt\\nfrom sklearn.preprocessing import StandardScaler\\nimport seaborn as sns\\nfrom sklearn import metrics'); }\n",
       "    "
      ],
      "text/plain": [
       "<IPython.core.display.Javascript object>"
      ]
     },
     "metadata": {},
     "output_type": "display_data"
    },
    {
     "data": {
      "application/javascript": [
       "\n",
       "        if (window._pyforest_update_imports_cell) { window._pyforest_update_imports_cell('from sklearn.preprocessing import OneHotEncoder\\nimport pandas as pd\\nfrom sklearn.model_selection import train_test_split\\nimport xgboost as xgb\\nimport matplotlib.pyplot as plt\\nfrom sklearn.preprocessing import StandardScaler\\nimport seaborn as sns\\nfrom sklearn import metrics'); }\n",
       "    "
      ],
      "text/plain": [
       "<IPython.core.display.Javascript object>"
      ]
     },
     "metadata": {},
     "output_type": "display_data"
    },
    {
     "data": {
      "application/javascript": [
       "\n",
       "        if (window._pyforest_update_imports_cell) { window._pyforest_update_imports_cell('from sklearn.preprocessing import OneHotEncoder\\nimport pandas as pd\\nfrom sklearn.model_selection import train_test_split\\nimport xgboost as xgb\\nimport matplotlib.pyplot as plt\\nfrom sklearn.preprocessing import StandardScaler\\nimport seaborn as sns\\nfrom sklearn import metrics'); }\n",
       "    "
      ],
      "text/plain": [
       "<IPython.core.display.Javascript object>"
      ]
     },
     "metadata": {},
     "output_type": "display_data"
    },
    {
     "data": {
      "application/javascript": [
       "\n",
       "        if (window._pyforest_update_imports_cell) { window._pyforest_update_imports_cell('from sklearn.preprocessing import OneHotEncoder\\nimport pandas as pd\\nfrom sklearn.model_selection import train_test_split\\nimport xgboost as xgb\\nimport matplotlib.pyplot as plt\\nfrom sklearn.preprocessing import StandardScaler\\nimport seaborn as sns\\nfrom sklearn import metrics'); }\n",
       "    "
      ],
      "text/plain": [
       "<IPython.core.display.Javascript object>"
      ]
     },
     "metadata": {},
     "output_type": "display_data"
    },
    {
     "data": {
      "application/javascript": [
       "\n",
       "        if (window._pyforest_update_imports_cell) { window._pyforest_update_imports_cell('from sklearn.preprocessing import OneHotEncoder\\nimport pandas as pd\\nfrom sklearn.model_selection import train_test_split\\nimport xgboost as xgb\\nimport matplotlib.pyplot as plt\\nfrom sklearn.preprocessing import StandardScaler\\nimport seaborn as sns\\nfrom sklearn import metrics'); }\n",
       "    "
      ],
      "text/plain": [
       "<IPython.core.display.Javascript object>"
      ]
     },
     "metadata": {},
     "output_type": "display_data"
    },
    {
     "data": {
      "application/javascript": [
       "\n",
       "        if (window._pyforest_update_imports_cell) { window._pyforest_update_imports_cell('from sklearn.preprocessing import OneHotEncoder\\nimport pandas as pd\\nfrom sklearn.model_selection import train_test_split\\nimport xgboost as xgb\\nimport matplotlib.pyplot as plt\\nfrom sklearn.preprocessing import StandardScaler\\nimport seaborn as sns\\nfrom sklearn import metrics'); }\n",
       "    "
      ],
      "text/plain": [
       "<IPython.core.display.Javascript object>"
      ]
     },
     "metadata": {},
     "output_type": "display_data"
    },
    {
     "data": {
      "application/javascript": [
       "\n",
       "        if (window._pyforest_update_imports_cell) { window._pyforest_update_imports_cell('from sklearn.preprocessing import OneHotEncoder\\nimport pandas as pd\\nfrom sklearn.model_selection import train_test_split\\nimport xgboost as xgb\\nimport matplotlib.pyplot as plt\\nfrom sklearn.preprocessing import StandardScaler\\nimport seaborn as sns\\nfrom sklearn import metrics'); }\n",
       "    "
      ],
      "text/plain": [
       "<IPython.core.display.Javascript object>"
      ]
     },
     "metadata": {},
     "output_type": "display_data"
    },
    {
     "data": {
      "application/javascript": [
       "\n",
       "        if (window._pyforest_update_imports_cell) { window._pyforest_update_imports_cell('from sklearn.preprocessing import OneHotEncoder\\nimport pandas as pd\\nfrom sklearn.model_selection import train_test_split\\nimport xgboost as xgb\\nimport matplotlib.pyplot as plt\\nfrom sklearn.preprocessing import StandardScaler\\nimport seaborn as sns\\nfrom sklearn import metrics'); }\n",
       "    "
      ],
      "text/plain": [
       "<IPython.core.display.Javascript object>"
      ]
     },
     "metadata": {},
     "output_type": "display_data"
    },
    {
     "data": {
      "application/javascript": [
       "\n",
       "        if (window._pyforest_update_imports_cell) { window._pyforest_update_imports_cell('from sklearn.preprocessing import OneHotEncoder\\nimport pandas as pd\\nfrom sklearn.model_selection import train_test_split\\nimport xgboost as xgb\\nimport matplotlib.pyplot as plt\\nfrom sklearn.preprocessing import StandardScaler\\nimport seaborn as sns\\nfrom sklearn import metrics'); }\n",
       "    "
      ],
      "text/plain": [
       "<IPython.core.display.Javascript object>"
      ]
     },
     "metadata": {},
     "output_type": "display_data"
    },
    {
     "data": {
      "application/javascript": [
       "\n",
       "        if (window._pyforest_update_imports_cell) { window._pyforest_update_imports_cell('from sklearn.preprocessing import OneHotEncoder\\nimport pandas as pd\\nfrom sklearn.model_selection import train_test_split\\nimport xgboost as xgb\\nimport matplotlib.pyplot as plt\\nfrom sklearn.preprocessing import StandardScaler\\nimport seaborn as sns\\nfrom sklearn import metrics'); }\n",
       "    "
      ],
      "text/plain": [
       "<IPython.core.display.Javascript object>"
      ]
     },
     "metadata": {},
     "output_type": "display_data"
    },
    {
     "data": {
      "application/javascript": [
       "\n",
       "        if (window._pyforest_update_imports_cell) { window._pyforest_update_imports_cell('from sklearn.preprocessing import OneHotEncoder\\nimport pandas as pd\\nfrom sklearn.model_selection import train_test_split\\nimport xgboost as xgb\\nimport matplotlib.pyplot as plt\\nfrom sklearn.preprocessing import StandardScaler\\nimport seaborn as sns\\nfrom sklearn import metrics'); }\n",
       "    "
      ],
      "text/plain": [
       "<IPython.core.display.Javascript object>"
      ]
     },
     "metadata": {},
     "output_type": "display_data"
    },
    {
     "data": {
      "application/javascript": [
       "\n",
       "        if (window._pyforest_update_imports_cell) { window._pyforest_update_imports_cell('from sklearn.preprocessing import OneHotEncoder\\nimport pandas as pd\\nfrom sklearn.model_selection import train_test_split\\nimport xgboost as xgb\\nimport matplotlib.pyplot as plt\\nfrom sklearn.preprocessing import StandardScaler\\nimport seaborn as sns\\nfrom sklearn import metrics'); }\n",
       "    "
      ],
      "text/plain": [
       "<IPython.core.display.Javascript object>"
      ]
     },
     "metadata": {},
     "output_type": "display_data"
    },
    {
     "data": {
      "application/javascript": [
       "\n",
       "        if (window._pyforest_update_imports_cell) { window._pyforest_update_imports_cell('from sklearn.preprocessing import OneHotEncoder\\nimport pandas as pd\\nfrom sklearn.model_selection import train_test_split\\nimport xgboost as xgb\\nimport matplotlib.pyplot as plt\\nfrom sklearn.preprocessing import StandardScaler\\nimport seaborn as sns\\nfrom sklearn import metrics'); }\n",
       "    "
      ],
      "text/plain": [
       "<IPython.core.display.Javascript object>"
      ]
     },
     "metadata": {},
     "output_type": "display_data"
    },
    {
     "data": {
      "application/javascript": [
       "\n",
       "        if (window._pyforest_update_imports_cell) { window._pyforest_update_imports_cell('from sklearn.preprocessing import OneHotEncoder\\nimport pandas as pd\\nfrom sklearn.model_selection import train_test_split\\nimport xgboost as xgb\\nimport matplotlib.pyplot as plt\\nfrom sklearn.preprocessing import StandardScaler\\nimport seaborn as sns\\nfrom sklearn import metrics'); }\n",
       "    "
      ],
      "text/plain": [
       "<IPython.core.display.Javascript object>"
      ]
     },
     "metadata": {},
     "output_type": "display_data"
    },
    {
     "data": {
      "application/javascript": [
       "\n",
       "        if (window._pyforest_update_imports_cell) { window._pyforest_update_imports_cell('from sklearn.preprocessing import OneHotEncoder\\nimport pandas as pd\\nfrom sklearn.model_selection import train_test_split\\nimport xgboost as xgb\\nimport matplotlib.pyplot as plt\\nfrom sklearn.preprocessing import StandardScaler\\nimport seaborn as sns\\nfrom sklearn import metrics'); }\n",
       "    "
      ],
      "text/plain": [
       "<IPython.core.display.Javascript object>"
      ]
     },
     "metadata": {},
     "output_type": "display_data"
    },
    {
     "data": {
      "application/javascript": [
       "\n",
       "        if (window._pyforest_update_imports_cell) { window._pyforest_update_imports_cell('from sklearn.preprocessing import OneHotEncoder\\nimport pandas as pd\\nfrom sklearn.model_selection import train_test_split\\nimport xgboost as xgb\\nimport matplotlib.pyplot as plt\\nfrom sklearn.preprocessing import StandardScaler\\nimport seaborn as sns\\nfrom sklearn import metrics'); }\n",
       "    "
      ],
      "text/plain": [
       "<IPython.core.display.Javascript object>"
      ]
     },
     "metadata": {},
     "output_type": "display_data"
    },
    {
     "data": {
      "application/javascript": [
       "\n",
       "        if (window._pyforest_update_imports_cell) { window._pyforest_update_imports_cell('from sklearn.preprocessing import OneHotEncoder\\nimport pandas as pd\\nfrom sklearn.model_selection import train_test_split\\nimport xgboost as xgb\\nimport matplotlib.pyplot as plt\\nfrom sklearn.preprocessing import StandardScaler\\nimport seaborn as sns\\nfrom sklearn import metrics'); }\n",
       "    "
      ],
      "text/plain": [
       "<IPython.core.display.Javascript object>"
      ]
     },
     "metadata": {},
     "output_type": "display_data"
    },
    {
     "data": {
      "application/javascript": [
       "\n",
       "        if (window._pyforest_update_imports_cell) { window._pyforest_update_imports_cell('from sklearn.preprocessing import OneHotEncoder\\nimport pandas as pd\\nfrom sklearn.model_selection import train_test_split\\nimport xgboost as xgb\\nimport matplotlib.pyplot as plt\\nfrom sklearn.preprocessing import StandardScaler\\nimport seaborn as sns\\nfrom sklearn import metrics'); }\n",
       "    "
      ],
      "text/plain": [
       "<IPython.core.display.Javascript object>"
      ]
     },
     "metadata": {},
     "output_type": "display_data"
    },
    {
     "data": {
      "application/javascript": [
       "\n",
       "        if (window._pyforest_update_imports_cell) { window._pyforest_update_imports_cell('from sklearn.preprocessing import OneHotEncoder\\nimport pandas as pd\\nfrom sklearn.model_selection import train_test_split\\nimport xgboost as xgb\\nimport matplotlib.pyplot as plt\\nfrom sklearn.preprocessing import StandardScaler\\nimport seaborn as sns\\nfrom sklearn import metrics'); }\n",
       "    "
      ],
      "text/plain": [
       "<IPython.core.display.Javascript object>"
      ]
     },
     "metadata": {},
     "output_type": "display_data"
    },
    {
     "data": {
      "application/javascript": [
       "\n",
       "        if (window._pyforest_update_imports_cell) { window._pyforest_update_imports_cell('from sklearn.preprocessing import OneHotEncoder\\nimport pandas as pd\\nfrom sklearn.model_selection import train_test_split\\nimport xgboost as xgb\\nimport matplotlib.pyplot as plt\\nfrom sklearn.preprocessing import StandardScaler\\nimport seaborn as sns\\nfrom sklearn import metrics'); }\n",
       "    "
      ],
      "text/plain": [
       "<IPython.core.display.Javascript object>"
      ]
     },
     "metadata": {},
     "output_type": "display_data"
    },
    {
     "data": {
      "application/javascript": [
       "\n",
       "        if (window._pyforest_update_imports_cell) { window._pyforest_update_imports_cell('from sklearn.preprocessing import OneHotEncoder\\nimport pandas as pd\\nfrom sklearn.model_selection import train_test_split\\nimport xgboost as xgb\\nimport matplotlib.pyplot as plt\\nfrom sklearn.preprocessing import StandardScaler\\nimport seaborn as sns\\nfrom sklearn import metrics'); }\n",
       "    "
      ],
      "text/plain": [
       "<IPython.core.display.Javascript object>"
      ]
     },
     "metadata": {},
     "output_type": "display_data"
    },
    {
     "data": {
      "application/javascript": [
       "\n",
       "        if (window._pyforest_update_imports_cell) { window._pyforest_update_imports_cell('from sklearn.preprocessing import OneHotEncoder\\nimport pandas as pd\\nfrom sklearn.model_selection import train_test_split\\nimport xgboost as xgb\\nimport matplotlib.pyplot as plt\\nfrom sklearn.preprocessing import StandardScaler\\nimport seaborn as sns\\nfrom sklearn import metrics'); }\n",
       "    "
      ],
      "text/plain": [
       "<IPython.core.display.Javascript object>"
      ]
     },
     "metadata": {},
     "output_type": "display_data"
    },
    {
     "data": {
      "application/javascript": [
       "\n",
       "        if (window._pyforest_update_imports_cell) { window._pyforest_update_imports_cell('from sklearn.preprocessing import OneHotEncoder\\nimport pandas as pd\\nfrom sklearn.model_selection import train_test_split\\nimport xgboost as xgb\\nimport matplotlib.pyplot as plt\\nfrom sklearn.preprocessing import StandardScaler\\nimport seaborn as sns\\nfrom sklearn import metrics'); }\n",
       "    "
      ],
      "text/plain": [
       "<IPython.core.display.Javascript object>"
      ]
     },
     "metadata": {},
     "output_type": "display_data"
    },
    {
     "data": {
      "application/javascript": [
       "\n",
       "        if (window._pyforest_update_imports_cell) { window._pyforest_update_imports_cell('from sklearn.preprocessing import OneHotEncoder\\nimport pandas as pd\\nfrom sklearn.model_selection import train_test_split\\nimport xgboost as xgb\\nimport matplotlib.pyplot as plt\\nfrom sklearn.preprocessing import StandardScaler\\nimport seaborn as sns\\nfrom sklearn import metrics'); }\n",
       "    "
      ],
      "text/plain": [
       "<IPython.core.display.Javascript object>"
      ]
     },
     "metadata": {},
     "output_type": "display_data"
    },
    {
     "data": {
      "application/javascript": [
       "\n",
       "        if (window._pyforest_update_imports_cell) { window._pyforest_update_imports_cell('from sklearn.preprocessing import OneHotEncoder\\nimport pandas as pd\\nfrom sklearn.model_selection import train_test_split\\nimport xgboost as xgb\\nimport matplotlib.pyplot as plt\\nfrom sklearn.preprocessing import StandardScaler\\nimport seaborn as sns\\nfrom sklearn import metrics'); }\n",
       "    "
      ],
      "text/plain": [
       "<IPython.core.display.Javascript object>"
      ]
     },
     "metadata": {},
     "output_type": "display_data"
    },
    {
     "data": {
      "application/javascript": [
       "\n",
       "        if (window._pyforest_update_imports_cell) { window._pyforest_update_imports_cell('from sklearn.preprocessing import OneHotEncoder\\nimport pandas as pd\\nfrom sklearn.model_selection import train_test_split\\nimport xgboost as xgb\\nimport matplotlib.pyplot as plt\\nfrom sklearn.preprocessing import StandardScaler\\nimport seaborn as sns\\nfrom sklearn import metrics'); }\n",
       "    "
      ],
      "text/plain": [
       "<IPython.core.display.Javascript object>"
      ]
     },
     "metadata": {},
     "output_type": "display_data"
    },
    {
     "data": {
      "application/javascript": [
       "\n",
       "        if (window._pyforest_update_imports_cell) { window._pyforest_update_imports_cell('from sklearn.preprocessing import OneHotEncoder\\nimport pandas as pd\\nfrom sklearn.model_selection import train_test_split\\nimport xgboost as xgb\\nimport matplotlib.pyplot as plt\\nfrom sklearn.preprocessing import StandardScaler\\nimport seaborn as sns\\nfrom sklearn import metrics'); }\n",
       "    "
      ],
      "text/plain": [
       "<IPython.core.display.Javascript object>"
      ]
     },
     "metadata": {},
     "output_type": "display_data"
    },
    {
     "data": {
      "application/javascript": [
       "\n",
       "        if (window._pyforest_update_imports_cell) { window._pyforest_update_imports_cell('from sklearn.preprocessing import OneHotEncoder\\nimport pandas as pd\\nfrom sklearn.model_selection import train_test_split\\nimport xgboost as xgb\\nimport matplotlib.pyplot as plt\\nfrom sklearn.preprocessing import StandardScaler\\nimport seaborn as sns\\nfrom sklearn import metrics'); }\n",
       "    "
      ],
      "text/plain": [
       "<IPython.core.display.Javascript object>"
      ]
     },
     "metadata": {},
     "output_type": "display_data"
    },
    {
     "data": {
      "application/javascript": [
       "\n",
       "        if (window._pyforest_update_imports_cell) { window._pyforest_update_imports_cell('from sklearn.preprocessing import OneHotEncoder\\nimport pandas as pd\\nfrom sklearn.model_selection import train_test_split\\nimport xgboost as xgb\\nimport matplotlib.pyplot as plt\\nfrom sklearn.preprocessing import StandardScaler\\nimport seaborn as sns\\nfrom sklearn import metrics'); }\n",
       "    "
      ],
      "text/plain": [
       "<IPython.core.display.Javascript object>"
      ]
     },
     "metadata": {},
     "output_type": "display_data"
    },
    {
     "data": {
      "application/javascript": [
       "\n",
       "        if (window._pyforest_update_imports_cell) { window._pyforest_update_imports_cell('from sklearn.preprocessing import OneHotEncoder\\nimport pandas as pd\\nfrom sklearn.model_selection import train_test_split\\nimport xgboost as xgb\\nimport matplotlib.pyplot as plt\\nfrom sklearn.preprocessing import StandardScaler\\nimport seaborn as sns\\nfrom sklearn import metrics'); }\n",
       "    "
      ],
      "text/plain": [
       "<IPython.core.display.Javascript object>"
      ]
     },
     "metadata": {},
     "output_type": "display_data"
    },
    {
     "data": {
      "application/javascript": [
       "\n",
       "        if (window._pyforest_update_imports_cell) { window._pyforest_update_imports_cell('from sklearn.preprocessing import OneHotEncoder\\nimport pandas as pd\\nfrom sklearn.model_selection import train_test_split\\nimport xgboost as xgb\\nimport matplotlib.pyplot as plt\\nfrom sklearn.preprocessing import StandardScaler\\nimport seaborn as sns\\nfrom sklearn import metrics'); }\n",
       "    "
      ],
      "text/plain": [
       "<IPython.core.display.Javascript object>"
      ]
     },
     "metadata": {},
     "output_type": "display_data"
    },
    {
     "data": {
      "application/javascript": [
       "\n",
       "        if (window._pyforest_update_imports_cell) { window._pyforest_update_imports_cell('from sklearn.preprocessing import OneHotEncoder\\nimport pandas as pd\\nfrom sklearn.model_selection import train_test_split\\nimport xgboost as xgb\\nimport matplotlib.pyplot as plt\\nfrom sklearn.preprocessing import StandardScaler\\nimport seaborn as sns\\nfrom sklearn import metrics'); }\n",
       "    "
      ],
      "text/plain": [
       "<IPython.core.display.Javascript object>"
      ]
     },
     "metadata": {},
     "output_type": "display_data"
    },
    {
     "data": {
      "application/javascript": [
       "\n",
       "        if (window._pyforest_update_imports_cell) { window._pyforest_update_imports_cell('from sklearn.preprocessing import OneHotEncoder\\nimport pandas as pd\\nfrom sklearn.model_selection import train_test_split\\nimport xgboost as xgb\\nimport matplotlib.pyplot as plt\\nfrom sklearn.preprocessing import StandardScaler\\nimport seaborn as sns\\nfrom sklearn import metrics'); }\n",
       "    "
      ],
      "text/plain": [
       "<IPython.core.display.Javascript object>"
      ]
     },
     "metadata": {},
     "output_type": "display_data"
    },
    {
     "data": {
      "application/javascript": [
       "\n",
       "        if (window._pyforest_update_imports_cell) { window._pyforest_update_imports_cell('from sklearn.preprocessing import OneHotEncoder\\nimport pandas as pd\\nfrom sklearn.model_selection import train_test_split\\nimport xgboost as xgb\\nimport matplotlib.pyplot as plt\\nfrom sklearn.preprocessing import StandardScaler\\nimport seaborn as sns\\nfrom sklearn import metrics'); }\n",
       "    "
      ],
      "text/plain": [
       "<IPython.core.display.Javascript object>"
      ]
     },
     "metadata": {},
     "output_type": "display_data"
    },
    {
     "data": {
      "application/javascript": [
       "\n",
       "        if (window._pyforest_update_imports_cell) { window._pyforest_update_imports_cell('from sklearn.preprocessing import OneHotEncoder\\nimport pandas as pd\\nfrom sklearn.model_selection import train_test_split\\nimport xgboost as xgb\\nimport matplotlib.pyplot as plt\\nfrom sklearn.preprocessing import StandardScaler\\nimport seaborn as sns\\nfrom sklearn import metrics'); }\n",
       "    "
      ],
      "text/plain": [
       "<IPython.core.display.Javascript object>"
      ]
     },
     "metadata": {},
     "output_type": "display_data"
    },
    {
     "data": {
      "application/javascript": [
       "\n",
       "        if (window._pyforest_update_imports_cell) { window._pyforest_update_imports_cell('from sklearn.preprocessing import OneHotEncoder\\nimport pandas as pd\\nfrom sklearn.model_selection import train_test_split\\nimport xgboost as xgb\\nimport matplotlib.pyplot as plt\\nfrom sklearn.preprocessing import StandardScaler\\nimport seaborn as sns\\nfrom sklearn import metrics'); }\n",
       "    "
      ],
      "text/plain": [
       "<IPython.core.display.Javascript object>"
      ]
     },
     "metadata": {},
     "output_type": "display_data"
    },
    {
     "data": {
      "application/javascript": [
       "\n",
       "        if (window._pyforest_update_imports_cell) { window._pyforest_update_imports_cell('from sklearn.preprocessing import OneHotEncoder\\nimport pandas as pd\\nfrom sklearn.model_selection import train_test_split\\nimport xgboost as xgb\\nimport matplotlib.pyplot as plt\\nfrom sklearn.preprocessing import StandardScaler\\nimport seaborn as sns\\nfrom sklearn import metrics'); }\n",
       "    "
      ],
      "text/plain": [
       "<IPython.core.display.Javascript object>"
      ]
     },
     "metadata": {},
     "output_type": "display_data"
    },
    {
     "data": {
      "application/javascript": [
       "\n",
       "        if (window._pyforest_update_imports_cell) { window._pyforest_update_imports_cell('from sklearn.preprocessing import OneHotEncoder\\nimport pandas as pd\\nfrom sklearn.model_selection import train_test_split\\nimport xgboost as xgb\\nimport matplotlib.pyplot as plt\\nfrom sklearn.preprocessing import StandardScaler\\nimport seaborn as sns\\nfrom sklearn import metrics'); }\n",
       "    "
      ],
      "text/plain": [
       "<IPython.core.display.Javascript object>"
      ]
     },
     "metadata": {},
     "output_type": "display_data"
    },
    {
     "data": {
      "application/javascript": [
       "\n",
       "        if (window._pyforest_update_imports_cell) { window._pyforest_update_imports_cell('from sklearn.preprocessing import OneHotEncoder\\nimport pandas as pd\\nfrom sklearn.model_selection import train_test_split\\nimport xgboost as xgb\\nimport matplotlib.pyplot as plt\\nfrom sklearn.preprocessing import StandardScaler\\nimport seaborn as sns\\nfrom sklearn import metrics'); }\n",
       "    "
      ],
      "text/plain": [
       "<IPython.core.display.Javascript object>"
      ]
     },
     "metadata": {},
     "output_type": "display_data"
    },
    {
     "data": {
      "application/javascript": [
       "\n",
       "        if (window._pyforest_update_imports_cell) { window._pyforest_update_imports_cell('from sklearn.preprocessing import OneHotEncoder\\nimport pandas as pd\\nfrom sklearn.model_selection import train_test_split\\nimport xgboost as xgb\\nimport matplotlib.pyplot as plt\\nfrom sklearn.preprocessing import StandardScaler\\nimport seaborn as sns\\nfrom sklearn import metrics'); }\n",
       "    "
      ],
      "text/plain": [
       "<IPython.core.display.Javascript object>"
      ]
     },
     "metadata": {},
     "output_type": "display_data"
    },
    {
     "data": {
      "application/javascript": [
       "\n",
       "        if (window._pyforest_update_imports_cell) { window._pyforest_update_imports_cell('from sklearn.preprocessing import OneHotEncoder\\nimport pandas as pd\\nfrom sklearn.model_selection import train_test_split\\nimport xgboost as xgb\\nimport matplotlib.pyplot as plt\\nfrom sklearn.preprocessing import StandardScaler\\nimport seaborn as sns\\nfrom sklearn import metrics'); }\n",
       "    "
      ],
      "text/plain": [
       "<IPython.core.display.Javascript object>"
      ]
     },
     "metadata": {},
     "output_type": "display_data"
    },
    {
     "data": {
      "application/javascript": [
       "\n",
       "        if (window._pyforest_update_imports_cell) { window._pyforest_update_imports_cell('from sklearn.preprocessing import OneHotEncoder\\nimport pandas as pd\\nfrom sklearn.model_selection import train_test_split\\nimport xgboost as xgb\\nimport matplotlib.pyplot as plt\\nfrom sklearn.preprocessing import StandardScaler\\nimport seaborn as sns\\nfrom sklearn import metrics'); }\n",
       "    "
      ],
      "text/plain": [
       "<IPython.core.display.Javascript object>"
      ]
     },
     "metadata": {},
     "output_type": "display_data"
    },
    {
     "data": {
      "application/javascript": [
       "\n",
       "        if (window._pyforest_update_imports_cell) { window._pyforest_update_imports_cell('from sklearn.preprocessing import OneHotEncoder\\nimport pandas as pd\\nfrom sklearn.model_selection import train_test_split\\nimport xgboost as xgb\\nimport matplotlib.pyplot as plt\\nfrom sklearn.preprocessing import StandardScaler\\nimport seaborn as sns\\nfrom sklearn import metrics'); }\n",
       "    "
      ],
      "text/plain": [
       "<IPython.core.display.Javascript object>"
      ]
     },
     "metadata": {},
     "output_type": "display_data"
    },
    {
     "data": {
      "application/javascript": [
       "\n",
       "        if (window._pyforest_update_imports_cell) { window._pyforest_update_imports_cell('from sklearn.preprocessing import OneHotEncoder\\nimport pandas as pd\\nfrom sklearn.model_selection import train_test_split\\nimport xgboost as xgb\\nimport matplotlib.pyplot as plt\\nfrom sklearn.preprocessing import StandardScaler\\nimport seaborn as sns\\nfrom sklearn import metrics'); }\n",
       "    "
      ],
      "text/plain": [
       "<IPython.core.display.Javascript object>"
      ]
     },
     "metadata": {},
     "output_type": "display_data"
    },
    {
     "data": {
      "application/javascript": [
       "\n",
       "        if (window._pyforest_update_imports_cell) { window._pyforest_update_imports_cell('from sklearn.preprocessing import OneHotEncoder\\nimport pandas as pd\\nfrom sklearn.model_selection import train_test_split\\nimport xgboost as xgb\\nimport matplotlib.pyplot as plt\\nfrom sklearn.preprocessing import StandardScaler\\nimport seaborn as sns\\nfrom sklearn import metrics'); }\n",
       "    "
      ],
      "text/plain": [
       "<IPython.core.display.Javascript object>"
      ]
     },
     "metadata": {},
     "output_type": "display_data"
    },
    {
     "data": {
      "application/javascript": [
       "\n",
       "        if (window._pyforest_update_imports_cell) { window._pyforest_update_imports_cell('from sklearn.preprocessing import OneHotEncoder\\nimport pandas as pd\\nfrom sklearn.model_selection import train_test_split\\nimport xgboost as xgb\\nimport matplotlib.pyplot as plt\\nfrom sklearn.preprocessing import StandardScaler\\nimport seaborn as sns\\nfrom sklearn import metrics'); }\n",
       "    "
      ],
      "text/plain": [
       "<IPython.core.display.Javascript object>"
      ]
     },
     "metadata": {},
     "output_type": "display_data"
    },
    {
     "data": {
      "application/javascript": [
       "\n",
       "        if (window._pyforest_update_imports_cell) { window._pyforest_update_imports_cell('from sklearn.preprocessing import OneHotEncoder\\nimport pandas as pd\\nfrom sklearn.model_selection import train_test_split\\nimport xgboost as xgb\\nimport matplotlib.pyplot as plt\\nfrom sklearn.preprocessing import StandardScaler\\nimport seaborn as sns\\nfrom sklearn import metrics'); }\n",
       "    "
      ],
      "text/plain": [
       "<IPython.core.display.Javascript object>"
      ]
     },
     "metadata": {},
     "output_type": "display_data"
    },
    {
     "data": {
      "application/javascript": [
       "\n",
       "        if (window._pyforest_update_imports_cell) { window._pyforest_update_imports_cell('from sklearn.preprocessing import OneHotEncoder\\nimport pandas as pd\\nfrom sklearn.model_selection import train_test_split\\nimport xgboost as xgb\\nimport matplotlib.pyplot as plt\\nfrom sklearn.preprocessing import StandardScaler\\nimport seaborn as sns\\nfrom sklearn import metrics'); }\n",
       "    "
      ],
      "text/plain": [
       "<IPython.core.display.Javascript object>"
      ]
     },
     "metadata": {},
     "output_type": "display_data"
    },
    {
     "data": {
      "application/javascript": [
       "\n",
       "        if (window._pyforest_update_imports_cell) { window._pyforest_update_imports_cell('from sklearn.preprocessing import OneHotEncoder\\nimport pandas as pd\\nfrom sklearn.model_selection import train_test_split\\nimport xgboost as xgb\\nimport matplotlib.pyplot as plt\\nfrom sklearn.preprocessing import StandardScaler\\nimport seaborn as sns\\nfrom sklearn import metrics'); }\n",
       "    "
      ],
      "text/plain": [
       "<IPython.core.display.Javascript object>"
      ]
     },
     "metadata": {},
     "output_type": "display_data"
    },
    {
     "data": {
      "application/javascript": [
       "\n",
       "        if (window._pyforest_update_imports_cell) { window._pyforest_update_imports_cell('from sklearn.preprocessing import OneHotEncoder\\nimport pandas as pd\\nfrom sklearn.model_selection import train_test_split\\nimport xgboost as xgb\\nimport matplotlib.pyplot as plt\\nfrom sklearn.preprocessing import StandardScaler\\nimport seaborn as sns\\nfrom sklearn import metrics'); }\n",
       "    "
      ],
      "text/plain": [
       "<IPython.core.display.Javascript object>"
      ]
     },
     "metadata": {},
     "output_type": "display_data"
    },
    {
     "data": {
      "application/javascript": [
       "\n",
       "        if (window._pyforest_update_imports_cell) { window._pyforest_update_imports_cell('from sklearn.preprocessing import OneHotEncoder\\nimport pandas as pd\\nfrom sklearn.model_selection import train_test_split\\nimport xgboost as xgb\\nimport matplotlib.pyplot as plt\\nfrom sklearn.preprocessing import StandardScaler\\nimport seaborn as sns\\nfrom sklearn import metrics'); }\n",
       "    "
      ],
      "text/plain": [
       "<IPython.core.display.Javascript object>"
      ]
     },
     "metadata": {},
     "output_type": "display_data"
    },
    {
     "data": {
      "application/javascript": [
       "\n",
       "        if (window._pyforest_update_imports_cell) { window._pyforest_update_imports_cell('from sklearn.preprocessing import OneHotEncoder\\nimport pandas as pd\\nfrom sklearn.model_selection import train_test_split\\nimport xgboost as xgb\\nimport matplotlib.pyplot as plt\\nfrom sklearn.preprocessing import StandardScaler\\nimport seaborn as sns\\nfrom sklearn import metrics'); }\n",
       "    "
      ],
      "text/plain": [
       "<IPython.core.display.Javascript object>"
      ]
     },
     "metadata": {},
     "output_type": "display_data"
    },
    {
     "data": {
      "application/javascript": [
       "\n",
       "        if (window._pyforest_update_imports_cell) { window._pyforest_update_imports_cell('from sklearn.preprocessing import OneHotEncoder\\nimport pandas as pd\\nfrom sklearn.model_selection import train_test_split\\nimport xgboost as xgb\\nimport matplotlib.pyplot as plt\\nfrom sklearn.preprocessing import StandardScaler\\nimport seaborn as sns\\nfrom sklearn import metrics'); }\n",
       "    "
      ],
      "text/plain": [
       "<IPython.core.display.Javascript object>"
      ]
     },
     "metadata": {},
     "output_type": "display_data"
    },
    {
     "data": {
      "application/javascript": [
       "\n",
       "        if (window._pyforest_update_imports_cell) { window._pyforest_update_imports_cell('from sklearn.preprocessing import OneHotEncoder\\nimport pandas as pd\\nfrom sklearn.model_selection import train_test_split\\nimport xgboost as xgb\\nimport matplotlib.pyplot as plt\\nfrom sklearn.preprocessing import StandardScaler\\nimport seaborn as sns\\nfrom sklearn import metrics'); }\n",
       "    "
      ],
      "text/plain": [
       "<IPython.core.display.Javascript object>"
      ]
     },
     "metadata": {},
     "output_type": "display_data"
    },
    {
     "data": {
      "application/javascript": [
       "\n",
       "        if (window._pyforest_update_imports_cell) { window._pyforest_update_imports_cell('from sklearn.preprocessing import OneHotEncoder\\nimport pandas as pd\\nfrom sklearn.model_selection import train_test_split\\nimport xgboost as xgb\\nimport matplotlib.pyplot as plt\\nfrom sklearn.preprocessing import StandardScaler\\nimport seaborn as sns\\nfrom sklearn import metrics'); }\n",
       "    "
      ],
      "text/plain": [
       "<IPython.core.display.Javascript object>"
      ]
     },
     "metadata": {},
     "output_type": "display_data"
    },
    {
     "data": {
      "application/javascript": [
       "\n",
       "        if (window._pyforest_update_imports_cell) { window._pyforest_update_imports_cell('from sklearn.preprocessing import OneHotEncoder\\nimport pandas as pd\\nfrom sklearn.model_selection import train_test_split\\nimport xgboost as xgb\\nimport matplotlib.pyplot as plt\\nfrom sklearn.preprocessing import StandardScaler\\nimport seaborn as sns\\nfrom sklearn import metrics'); }\n",
       "    "
      ],
      "text/plain": [
       "<IPython.core.display.Javascript object>"
      ]
     },
     "metadata": {},
     "output_type": "display_data"
    },
    {
     "data": {
      "application/javascript": [
       "\n",
       "        if (window._pyforest_update_imports_cell) { window._pyforest_update_imports_cell('from sklearn.preprocessing import OneHotEncoder\\nimport pandas as pd\\nfrom sklearn.model_selection import train_test_split\\nimport xgboost as xgb\\nimport matplotlib.pyplot as plt\\nfrom sklearn.preprocessing import StandardScaler\\nimport seaborn as sns\\nfrom sklearn import metrics'); }\n",
       "    "
      ],
      "text/plain": [
       "<IPython.core.display.Javascript object>"
      ]
     },
     "metadata": {},
     "output_type": "display_data"
    },
    {
     "data": {
      "application/javascript": [
       "\n",
       "        if (window._pyforest_update_imports_cell) { window._pyforest_update_imports_cell('from sklearn.preprocessing import OneHotEncoder\\nimport pandas as pd\\nfrom sklearn.model_selection import train_test_split\\nimport xgboost as xgb\\nimport matplotlib.pyplot as plt\\nfrom sklearn.preprocessing import StandardScaler\\nimport seaborn as sns\\nfrom sklearn import metrics'); }\n",
       "    "
      ],
      "text/plain": [
       "<IPython.core.display.Javascript object>"
      ]
     },
     "metadata": {},
     "output_type": "display_data"
    },
    {
     "data": {
      "application/javascript": [
       "\n",
       "        if (window._pyforest_update_imports_cell) { window._pyforest_update_imports_cell('from sklearn.preprocessing import OneHotEncoder\\nimport pandas as pd\\nfrom sklearn.model_selection import train_test_split\\nimport xgboost as xgb\\nimport matplotlib.pyplot as plt\\nfrom sklearn.preprocessing import StandardScaler\\nimport seaborn as sns\\nfrom sklearn import metrics'); }\n",
       "    "
      ],
      "text/plain": [
       "<IPython.core.display.Javascript object>"
      ]
     },
     "metadata": {},
     "output_type": "display_data"
    },
    {
     "data": {
      "application/javascript": [
       "\n",
       "        if (window._pyforest_update_imports_cell) { window._pyforest_update_imports_cell('from sklearn.preprocessing import OneHotEncoder\\nimport pandas as pd\\nfrom sklearn.model_selection import train_test_split\\nimport xgboost as xgb\\nimport matplotlib.pyplot as plt\\nfrom sklearn.preprocessing import StandardScaler\\nimport seaborn as sns\\nfrom sklearn import metrics'); }\n",
       "    "
      ],
      "text/plain": [
       "<IPython.core.display.Javascript object>"
      ]
     },
     "metadata": {},
     "output_type": "display_data"
    },
    {
     "data": {
      "application/javascript": [
       "\n",
       "        if (window._pyforest_update_imports_cell) { window._pyforest_update_imports_cell('from sklearn.preprocessing import OneHotEncoder\\nimport pandas as pd\\nfrom sklearn.model_selection import train_test_split\\nimport xgboost as xgb\\nimport matplotlib.pyplot as plt\\nfrom sklearn.preprocessing import StandardScaler\\nimport seaborn as sns\\nfrom sklearn import metrics'); }\n",
       "    "
      ],
      "text/plain": [
       "<IPython.core.display.Javascript object>"
      ]
     },
     "metadata": {},
     "output_type": "display_data"
    },
    {
     "data": {
      "application/javascript": [
       "\n",
       "        if (window._pyforest_update_imports_cell) { window._pyforest_update_imports_cell('from sklearn.preprocessing import OneHotEncoder\\nimport pandas as pd\\nfrom sklearn.model_selection import train_test_split\\nimport xgboost as xgb\\nimport matplotlib.pyplot as plt\\nfrom sklearn.preprocessing import StandardScaler\\nimport seaborn as sns\\nfrom sklearn import metrics'); }\n",
       "    "
      ],
      "text/plain": [
       "<IPython.core.display.Javascript object>"
      ]
     },
     "metadata": {},
     "output_type": "display_data"
    },
    {
     "data": {
      "application/javascript": [
       "\n",
       "        if (window._pyforest_update_imports_cell) { window._pyforest_update_imports_cell('from sklearn.preprocessing import OneHotEncoder\\nimport pandas as pd\\nfrom sklearn.model_selection import train_test_split\\nimport xgboost as xgb\\nimport matplotlib.pyplot as plt\\nfrom sklearn.preprocessing import StandardScaler\\nimport seaborn as sns\\nfrom sklearn import metrics'); }\n",
       "    "
      ],
      "text/plain": [
       "<IPython.core.display.Javascript object>"
      ]
     },
     "metadata": {},
     "output_type": "display_data"
    },
    {
     "data": {
      "application/javascript": [
       "\n",
       "        if (window._pyforest_update_imports_cell) { window._pyforest_update_imports_cell('from sklearn.preprocessing import OneHotEncoder\\nimport pandas as pd\\nfrom sklearn.model_selection import train_test_split\\nimport xgboost as xgb\\nimport matplotlib.pyplot as plt\\nfrom sklearn.preprocessing import StandardScaler\\nimport seaborn as sns\\nfrom sklearn import metrics'); }\n",
       "    "
      ],
      "text/plain": [
       "<IPython.core.display.Javascript object>"
      ]
     },
     "metadata": {},
     "output_type": "display_data"
    },
    {
     "data": {
      "application/javascript": [
       "\n",
       "        if (window._pyforest_update_imports_cell) { window._pyforest_update_imports_cell('from sklearn.preprocessing import OneHotEncoder\\nimport pandas as pd\\nfrom sklearn.model_selection import train_test_split\\nimport xgboost as xgb\\nimport matplotlib.pyplot as plt\\nfrom sklearn.preprocessing import StandardScaler\\nimport seaborn as sns\\nfrom sklearn import metrics'); }\n",
       "    "
      ],
      "text/plain": [
       "<IPython.core.display.Javascript object>"
      ]
     },
     "metadata": {},
     "output_type": "display_data"
    },
    {
     "data": {
      "application/javascript": [
       "\n",
       "        if (window._pyforest_update_imports_cell) { window._pyforest_update_imports_cell('from sklearn.preprocessing import OneHotEncoder\\nimport pandas as pd\\nfrom sklearn.model_selection import train_test_split\\nimport xgboost as xgb\\nimport matplotlib.pyplot as plt\\nfrom sklearn.preprocessing import StandardScaler\\nimport seaborn as sns\\nfrom sklearn import metrics'); }\n",
       "    "
      ],
      "text/plain": [
       "<IPython.core.display.Javascript object>"
      ]
     },
     "metadata": {},
     "output_type": "display_data"
    },
    {
     "data": {
      "application/javascript": [
       "\n",
       "        if (window._pyforest_update_imports_cell) { window._pyforest_update_imports_cell('from sklearn.preprocessing import OneHotEncoder\\nimport pandas as pd\\nfrom sklearn.model_selection import train_test_split\\nimport xgboost as xgb\\nimport matplotlib.pyplot as plt\\nfrom sklearn.preprocessing import StandardScaler\\nimport seaborn as sns\\nfrom sklearn import metrics'); }\n",
       "    "
      ],
      "text/plain": [
       "<IPython.core.display.Javascript object>"
      ]
     },
     "metadata": {},
     "output_type": "display_data"
    },
    {
     "data": {
      "application/javascript": [
       "\n",
       "        if (window._pyforest_update_imports_cell) { window._pyforest_update_imports_cell('from sklearn.preprocessing import OneHotEncoder\\nimport pandas as pd\\nfrom sklearn.model_selection import train_test_split\\nimport xgboost as xgb\\nimport matplotlib.pyplot as plt\\nfrom sklearn.preprocessing import StandardScaler\\nimport seaborn as sns\\nfrom sklearn import metrics'); }\n",
       "    "
      ],
      "text/plain": [
       "<IPython.core.display.Javascript object>"
      ]
     },
     "metadata": {},
     "output_type": "display_data"
    },
    {
     "data": {
      "application/javascript": [
       "\n",
       "        if (window._pyforest_update_imports_cell) { window._pyforest_update_imports_cell('from sklearn.preprocessing import OneHotEncoder\\nimport pandas as pd\\nfrom sklearn.model_selection import train_test_split\\nimport xgboost as xgb\\nimport matplotlib.pyplot as plt\\nfrom sklearn.preprocessing import StandardScaler\\nimport seaborn as sns\\nfrom sklearn import metrics'); }\n",
       "    "
      ],
      "text/plain": [
       "<IPython.core.display.Javascript object>"
      ]
     },
     "metadata": {},
     "output_type": "display_data"
    },
    {
     "data": {
      "application/javascript": [
       "\n",
       "        if (window._pyforest_update_imports_cell) { window._pyforest_update_imports_cell('from sklearn.preprocessing import OneHotEncoder\\nimport pandas as pd\\nfrom sklearn.model_selection import train_test_split\\nimport xgboost as xgb\\nimport matplotlib.pyplot as plt\\nfrom sklearn.preprocessing import StandardScaler\\nimport seaborn as sns\\nfrom sklearn import metrics'); }\n",
       "    "
      ],
      "text/plain": [
       "<IPython.core.display.Javascript object>"
      ]
     },
     "metadata": {},
     "output_type": "display_data"
    },
    {
     "data": {
      "application/javascript": [
       "\n",
       "        if (window._pyforest_update_imports_cell) { window._pyforest_update_imports_cell('from sklearn.preprocessing import OneHotEncoder\\nimport pandas as pd\\nfrom sklearn.model_selection import train_test_split\\nimport xgboost as xgb\\nimport matplotlib.pyplot as plt\\nfrom sklearn.preprocessing import StandardScaler\\nimport seaborn as sns\\nfrom sklearn import metrics'); }\n",
       "    "
      ],
      "text/plain": [
       "<IPython.core.display.Javascript object>"
      ]
     },
     "metadata": {},
     "output_type": "display_data"
    },
    {
     "data": {
      "application/javascript": [
       "\n",
       "        if (window._pyforest_update_imports_cell) { window._pyforest_update_imports_cell('from sklearn.preprocessing import OneHotEncoder\\nimport pandas as pd\\nfrom sklearn.model_selection import train_test_split\\nimport xgboost as xgb\\nimport matplotlib.pyplot as plt\\nfrom sklearn.preprocessing import StandardScaler\\nimport seaborn as sns\\nfrom sklearn import metrics'); }\n",
       "    "
      ],
      "text/plain": [
       "<IPython.core.display.Javascript object>"
      ]
     },
     "metadata": {},
     "output_type": "display_data"
    },
    {
     "data": {
      "application/javascript": [
       "\n",
       "        if (window._pyforest_update_imports_cell) { window._pyforest_update_imports_cell('from sklearn.preprocessing import OneHotEncoder\\nimport pandas as pd\\nfrom sklearn.model_selection import train_test_split\\nimport xgboost as xgb\\nimport matplotlib.pyplot as plt\\nfrom sklearn.preprocessing import StandardScaler\\nimport seaborn as sns\\nfrom sklearn import metrics'); }\n",
       "    "
      ],
      "text/plain": [
       "<IPython.core.display.Javascript object>"
      ]
     },
     "metadata": {},
     "output_type": "display_data"
    },
    {
     "data": {
      "application/javascript": [
       "\n",
       "        if (window._pyforest_update_imports_cell) { window._pyforest_update_imports_cell('from sklearn.preprocessing import OneHotEncoder\\nimport pandas as pd\\nfrom sklearn.model_selection import train_test_split\\nimport xgboost as xgb\\nimport matplotlib.pyplot as plt\\nfrom sklearn.preprocessing import StandardScaler\\nimport seaborn as sns\\nfrom sklearn import metrics'); }\n",
       "    "
      ],
      "text/plain": [
       "<IPython.core.display.Javascript object>"
      ]
     },
     "metadata": {},
     "output_type": "display_data"
    },
    {
     "data": {
      "application/javascript": [
       "\n",
       "        if (window._pyforest_update_imports_cell) { window._pyforest_update_imports_cell('from sklearn.preprocessing import OneHotEncoder\\nimport pandas as pd\\nfrom sklearn.model_selection import train_test_split\\nimport xgboost as xgb\\nimport matplotlib.pyplot as plt\\nfrom sklearn.preprocessing import StandardScaler\\nimport seaborn as sns\\nfrom sklearn import metrics'); }\n",
       "    "
      ],
      "text/plain": [
       "<IPython.core.display.Javascript object>"
      ]
     },
     "metadata": {},
     "output_type": "display_data"
    },
    {
     "data": {
      "application/javascript": [
       "\n",
       "        if (window._pyforest_update_imports_cell) { window._pyforest_update_imports_cell('from sklearn.preprocessing import OneHotEncoder\\nimport pandas as pd\\nfrom sklearn.model_selection import train_test_split\\nimport xgboost as xgb\\nimport matplotlib.pyplot as plt\\nfrom sklearn.preprocessing import StandardScaler\\nimport seaborn as sns\\nfrom sklearn import metrics'); }\n",
       "    "
      ],
      "text/plain": [
       "<IPython.core.display.Javascript object>"
      ]
     },
     "metadata": {},
     "output_type": "display_data"
    },
    {
     "data": {
      "application/javascript": [
       "\n",
       "        if (window._pyforest_update_imports_cell) { window._pyforest_update_imports_cell('from sklearn.preprocessing import OneHotEncoder\\nimport pandas as pd\\nfrom sklearn.model_selection import train_test_split\\nimport xgboost as xgb\\nimport matplotlib.pyplot as plt\\nfrom sklearn.preprocessing import StandardScaler\\nimport seaborn as sns\\nfrom sklearn import metrics'); }\n",
       "    "
      ],
      "text/plain": [
       "<IPython.core.display.Javascript object>"
      ]
     },
     "metadata": {},
     "output_type": "display_data"
    },
    {
     "data": {
      "application/javascript": [
       "\n",
       "        if (window._pyforest_update_imports_cell) { window._pyforest_update_imports_cell('from sklearn.preprocessing import OneHotEncoder\\nimport pandas as pd\\nfrom sklearn.model_selection import train_test_split\\nimport xgboost as xgb\\nimport matplotlib.pyplot as plt\\nfrom sklearn.preprocessing import StandardScaler\\nimport seaborn as sns\\nfrom sklearn import metrics'); }\n",
       "    "
      ],
      "text/plain": [
       "<IPython.core.display.Javascript object>"
      ]
     },
     "metadata": {},
     "output_type": "display_data"
    },
    {
     "data": {
      "application/javascript": [
       "\n",
       "        if (window._pyforest_update_imports_cell) { window._pyforest_update_imports_cell('from sklearn.preprocessing import OneHotEncoder\\nimport pandas as pd\\nfrom sklearn.model_selection import train_test_split\\nimport xgboost as xgb\\nimport matplotlib.pyplot as plt\\nfrom sklearn.preprocessing import StandardScaler\\nimport seaborn as sns\\nfrom sklearn import metrics'); }\n",
       "    "
      ],
      "text/plain": [
       "<IPython.core.display.Javascript object>"
      ]
     },
     "metadata": {},
     "output_type": "display_data"
    },
    {
     "data": {
      "application/javascript": [
       "\n",
       "        if (window._pyforest_update_imports_cell) { window._pyforest_update_imports_cell('from sklearn.preprocessing import OneHotEncoder\\nimport pandas as pd\\nfrom sklearn.model_selection import train_test_split\\nimport xgboost as xgb\\nimport matplotlib.pyplot as plt\\nfrom sklearn.preprocessing import StandardScaler\\nimport seaborn as sns\\nfrom sklearn import metrics'); }\n",
       "    "
      ],
      "text/plain": [
       "<IPython.core.display.Javascript object>"
      ]
     },
     "metadata": {},
     "output_type": "display_data"
    },
    {
     "data": {
      "application/javascript": [
       "\n",
       "        if (window._pyforest_update_imports_cell) { window._pyforest_update_imports_cell('from sklearn.preprocessing import OneHotEncoder\\nimport pandas as pd\\nfrom sklearn.model_selection import train_test_split\\nimport xgboost as xgb\\nimport matplotlib.pyplot as plt\\nfrom sklearn.preprocessing import StandardScaler\\nimport seaborn as sns\\nfrom sklearn import metrics'); }\n",
       "    "
      ],
      "text/plain": [
       "<IPython.core.display.Javascript object>"
      ]
     },
     "metadata": {},
     "output_type": "display_data"
    },
    {
     "data": {
      "application/javascript": [
       "\n",
       "        if (window._pyforest_update_imports_cell) { window._pyforest_update_imports_cell('from sklearn.preprocessing import OneHotEncoder\\nimport pandas as pd\\nfrom sklearn.model_selection import train_test_split\\nimport xgboost as xgb\\nimport matplotlib.pyplot as plt\\nfrom sklearn.preprocessing import StandardScaler\\nimport seaborn as sns\\nfrom sklearn import metrics'); }\n",
       "    "
      ],
      "text/plain": [
       "<IPython.core.display.Javascript object>"
      ]
     },
     "metadata": {},
     "output_type": "display_data"
    },
    {
     "data": {
      "application/javascript": [
       "\n",
       "        if (window._pyforest_update_imports_cell) { window._pyforest_update_imports_cell('from sklearn.preprocessing import OneHotEncoder\\nimport pandas as pd\\nfrom sklearn.model_selection import train_test_split\\nimport xgboost as xgb\\nimport matplotlib.pyplot as plt\\nfrom sklearn.preprocessing import StandardScaler\\nimport seaborn as sns\\nfrom sklearn import metrics'); }\n",
       "    "
      ],
      "text/plain": [
       "<IPython.core.display.Javascript object>"
      ]
     },
     "metadata": {},
     "output_type": "display_data"
    },
    {
     "data": {
      "application/javascript": [
       "\n",
       "        if (window._pyforest_update_imports_cell) { window._pyforest_update_imports_cell('from sklearn.preprocessing import OneHotEncoder\\nimport pandas as pd\\nfrom sklearn.model_selection import train_test_split\\nimport xgboost as xgb\\nimport matplotlib.pyplot as plt\\nfrom sklearn.preprocessing import StandardScaler\\nimport seaborn as sns\\nfrom sklearn import metrics'); }\n",
       "    "
      ],
      "text/plain": [
       "<IPython.core.display.Javascript object>"
      ]
     },
     "metadata": {},
     "output_type": "display_data"
    },
    {
     "data": {
      "application/javascript": [
       "\n",
       "        if (window._pyforest_update_imports_cell) { window._pyforest_update_imports_cell('from sklearn.preprocessing import OneHotEncoder\\nimport pandas as pd\\nfrom sklearn.model_selection import train_test_split\\nimport xgboost as xgb\\nimport matplotlib.pyplot as plt\\nfrom sklearn.preprocessing import StandardScaler\\nimport seaborn as sns\\nfrom sklearn import metrics'); }\n",
       "    "
      ],
      "text/plain": [
       "<IPython.core.display.Javascript object>"
      ]
     },
     "metadata": {},
     "output_type": "display_data"
    },
    {
     "data": {
      "application/javascript": [
       "\n",
       "        if (window._pyforest_update_imports_cell) { window._pyforest_update_imports_cell('from sklearn.preprocessing import OneHotEncoder\\nimport pandas as pd\\nfrom sklearn.model_selection import train_test_split\\nimport xgboost as xgb\\nimport matplotlib.pyplot as plt\\nfrom sklearn.preprocessing import StandardScaler\\nimport seaborn as sns\\nfrom sklearn import metrics'); }\n",
       "    "
      ],
      "text/plain": [
       "<IPython.core.display.Javascript object>"
      ]
     },
     "metadata": {},
     "output_type": "display_data"
    },
    {
     "data": {
      "application/javascript": [
       "\n",
       "        if (window._pyforest_update_imports_cell) { window._pyforest_update_imports_cell('from sklearn.preprocessing import OneHotEncoder\\nimport pandas as pd\\nfrom sklearn.model_selection import train_test_split\\nimport xgboost as xgb\\nimport matplotlib.pyplot as plt\\nfrom sklearn.preprocessing import StandardScaler\\nimport seaborn as sns\\nfrom sklearn import metrics'); }\n",
       "    "
      ],
      "text/plain": [
       "<IPython.core.display.Javascript object>"
      ]
     },
     "metadata": {},
     "output_type": "display_data"
    },
    {
     "data": {
      "application/javascript": [
       "\n",
       "        if (window._pyforest_update_imports_cell) { window._pyforest_update_imports_cell('from sklearn.preprocessing import OneHotEncoder\\nimport pandas as pd\\nfrom sklearn.model_selection import train_test_split\\nimport xgboost as xgb\\nimport matplotlib.pyplot as plt\\nfrom sklearn.preprocessing import StandardScaler\\nimport seaborn as sns\\nfrom sklearn import metrics'); }\n",
       "    "
      ],
      "text/plain": [
       "<IPython.core.display.Javascript object>"
      ]
     },
     "metadata": {},
     "output_type": "display_data"
    },
    {
     "data": {
      "application/javascript": [
       "\n",
       "        if (window._pyforest_update_imports_cell) { window._pyforest_update_imports_cell('from sklearn.preprocessing import OneHotEncoder\\nimport pandas as pd\\nfrom sklearn.model_selection import train_test_split\\nimport xgboost as xgb\\nimport matplotlib.pyplot as plt\\nfrom sklearn.preprocessing import StandardScaler\\nimport seaborn as sns\\nfrom sklearn import metrics'); }\n",
       "    "
      ],
      "text/plain": [
       "<IPython.core.display.Javascript object>"
      ]
     },
     "metadata": {},
     "output_type": "display_data"
    },
    {
     "data": {
      "application/javascript": [
       "\n",
       "        if (window._pyforest_update_imports_cell) { window._pyforest_update_imports_cell('from sklearn.preprocessing import OneHotEncoder\\nimport pandas as pd\\nfrom sklearn.model_selection import train_test_split\\nimport xgboost as xgb\\nimport matplotlib.pyplot as plt\\nfrom sklearn.preprocessing import StandardScaler\\nimport seaborn as sns\\nfrom sklearn import metrics'); }\n",
       "    "
      ],
      "text/plain": [
       "<IPython.core.display.Javascript object>"
      ]
     },
     "metadata": {},
     "output_type": "display_data"
    },
    {
     "data": {
      "application/javascript": [
       "\n",
       "        if (window._pyforest_update_imports_cell) { window._pyforest_update_imports_cell('from sklearn.preprocessing import OneHotEncoder\\nimport pandas as pd\\nfrom sklearn.model_selection import train_test_split\\nimport xgboost as xgb\\nimport matplotlib.pyplot as plt\\nfrom sklearn.preprocessing import StandardScaler\\nimport seaborn as sns\\nfrom sklearn import metrics'); }\n",
       "    "
      ],
      "text/plain": [
       "<IPython.core.display.Javascript object>"
      ]
     },
     "metadata": {},
     "output_type": "display_data"
    },
    {
     "data": {
      "application/javascript": [
       "\n",
       "        if (window._pyforest_update_imports_cell) { window._pyforest_update_imports_cell('from sklearn.preprocessing import OneHotEncoder\\nimport pandas as pd\\nfrom sklearn.model_selection import train_test_split\\nimport xgboost as xgb\\nimport matplotlib.pyplot as plt\\nfrom sklearn.preprocessing import StandardScaler\\nimport seaborn as sns\\nfrom sklearn import metrics'); }\n",
       "    "
      ],
      "text/plain": [
       "<IPython.core.display.Javascript object>"
      ]
     },
     "metadata": {},
     "output_type": "display_data"
    },
    {
     "data": {
      "application/javascript": [
       "\n",
       "        if (window._pyforest_update_imports_cell) { window._pyforest_update_imports_cell('from sklearn.preprocessing import OneHotEncoder\\nimport pandas as pd\\nfrom sklearn.model_selection import train_test_split\\nimport xgboost as xgb\\nimport matplotlib.pyplot as plt\\nfrom sklearn.preprocessing import StandardScaler\\nimport seaborn as sns\\nfrom sklearn import metrics'); }\n",
       "    "
      ],
      "text/plain": [
       "<IPython.core.display.Javascript object>"
      ]
     },
     "metadata": {},
     "output_type": "display_data"
    },
    {
     "data": {
      "application/javascript": [
       "\n",
       "        if (window._pyforest_update_imports_cell) { window._pyforest_update_imports_cell('from sklearn.preprocessing import OneHotEncoder\\nimport pandas as pd\\nfrom sklearn.model_selection import train_test_split\\nimport xgboost as xgb\\nimport matplotlib.pyplot as plt\\nfrom sklearn.preprocessing import StandardScaler\\nimport seaborn as sns\\nfrom sklearn import metrics'); }\n",
       "    "
      ],
      "text/plain": [
       "<IPython.core.display.Javascript object>"
      ]
     },
     "metadata": {},
     "output_type": "display_data"
    },
    {
     "data": {
      "application/javascript": [
       "\n",
       "        if (window._pyforest_update_imports_cell) { window._pyforest_update_imports_cell('from sklearn.preprocessing import OneHotEncoder\\nimport pandas as pd\\nfrom sklearn.model_selection import train_test_split\\nimport xgboost as xgb\\nimport matplotlib.pyplot as plt\\nfrom sklearn.preprocessing import StandardScaler\\nimport seaborn as sns\\nfrom sklearn import metrics'); }\n",
       "    "
      ],
      "text/plain": [
       "<IPython.core.display.Javascript object>"
      ]
     },
     "metadata": {},
     "output_type": "display_data"
    },
    {
     "data": {
      "application/javascript": [
       "\n",
       "        if (window._pyforest_update_imports_cell) { window._pyforest_update_imports_cell('from sklearn.preprocessing import OneHotEncoder\\nimport pandas as pd\\nfrom sklearn.model_selection import train_test_split\\nimport xgboost as xgb\\nimport matplotlib.pyplot as plt\\nfrom sklearn.preprocessing import StandardScaler\\nimport seaborn as sns\\nfrom sklearn import metrics'); }\n",
       "    "
      ],
      "text/plain": [
       "<IPython.core.display.Javascript object>"
      ]
     },
     "metadata": {},
     "output_type": "display_data"
    },
    {
     "data": {
      "application/javascript": [
       "\n",
       "        if (window._pyforest_update_imports_cell) { window._pyforest_update_imports_cell('from sklearn.preprocessing import OneHotEncoder\\nimport pandas as pd\\nfrom sklearn.model_selection import train_test_split\\nimport xgboost as xgb\\nimport matplotlib.pyplot as plt\\nfrom sklearn.preprocessing import StandardScaler\\nimport seaborn as sns\\nfrom sklearn import metrics'); }\n",
       "    "
      ],
      "text/plain": [
       "<IPython.core.display.Javascript object>"
      ]
     },
     "metadata": {},
     "output_type": "display_data"
    },
    {
     "data": {
      "application/javascript": [
       "\n",
       "        if (window._pyforest_update_imports_cell) { window._pyforest_update_imports_cell('from sklearn.preprocessing import OneHotEncoder\\nimport pandas as pd\\nfrom sklearn.model_selection import train_test_split\\nimport xgboost as xgb\\nimport matplotlib.pyplot as plt\\nfrom sklearn.preprocessing import StandardScaler\\nimport seaborn as sns\\nfrom sklearn import metrics'); }\n",
       "    "
      ],
      "text/plain": [
       "<IPython.core.display.Javascript object>"
      ]
     },
     "metadata": {},
     "output_type": "display_data"
    },
    {
     "data": {
      "application/javascript": [
       "\n",
       "        if (window._pyforest_update_imports_cell) { window._pyforest_update_imports_cell('from sklearn.preprocessing import OneHotEncoder\\nimport pandas as pd\\nfrom sklearn.model_selection import train_test_split\\nimport xgboost as xgb\\nimport matplotlib.pyplot as plt\\nfrom sklearn.preprocessing import StandardScaler\\nimport seaborn as sns\\nfrom sklearn import metrics'); }\n",
       "    "
      ],
      "text/plain": [
       "<IPython.core.display.Javascript object>"
      ]
     },
     "metadata": {},
     "output_type": "display_data"
    },
    {
     "data": {
      "application/javascript": [
       "\n",
       "        if (window._pyforest_update_imports_cell) { window._pyforest_update_imports_cell('from sklearn.preprocessing import OneHotEncoder\\nimport pandas as pd\\nfrom sklearn.model_selection import train_test_split\\nimport xgboost as xgb\\nimport matplotlib.pyplot as plt\\nfrom sklearn.preprocessing import StandardScaler\\nimport seaborn as sns\\nfrom sklearn import metrics'); }\n",
       "    "
      ],
      "text/plain": [
       "<IPython.core.display.Javascript object>"
      ]
     },
     "metadata": {},
     "output_type": "display_data"
    },
    {
     "data": {
      "application/javascript": [
       "\n",
       "        if (window._pyforest_update_imports_cell) { window._pyforest_update_imports_cell('from sklearn.preprocessing import OneHotEncoder\\nimport pandas as pd\\nfrom sklearn.model_selection import train_test_split\\nimport xgboost as xgb\\nimport matplotlib.pyplot as plt\\nfrom sklearn.preprocessing import StandardScaler\\nimport seaborn as sns\\nfrom sklearn import metrics'); }\n",
       "    "
      ],
      "text/plain": [
       "<IPython.core.display.Javascript object>"
      ]
     },
     "metadata": {},
     "output_type": "display_data"
    },
    {
     "data": {
      "application/javascript": [
       "\n",
       "        if (window._pyforest_update_imports_cell) { window._pyforest_update_imports_cell('from sklearn.preprocessing import OneHotEncoder\\nimport pandas as pd\\nfrom sklearn.model_selection import train_test_split\\nimport xgboost as xgb\\nimport matplotlib.pyplot as plt\\nfrom sklearn.preprocessing import StandardScaler\\nimport seaborn as sns\\nfrom sklearn import metrics'); }\n",
       "    "
      ],
      "text/plain": [
       "<IPython.core.display.Javascript object>"
      ]
     },
     "metadata": {},
     "output_type": "display_data"
    },
    {
     "data": {
      "application/javascript": [
       "\n",
       "        if (window._pyforest_update_imports_cell) { window._pyforest_update_imports_cell('from sklearn.preprocessing import OneHotEncoder\\nimport pandas as pd\\nfrom sklearn.model_selection import train_test_split\\nimport xgboost as xgb\\nimport matplotlib.pyplot as plt\\nfrom sklearn.preprocessing import StandardScaler\\nimport seaborn as sns\\nfrom sklearn import metrics'); }\n",
       "    "
      ],
      "text/plain": [
       "<IPython.core.display.Javascript object>"
      ]
     },
     "metadata": {},
     "output_type": "display_data"
    },
    {
     "data": {
      "application/javascript": [
       "\n",
       "        if (window._pyforest_update_imports_cell) { window._pyforest_update_imports_cell('from sklearn.preprocessing import OneHotEncoder\\nimport pandas as pd\\nfrom sklearn.model_selection import train_test_split\\nimport xgboost as xgb\\nimport matplotlib.pyplot as plt\\nfrom sklearn.preprocessing import StandardScaler\\nimport seaborn as sns\\nfrom sklearn import metrics'); }\n",
       "    "
      ],
      "text/plain": [
       "<IPython.core.display.Javascript object>"
      ]
     },
     "metadata": {},
     "output_type": "display_data"
    },
    {
     "data": {
      "application/javascript": [
       "\n",
       "        if (window._pyforest_update_imports_cell) { window._pyforest_update_imports_cell('from sklearn.preprocessing import OneHotEncoder\\nimport pandas as pd\\nfrom sklearn.model_selection import train_test_split\\nimport xgboost as xgb\\nimport matplotlib.pyplot as plt\\nfrom sklearn.preprocessing import StandardScaler\\nimport seaborn as sns\\nfrom sklearn import metrics'); }\n",
       "    "
      ],
      "text/plain": [
       "<IPython.core.display.Javascript object>"
      ]
     },
     "metadata": {},
     "output_type": "display_data"
    },
    {
     "data": {
      "application/javascript": [
       "\n",
       "        if (window._pyforest_update_imports_cell) { window._pyforest_update_imports_cell('from sklearn.preprocessing import OneHotEncoder\\nimport pandas as pd\\nfrom sklearn.model_selection import train_test_split\\nimport xgboost as xgb\\nimport matplotlib.pyplot as plt\\nfrom sklearn.preprocessing import StandardScaler\\nimport seaborn as sns\\nfrom sklearn import metrics'); }\n",
       "    "
      ],
      "text/plain": [
       "<IPython.core.display.Javascript object>"
      ]
     },
     "metadata": {},
     "output_type": "display_data"
    },
    {
     "data": {
      "application/javascript": [
       "\n",
       "        if (window._pyforest_update_imports_cell) { window._pyforest_update_imports_cell('from sklearn.preprocessing import OneHotEncoder\\nimport pandas as pd\\nfrom sklearn.model_selection import train_test_split\\nimport xgboost as xgb\\nimport matplotlib.pyplot as plt\\nfrom sklearn.preprocessing import StandardScaler\\nimport seaborn as sns\\nfrom sklearn import metrics'); }\n",
       "    "
      ],
      "text/plain": [
       "<IPython.core.display.Javascript object>"
      ]
     },
     "metadata": {},
     "output_type": "display_data"
    },
    {
     "data": {
      "application/javascript": [
       "\n",
       "        if (window._pyforest_update_imports_cell) { window._pyforest_update_imports_cell('from sklearn.preprocessing import OneHotEncoder\\nimport pandas as pd\\nfrom sklearn.model_selection import train_test_split\\nimport xgboost as xgb\\nimport matplotlib.pyplot as plt\\nfrom sklearn.preprocessing import StandardScaler\\nimport seaborn as sns\\nfrom sklearn import metrics'); }\n",
       "    "
      ],
      "text/plain": [
       "<IPython.core.display.Javascript object>"
      ]
     },
     "metadata": {},
     "output_type": "display_data"
    },
    {
     "data": {
      "application/javascript": [
       "\n",
       "        if (window._pyforest_update_imports_cell) { window._pyforest_update_imports_cell('from sklearn.preprocessing import OneHotEncoder\\nimport pandas as pd\\nfrom sklearn.model_selection import train_test_split\\nimport xgboost as xgb\\nimport matplotlib.pyplot as plt\\nfrom sklearn.preprocessing import StandardScaler\\nimport seaborn as sns\\nfrom sklearn import metrics'); }\n",
       "    "
      ],
      "text/plain": [
       "<IPython.core.display.Javascript object>"
      ]
     },
     "metadata": {},
     "output_type": "display_data"
    },
    {
     "data": {
      "application/javascript": [
       "\n",
       "        if (window._pyforest_update_imports_cell) { window._pyforest_update_imports_cell('from sklearn.preprocessing import OneHotEncoder\\nimport pandas as pd\\nfrom sklearn.model_selection import train_test_split\\nimport xgboost as xgb\\nimport matplotlib.pyplot as plt\\nfrom sklearn.preprocessing import StandardScaler\\nimport seaborn as sns\\nfrom sklearn import metrics'); }\n",
       "    "
      ],
      "text/plain": [
       "<IPython.core.display.Javascript object>"
      ]
     },
     "metadata": {},
     "output_type": "display_data"
    },
    {
     "data": {
      "application/javascript": [
       "\n",
       "        if (window._pyforest_update_imports_cell) { window._pyforest_update_imports_cell('from sklearn.preprocessing import OneHotEncoder\\nimport pandas as pd\\nfrom sklearn.model_selection import train_test_split\\nimport xgboost as xgb\\nimport matplotlib.pyplot as plt\\nfrom sklearn.preprocessing import StandardScaler\\nimport seaborn as sns\\nfrom sklearn import metrics'); }\n",
       "    "
      ],
      "text/plain": [
       "<IPython.core.display.Javascript object>"
      ]
     },
     "metadata": {},
     "output_type": "display_data"
    },
    {
     "data": {
      "application/javascript": [
       "\n",
       "        if (window._pyforest_update_imports_cell) { window._pyforest_update_imports_cell('from sklearn.preprocessing import OneHotEncoder\\nimport pandas as pd\\nfrom sklearn.model_selection import train_test_split\\nimport xgboost as xgb\\nimport matplotlib.pyplot as plt\\nfrom sklearn.preprocessing import StandardScaler\\nimport seaborn as sns\\nfrom sklearn import metrics'); }\n",
       "    "
      ],
      "text/plain": [
       "<IPython.core.display.Javascript object>"
      ]
     },
     "metadata": {},
     "output_type": "display_data"
    },
    {
     "data": {
      "application/javascript": [
       "\n",
       "        if (window._pyforest_update_imports_cell) { window._pyforest_update_imports_cell('from sklearn.preprocessing import OneHotEncoder\\nimport pandas as pd\\nfrom sklearn.model_selection import train_test_split\\nimport xgboost as xgb\\nimport matplotlib.pyplot as plt\\nfrom sklearn.preprocessing import StandardScaler\\nimport seaborn as sns\\nfrom sklearn import metrics'); }\n",
       "    "
      ],
      "text/plain": [
       "<IPython.core.display.Javascript object>"
      ]
     },
     "metadata": {},
     "output_type": "display_data"
    },
    {
     "data": {
      "application/javascript": [
       "\n",
       "        if (window._pyforest_update_imports_cell) { window._pyforest_update_imports_cell('from sklearn.preprocessing import OneHotEncoder\\nimport pandas as pd\\nfrom sklearn.model_selection import train_test_split\\nimport xgboost as xgb\\nimport matplotlib.pyplot as plt\\nfrom sklearn.preprocessing import StandardScaler\\nimport seaborn as sns\\nfrom sklearn import metrics'); }\n",
       "    "
      ],
      "text/plain": [
       "<IPython.core.display.Javascript object>"
      ]
     },
     "metadata": {},
     "output_type": "display_data"
    },
    {
     "data": {
      "application/javascript": [
       "\n",
       "        if (window._pyforest_update_imports_cell) { window._pyforest_update_imports_cell('from sklearn.preprocessing import OneHotEncoder\\nimport pandas as pd\\nfrom sklearn.model_selection import train_test_split\\nimport xgboost as xgb\\nimport matplotlib.pyplot as plt\\nfrom sklearn.preprocessing import StandardScaler\\nimport seaborn as sns\\nfrom sklearn import metrics'); }\n",
       "    "
      ],
      "text/plain": [
       "<IPython.core.display.Javascript object>"
      ]
     },
     "metadata": {},
     "output_type": "display_data"
    },
    {
     "data": {
      "application/javascript": [
       "\n",
       "        if (window._pyforest_update_imports_cell) { window._pyforest_update_imports_cell('from sklearn.preprocessing import OneHotEncoder\\nimport pandas as pd\\nfrom sklearn.model_selection import train_test_split\\nimport xgboost as xgb\\nimport matplotlib.pyplot as plt\\nfrom sklearn.preprocessing import StandardScaler\\nimport seaborn as sns\\nfrom sklearn import metrics'); }\n",
       "    "
      ],
      "text/plain": [
       "<IPython.core.display.Javascript object>"
      ]
     },
     "metadata": {},
     "output_type": "display_data"
    },
    {
     "data": {
      "application/javascript": [
       "\n",
       "        if (window._pyforest_update_imports_cell) { window._pyforest_update_imports_cell('from sklearn.preprocessing import OneHotEncoder\\nimport pandas as pd\\nfrom sklearn.model_selection import train_test_split\\nimport xgboost as xgb\\nimport matplotlib.pyplot as plt\\nfrom sklearn.preprocessing import StandardScaler\\nimport seaborn as sns\\nfrom sklearn import metrics'); }\n",
       "    "
      ],
      "text/plain": [
       "<IPython.core.display.Javascript object>"
      ]
     },
     "metadata": {},
     "output_type": "display_data"
    },
    {
     "data": {
      "application/javascript": [
       "\n",
       "        if (window._pyforest_update_imports_cell) { window._pyforest_update_imports_cell('from sklearn.preprocessing import OneHotEncoder\\nimport pandas as pd\\nfrom sklearn.model_selection import train_test_split\\nimport xgboost as xgb\\nimport matplotlib.pyplot as plt\\nfrom sklearn.preprocessing import StandardScaler\\nimport seaborn as sns\\nfrom sklearn import metrics'); }\n",
       "    "
      ],
      "text/plain": [
       "<IPython.core.display.Javascript object>"
      ]
     },
     "metadata": {},
     "output_type": "display_data"
    },
    {
     "data": {
      "application/javascript": [
       "\n",
       "        if (window._pyforest_update_imports_cell) { window._pyforest_update_imports_cell('from sklearn.preprocessing import OneHotEncoder\\nimport pandas as pd\\nfrom sklearn.model_selection import train_test_split\\nimport xgboost as xgb\\nimport matplotlib.pyplot as plt\\nfrom sklearn.preprocessing import StandardScaler\\nimport seaborn as sns\\nfrom sklearn import metrics'); }\n",
       "    "
      ],
      "text/plain": [
       "<IPython.core.display.Javascript object>"
      ]
     },
     "metadata": {},
     "output_type": "display_data"
    },
    {
     "data": {
      "application/javascript": [
       "\n",
       "        if (window._pyforest_update_imports_cell) { window._pyforest_update_imports_cell('from sklearn.preprocessing import OneHotEncoder\\nimport pandas as pd\\nfrom sklearn.model_selection import train_test_split\\nimport xgboost as xgb\\nimport matplotlib.pyplot as plt\\nfrom sklearn.preprocessing import StandardScaler\\nimport seaborn as sns\\nfrom sklearn import metrics'); }\n",
       "    "
      ],
      "text/plain": [
       "<IPython.core.display.Javascript object>"
      ]
     },
     "metadata": {},
     "output_type": "display_data"
    },
    {
     "data": {
      "application/javascript": [
       "\n",
       "        if (window._pyforest_update_imports_cell) { window._pyforest_update_imports_cell('from sklearn.preprocessing import OneHotEncoder\\nimport pandas as pd\\nfrom sklearn.model_selection import train_test_split\\nimport xgboost as xgb\\nimport matplotlib.pyplot as plt\\nfrom sklearn.preprocessing import StandardScaler\\nimport seaborn as sns\\nfrom sklearn import metrics'); }\n",
       "    "
      ],
      "text/plain": [
       "<IPython.core.display.Javascript object>"
      ]
     },
     "metadata": {},
     "output_type": "display_data"
    },
    {
     "data": {
      "application/javascript": [
       "\n",
       "        if (window._pyforest_update_imports_cell) { window._pyforest_update_imports_cell('from sklearn.preprocessing import OneHotEncoder\\nimport pandas as pd\\nfrom sklearn.model_selection import train_test_split\\nimport xgboost as xgb\\nimport matplotlib.pyplot as plt\\nfrom sklearn.preprocessing import StandardScaler\\nimport seaborn as sns\\nfrom sklearn import metrics'); }\n",
       "    "
      ],
      "text/plain": [
       "<IPython.core.display.Javascript object>"
      ]
     },
     "metadata": {},
     "output_type": "display_data"
    },
    {
     "data": {
      "application/javascript": [
       "\n",
       "        if (window._pyforest_update_imports_cell) { window._pyforest_update_imports_cell('from sklearn.preprocessing import OneHotEncoder\\nimport pandas as pd\\nfrom sklearn.model_selection import train_test_split\\nimport xgboost as xgb\\nimport matplotlib.pyplot as plt\\nfrom sklearn.preprocessing import StandardScaler\\nimport seaborn as sns\\nfrom sklearn import metrics'); }\n",
       "    "
      ],
      "text/plain": [
       "<IPython.core.display.Javascript object>"
      ]
     },
     "metadata": {},
     "output_type": "display_data"
    },
    {
     "data": {
      "application/javascript": [
       "\n",
       "        if (window._pyforest_update_imports_cell) { window._pyforest_update_imports_cell('from sklearn.preprocessing import OneHotEncoder\\nimport pandas as pd\\nfrom sklearn.model_selection import train_test_split\\nimport xgboost as xgb\\nimport matplotlib.pyplot as plt\\nfrom sklearn.preprocessing import StandardScaler\\nimport seaborn as sns\\nfrom sklearn import metrics'); }\n",
       "    "
      ],
      "text/plain": [
       "<IPython.core.display.Javascript object>"
      ]
     },
     "metadata": {},
     "output_type": "display_data"
    },
    {
     "data": {
      "application/javascript": [
       "\n",
       "        if (window._pyforest_update_imports_cell) { window._pyforest_update_imports_cell('from sklearn.preprocessing import OneHotEncoder\\nimport pandas as pd\\nfrom sklearn.model_selection import train_test_split\\nimport xgboost as xgb\\nimport matplotlib.pyplot as plt\\nfrom sklearn.preprocessing import StandardScaler\\nimport seaborn as sns\\nfrom sklearn import metrics'); }\n",
       "    "
      ],
      "text/plain": [
       "<IPython.core.display.Javascript object>"
      ]
     },
     "metadata": {},
     "output_type": "display_data"
    },
    {
     "data": {
      "application/javascript": [
       "\n",
       "        if (window._pyforest_update_imports_cell) { window._pyforest_update_imports_cell('from sklearn.preprocessing import OneHotEncoder\\nimport pandas as pd\\nfrom sklearn.model_selection import train_test_split\\nimport xgboost as xgb\\nimport matplotlib.pyplot as plt\\nfrom sklearn.preprocessing import StandardScaler\\nimport seaborn as sns\\nfrom sklearn import metrics'); }\n",
       "    "
      ],
      "text/plain": [
       "<IPython.core.display.Javascript object>"
      ]
     },
     "metadata": {},
     "output_type": "display_data"
    },
    {
     "data": {
      "application/javascript": [
       "\n",
       "        if (window._pyforest_update_imports_cell) { window._pyforest_update_imports_cell('from sklearn.preprocessing import OneHotEncoder\\nimport pandas as pd\\nfrom sklearn.model_selection import train_test_split\\nimport xgboost as xgb\\nimport matplotlib.pyplot as plt\\nfrom sklearn.preprocessing import StandardScaler\\nimport seaborn as sns\\nfrom sklearn import metrics'); }\n",
       "    "
      ],
      "text/plain": [
       "<IPython.core.display.Javascript object>"
      ]
     },
     "metadata": {},
     "output_type": "display_data"
    },
    {
     "data": {
      "application/javascript": [
       "\n",
       "        if (window._pyforest_update_imports_cell) { window._pyforest_update_imports_cell('from sklearn.preprocessing import OneHotEncoder\\nimport pandas as pd\\nfrom sklearn.model_selection import train_test_split\\nimport xgboost as xgb\\nimport matplotlib.pyplot as plt\\nfrom sklearn.preprocessing import StandardScaler\\nimport seaborn as sns\\nfrom sklearn import metrics'); }\n",
       "    "
      ],
      "text/plain": [
       "<IPython.core.display.Javascript object>"
      ]
     },
     "metadata": {},
     "output_type": "display_data"
    },
    {
     "data": {
      "application/javascript": [
       "\n",
       "        if (window._pyforest_update_imports_cell) { window._pyforest_update_imports_cell('from sklearn.preprocessing import OneHotEncoder\\nimport pandas as pd\\nfrom sklearn.model_selection import train_test_split\\nimport xgboost as xgb\\nimport matplotlib.pyplot as plt\\nfrom sklearn.preprocessing import StandardScaler\\nimport seaborn as sns\\nfrom sklearn import metrics'); }\n",
       "    "
      ],
      "text/plain": [
       "<IPython.core.display.Javascript object>"
      ]
     },
     "metadata": {},
     "output_type": "display_data"
    },
    {
     "data": {
      "application/javascript": [
       "\n",
       "        if (window._pyforest_update_imports_cell) { window._pyforest_update_imports_cell('from sklearn.preprocessing import OneHotEncoder\\nimport pandas as pd\\nfrom sklearn.model_selection import train_test_split\\nimport xgboost as xgb\\nimport matplotlib.pyplot as plt\\nfrom sklearn.preprocessing import StandardScaler\\nimport seaborn as sns\\nfrom sklearn import metrics'); }\n",
       "    "
      ],
      "text/plain": [
       "<IPython.core.display.Javascript object>"
      ]
     },
     "metadata": {},
     "output_type": "display_data"
    },
    {
     "data": {
      "application/javascript": [
       "\n",
       "        if (window._pyforest_update_imports_cell) { window._pyforest_update_imports_cell('from sklearn.preprocessing import OneHotEncoder\\nimport pandas as pd\\nfrom sklearn.model_selection import train_test_split\\nimport xgboost as xgb\\nimport matplotlib.pyplot as plt\\nfrom sklearn.preprocessing import StandardScaler\\nimport seaborn as sns\\nfrom sklearn import metrics'); }\n",
       "    "
      ],
      "text/plain": [
       "<IPython.core.display.Javascript object>"
      ]
     },
     "metadata": {},
     "output_type": "display_data"
    },
    {
     "data": {
      "application/javascript": [
       "\n",
       "        if (window._pyforest_update_imports_cell) { window._pyforest_update_imports_cell('from sklearn.preprocessing import OneHotEncoder\\nimport pandas as pd\\nfrom sklearn.model_selection import train_test_split\\nimport xgboost as xgb\\nimport matplotlib.pyplot as plt\\nfrom sklearn.preprocessing import StandardScaler\\nimport seaborn as sns\\nfrom sklearn import metrics'); }\n",
       "    "
      ],
      "text/plain": [
       "<IPython.core.display.Javascript object>"
      ]
     },
     "metadata": {},
     "output_type": "display_data"
    },
    {
     "data": {
      "application/javascript": [
       "\n",
       "        if (window._pyforest_update_imports_cell) { window._pyforest_update_imports_cell('from sklearn.preprocessing import OneHotEncoder\\nimport pandas as pd\\nfrom sklearn.model_selection import train_test_split\\nimport xgboost as xgb\\nimport matplotlib.pyplot as plt\\nfrom sklearn.preprocessing import StandardScaler\\nimport seaborn as sns\\nfrom sklearn import metrics'); }\n",
       "    "
      ],
      "text/plain": [
       "<IPython.core.display.Javascript object>"
      ]
     },
     "metadata": {},
     "output_type": "display_data"
    },
    {
     "data": {
      "application/javascript": [
       "\n",
       "        if (window._pyforest_update_imports_cell) { window._pyforest_update_imports_cell('from sklearn.preprocessing import OneHotEncoder\\nimport pandas as pd\\nfrom sklearn.model_selection import train_test_split\\nimport xgboost as xgb\\nimport matplotlib.pyplot as plt\\nfrom sklearn.preprocessing import StandardScaler\\nimport seaborn as sns\\nfrom sklearn import metrics'); }\n",
       "    "
      ],
      "text/plain": [
       "<IPython.core.display.Javascript object>"
      ]
     },
     "metadata": {},
     "output_type": "display_data"
    },
    {
     "data": {
      "application/javascript": [
       "\n",
       "        if (window._pyforest_update_imports_cell) { window._pyforest_update_imports_cell('from sklearn.preprocessing import OneHotEncoder\\nimport pandas as pd\\nfrom sklearn.model_selection import train_test_split\\nimport xgboost as xgb\\nimport matplotlib.pyplot as plt\\nfrom sklearn.preprocessing import StandardScaler\\nimport seaborn as sns\\nfrom sklearn import metrics'); }\n",
       "    "
      ],
      "text/plain": [
       "<IPython.core.display.Javascript object>"
      ]
     },
     "metadata": {},
     "output_type": "display_data"
    },
    {
     "data": {
      "application/javascript": [
       "\n",
       "        if (window._pyforest_update_imports_cell) { window._pyforest_update_imports_cell('from sklearn.preprocessing import OneHotEncoder\\nimport pandas as pd\\nfrom sklearn.model_selection import train_test_split\\nimport xgboost as xgb\\nimport matplotlib.pyplot as plt\\nfrom sklearn.preprocessing import StandardScaler\\nimport seaborn as sns\\nfrom sklearn import metrics'); }\n",
       "    "
      ],
      "text/plain": [
       "<IPython.core.display.Javascript object>"
      ]
     },
     "metadata": {},
     "output_type": "display_data"
    },
    {
     "data": {
      "application/javascript": [
       "\n",
       "        if (window._pyforest_update_imports_cell) { window._pyforest_update_imports_cell('from sklearn.preprocessing import OneHotEncoder\\nimport pandas as pd\\nfrom sklearn.model_selection import train_test_split\\nimport xgboost as xgb\\nimport matplotlib.pyplot as plt\\nfrom sklearn.preprocessing import StandardScaler\\nimport seaborn as sns\\nfrom sklearn import metrics'); }\n",
       "    "
      ],
      "text/plain": [
       "<IPython.core.display.Javascript object>"
      ]
     },
     "metadata": {},
     "output_type": "display_data"
    },
    {
     "data": {
      "application/javascript": [
       "\n",
       "        if (window._pyforest_update_imports_cell) { window._pyforest_update_imports_cell('from sklearn.preprocessing import OneHotEncoder\\nimport pandas as pd\\nfrom sklearn.model_selection import train_test_split\\nimport xgboost as xgb\\nimport matplotlib.pyplot as plt\\nfrom sklearn.preprocessing import StandardScaler\\nimport seaborn as sns\\nfrom sklearn import metrics'); }\n",
       "    "
      ],
      "text/plain": [
       "<IPython.core.display.Javascript object>"
      ]
     },
     "metadata": {},
     "output_type": "display_data"
    },
    {
     "data": {
      "application/javascript": [
       "\n",
       "        if (window._pyforest_update_imports_cell) { window._pyforest_update_imports_cell('from sklearn.preprocessing import OneHotEncoder\\nimport pandas as pd\\nfrom sklearn.model_selection import train_test_split\\nimport xgboost as xgb\\nimport matplotlib.pyplot as plt\\nfrom sklearn.preprocessing import StandardScaler\\nimport seaborn as sns\\nfrom sklearn import metrics'); }\n",
       "    "
      ],
      "text/plain": [
       "<IPython.core.display.Javascript object>"
      ]
     },
     "metadata": {},
     "output_type": "display_data"
    },
    {
     "data": {
      "application/javascript": [
       "\n",
       "        if (window._pyforest_update_imports_cell) { window._pyforest_update_imports_cell('from sklearn.preprocessing import OneHotEncoder\\nimport pandas as pd\\nfrom sklearn.model_selection import train_test_split\\nimport xgboost as xgb\\nimport matplotlib.pyplot as plt\\nfrom sklearn.preprocessing import StandardScaler\\nimport seaborn as sns\\nfrom sklearn import metrics'); }\n",
       "    "
      ],
      "text/plain": [
       "<IPython.core.display.Javascript object>"
      ]
     },
     "metadata": {},
     "output_type": "display_data"
    },
    {
     "data": {
      "application/javascript": [
       "\n",
       "        if (window._pyforest_update_imports_cell) { window._pyforest_update_imports_cell('from sklearn.preprocessing import OneHotEncoder\\nimport pandas as pd\\nfrom sklearn.model_selection import train_test_split\\nimport xgboost as xgb\\nimport matplotlib.pyplot as plt\\nfrom sklearn.preprocessing import StandardScaler\\nimport seaborn as sns\\nfrom sklearn import metrics'); }\n",
       "    "
      ],
      "text/plain": [
       "<IPython.core.display.Javascript object>"
      ]
     },
     "metadata": {},
     "output_type": "display_data"
    },
    {
     "data": {
      "application/javascript": [
       "\n",
       "        if (window._pyforest_update_imports_cell) { window._pyforest_update_imports_cell('from sklearn.preprocessing import OneHotEncoder\\nimport pandas as pd\\nfrom sklearn.model_selection import train_test_split\\nimport xgboost as xgb\\nimport matplotlib.pyplot as plt\\nfrom sklearn.preprocessing import StandardScaler\\nimport seaborn as sns\\nfrom sklearn import metrics'); }\n",
       "    "
      ],
      "text/plain": [
       "<IPython.core.display.Javascript object>"
      ]
     },
     "metadata": {},
     "output_type": "display_data"
    },
    {
     "data": {
      "application/javascript": [
       "\n",
       "        if (window._pyforest_update_imports_cell) { window._pyforest_update_imports_cell('from sklearn.preprocessing import OneHotEncoder\\nimport pandas as pd\\nfrom sklearn.model_selection import train_test_split\\nimport xgboost as xgb\\nimport matplotlib.pyplot as plt\\nfrom sklearn.preprocessing import StandardScaler\\nimport seaborn as sns\\nfrom sklearn import metrics'); }\n",
       "    "
      ],
      "text/plain": [
       "<IPython.core.display.Javascript object>"
      ]
     },
     "metadata": {},
     "output_type": "display_data"
    },
    {
     "data": {
      "application/javascript": [
       "\n",
       "        if (window._pyforest_update_imports_cell) { window._pyforest_update_imports_cell('from sklearn.preprocessing import OneHotEncoder\\nimport pandas as pd\\nfrom sklearn.model_selection import train_test_split\\nimport xgboost as xgb\\nimport matplotlib.pyplot as plt\\nfrom sklearn.preprocessing import StandardScaler\\nimport seaborn as sns\\nfrom sklearn import metrics'); }\n",
       "    "
      ],
      "text/plain": [
       "<IPython.core.display.Javascript object>"
      ]
     },
     "metadata": {},
     "output_type": "display_data"
    },
    {
     "data": {
      "application/javascript": [
       "\n",
       "        if (window._pyforest_update_imports_cell) { window._pyforest_update_imports_cell('from sklearn.preprocessing import OneHotEncoder\\nimport pandas as pd\\nfrom sklearn.model_selection import train_test_split\\nimport xgboost as xgb\\nimport matplotlib.pyplot as plt\\nfrom sklearn.preprocessing import StandardScaler\\nimport seaborn as sns\\nfrom sklearn import metrics'); }\n",
       "    "
      ],
      "text/plain": [
       "<IPython.core.display.Javascript object>"
      ]
     },
     "metadata": {},
     "output_type": "display_data"
    },
    {
     "data": {
      "application/javascript": [
       "\n",
       "        if (window._pyforest_update_imports_cell) { window._pyforest_update_imports_cell('from sklearn.preprocessing import OneHotEncoder\\nimport pandas as pd\\nfrom sklearn.model_selection import train_test_split\\nimport xgboost as xgb\\nimport matplotlib.pyplot as plt\\nfrom sklearn.preprocessing import StandardScaler\\nimport seaborn as sns\\nfrom sklearn import metrics'); }\n",
       "    "
      ],
      "text/plain": [
       "<IPython.core.display.Javascript object>"
      ]
     },
     "metadata": {},
     "output_type": "display_data"
    },
    {
     "data": {
      "application/javascript": [
       "\n",
       "        if (window._pyforest_update_imports_cell) { window._pyforest_update_imports_cell('from sklearn.preprocessing import OneHotEncoder\\nimport pandas as pd\\nfrom sklearn.model_selection import train_test_split\\nimport xgboost as xgb\\nimport matplotlib.pyplot as plt\\nfrom sklearn.preprocessing import StandardScaler\\nimport seaborn as sns\\nfrom sklearn import metrics'); }\n",
       "    "
      ],
      "text/plain": [
       "<IPython.core.display.Javascript object>"
      ]
     },
     "metadata": {},
     "output_type": "display_data"
    },
    {
     "data": {
      "application/javascript": [
       "\n",
       "        if (window._pyforest_update_imports_cell) { window._pyforest_update_imports_cell('from sklearn.preprocessing import OneHotEncoder\\nimport pandas as pd\\nfrom sklearn.model_selection import train_test_split\\nimport xgboost as xgb\\nimport matplotlib.pyplot as plt\\nfrom sklearn.preprocessing import StandardScaler\\nimport seaborn as sns\\nfrom sklearn import metrics'); }\n",
       "    "
      ],
      "text/plain": [
       "<IPython.core.display.Javascript object>"
      ]
     },
     "metadata": {},
     "output_type": "display_data"
    },
    {
     "data": {
      "application/javascript": [
       "\n",
       "        if (window._pyforest_update_imports_cell) { window._pyforest_update_imports_cell('from sklearn.preprocessing import OneHotEncoder\\nimport pandas as pd\\nfrom sklearn.model_selection import train_test_split\\nimport xgboost as xgb\\nimport matplotlib.pyplot as plt\\nfrom sklearn.preprocessing import StandardScaler\\nimport seaborn as sns\\nfrom sklearn import metrics'); }\n",
       "    "
      ],
      "text/plain": [
       "<IPython.core.display.Javascript object>"
      ]
     },
     "metadata": {},
     "output_type": "display_data"
    },
    {
     "data": {
      "application/javascript": [
       "\n",
       "        if (window._pyforest_update_imports_cell) { window._pyforest_update_imports_cell('from sklearn.preprocessing import OneHotEncoder\\nimport pandas as pd\\nfrom sklearn.model_selection import train_test_split\\nimport xgboost as xgb\\nimport matplotlib.pyplot as plt\\nfrom sklearn.preprocessing import StandardScaler\\nimport seaborn as sns\\nfrom sklearn import metrics'); }\n",
       "    "
      ],
      "text/plain": [
       "<IPython.core.display.Javascript object>"
      ]
     },
     "metadata": {},
     "output_type": "display_data"
    },
    {
     "data": {
      "application/javascript": [
       "\n",
       "        if (window._pyforest_update_imports_cell) { window._pyforest_update_imports_cell('from sklearn.preprocessing import OneHotEncoder\\nimport pandas as pd\\nfrom sklearn.model_selection import train_test_split\\nimport xgboost as xgb\\nimport matplotlib.pyplot as plt\\nfrom sklearn.preprocessing import StandardScaler\\nimport seaborn as sns\\nfrom sklearn import metrics'); }\n",
       "    "
      ],
      "text/plain": [
       "<IPython.core.display.Javascript object>"
      ]
     },
     "metadata": {},
     "output_type": "display_data"
    },
    {
     "data": {
      "application/javascript": [
       "\n",
       "        if (window._pyforest_update_imports_cell) { window._pyforest_update_imports_cell('from sklearn.preprocessing import OneHotEncoder\\nimport pandas as pd\\nfrom sklearn.model_selection import train_test_split\\nimport xgboost as xgb\\nimport matplotlib.pyplot as plt\\nfrom sklearn.preprocessing import StandardScaler\\nimport seaborn as sns\\nfrom sklearn import metrics'); }\n",
       "    "
      ],
      "text/plain": [
       "<IPython.core.display.Javascript object>"
      ]
     },
     "metadata": {},
     "output_type": "display_data"
    },
    {
     "data": {
      "application/javascript": [
       "\n",
       "        if (window._pyforest_update_imports_cell) { window._pyforest_update_imports_cell('from sklearn.preprocessing import OneHotEncoder\\nimport pandas as pd\\nfrom sklearn.model_selection import train_test_split\\nimport xgboost as xgb\\nimport matplotlib.pyplot as plt\\nfrom sklearn.preprocessing import StandardScaler\\nimport seaborn as sns\\nfrom sklearn import metrics'); }\n",
       "    "
      ],
      "text/plain": [
       "<IPython.core.display.Javascript object>"
      ]
     },
     "metadata": {},
     "output_type": "display_data"
    },
    {
     "data": {
      "application/javascript": [
       "\n",
       "        if (window._pyforest_update_imports_cell) { window._pyforest_update_imports_cell('from sklearn.preprocessing import OneHotEncoder\\nimport pandas as pd\\nfrom sklearn.model_selection import train_test_split\\nimport xgboost as xgb\\nimport matplotlib.pyplot as plt\\nfrom sklearn.preprocessing import StandardScaler\\nimport seaborn as sns\\nfrom sklearn import metrics'); }\n",
       "    "
      ],
      "text/plain": [
       "<IPython.core.display.Javascript object>"
      ]
     },
     "metadata": {},
     "output_type": "display_data"
    },
    {
     "data": {
      "application/javascript": [
       "\n",
       "        if (window._pyforest_update_imports_cell) { window._pyforest_update_imports_cell('from sklearn.preprocessing import OneHotEncoder\\nimport pandas as pd\\nfrom sklearn.model_selection import train_test_split\\nimport xgboost as xgb\\nimport matplotlib.pyplot as plt\\nfrom sklearn.preprocessing import StandardScaler\\nimport seaborn as sns\\nfrom sklearn import metrics'); }\n",
       "    "
      ],
      "text/plain": [
       "<IPython.core.display.Javascript object>"
      ]
     },
     "metadata": {},
     "output_type": "display_data"
    },
    {
     "data": {
      "application/javascript": [
       "\n",
       "        if (window._pyforest_update_imports_cell) { window._pyforest_update_imports_cell('from sklearn.preprocessing import OneHotEncoder\\nimport pandas as pd\\nfrom sklearn.model_selection import train_test_split\\nimport xgboost as xgb\\nimport matplotlib.pyplot as plt\\nfrom sklearn.preprocessing import StandardScaler\\nimport seaborn as sns\\nfrom sklearn import metrics'); }\n",
       "    "
      ],
      "text/plain": [
       "<IPython.core.display.Javascript object>"
      ]
     },
     "metadata": {},
     "output_type": "display_data"
    },
    {
     "data": {
      "application/javascript": [
       "\n",
       "        if (window._pyforest_update_imports_cell) { window._pyforest_update_imports_cell('from sklearn.preprocessing import OneHotEncoder\\nimport pandas as pd\\nfrom sklearn.model_selection import train_test_split\\nimport xgboost as xgb\\nimport matplotlib.pyplot as plt\\nfrom sklearn.preprocessing import StandardScaler\\nimport seaborn as sns\\nfrom sklearn import metrics'); }\n",
       "    "
      ],
      "text/plain": [
       "<IPython.core.display.Javascript object>"
      ]
     },
     "metadata": {},
     "output_type": "display_data"
    },
    {
     "data": {
      "application/javascript": [
       "\n",
       "        if (window._pyforest_update_imports_cell) { window._pyforest_update_imports_cell('from sklearn.preprocessing import OneHotEncoder\\nimport pandas as pd\\nfrom sklearn.model_selection import train_test_split\\nimport xgboost as xgb\\nimport matplotlib.pyplot as plt\\nfrom sklearn.preprocessing import StandardScaler\\nimport seaborn as sns\\nfrom sklearn import metrics'); }\n",
       "    "
      ],
      "text/plain": [
       "<IPython.core.display.Javascript object>"
      ]
     },
     "metadata": {},
     "output_type": "display_data"
    },
    {
     "data": {
      "application/javascript": [
       "\n",
       "        if (window._pyforest_update_imports_cell) { window._pyforest_update_imports_cell('from sklearn.preprocessing import OneHotEncoder\\nimport pandas as pd\\nfrom sklearn.model_selection import train_test_split\\nimport xgboost as xgb\\nimport matplotlib.pyplot as plt\\nfrom sklearn.preprocessing import StandardScaler\\nimport seaborn as sns\\nfrom sklearn import metrics'); }\n",
       "    "
      ],
      "text/plain": [
       "<IPython.core.display.Javascript object>"
      ]
     },
     "metadata": {},
     "output_type": "display_data"
    },
    {
     "data": {
      "application/javascript": [
       "\n",
       "        if (window._pyforest_update_imports_cell) { window._pyforest_update_imports_cell('from sklearn.preprocessing import OneHotEncoder\\nimport pandas as pd\\nfrom sklearn.model_selection import train_test_split\\nimport xgboost as xgb\\nimport matplotlib.pyplot as plt\\nfrom sklearn.preprocessing import StandardScaler\\nimport seaborn as sns\\nfrom sklearn import metrics'); }\n",
       "    "
      ],
      "text/plain": [
       "<IPython.core.display.Javascript object>"
      ]
     },
     "metadata": {},
     "output_type": "display_data"
    },
    {
     "data": {
      "application/javascript": [
       "\n",
       "        if (window._pyforest_update_imports_cell) { window._pyforest_update_imports_cell('from sklearn.preprocessing import OneHotEncoder\\nimport pandas as pd\\nfrom sklearn.model_selection import train_test_split\\nimport xgboost as xgb\\nimport matplotlib.pyplot as plt\\nfrom sklearn.preprocessing import StandardScaler\\nimport seaborn as sns\\nfrom sklearn import metrics'); }\n",
       "    "
      ],
      "text/plain": [
       "<IPython.core.display.Javascript object>"
      ]
     },
     "metadata": {},
     "output_type": "display_data"
    },
    {
     "data": {
      "application/javascript": [
       "\n",
       "        if (window._pyforest_update_imports_cell) { window._pyforest_update_imports_cell('from sklearn.preprocessing import OneHotEncoder\\nimport pandas as pd\\nfrom sklearn.model_selection import train_test_split\\nimport xgboost as xgb\\nimport matplotlib.pyplot as plt\\nfrom sklearn.preprocessing import StandardScaler\\nimport seaborn as sns\\nfrom sklearn import metrics'); }\n",
       "    "
      ],
      "text/plain": [
       "<IPython.core.display.Javascript object>"
      ]
     },
     "metadata": {},
     "output_type": "display_data"
    },
    {
     "data": {
      "application/javascript": [
       "\n",
       "        if (window._pyforest_update_imports_cell) { window._pyforest_update_imports_cell('from sklearn.preprocessing import OneHotEncoder\\nimport pandas as pd\\nfrom sklearn.model_selection import train_test_split\\nimport xgboost as xgb\\nimport matplotlib.pyplot as plt\\nfrom sklearn.preprocessing import StandardScaler\\nimport seaborn as sns\\nfrom sklearn import metrics'); }\n",
       "    "
      ],
      "text/plain": [
       "<IPython.core.display.Javascript object>"
      ]
     },
     "metadata": {},
     "output_type": "display_data"
    },
    {
     "data": {
      "application/javascript": [
       "\n",
       "        if (window._pyforest_update_imports_cell) { window._pyforest_update_imports_cell('from sklearn.preprocessing import OneHotEncoder\\nimport pandas as pd\\nfrom sklearn.model_selection import train_test_split\\nimport xgboost as xgb\\nimport matplotlib.pyplot as plt\\nfrom sklearn.preprocessing import StandardScaler\\nimport seaborn as sns\\nfrom sklearn import metrics'); }\n",
       "    "
      ],
      "text/plain": [
       "<IPython.core.display.Javascript object>"
      ]
     },
     "metadata": {},
     "output_type": "display_data"
    },
    {
     "data": {
      "application/javascript": [
       "\n",
       "        if (window._pyforest_update_imports_cell) { window._pyforest_update_imports_cell('from sklearn.preprocessing import OneHotEncoder\\nimport pandas as pd\\nfrom sklearn.model_selection import train_test_split\\nimport xgboost as xgb\\nimport matplotlib.pyplot as plt\\nfrom sklearn.preprocessing import StandardScaler\\nimport seaborn as sns\\nfrom sklearn import metrics'); }\n",
       "    "
      ],
      "text/plain": [
       "<IPython.core.display.Javascript object>"
      ]
     },
     "metadata": {},
     "output_type": "display_data"
    },
    {
     "data": {
      "application/javascript": [
       "\n",
       "        if (window._pyforest_update_imports_cell) { window._pyforest_update_imports_cell('from sklearn.preprocessing import OneHotEncoder\\nimport pandas as pd\\nfrom sklearn.model_selection import train_test_split\\nimport xgboost as xgb\\nimport matplotlib.pyplot as plt\\nfrom sklearn.preprocessing import StandardScaler\\nimport seaborn as sns\\nfrom sklearn import metrics'); }\n",
       "    "
      ],
      "text/plain": [
       "<IPython.core.display.Javascript object>"
      ]
     },
     "metadata": {},
     "output_type": "display_data"
    },
    {
     "data": {
      "application/javascript": [
       "\n",
       "        if (window._pyforest_update_imports_cell) { window._pyforest_update_imports_cell('from sklearn.preprocessing import OneHotEncoder\\nimport pandas as pd\\nfrom sklearn.model_selection import train_test_split\\nimport xgboost as xgb\\nimport matplotlib.pyplot as plt\\nfrom sklearn.preprocessing import StandardScaler\\nimport seaborn as sns\\nfrom sklearn import metrics'); }\n",
       "    "
      ],
      "text/plain": [
       "<IPython.core.display.Javascript object>"
      ]
     },
     "metadata": {},
     "output_type": "display_data"
    },
    {
     "data": {
      "application/javascript": [
       "\n",
       "        if (window._pyforest_update_imports_cell) { window._pyforest_update_imports_cell('from sklearn.preprocessing import OneHotEncoder\\nimport pandas as pd\\nfrom sklearn.model_selection import train_test_split\\nimport xgboost as xgb\\nimport matplotlib.pyplot as plt\\nfrom sklearn.preprocessing import StandardScaler\\nimport seaborn as sns\\nfrom sklearn import metrics'); }\n",
       "    "
      ],
      "text/plain": [
       "<IPython.core.display.Javascript object>"
      ]
     },
     "metadata": {},
     "output_type": "display_data"
    },
    {
     "data": {
      "application/javascript": [
       "\n",
       "        if (window._pyforest_update_imports_cell) { window._pyforest_update_imports_cell('from sklearn.preprocessing import OneHotEncoder\\nimport pandas as pd\\nfrom sklearn.model_selection import train_test_split\\nimport xgboost as xgb\\nimport matplotlib.pyplot as plt\\nfrom sklearn.preprocessing import StandardScaler\\nimport seaborn as sns\\nfrom sklearn import metrics'); }\n",
       "    "
      ],
      "text/plain": [
       "<IPython.core.display.Javascript object>"
      ]
     },
     "metadata": {},
     "output_type": "display_data"
    },
    {
     "data": {
      "application/javascript": [
       "\n",
       "        if (window._pyforest_update_imports_cell) { window._pyforest_update_imports_cell('from sklearn.preprocessing import OneHotEncoder\\nimport pandas as pd\\nfrom sklearn.model_selection import train_test_split\\nimport xgboost as xgb\\nimport matplotlib.pyplot as plt\\nfrom sklearn.preprocessing import StandardScaler\\nimport seaborn as sns\\nfrom sklearn import metrics'); }\n",
       "    "
      ],
      "text/plain": [
       "<IPython.core.display.Javascript object>"
      ]
     },
     "metadata": {},
     "output_type": "display_data"
    },
    {
     "data": {
      "application/javascript": [
       "\n",
       "        if (window._pyforest_update_imports_cell) { window._pyforest_update_imports_cell('from sklearn.preprocessing import OneHotEncoder\\nimport pandas as pd\\nfrom sklearn.model_selection import train_test_split\\nimport xgboost as xgb\\nimport matplotlib.pyplot as plt\\nfrom sklearn.preprocessing import StandardScaler\\nimport seaborn as sns\\nfrom sklearn import metrics'); }\n",
       "    "
      ],
      "text/plain": [
       "<IPython.core.display.Javascript object>"
      ]
     },
     "metadata": {},
     "output_type": "display_data"
    },
    {
     "data": {
      "application/javascript": [
       "\n",
       "        if (window._pyforest_update_imports_cell) { window._pyforest_update_imports_cell('from sklearn.preprocessing import OneHotEncoder\\nimport pandas as pd\\nfrom sklearn.model_selection import train_test_split\\nimport xgboost as xgb\\nimport matplotlib.pyplot as plt\\nfrom sklearn.preprocessing import StandardScaler\\nimport seaborn as sns\\nfrom sklearn import metrics'); }\n",
       "    "
      ],
      "text/plain": [
       "<IPython.core.display.Javascript object>"
      ]
     },
     "metadata": {},
     "output_type": "display_data"
    },
    {
     "data": {
      "application/javascript": [
       "\n",
       "        if (window._pyforest_update_imports_cell) { window._pyforest_update_imports_cell('from sklearn.preprocessing import OneHotEncoder\\nimport pandas as pd\\nfrom sklearn.model_selection import train_test_split\\nimport xgboost as xgb\\nimport matplotlib.pyplot as plt\\nfrom sklearn.preprocessing import StandardScaler\\nimport seaborn as sns\\nfrom sklearn import metrics'); }\n",
       "    "
      ],
      "text/plain": [
       "<IPython.core.display.Javascript object>"
      ]
     },
     "metadata": {},
     "output_type": "display_data"
    },
    {
     "data": {
      "application/javascript": [
       "\n",
       "        if (window._pyforest_update_imports_cell) { window._pyforest_update_imports_cell('from sklearn.preprocessing import OneHotEncoder\\nimport pandas as pd\\nfrom sklearn.model_selection import train_test_split\\nimport xgboost as xgb\\nimport matplotlib.pyplot as plt\\nfrom sklearn.preprocessing import StandardScaler\\nimport seaborn as sns\\nfrom sklearn import metrics'); }\n",
       "    "
      ],
      "text/plain": [
       "<IPython.core.display.Javascript object>"
      ]
     },
     "metadata": {},
     "output_type": "display_data"
    },
    {
     "data": {
      "application/javascript": [
       "\n",
       "        if (window._pyforest_update_imports_cell) { window._pyforest_update_imports_cell('from sklearn.preprocessing import OneHotEncoder\\nimport pandas as pd\\nfrom sklearn.model_selection import train_test_split\\nimport xgboost as xgb\\nimport matplotlib.pyplot as plt\\nfrom sklearn.preprocessing import StandardScaler\\nimport seaborn as sns\\nfrom sklearn import metrics'); }\n",
       "    "
      ],
      "text/plain": [
       "<IPython.core.display.Javascript object>"
      ]
     },
     "metadata": {},
     "output_type": "display_data"
    },
    {
     "data": {
      "application/javascript": [
       "\n",
       "        if (window._pyforest_update_imports_cell) { window._pyforest_update_imports_cell('from sklearn.preprocessing import OneHotEncoder\\nimport pandas as pd\\nfrom sklearn.model_selection import train_test_split\\nimport xgboost as xgb\\nimport matplotlib.pyplot as plt\\nfrom sklearn.preprocessing import StandardScaler\\nimport seaborn as sns\\nfrom sklearn import metrics'); }\n",
       "    "
      ],
      "text/plain": [
       "<IPython.core.display.Javascript object>"
      ]
     },
     "metadata": {},
     "output_type": "display_data"
    },
    {
     "data": {
      "application/javascript": [
       "\n",
       "        if (window._pyforest_update_imports_cell) { window._pyforest_update_imports_cell('from sklearn.preprocessing import OneHotEncoder\\nimport pandas as pd\\nfrom sklearn.model_selection import train_test_split\\nimport xgboost as xgb\\nimport matplotlib.pyplot as plt\\nfrom sklearn.preprocessing import StandardScaler\\nimport seaborn as sns\\nfrom sklearn import metrics'); }\n",
       "    "
      ],
      "text/plain": [
       "<IPython.core.display.Javascript object>"
      ]
     },
     "metadata": {},
     "output_type": "display_data"
    },
    {
     "data": {
      "application/javascript": [
       "\n",
       "        if (window._pyforest_update_imports_cell) { window._pyforest_update_imports_cell('from sklearn.preprocessing import OneHotEncoder\\nimport pandas as pd\\nfrom sklearn.model_selection import train_test_split\\nimport xgboost as xgb\\nimport matplotlib.pyplot as plt\\nfrom sklearn.preprocessing import StandardScaler\\nimport seaborn as sns\\nfrom sklearn import metrics'); }\n",
       "    "
      ],
      "text/plain": [
       "<IPython.core.display.Javascript object>"
      ]
     },
     "metadata": {},
     "output_type": "display_data"
    },
    {
     "data": {
      "application/javascript": [
       "\n",
       "        if (window._pyforest_update_imports_cell) { window._pyforest_update_imports_cell('from sklearn.preprocessing import OneHotEncoder\\nimport pandas as pd\\nfrom sklearn.model_selection import train_test_split\\nimport xgboost as xgb\\nimport matplotlib.pyplot as plt\\nfrom sklearn.preprocessing import StandardScaler\\nimport seaborn as sns\\nfrom sklearn import metrics'); }\n",
       "    "
      ],
      "text/plain": [
       "<IPython.core.display.Javascript object>"
      ]
     },
     "metadata": {},
     "output_type": "display_data"
    },
    {
     "data": {
      "application/javascript": [
       "\n",
       "        if (window._pyforest_update_imports_cell) { window._pyforest_update_imports_cell('from sklearn.preprocessing import OneHotEncoder\\nimport pandas as pd\\nfrom sklearn.model_selection import train_test_split\\nimport xgboost as xgb\\nimport matplotlib.pyplot as plt\\nfrom sklearn.preprocessing import StandardScaler\\nimport seaborn as sns\\nfrom sklearn import metrics'); }\n",
       "    "
      ],
      "text/plain": [
       "<IPython.core.display.Javascript object>"
      ]
     },
     "metadata": {},
     "output_type": "display_data"
    },
    {
     "data": {
      "application/javascript": [
       "\n",
       "        if (window._pyforest_update_imports_cell) { window._pyforest_update_imports_cell('from sklearn.preprocessing import OneHotEncoder\\nimport pandas as pd\\nfrom sklearn.model_selection import train_test_split\\nimport xgboost as xgb\\nimport matplotlib.pyplot as plt\\nfrom sklearn.preprocessing import StandardScaler\\nimport seaborn as sns\\nfrom sklearn import metrics'); }\n",
       "    "
      ],
      "text/plain": [
       "<IPython.core.display.Javascript object>"
      ]
     },
     "metadata": {},
     "output_type": "display_data"
    },
    {
     "data": {
      "application/javascript": [
       "\n",
       "        if (window._pyforest_update_imports_cell) { window._pyforest_update_imports_cell('from sklearn.preprocessing import OneHotEncoder\\nimport pandas as pd\\nfrom sklearn.model_selection import train_test_split\\nimport xgboost as xgb\\nimport matplotlib.pyplot as plt\\nfrom sklearn.preprocessing import StandardScaler\\nimport seaborn as sns\\nfrom sklearn import metrics'); }\n",
       "    "
      ],
      "text/plain": [
       "<IPython.core.display.Javascript object>"
      ]
     },
     "metadata": {},
     "output_type": "display_data"
    },
    {
     "data": {
      "application/javascript": [
       "\n",
       "        if (window._pyforest_update_imports_cell) { window._pyforest_update_imports_cell('from sklearn.preprocessing import OneHotEncoder\\nimport pandas as pd\\nfrom sklearn.model_selection import train_test_split\\nimport xgboost as xgb\\nimport matplotlib.pyplot as plt\\nfrom sklearn.preprocessing import StandardScaler\\nimport seaborn as sns\\nfrom sklearn import metrics'); }\n",
       "    "
      ],
      "text/plain": [
       "<IPython.core.display.Javascript object>"
      ]
     },
     "metadata": {},
     "output_type": "display_data"
    },
    {
     "data": {
      "application/javascript": [
       "\n",
       "        if (window._pyforest_update_imports_cell) { window._pyforest_update_imports_cell('from sklearn.preprocessing import OneHotEncoder\\nimport pandas as pd\\nfrom sklearn.model_selection import train_test_split\\nimport xgboost as xgb\\nimport matplotlib.pyplot as plt\\nfrom sklearn.preprocessing import StandardScaler\\nimport seaborn as sns\\nfrom sklearn import metrics'); }\n",
       "    "
      ],
      "text/plain": [
       "<IPython.core.display.Javascript object>"
      ]
     },
     "metadata": {},
     "output_type": "display_data"
    },
    {
     "data": {
      "application/javascript": [
       "\n",
       "        if (window._pyforest_update_imports_cell) { window._pyforest_update_imports_cell('from sklearn.preprocessing import OneHotEncoder\\nimport pandas as pd\\nfrom sklearn.model_selection import train_test_split\\nimport xgboost as xgb\\nimport matplotlib.pyplot as plt\\nfrom sklearn.preprocessing import StandardScaler\\nimport seaborn as sns\\nfrom sklearn import metrics'); }\n",
       "    "
      ],
      "text/plain": [
       "<IPython.core.display.Javascript object>"
      ]
     },
     "metadata": {},
     "output_type": "display_data"
    },
    {
     "data": {
      "application/javascript": [
       "\n",
       "        if (window._pyforest_update_imports_cell) { window._pyforest_update_imports_cell('from sklearn.preprocessing import OneHotEncoder\\nimport pandas as pd\\nfrom sklearn.model_selection import train_test_split\\nimport xgboost as xgb\\nimport matplotlib.pyplot as plt\\nfrom sklearn.preprocessing import StandardScaler\\nimport seaborn as sns\\nfrom sklearn import metrics'); }\n",
       "    "
      ],
      "text/plain": [
       "<IPython.core.display.Javascript object>"
      ]
     },
     "metadata": {},
     "output_type": "display_data"
    },
    {
     "data": {
      "application/javascript": [
       "\n",
       "        if (window._pyforest_update_imports_cell) { window._pyforest_update_imports_cell('from sklearn.preprocessing import OneHotEncoder\\nimport pandas as pd\\nfrom sklearn.model_selection import train_test_split\\nimport xgboost as xgb\\nimport matplotlib.pyplot as plt\\nfrom sklearn.preprocessing import StandardScaler\\nimport seaborn as sns\\nfrom sklearn import metrics'); }\n",
       "    "
      ],
      "text/plain": [
       "<IPython.core.display.Javascript object>"
      ]
     },
     "metadata": {},
     "output_type": "display_data"
    },
    {
     "data": {
      "application/javascript": [
       "\n",
       "        if (window._pyforest_update_imports_cell) { window._pyforest_update_imports_cell('from sklearn.preprocessing import OneHotEncoder\\nimport pandas as pd\\nfrom sklearn.model_selection import train_test_split\\nimport xgboost as xgb\\nimport matplotlib.pyplot as plt\\nfrom sklearn.preprocessing import StandardScaler\\nimport seaborn as sns\\nfrom sklearn import metrics'); }\n",
       "    "
      ],
      "text/plain": [
       "<IPython.core.display.Javascript object>"
      ]
     },
     "metadata": {},
     "output_type": "display_data"
    },
    {
     "data": {
      "application/javascript": [
       "\n",
       "        if (window._pyforest_update_imports_cell) { window._pyforest_update_imports_cell('from sklearn.preprocessing import OneHotEncoder\\nimport pandas as pd\\nfrom sklearn.model_selection import train_test_split\\nimport xgboost as xgb\\nimport matplotlib.pyplot as plt\\nfrom sklearn.preprocessing import StandardScaler\\nimport seaborn as sns\\nfrom sklearn import metrics'); }\n",
       "    "
      ],
      "text/plain": [
       "<IPython.core.display.Javascript object>"
      ]
     },
     "metadata": {},
     "output_type": "display_data"
    },
    {
     "data": {
      "application/javascript": [
       "\n",
       "        if (window._pyforest_update_imports_cell) { window._pyforest_update_imports_cell('from sklearn.preprocessing import OneHotEncoder\\nimport pandas as pd\\nfrom sklearn.model_selection import train_test_split\\nimport xgboost as xgb\\nimport matplotlib.pyplot as plt\\nfrom sklearn.preprocessing import StandardScaler\\nimport seaborn as sns\\nfrom sklearn import metrics'); }\n",
       "    "
      ],
      "text/plain": [
       "<IPython.core.display.Javascript object>"
      ]
     },
     "metadata": {},
     "output_type": "display_data"
    },
    {
     "data": {
      "application/javascript": [
       "\n",
       "        if (window._pyforest_update_imports_cell) { window._pyforest_update_imports_cell('from sklearn.preprocessing import OneHotEncoder\\nimport pandas as pd\\nfrom sklearn.model_selection import train_test_split\\nimport xgboost as xgb\\nimport matplotlib.pyplot as plt\\nfrom sklearn.preprocessing import StandardScaler\\nimport seaborn as sns\\nfrom sklearn import metrics'); }\n",
       "    "
      ],
      "text/plain": [
       "<IPython.core.display.Javascript object>"
      ]
     },
     "metadata": {},
     "output_type": "display_data"
    },
    {
     "data": {
      "application/javascript": [
       "\n",
       "        if (window._pyforest_update_imports_cell) { window._pyforest_update_imports_cell('from sklearn.preprocessing import OneHotEncoder\\nimport pandas as pd\\nfrom sklearn.model_selection import train_test_split\\nimport xgboost as xgb\\nimport matplotlib.pyplot as plt\\nfrom sklearn.preprocessing import StandardScaler\\nimport seaborn as sns\\nfrom sklearn import metrics'); }\n",
       "    "
      ],
      "text/plain": [
       "<IPython.core.display.Javascript object>"
      ]
     },
     "metadata": {},
     "output_type": "display_data"
    },
    {
     "data": {
      "application/javascript": [
       "\n",
       "        if (window._pyforest_update_imports_cell) { window._pyforest_update_imports_cell('from sklearn.preprocessing import OneHotEncoder\\nimport pandas as pd\\nfrom sklearn.model_selection import train_test_split\\nimport xgboost as xgb\\nimport matplotlib.pyplot as plt\\nfrom sklearn.preprocessing import StandardScaler\\nimport seaborn as sns\\nfrom sklearn import metrics'); }\n",
       "    "
      ],
      "text/plain": [
       "<IPython.core.display.Javascript object>"
      ]
     },
     "metadata": {},
     "output_type": "display_data"
    },
    {
     "data": {
      "application/javascript": [
       "\n",
       "        if (window._pyforest_update_imports_cell) { window._pyforest_update_imports_cell('from sklearn.preprocessing import OneHotEncoder\\nimport pandas as pd\\nfrom sklearn.model_selection import train_test_split\\nimport xgboost as xgb\\nimport matplotlib.pyplot as plt\\nfrom sklearn.preprocessing import StandardScaler\\nimport seaborn as sns\\nfrom sklearn import metrics'); }\n",
       "    "
      ],
      "text/plain": [
       "<IPython.core.display.Javascript object>"
      ]
     },
     "metadata": {},
     "output_type": "display_data"
    },
    {
     "data": {
      "application/javascript": [
       "\n",
       "        if (window._pyforest_update_imports_cell) { window._pyforest_update_imports_cell('from sklearn.preprocessing import OneHotEncoder\\nimport pandas as pd\\nfrom sklearn.model_selection import train_test_split\\nimport xgboost as xgb\\nimport matplotlib.pyplot as plt\\nfrom sklearn.preprocessing import StandardScaler\\nimport seaborn as sns\\nfrom sklearn import metrics'); }\n",
       "    "
      ],
      "text/plain": [
       "<IPython.core.display.Javascript object>"
      ]
     },
     "metadata": {},
     "output_type": "display_data"
    },
    {
     "data": {
      "application/javascript": [
       "\n",
       "        if (window._pyforest_update_imports_cell) { window._pyforest_update_imports_cell('from sklearn.preprocessing import OneHotEncoder\\nimport pandas as pd\\nfrom sklearn.model_selection import train_test_split\\nimport xgboost as xgb\\nimport matplotlib.pyplot as plt\\nfrom sklearn.preprocessing import StandardScaler\\nimport seaborn as sns\\nfrom sklearn import metrics'); }\n",
       "    "
      ],
      "text/plain": [
       "<IPython.core.display.Javascript object>"
      ]
     },
     "metadata": {},
     "output_type": "display_data"
    },
    {
     "data": {
      "application/javascript": [
       "\n",
       "        if (window._pyforest_update_imports_cell) { window._pyforest_update_imports_cell('from sklearn.preprocessing import OneHotEncoder\\nimport pandas as pd\\nfrom sklearn.model_selection import train_test_split\\nimport xgboost as xgb\\nimport matplotlib.pyplot as plt\\nfrom sklearn.preprocessing import StandardScaler\\nimport seaborn as sns\\nfrom sklearn import metrics'); }\n",
       "    "
      ],
      "text/plain": [
       "<IPython.core.display.Javascript object>"
      ]
     },
     "metadata": {},
     "output_type": "display_data"
    },
    {
     "data": {
      "application/javascript": [
       "\n",
       "        if (window._pyforest_update_imports_cell) { window._pyforest_update_imports_cell('from sklearn.preprocessing import OneHotEncoder\\nimport pandas as pd\\nfrom sklearn.model_selection import train_test_split\\nimport xgboost as xgb\\nimport matplotlib.pyplot as plt\\nfrom sklearn.preprocessing import StandardScaler\\nimport seaborn as sns\\nfrom sklearn import metrics'); }\n",
       "    "
      ],
      "text/plain": [
       "<IPython.core.display.Javascript object>"
      ]
     },
     "metadata": {},
     "output_type": "display_data"
    },
    {
     "data": {
      "application/javascript": [
       "\n",
       "        if (window._pyforest_update_imports_cell) { window._pyforest_update_imports_cell('from sklearn.preprocessing import OneHotEncoder\\nimport pandas as pd\\nfrom sklearn.model_selection import train_test_split\\nimport xgboost as xgb\\nimport matplotlib.pyplot as plt\\nfrom sklearn.preprocessing import StandardScaler\\nimport seaborn as sns\\nfrom sklearn import metrics'); }\n",
       "    "
      ],
      "text/plain": [
       "<IPython.core.display.Javascript object>"
      ]
     },
     "metadata": {},
     "output_type": "display_data"
    },
    {
     "data": {
      "application/javascript": [
       "\n",
       "        if (window._pyforest_update_imports_cell) { window._pyforest_update_imports_cell('from sklearn.preprocessing import OneHotEncoder\\nimport pandas as pd\\nfrom sklearn.model_selection import train_test_split\\nimport xgboost as xgb\\nimport matplotlib.pyplot as plt\\nfrom sklearn.preprocessing import StandardScaler\\nimport seaborn as sns\\nfrom sklearn import metrics'); }\n",
       "    "
      ],
      "text/plain": [
       "<IPython.core.display.Javascript object>"
      ]
     },
     "metadata": {},
     "output_type": "display_data"
    },
    {
     "data": {
      "application/javascript": [
       "\n",
       "        if (window._pyforest_update_imports_cell) { window._pyforest_update_imports_cell('from sklearn.preprocessing import OneHotEncoder\\nimport pandas as pd\\nfrom sklearn.model_selection import train_test_split\\nimport xgboost as xgb\\nimport matplotlib.pyplot as plt\\nfrom sklearn.preprocessing import StandardScaler\\nimport seaborn as sns\\nfrom sklearn import metrics'); }\n",
       "    "
      ],
      "text/plain": [
       "<IPython.core.display.Javascript object>"
      ]
     },
     "metadata": {},
     "output_type": "display_data"
    },
    {
     "data": {
      "application/javascript": [
       "\n",
       "        if (window._pyforest_update_imports_cell) { window._pyforest_update_imports_cell('from sklearn.preprocessing import OneHotEncoder\\nimport pandas as pd\\nfrom sklearn.model_selection import train_test_split\\nimport xgboost as xgb\\nimport matplotlib.pyplot as plt\\nfrom sklearn.preprocessing import StandardScaler\\nimport seaborn as sns\\nfrom sklearn import metrics'); }\n",
       "    "
      ],
      "text/plain": [
       "<IPython.core.display.Javascript object>"
      ]
     },
     "metadata": {},
     "output_type": "display_data"
    },
    {
     "data": {
      "application/javascript": [
       "\n",
       "        if (window._pyforest_update_imports_cell) { window._pyforest_update_imports_cell('from sklearn.preprocessing import OneHotEncoder\\nimport pandas as pd\\nfrom sklearn.model_selection import train_test_split\\nimport xgboost as xgb\\nimport matplotlib.pyplot as plt\\nfrom sklearn.preprocessing import StandardScaler\\nimport seaborn as sns\\nfrom sklearn import metrics'); }\n",
       "    "
      ],
      "text/plain": [
       "<IPython.core.display.Javascript object>"
      ]
     },
     "metadata": {},
     "output_type": "display_data"
    },
    {
     "data": {
      "application/javascript": [
       "\n",
       "        if (window._pyforest_update_imports_cell) { window._pyforest_update_imports_cell('from sklearn.preprocessing import OneHotEncoder\\nimport pandas as pd\\nfrom sklearn.model_selection import train_test_split\\nimport xgboost as xgb\\nimport matplotlib.pyplot as plt\\nfrom sklearn.preprocessing import StandardScaler\\nimport seaborn as sns\\nfrom sklearn import metrics'); }\n",
       "    "
      ],
      "text/plain": [
       "<IPython.core.display.Javascript object>"
      ]
     },
     "metadata": {},
     "output_type": "display_data"
    },
    {
     "data": {
      "application/javascript": [
       "\n",
       "        if (window._pyforest_update_imports_cell) { window._pyforest_update_imports_cell('from sklearn.preprocessing import OneHotEncoder\\nimport pandas as pd\\nfrom sklearn.model_selection import train_test_split\\nimport xgboost as xgb\\nimport matplotlib.pyplot as plt\\nfrom sklearn.preprocessing import StandardScaler\\nimport seaborn as sns\\nfrom sklearn import metrics'); }\n",
       "    "
      ],
      "text/plain": [
       "<IPython.core.display.Javascript object>"
      ]
     },
     "metadata": {},
     "output_type": "display_data"
    },
    {
     "data": {
      "application/javascript": [
       "\n",
       "        if (window._pyforest_update_imports_cell) { window._pyforest_update_imports_cell('from sklearn.preprocessing import OneHotEncoder\\nimport pandas as pd\\nfrom sklearn.model_selection import train_test_split\\nimport xgboost as xgb\\nimport matplotlib.pyplot as plt\\nfrom sklearn.preprocessing import StandardScaler\\nimport seaborn as sns\\nfrom sklearn import metrics'); }\n",
       "    "
      ],
      "text/plain": [
       "<IPython.core.display.Javascript object>"
      ]
     },
     "metadata": {},
     "output_type": "display_data"
    },
    {
     "data": {
      "application/javascript": [
       "\n",
       "        if (window._pyforest_update_imports_cell) { window._pyforest_update_imports_cell('from sklearn.preprocessing import OneHotEncoder\\nimport pandas as pd\\nfrom sklearn.model_selection import train_test_split\\nimport xgboost as xgb\\nimport matplotlib.pyplot as plt\\nfrom sklearn.preprocessing import StandardScaler\\nimport seaborn as sns\\nfrom sklearn import metrics'); }\n",
       "    "
      ],
      "text/plain": [
       "<IPython.core.display.Javascript object>"
      ]
     },
     "metadata": {},
     "output_type": "display_data"
    },
    {
     "data": {
      "application/javascript": [
       "\n",
       "        if (window._pyforest_update_imports_cell) { window._pyforest_update_imports_cell('from sklearn.preprocessing import OneHotEncoder\\nimport pandas as pd\\nfrom sklearn.model_selection import train_test_split\\nimport xgboost as xgb\\nimport matplotlib.pyplot as plt\\nfrom sklearn.preprocessing import StandardScaler\\nimport seaborn as sns\\nfrom sklearn import metrics'); }\n",
       "    "
      ],
      "text/plain": [
       "<IPython.core.display.Javascript object>"
      ]
     },
     "metadata": {},
     "output_type": "display_data"
    },
    {
     "data": {
      "application/javascript": [
       "\n",
       "        if (window._pyforest_update_imports_cell) { window._pyforest_update_imports_cell('from sklearn.preprocessing import OneHotEncoder\\nimport pandas as pd\\nfrom sklearn.model_selection import train_test_split\\nimport xgboost as xgb\\nimport matplotlib.pyplot as plt\\nfrom sklearn.preprocessing import StandardScaler\\nimport seaborn as sns\\nfrom sklearn import metrics'); }\n",
       "    "
      ],
      "text/plain": [
       "<IPython.core.display.Javascript object>"
      ]
     },
     "metadata": {},
     "output_type": "display_data"
    },
    {
     "data": {
      "application/javascript": [
       "\n",
       "        if (window._pyforest_update_imports_cell) { window._pyforest_update_imports_cell('from sklearn.preprocessing import OneHotEncoder\\nimport pandas as pd\\nfrom sklearn.model_selection import train_test_split\\nimport xgboost as xgb\\nimport matplotlib.pyplot as plt\\nfrom sklearn.preprocessing import StandardScaler\\nimport seaborn as sns\\nfrom sklearn import metrics'); }\n",
       "    "
      ],
      "text/plain": [
       "<IPython.core.display.Javascript object>"
      ]
     },
     "metadata": {},
     "output_type": "display_data"
    },
    {
     "data": {
      "application/javascript": [
       "\n",
       "        if (window._pyforest_update_imports_cell) { window._pyforest_update_imports_cell('from sklearn.preprocessing import OneHotEncoder\\nimport pandas as pd\\nfrom sklearn.model_selection import train_test_split\\nimport xgboost as xgb\\nimport matplotlib.pyplot as plt\\nfrom sklearn.preprocessing import StandardScaler\\nimport seaborn as sns\\nfrom sklearn import metrics'); }\n",
       "    "
      ],
      "text/plain": [
       "<IPython.core.display.Javascript object>"
      ]
     },
     "metadata": {},
     "output_type": "display_data"
    },
    {
     "data": {
      "application/javascript": [
       "\n",
       "        if (window._pyforest_update_imports_cell) { window._pyforest_update_imports_cell('from sklearn.preprocessing import OneHotEncoder\\nimport pandas as pd\\nfrom sklearn.model_selection import train_test_split\\nimport xgboost as xgb\\nimport matplotlib.pyplot as plt\\nfrom sklearn.preprocessing import StandardScaler\\nimport seaborn as sns\\nfrom sklearn import metrics'); }\n",
       "    "
      ],
      "text/plain": [
       "<IPython.core.display.Javascript object>"
      ]
     },
     "metadata": {},
     "output_type": "display_data"
    },
    {
     "data": {
      "application/javascript": [
       "\n",
       "        if (window._pyforest_update_imports_cell) { window._pyforest_update_imports_cell('from sklearn.preprocessing import OneHotEncoder\\nimport pandas as pd\\nfrom sklearn.model_selection import train_test_split\\nimport xgboost as xgb\\nimport matplotlib.pyplot as plt\\nfrom sklearn.preprocessing import StandardScaler\\nimport seaborn as sns\\nfrom sklearn import metrics'); }\n",
       "    "
      ],
      "text/plain": [
       "<IPython.core.display.Javascript object>"
      ]
     },
     "metadata": {},
     "output_type": "display_data"
    },
    {
     "data": {
      "application/javascript": [
       "\n",
       "        if (window._pyforest_update_imports_cell) { window._pyforest_update_imports_cell('from sklearn.preprocessing import OneHotEncoder\\nimport pandas as pd\\nfrom sklearn.model_selection import train_test_split\\nimport xgboost as xgb\\nimport matplotlib.pyplot as plt\\nfrom sklearn.preprocessing import StandardScaler\\nimport seaborn as sns\\nfrom sklearn import metrics'); }\n",
       "    "
      ],
      "text/plain": [
       "<IPython.core.display.Javascript object>"
      ]
     },
     "metadata": {},
     "output_type": "display_data"
    },
    {
     "data": {
      "application/javascript": [
       "\n",
       "        if (window._pyforest_update_imports_cell) { window._pyforest_update_imports_cell('from sklearn.preprocessing import OneHotEncoder\\nimport pandas as pd\\nfrom sklearn.model_selection import train_test_split\\nimport xgboost as xgb\\nimport matplotlib.pyplot as plt\\nfrom sklearn.preprocessing import StandardScaler\\nimport seaborn as sns\\nfrom sklearn import metrics'); }\n",
       "    "
      ],
      "text/plain": [
       "<IPython.core.display.Javascript object>"
      ]
     },
     "metadata": {},
     "output_type": "display_data"
    },
    {
     "data": {
      "application/javascript": [
       "\n",
       "        if (window._pyforest_update_imports_cell) { window._pyforest_update_imports_cell('from sklearn.preprocessing import OneHotEncoder\\nimport pandas as pd\\nfrom sklearn.model_selection import train_test_split\\nimport xgboost as xgb\\nimport matplotlib.pyplot as plt\\nfrom sklearn.preprocessing import StandardScaler\\nimport seaborn as sns\\nfrom sklearn import metrics'); }\n",
       "    "
      ],
      "text/plain": [
       "<IPython.core.display.Javascript object>"
      ]
     },
     "metadata": {},
     "output_type": "display_data"
    },
    {
     "data": {
      "application/javascript": [
       "\n",
       "        if (window._pyforest_update_imports_cell) { window._pyforest_update_imports_cell('from sklearn.preprocessing import OneHotEncoder\\nimport pandas as pd\\nfrom sklearn.model_selection import train_test_split\\nimport xgboost as xgb\\nimport matplotlib.pyplot as plt\\nfrom sklearn.preprocessing import StandardScaler\\nimport seaborn as sns\\nfrom sklearn import metrics'); }\n",
       "    "
      ],
      "text/plain": [
       "<IPython.core.display.Javascript object>"
      ]
     },
     "metadata": {},
     "output_type": "display_data"
    },
    {
     "data": {
      "application/javascript": [
       "\n",
       "        if (window._pyforest_update_imports_cell) { window._pyforest_update_imports_cell('from sklearn.preprocessing import OneHotEncoder\\nimport pandas as pd\\nfrom sklearn.model_selection import train_test_split\\nimport xgboost as xgb\\nimport matplotlib.pyplot as plt\\nfrom sklearn.preprocessing import StandardScaler\\nimport seaborn as sns\\nfrom sklearn import metrics'); }\n",
       "    "
      ],
      "text/plain": [
       "<IPython.core.display.Javascript object>"
      ]
     },
     "metadata": {},
     "output_type": "display_data"
    },
    {
     "data": {
      "application/javascript": [
       "\n",
       "        if (window._pyforest_update_imports_cell) { window._pyforest_update_imports_cell('from sklearn.preprocessing import OneHotEncoder\\nimport pandas as pd\\nfrom sklearn.model_selection import train_test_split\\nimport xgboost as xgb\\nimport matplotlib.pyplot as plt\\nfrom sklearn.preprocessing import StandardScaler\\nimport seaborn as sns\\nfrom sklearn import metrics'); }\n",
       "    "
      ],
      "text/plain": [
       "<IPython.core.display.Javascript object>"
      ]
     },
     "metadata": {},
     "output_type": "display_data"
    },
    {
     "data": {
      "application/javascript": [
       "\n",
       "        if (window._pyforest_update_imports_cell) { window._pyforest_update_imports_cell('from sklearn.preprocessing import OneHotEncoder\\nimport pandas as pd\\nfrom sklearn.model_selection import train_test_split\\nimport xgboost as xgb\\nimport matplotlib.pyplot as plt\\nfrom sklearn.preprocessing import StandardScaler\\nimport seaborn as sns\\nfrom sklearn import metrics'); }\n",
       "    "
      ],
      "text/plain": [
       "<IPython.core.display.Javascript object>"
      ]
     },
     "metadata": {},
     "output_type": "display_data"
    },
    {
     "data": {
      "application/javascript": [
       "\n",
       "        if (window._pyforest_update_imports_cell) { window._pyforest_update_imports_cell('from sklearn.preprocessing import OneHotEncoder\\nimport pandas as pd\\nfrom sklearn.model_selection import train_test_split\\nimport xgboost as xgb\\nimport matplotlib.pyplot as plt\\nfrom sklearn.preprocessing import StandardScaler\\nimport seaborn as sns\\nfrom sklearn import metrics'); }\n",
       "    "
      ],
      "text/plain": [
       "<IPython.core.display.Javascript object>"
      ]
     },
     "metadata": {},
     "output_type": "display_data"
    },
    {
     "data": {
      "application/javascript": [
       "\n",
       "        if (window._pyforest_update_imports_cell) { window._pyforest_update_imports_cell('from sklearn.preprocessing import OneHotEncoder\\nimport pandas as pd\\nfrom sklearn.model_selection import train_test_split\\nimport xgboost as xgb\\nimport matplotlib.pyplot as plt\\nfrom sklearn.preprocessing import StandardScaler\\nimport seaborn as sns\\nfrom sklearn import metrics'); }\n",
       "    "
      ],
      "text/plain": [
       "<IPython.core.display.Javascript object>"
      ]
     },
     "metadata": {},
     "output_type": "display_data"
    },
    {
     "data": {
      "application/javascript": [
       "\n",
       "        if (window._pyforest_update_imports_cell) { window._pyforest_update_imports_cell('from sklearn.preprocessing import OneHotEncoder\\nimport pandas as pd\\nfrom sklearn.model_selection import train_test_split\\nimport xgboost as xgb\\nimport matplotlib.pyplot as plt\\nfrom sklearn.preprocessing import StandardScaler\\nimport seaborn as sns\\nfrom sklearn import metrics'); }\n",
       "    "
      ],
      "text/plain": [
       "<IPython.core.display.Javascript object>"
      ]
     },
     "metadata": {},
     "output_type": "display_data"
    },
    {
     "data": {
      "application/javascript": [
       "\n",
       "        if (window._pyforest_update_imports_cell) { window._pyforest_update_imports_cell('from sklearn.preprocessing import OneHotEncoder\\nimport pandas as pd\\nfrom sklearn.model_selection import train_test_split\\nimport xgboost as xgb\\nimport matplotlib.pyplot as plt\\nfrom sklearn.preprocessing import StandardScaler\\nimport seaborn as sns\\nfrom sklearn import metrics'); }\n",
       "    "
      ],
      "text/plain": [
       "<IPython.core.display.Javascript object>"
      ]
     },
     "metadata": {},
     "output_type": "display_data"
    },
    {
     "data": {
      "application/javascript": [
       "\n",
       "        if (window._pyforest_update_imports_cell) { window._pyforest_update_imports_cell('from sklearn.preprocessing import OneHotEncoder\\nimport pandas as pd\\nfrom sklearn.model_selection import train_test_split\\nimport xgboost as xgb\\nimport matplotlib.pyplot as plt\\nfrom sklearn.preprocessing import StandardScaler\\nimport seaborn as sns\\nfrom sklearn import metrics'); }\n",
       "    "
      ],
      "text/plain": [
       "<IPython.core.display.Javascript object>"
      ]
     },
     "metadata": {},
     "output_type": "display_data"
    },
    {
     "data": {
      "application/javascript": [
       "\n",
       "        if (window._pyforest_update_imports_cell) { window._pyforest_update_imports_cell('from sklearn.preprocessing import OneHotEncoder\\nimport pandas as pd\\nfrom sklearn.model_selection import train_test_split\\nimport xgboost as xgb\\nimport matplotlib.pyplot as plt\\nfrom sklearn.preprocessing import StandardScaler\\nimport seaborn as sns\\nfrom sklearn import metrics'); }\n",
       "    "
      ],
      "text/plain": [
       "<IPython.core.display.Javascript object>"
      ]
     },
     "metadata": {},
     "output_type": "display_data"
    },
    {
     "data": {
      "application/javascript": [
       "\n",
       "        if (window._pyforest_update_imports_cell) { window._pyforest_update_imports_cell('from sklearn.preprocessing import OneHotEncoder\\nimport pandas as pd\\nfrom sklearn.model_selection import train_test_split\\nimport xgboost as xgb\\nimport matplotlib.pyplot as plt\\nfrom sklearn.preprocessing import StandardScaler\\nimport seaborn as sns\\nfrom sklearn import metrics'); }\n",
       "    "
      ],
      "text/plain": [
       "<IPython.core.display.Javascript object>"
      ]
     },
     "metadata": {},
     "output_type": "display_data"
    },
    {
     "data": {
      "text/html": [
       "<div>\n",
       "<style scoped>\n",
       "    .dataframe tbody tr th:only-of-type {\n",
       "        vertical-align: middle;\n",
       "    }\n",
       "\n",
       "    .dataframe tbody tr th {\n",
       "        vertical-align: top;\n",
       "    }\n",
       "\n",
       "    .dataframe thead th {\n",
       "        text-align: right;\n",
       "    }\n",
       "</style>\n",
       "<table border=\"1\" class=\"dataframe\">\n",
       "  <thead>\n",
       "    <tr style=\"text-align: right;\">\n",
       "      <th></th>\n",
       "      <th>FLIGHT_DATE</th>\n",
       "      <th>FLIGHT_NUMBER</th>\n",
       "      <th>BOARD_POINT</th>\n",
       "      <th>OFF_POINT</th>\n",
       "      <th>CREATION_DATE_TIME</th>\n",
       "      <th>FARE_LEVEL_CODE</th>\n",
       "      <th>FARE_BASIS</th>\n",
       "      <th>TOTAL_BOOKING</th>\n",
       "      <th>TOTAL_CANCELLED</th>\n",
       "      <th>NET_BOOKING</th>\n",
       "      <th>DAYS_GAP</th>\n",
       "      <th>FLIGHT_DAY_OF_WEEK</th>\n",
       "      <th>FLIGHT_MONTH</th>\n",
       "      <th>FLIGHT_YEAR</th>\n",
       "      <th>BOOKING_DAY_OF_WEEK</th>\n",
       "      <th>BOOKING_MONTH</th>\n",
       "      <th>BOOKING_YEAR</th>\n",
       "      <th>TOTAL_SOLD</th>\n",
       "    </tr>\n",
       "  </thead>\n",
       "  <tbody>\n",
       "    <tr>\n",
       "      <th>0</th>\n",
       "      <td>2020-05-21</td>\n",
       "      <td>FL133</td>\n",
       "      <td>ZSF</td>\n",
       "      <td>OJK</td>\n",
       "      <td>2020-02-14 15:36:00</td>\n",
       "      <td>WO</td>\n",
       "      <td>WO45S</td>\n",
       "      <td>2</td>\n",
       "      <td>2.0</td>\n",
       "      <td>0</td>\n",
       "      <td>96.0</td>\n",
       "      <td>3</td>\n",
       "      <td>5</td>\n",
       "      <td>2020</td>\n",
       "      <td>4</td>\n",
       "      <td>2</td>\n",
       "      <td>2020</td>\n",
       "      <td>0</td>\n",
       "    </tr>\n",
       "    <tr>\n",
       "      <th>1</th>\n",
       "      <td>2020-05-21</td>\n",
       "      <td>FL133</td>\n",
       "      <td>ZSF</td>\n",
       "      <td>OJK</td>\n",
       "      <td>2020-02-22 11:23:00</td>\n",
       "      <td>WO</td>\n",
       "      <td>WO45S</td>\n",
       "      <td>1</td>\n",
       "      <td>1.0</td>\n",
       "      <td>0</td>\n",
       "      <td>88.0</td>\n",
       "      <td>3</td>\n",
       "      <td>5</td>\n",
       "      <td>2020</td>\n",
       "      <td>5</td>\n",
       "      <td>2</td>\n",
       "      <td>2020</td>\n",
       "      <td>0</td>\n",
       "    </tr>\n",
       "    <tr>\n",
       "      <th>2</th>\n",
       "      <td>2020-05-21</td>\n",
       "      <td>FL133</td>\n",
       "      <td>ZSF</td>\n",
       "      <td>OJK</td>\n",
       "      <td>2020-02-23 10:38:00</td>\n",
       "      <td>WO</td>\n",
       "      <td>WO45S</td>\n",
       "      <td>1</td>\n",
       "      <td>1.0</td>\n",
       "      <td>0</td>\n",
       "      <td>87.0</td>\n",
       "      <td>3</td>\n",
       "      <td>5</td>\n",
       "      <td>2020</td>\n",
       "      <td>6</td>\n",
       "      <td>2</td>\n",
       "      <td>2020</td>\n",
       "      <td>0</td>\n",
       "    </tr>\n",
       "    <tr>\n",
       "      <th>3</th>\n",
       "      <td>2020-05-21</td>\n",
       "      <td>FL133</td>\n",
       "      <td>ZSF</td>\n",
       "      <td>OJK</td>\n",
       "      <td>2020-02-29 14:16:00</td>\n",
       "      <td>BD</td>\n",
       "      <td>BDS</td>\n",
       "      <td>2</td>\n",
       "      <td>2.0</td>\n",
       "      <td>0</td>\n",
       "      <td>81.0</td>\n",
       "      <td>3</td>\n",
       "      <td>5</td>\n",
       "      <td>2020</td>\n",
       "      <td>5</td>\n",
       "      <td>2</td>\n",
       "      <td>2020</td>\n",
       "      <td>0</td>\n",
       "    </tr>\n",
       "    <tr>\n",
       "      <th>4</th>\n",
       "      <td>2020-05-21</td>\n",
       "      <td>FL133</td>\n",
       "      <td>ZSF</td>\n",
       "      <td>OJK</td>\n",
       "      <td>2020-03-05 20:49:00</td>\n",
       "      <td>WO</td>\n",
       "      <td>WO45S</td>\n",
       "      <td>1</td>\n",
       "      <td>1.0</td>\n",
       "      <td>0</td>\n",
       "      <td>76.0</td>\n",
       "      <td>3</td>\n",
       "      <td>5</td>\n",
       "      <td>2020</td>\n",
       "      <td>3</td>\n",
       "      <td>3</td>\n",
       "      <td>2020</td>\n",
       "      <td>0</td>\n",
       "    </tr>\n",
       "  </tbody>\n",
       "</table>\n",
       "</div>"
      ],
      "text/plain": [
       "  FLIGHT_DATE FLIGHT_NUMBER BOARD_POINT OFF_POINT  CREATION_DATE_TIME  \\\n",
       "0  2020-05-21         FL133         ZSF       OJK 2020-02-14 15:36:00   \n",
       "1  2020-05-21         FL133         ZSF       OJK 2020-02-22 11:23:00   \n",
       "2  2020-05-21         FL133         ZSF       OJK 2020-02-23 10:38:00   \n",
       "3  2020-05-21         FL133         ZSF       OJK 2020-02-29 14:16:00   \n",
       "4  2020-05-21         FL133         ZSF       OJK 2020-03-05 20:49:00   \n",
       "\n",
       "  FARE_LEVEL_CODE FARE_BASIS  TOTAL_BOOKING  TOTAL_CANCELLED  NET_BOOKING  \\\n",
       "0              WO      WO45S              2              2.0            0   \n",
       "1              WO      WO45S              1              1.0            0   \n",
       "2              WO      WO45S              1              1.0            0   \n",
       "3              BD        BDS              2              2.0            0   \n",
       "4              WO      WO45S              1              1.0            0   \n",
       "\n",
       "   DAYS_GAP  FLIGHT_DAY_OF_WEEK  FLIGHT_MONTH  FLIGHT_YEAR  \\\n",
       "0      96.0                   3             5         2020   \n",
       "1      88.0                   3             5         2020   \n",
       "2      87.0                   3             5         2020   \n",
       "3      81.0                   3             5         2020   \n",
       "4      76.0                   3             5         2020   \n",
       "\n",
       "   BOOKING_DAY_OF_WEEK  BOOKING_MONTH  BOOKING_YEAR  TOTAL_SOLD  \n",
       "0                    4              2          2020           0  \n",
       "1                    5              2          2020           0  \n",
       "2                    6              2          2020           0  \n",
       "3                    5              2          2020           0  \n",
       "4                    3              3          2020           0  "
      ]
     },
     "execution_count": 232,
     "metadata": {},
     "output_type": "execute_result"
    }
   ],
   "source": [
    "# total_sold\n",
    "def total_sold_till_date(series):\n",
    "    total_sold = []\n",
    "    sold = 0\n",
    "    total_sold.append(sold)\n",
    "    for i in series:\n",
    "        sold = sold+i\n",
    "        total_sold.append(sold)\n",
    "    return pd.Series(total_sold[:-1])\n",
    "\n",
    "df2['TOTAL_SOLD'] = df2.groupby(['FLIGHT_DATE','FLIGHT_NUMBER'])['NET_BOOKING'].transform(total_sold_till_date)\n",
    "df2.head()"
   ]
  },
  {
   "cell_type": "code",
   "execution_count": 233,
   "metadata": {},
   "outputs": [
    {
     "name": "stdout",
     "output_type": "stream",
     "text": [
      "<class 'pandas.core.frame.DataFrame'>\n",
      "Int64Index: 1446 entries, 0 to 1445\n",
      "Data columns (total 12 columns):\n",
      " #   Column               Non-Null Count  Dtype  \n",
      "---  ------               --------------  -----  \n",
      " 0   FLIGHT_NUMBER        1446 non-null   object \n",
      " 1   BOARD_POINT          1446 non-null   object \n",
      " 2   OFF_POINT            1446 non-null   object \n",
      " 3   FARE_LEVEL_CODE      1446 non-null   object \n",
      " 4   DAYS_GAP             1446 non-null   float64\n",
      " 5   FLIGHT_DAY_OF_WEEK   1446 non-null   int64  \n",
      " 6   FLIGHT_MONTH         1446 non-null   int64  \n",
      " 7   FLIGHT_YEAR          1446 non-null   int64  \n",
      " 8   BOOKING_DAY_OF_WEEK  1446 non-null   int64  \n",
      " 9   BOOKING_MONTH        1446 non-null   int64  \n",
      " 10  BOOKING_YEAR         1446 non-null   int64  \n",
      " 11  TOTAL_SOLD           1446 non-null   int32  \n",
      "dtypes: float64(1), int32(1), int64(6), object(4)\n",
      "memory usage: 141.2+ KB\n"
     ]
    }
   ],
   "source": [
    "# Filtering unwanted columns\n",
    "df2.drop(['FLIGHT_DATE','CREATION_DATE_TIME','FARE_BASIS','TOTAL_BOOKING','TOTAL_BOOKING',\n",
    "          'TOTAL_CANCELLED','NET_BOOKING'],axis = 1,inplace =  True)\n",
    "df2.info()"
   ]
  },
  {
   "cell_type": "code",
   "execution_count": 234,
   "metadata": {},
   "outputs": [
    {
     "data": {
      "application/javascript": [
       "\n",
       "        if (window._pyforest_update_imports_cell) { window._pyforest_update_imports_cell('from sklearn.preprocessing import OneHotEncoder\\nimport pandas as pd\\nfrom sklearn.model_selection import train_test_split\\nimport xgboost as xgb\\nimport matplotlib.pyplot as plt\\nfrom sklearn.preprocessing import StandardScaler\\nimport seaborn as sns\\nfrom sklearn import metrics'); }\n",
       "    "
      ],
      "text/plain": [
       "<IPython.core.display.Javascript object>"
      ]
     },
     "metadata": {},
     "output_type": "display_data"
    },
    {
     "name": "stdout",
     "output_type": "stream",
     "text": [
      "(1446, 11) (1446,)\n"
     ]
    }
   ],
   "source": [
    "# Splitting & Encoding \n",
    "Y = df2['TOTAL_SOLD']\n",
    "X = df2.drop(['TOTAL_SOLD'],axis = 1)\n",
    "X_train,X_test , y_train,y_test = train_test_split(X,Y,test_size = 0.25,random_state = 13)\n",
    "print(X.shape,Y.shape)"
   ]
  },
  {
   "cell_type": "code",
   "execution_count": 235,
   "metadata": {},
   "outputs": [
    {
     "data": {
      "text/plain": [
       "\"from sklearn.preprocessing import OneHotEncoder\\nfrom sklearn.compose import ColumnTransformer\\n\\ncolTrans = ColumnTransformer([('encoder',OneHotEncoder(),[0,1,2,3])], remainder = 'passthrough')\\nscaler = StandardScaler()\\n\\nX_train_en = colTrans.fit_transform(X_train)\\nX_train = scaler.fit_transform(X_train_en)\\n\\nX_test_en = colTrans.transform(X_test)\\nX_test = scaler.transform(X_test_en)\\n\\nprint(X_train.shape,X_test.shape,y_train.shape,y_test.shape)\""
      ]
     },
     "execution_count": 235,
     "metadata": {},
     "output_type": "execute_result"
    }
   ],
   "source": [
    "\"\"\"from sklearn.preprocessing import OneHotEncoder\n",
    "from sklearn.compose import ColumnTransformer\n",
    "\n",
    "colTrans = ColumnTransformer([('encoder',OneHotEncoder(),[0,1,2,3])], remainder = 'passthrough')\n",
    "scaler = StandardScaler()\n",
    "\n",
    "X_train_en = colTrans.fit_transform(X_train)\n",
    "X_train = scaler.fit_transform(X_train_en)\n",
    "\n",
    "X_test_en = colTrans.transform(X_test)\n",
    "X_test = scaler.transform(X_test_en)\n",
    "\n",
    "print(X_train.shape,X_test.shape,y_train.shape,y_test.shape)\"\"\""
   ]
  },
  {
   "cell_type": "code",
   "execution_count": 236,
   "metadata": {},
   "outputs": [],
   "source": [
    "#model1 = xgb.XGBRegressor().fit(X_train,y_train)"
   ]
  },
  {
   "cell_type": "code",
   "execution_count": 237,
   "metadata": {},
   "outputs": [
    {
     "name": "stdout",
     "output_type": "stream",
     "text": [
      "0:\tlearn: 7.3429521\ttest: 6.3685182\tbest: 6.3685182 (0)\ttotal: 38.5ms\tremaining: 38.4s\n",
      "200:\tlearn: 6.9759596\ttest: 6.0248271\tbest: 6.0248271 (200)\ttotal: 3.94s\tremaining: 15.7s\n",
      "400:\tlearn: 6.6754854\ttest: 5.7588413\tbest: 5.7588413 (400)\ttotal: 7.97s\tremaining: 11.9s\n",
      "600:\tlearn: 6.4322217\ttest: 5.5599469\tbest: 5.5599469 (600)\ttotal: 11.7s\tremaining: 7.75s\n",
      "800:\tlearn: 6.2290577\ttest: 5.4073093\tbest: 5.4073093 (800)\ttotal: 15.3s\tremaining: 3.8s\n",
      "999:\tlearn: 6.0515774\ttest: 5.2813415\tbest: 5.2813415 (999)\ttotal: 19.1s\tremaining: 0us\n",
      "\n",
      "bestTest = 5.281341484\n",
      "bestIteration = 999\n",
      "\n"
     ]
    }
   ],
   "source": [
    "from catboost import CatBoostRegressor\n",
    "\n",
    "params = {'learning_rate' : 0.001,\n",
    "          'cat_features':[0,1,2,3],# need to be handled or encoded\n",
    "          'verbose':200,\n",
    "          'random_seed':13}\n",
    "model1 = CatBoostRegressor(**params).fit(X_train,y_train,eval_set = (X_test,y_test),use_best_model = True)"
   ]
  },
  {
   "cell_type": "code",
   "execution_count": 238,
   "metadata": {},
   "outputs": [
    {
     "data": {
      "application/javascript": [
       "\n",
       "        if (window._pyforest_update_imports_cell) { window._pyforest_update_imports_cell('from sklearn.preprocessing import OneHotEncoder\\nimport pandas as pd\\nfrom sklearn.model_selection import train_test_split\\nimport xgboost as xgb\\nimport matplotlib.pyplot as plt\\nfrom sklearn.preprocessing import StandardScaler\\nimport seaborn as sns\\nfrom sklearn import metrics'); }\n",
       "    "
      ],
      "text/plain": [
       "<IPython.core.display.Javascript object>"
      ]
     },
     "metadata": {},
     "output_type": "display_data"
    },
    {
     "data": {
      "text/plain": [
       "0.30312824785764636"
      ]
     },
     "execution_count": 238,
     "metadata": {},
     "output_type": "execute_result"
    }
   ],
   "source": [
    "metrics.r2_score(y_test,model1.predict(X_test))"
   ]
  },
  {
   "cell_type": "code",
   "execution_count": 239,
   "metadata": {},
   "outputs": [
    {
     "data": {
      "application/javascript": [
       "\n",
       "        if (window._pyforest_update_imports_cell) { window._pyforest_update_imports_cell('from sklearn.preprocessing import OneHotEncoder\\nimport pandas as pd\\nfrom sklearn.model_selection import train_test_split\\nimport xgboost as xgb\\nimport matplotlib.pyplot as plt\\nfrom sklearn.preprocessing import StandardScaler\\nimport seaborn as sns\\nfrom sklearn import metrics'); }\n",
       "    "
      ],
      "text/plain": [
       "<IPython.core.display.Javascript object>"
      ]
     },
     "metadata": {},
     "output_type": "display_data"
    },
    {
     "data": {
      "text/plain": [
       "0.31372844475245454"
      ]
     },
     "execution_count": 239,
     "metadata": {},
     "output_type": "execute_result"
    }
   ],
   "source": [
    "metrics.r2_score(y_train,model1.predict(X_train))"
   ]
  },
  {
   "cell_type": "code",
   "execution_count": 240,
   "metadata": {},
   "outputs": [
    {
     "data": {
      "application/javascript": [
       "\n",
       "        if (window._pyforest_update_imports_cell) { window._pyforest_update_imports_cell('from sklearn.preprocessing import OneHotEncoder\\nimport pandas as pd\\nfrom sklearn.model_selection import train_test_split\\nimport xgboost as xgb\\nimport matplotlib.pyplot as plt\\nfrom sklearn.preprocessing import StandardScaler\\nimport seaborn as sns\\nfrom sklearn import metrics'); }\n",
       "    "
      ],
      "text/plain": [
       "<IPython.core.display.Javascript object>"
      ]
     },
     "metadata": {},
     "output_type": "display_data"
    },
    {
     "data": {
      "text/plain": [
       "27.892567875681706"
      ]
     },
     "execution_count": 240,
     "metadata": {},
     "output_type": "execute_result"
    }
   ],
   "source": [
    "metrics.mean_squared_error(y_test,model1.predict(X_test))"
   ]
  },
  {
   "cell_type": "code",
   "execution_count": 241,
   "metadata": {},
   "outputs": [
    {
     "data": {
      "application/javascript": [
       "\n",
       "        if (window._pyforest_update_imports_cell) { window._pyforest_update_imports_cell('from sklearn.preprocessing import OneHotEncoder\\nimport pandas as pd\\nfrom sklearn.model_selection import train_test_split\\nimport xgboost as xgb\\nimport matplotlib.pyplot as plt\\nfrom sklearn.preprocessing import StandardScaler\\nimport seaborn as sns\\nfrom sklearn import metrics'); }\n",
       "    "
      ],
      "text/plain": [
       "<IPython.core.display.Javascript object>"
      ]
     },
     "metadata": {},
     "output_type": "display_data"
    },
    {
     "data": {
      "text/plain": [
       "37.01825356765051"
      ]
     },
     "execution_count": 241,
     "metadata": {},
     "output_type": "execute_result"
    }
   ],
   "source": [
    "metrics.mean_squared_error(y_train,model1.predict(X_train))"
   ]
  },
  {
   "cell_type": "code",
   "execution_count": 242,
   "metadata": {},
   "outputs": [
    {
     "data": {
      "text/plain": [
       "13.856033957678697"
      ]
     },
     "execution_count": 242,
     "metadata": {},
     "output_type": "execute_result"
    }
   ],
   "source": [
    "model1.predict(X_train)\n",
    "max(model1.predict(X_train))"
   ]
  },
  {
   "cell_type": "code",
   "execution_count": 243,
   "metadata": {},
   "outputs": [
    {
     "data": {
      "application/javascript": [
       "\n",
       "        if (window._pyforest_update_imports_cell) { window._pyforest_update_imports_cell('from sklearn.preprocessing import OneHotEncoder\\nimport pandas as pd\\nfrom sklearn.model_selection import train_test_split\\nimport xgboost as xgb\\nimport matplotlib.pyplot as plt\\nfrom sklearn.preprocessing import StandardScaler\\nimport seaborn as sns\\nfrom sklearn import metrics'); }\n",
       "    "
      ],
      "text/plain": [
       "<IPython.core.display.Javascript object>"
      ]
     },
     "metadata": {},
     "output_type": "display_data"
    },
    {
     "data": {
      "application/javascript": [
       "\n",
       "        if (window._pyforest_update_imports_cell) { window._pyforest_update_imports_cell('from sklearn.preprocessing import OneHotEncoder\\nimport pandas as pd\\nfrom sklearn.model_selection import train_test_split\\nimport xgboost as xgb\\nimport matplotlib.pyplot as plt\\nfrom sklearn.preprocessing import StandardScaler\\nimport seaborn as sns\\nfrom sklearn import metrics'); }\n",
       "    "
      ],
      "text/plain": [
       "<IPython.core.display.Javascript object>"
      ]
     },
     "metadata": {},
     "output_type": "display_data"
    },
    {
     "data": {
      "application/javascript": [
       "\n",
       "        if (window._pyforest_update_imports_cell) { window._pyforest_update_imports_cell('from sklearn.preprocessing import OneHotEncoder\\nimport pandas as pd\\nfrom sklearn.model_selection import train_test_split\\nimport xgboost as xgb\\nimport matplotlib.pyplot as plt\\nfrom sklearn.preprocessing import StandardScaler\\nimport seaborn as sns\\nfrom sklearn import metrics'); }\n",
       "    "
      ],
      "text/plain": [
       "<IPython.core.display.Javascript object>"
      ]
     },
     "metadata": {},
     "output_type": "display_data"
    },
    {
     "data": {
      "application/javascript": [
       "\n",
       "        if (window._pyforest_update_imports_cell) { window._pyforest_update_imports_cell('from sklearn.preprocessing import OneHotEncoder\\nimport pandas as pd\\nfrom sklearn.model_selection import train_test_split\\nimport xgboost as xgb\\nimport matplotlib.pyplot as plt\\nfrom sklearn.preprocessing import StandardScaler\\nimport seaborn as sns\\nfrom sklearn import metrics'); }\n",
       "    "
      ],
      "text/plain": [
       "<IPython.core.display.Javascript object>"
      ]
     },
     "metadata": {},
     "output_type": "display_data"
    },
    {
     "data": {
      "text/plain": [
       "Text(0.5, 1.0, 'Feature Importance')"
      ]
     },
     "execution_count": 243,
     "metadata": {},
     "output_type": "execute_result"
    },
    {
     "data": {
      "image/png": "[encoded data removed]",
      "text/plain": [
       "<Figure size 864x720 with 1 Axes>"
      ]
     },
     "metadata": {
      "needs_background": "light"
     },
     "output_type": "display_data"
    }
   ],
   "source": [
    "feature_imp = model1.get_feature_importance(prettified = True)\n",
    "\n",
    "plt.figure(figsize = (12,10))\n",
    "sns.barplot(data = feature_imp, x = 'Feature Id', y = 'Importances')\n",
    "plt.xticks(rotation = 45)\n",
    "plt.title('Feature Importance')"
   ]
  },
  {
   "cell_type": "code",
   "execution_count": 244,
   "metadata": {},
   "outputs": [
    {
     "data": {
      "text/plain": [
       "['models/CatBoostRegressor.pkl']"
      ]
     },
     "execution_count": 244,
     "metadata": {},
     "output_type": "execute_result"
    }
   ],
   "source": [
    "# dumping models \n",
    "import joblib\n",
    "joblib.dump(model1,\"models/CatBoostRegressor.pkl\")"
   ]
  },
  {
   "cell_type": "code",
   "execution_count": 245,
   "metadata": {
    "scrolled": true
   },
   "outputs": [
    {
     "data": {
      "application/javascript": [
       "\n",
       "        if (window._pyforest_update_imports_cell) { window._pyforest_update_imports_cell('from sklearn.preprocessing import OneHotEncoder\\nimport pandas as pd\\nfrom sklearn.model_selection import train_test_split\\nimport xgboost as xgb\\nimport matplotlib.pyplot as plt\\nfrom sklearn.preprocessing import StandardScaler\\nimport seaborn as sns\\nfrom sklearn import metrics'); }\n",
       "    "
      ],
      "text/plain": [
       "<IPython.core.display.Javascript object>"
      ]
     },
     "metadata": {},
     "output_type": "display_data"
    },
    {
     "data": {
      "application/javascript": [
       "\n",
       "        if (window._pyforest_update_imports_cell) { window._pyforest_update_imports_cell('from sklearn.preprocessing import OneHotEncoder\\nimport pandas as pd\\nfrom sklearn.model_selection import train_test_split\\nimport xgboost as xgb\\nimport matplotlib.pyplot as plt\\nfrom sklearn.preprocessing import StandardScaler\\nimport seaborn as sns\\nfrom sklearn import metrics'); }\n",
       "    "
      ],
      "text/plain": [
       "<IPython.core.display.Javascript object>"
      ]
     },
     "metadata": {},
     "output_type": "display_data"
    },
    {
     "data": {
      "application/javascript": [
       "\n",
       "        if (window._pyforest_update_imports_cell) { window._pyforest_update_imports_cell('from sklearn.preprocessing import OneHotEncoder\\nimport pandas as pd\\nfrom sklearn.model_selection import train_test_split\\nimport xgboost as xgb\\nimport matplotlib.pyplot as plt\\nfrom sklearn.preprocessing import StandardScaler\\nimport seaborn as sns\\nfrom sklearn import metrics'); }\n",
       "    "
      ],
      "text/plain": [
       "<IPython.core.display.Javascript object>"
      ]
     },
     "metadata": {},
     "output_type": "display_data"
    },
    {
     "name": "stdout",
     "output_type": "stream",
     "text": [
      "[21:19:49] WARNING: C:/Users/Administrator/workspace/xgboost-win64_release_1.4.0/src/learner.cc:573: \n",
      "Parameters: { \"cv\", \"early_stopping_rounds\", \"metrics\" } might not be used.\n",
      "\n",
      "  This may not be accurate due to some parameters are only used in language bindings but\n",
      "  passed down to XGBoost core.  Or some parameters are not used but slip through this\n",
      "  verification. Please open an issue if you find above cases.\n",
      "\n",
      "\n"
     ]
    },
    {
     "data": {
      "text/plain": [
       "Pipeline(steps=[('step1',\n",
       "                 ColumnTransformer(remainder='passthrough',\n",
       "                                   transformers=[('one_hot', OneHotEncoder(),\n",
       "                                                  [0, 1, 2, 3])])),\n",
       "                ('step2', StandardScaler()),\n",
       "                ('step3',\n",
       "                 XGBRegressor(base_score=0.5, booster='gbtree',\n",
       "                              colsample_bylevel=1, colsample_bynode=1,\n",
       "                              colsample_bytree=1, cv=5,\n",
       "                              early_stopping_rounds=10, gamma=0, gpu_id=-1,\n",
       "                              importance_type='gain',\n",
       "                              interaction_constraints='', learning_rate=0.001,\n",
       "                              max_delta_step=0, max_depth=5, metrics={'mae'},\n",
       "                              min_child_weight=1, missing=nan,\n",
       "                              monotone_constraints='()', n_estimators=1000,\n",
       "                              n_jobs=8, num_parallel_tree=1, random_state=0,\n",
       "                              reg_alpha=0, reg_lambda=1, scale_pos_weight=1,\n",
       "                              subsample=1, tree_method='exact',\n",
       "                              validate_parameters=1, verbosity=None))])"
      ]
     },
     "execution_count": 245,
     "metadata": {},
     "output_type": "execute_result"
    }
   ],
   "source": [
    "# pipeline for xgboost\n",
    "from sklearn.pipeline import Pipeline\n",
    "from sklearn.compose import ColumnTransformer\n",
    "\n",
    "column_transform = ColumnTransformer([(\"one_hot\",OneHotEncoder(),[0,1,2,3])],remainder = \"passthrough\")\n",
    "scaler = StandardScaler()\n",
    "model2 = xgb.XGBRegressor(learning_rate=0.001,max_depth=5,cv = 5,metrics={'mae'},\n",
    "    early_stopping_rounds=10,random_state=0,n_estimators=1000)\n",
    "\n",
    "pipe = Pipeline([('step1',column_transform),\n",
    "                ('step2',scaler),\n",
    "                ('step3',model2)])\n",
    "\n",
    "pipe.fit(X_train,y_train)"
   ]
  },
  {
   "cell_type": "code",
   "execution_count": 246,
   "metadata": {},
   "outputs": [
    {
     "data": {
      "text/plain": [
       "18.058369"
      ]
     },
     "execution_count": 246,
     "metadata": {},
     "output_type": "execute_result"
    }
   ],
   "source": [
    "# train predict\n",
    "pred_data = pipe.predict(X_train)\n",
    "max(pred_data)"
   ]
  },
  {
   "cell_type": "code",
   "execution_count": 247,
   "metadata": {},
   "outputs": [
    {
     "data": {
      "text/plain": [
       "18.058369"
      ]
     },
     "execution_count": 247,
     "metadata": {},
     "output_type": "execute_result"
    }
   ],
   "source": [
    "# test predict\n",
    "pred_data_test = pipe.predict(X_test)\n",
    "max(pred_data_test)"
   ]
  },
  {
   "cell_type": "code",
   "execution_count": 248,
   "metadata": {},
   "outputs": [
    {
     "data": {
      "application/javascript": [
       "\n",
       "        if (window._pyforest_update_imports_cell) { window._pyforest_update_imports_cell('from sklearn.preprocessing import OneHotEncoder\\nimport pandas as pd\\nfrom sklearn.model_selection import train_test_split\\nimport xgboost as xgb\\nimport matplotlib.pyplot as plt\\nfrom sklearn.preprocessing import StandardScaler\\nimport seaborn as sns\\nfrom sklearn import metrics'); }\n",
       "    "
      ],
      "text/plain": [
       "<IPython.core.display.Javascript object>"
      ]
     },
     "metadata": {},
     "output_type": "display_data"
    },
    {
     "data": {
      "text/plain": [
       "0.3975241119445536"
      ]
     },
     "execution_count": 248,
     "metadata": {},
     "output_type": "execute_result"
    }
   ],
   "source": [
    "# metrics \n",
    "metrics.r2_score(y_test,pipe.predict(X_test))"
   ]
  },
  {
   "cell_type": "code",
   "execution_count": 249,
   "metadata": {},
   "outputs": [
    {
     "data": {
      "application/javascript": [
       "\n",
       "        if (window._pyforest_update_imports_cell) { window._pyforest_update_imports_cell('from sklearn.preprocessing import OneHotEncoder\\nimport pandas as pd\\nfrom sklearn.model_selection import train_test_split\\nimport xgboost as xgb\\nimport matplotlib.pyplot as plt\\nfrom sklearn.preprocessing import StandardScaler\\nimport seaborn as sns\\nfrom sklearn import metrics'); }\n",
       "    "
      ],
      "text/plain": [
       "<IPython.core.display.Javascript object>"
      ]
     },
     "metadata": {},
     "output_type": "display_data"
    },
    {
     "data": {
      "text/plain": [
       "0.3836657347792043"
      ]
     },
     "execution_count": 249,
     "metadata": {},
     "output_type": "execute_result"
    }
   ],
   "source": [
    "metrics.r2_score(y_train,pipe.predict(X_train))"
   ]
  },
  {
   "cell_type": "code",
   "execution_count": 250,
   "metadata": {},
   "outputs": [
    {
     "data": {
      "application/javascript": [
       "\n",
       "        if (window._pyforest_update_imports_cell) { window._pyforest_update_imports_cell('from sklearn.preprocessing import OneHotEncoder\\nimport pandas as pd\\nfrom sklearn.model_selection import train_test_split\\nimport xgboost as xgb\\nimport matplotlib.pyplot as plt\\nfrom sklearn.preprocessing import StandardScaler\\nimport seaborn as sns\\nfrom sklearn import metrics'); }\n",
       "    "
      ],
      "text/plain": [
       "<IPython.core.display.Javascript object>"
      ]
     },
     "metadata": {},
     "output_type": "display_data"
    },
    {
     "data": {
      "text/plain": [
       "24.11433603010413"
      ]
     },
     "execution_count": 250,
     "metadata": {},
     "output_type": "execute_result"
    }
   ],
   "source": [
    "metrics.mean_squared_error(y_test,pipe.predict(X_test))"
   ]
  },
  {
   "cell_type": "code",
   "execution_count": 251,
   "metadata": {},
   "outputs": [
    {
     "data": {
      "application/javascript": [
       "\n",
       "        if (window._pyforest_update_imports_cell) { window._pyforest_update_imports_cell('from sklearn.preprocessing import OneHotEncoder\\nimport pandas as pd\\nfrom sklearn.model_selection import train_test_split\\nimport xgboost as xgb\\nimport matplotlib.pyplot as plt\\nfrom sklearn.preprocessing import StandardScaler\\nimport seaborn as sns\\nfrom sklearn import metrics'); }\n",
       "    "
      ],
      "text/plain": [
       "<IPython.core.display.Javascript object>"
      ]
     },
     "metadata": {},
     "output_type": "display_data"
    },
    {
     "data": {
      "text/plain": [
       "33.24575809374052"
      ]
     },
     "execution_count": 251,
     "metadata": {},
     "output_type": "execute_result"
    }
   ],
   "source": [
    "metrics.mean_squared_error(y_train,pipe.predict(X_train))"
   ]
  },
  {
   "cell_type": "code",
   "execution_count": 252,
   "metadata": {},
   "outputs": [
    {
     "data": {
      "text/plain": [
       "['models/XGBoostRegressor.pkl']"
      ]
     },
     "execution_count": 252,
     "metadata": {},
     "output_type": "execute_result"
    }
   ],
   "source": [
    "# dumping models \n",
    "import joblib\n",
    "joblib.dump(model1,\"models/XGBoostRegressor.pkl\")"
   ]
  }
 ],
 "metadata": {
  "kernelspec": {
   "display_name": "Python 3",
   "language": "python",
   "name": "python3"
  },
  "language_info": {
   "codemirror_mode": {
    "name": "ipython",
    "version": 3
   },
   "file_extension": ".py",
   "mimetype": "text/x-python",
   "name": "python",
   "nbconvert_exporter": "python",
   "pygments_lexer": "ipython3",
   "version": "3.7.7"
  }
 },
 "nbformat": 4,
 "nbformat_minor": 4
}
